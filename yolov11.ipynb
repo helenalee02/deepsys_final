{
 "cells": [
  {
   "cell_type": "code",
   "execution_count": 2,
   "id": "8254ba94",
   "metadata": {},
   "outputs": [
    {
     "name": "stdout",
     "output_type": "stream",
     "text": [
      "New https://pypi.org/project/ultralytics/8.3.149 available  Update with 'pip install -U ultralytics'\n",
      "Ultralytics 8.3.148  Python-3.10.16 torch-2.7.1+cu126 CUDA:0 (NVIDIA GeForce RTX 4060, 8188MiB)\n",
      "\u001b[34m\u001b[1mengine\\trainer: \u001b[0magnostic_nms=False, amp=True, augment=False, auto_augment=randaugment, batch=16, bgr=0.0, box=7.5, cache=False, cfg=None, classes=None, close_mosaic=10, cls=0.5, conf=None, copy_paste=0.0, copy_paste_mode=flip, cos_lr=False, cutmix=0.0, data=data\\detect.yaml, degrees=0.0, deterministic=True, device=0, dfl=1.5, dnn=False, dropout=0.0, dynamic=False, embed=None, epochs=100, erasing=0.4, exist_ok=False, fliplr=0.5, flipud=0.0, format=torchscript, fraction=0.3, freeze=None, half=False, hsv_h=0.015, hsv_s=0.7, hsv_v=0.4, imgsz=640, int8=False, iou=0.7, keras=False, kobj=1.0, line_width=None, lr0=0.01, lrf=0.01, mask_ratio=4, max_det=300, mixup=0.0, mode=train, model=yolo11n.pt, momentum=0.937, mosaic=1.0, multi_scale=False, name=train3, nbs=64, nms=False, opset=None, optimize=False, optimizer=auto, overlap_mask=True, patience=100, perspective=0.0, plots=True, pose=12.0, pretrained=True, profile=False, project=None, rect=False, resume=False, retina_masks=False, save=True, save_conf=False, save_crop=False, save_dir=runs\\detect\\train3, save_frames=False, save_json=False, save_period=-1, save_txt=False, scale=0.5, seed=0, shear=0.0, show=False, show_boxes=True, show_conf=True, show_labels=True, simplify=True, single_cls=False, source=None, split=val, stream_buffer=False, task=detect, time=None, tracker=botsort.yaml, translate=0.1, val=True, verbose=True, vid_stride=1, visualize=False, warmup_bias_lr=0.1, warmup_epochs=3.0, warmup_momentum=0.8, weight_decay=0.0005, workers=8, workspace=None\n",
      "Overriding model.yaml nc=80 with nc=21\n",
      "\n",
      "                   from  n    params  module                                       arguments                     \n",
      "  0                  -1  1       464  ultralytics.nn.modules.conv.Conv             [3, 16, 3, 2]                 \n",
      "  1                  -1  1      4672  ultralytics.nn.modules.conv.Conv             [16, 32, 3, 2]                \n",
      "  2                  -1  1      6640  ultralytics.nn.modules.block.C3k2            [32, 64, 1, False, 0.25]      \n",
      "  3                  -1  1     36992  ultralytics.nn.modules.conv.Conv             [64, 64, 3, 2]                \n",
      "  4                  -1  1     26080  ultralytics.nn.modules.block.C3k2            [64, 128, 1, False, 0.25]     \n",
      "  5                  -1  1    147712  ultralytics.nn.modules.conv.Conv             [128, 128, 3, 2]              \n",
      "  6                  -1  1     87040  ultralytics.nn.modules.block.C3k2            [128, 128, 1, True]           \n",
      "  7                  -1  1    295424  ultralytics.nn.modules.conv.Conv             [128, 256, 3, 2]              \n",
      "  8                  -1  1    346112  ultralytics.nn.modules.block.C3k2            [256, 256, 1, True]           \n",
      "  9                  -1  1    164608  ultralytics.nn.modules.block.SPPF            [256, 256, 5]                 \n",
      " 10                  -1  1    249728  ultralytics.nn.modules.block.C2PSA           [256, 256, 1]                 \n",
      " 11                  -1  1         0  torch.nn.modules.upsampling.Upsample         [None, 2, 'nearest']          \n",
      " 12             [-1, 6]  1         0  ultralytics.nn.modules.conv.Concat           [1]                           \n",
      " 13                  -1  1    111296  ultralytics.nn.modules.block.C3k2            [384, 128, 1, False]          \n",
      " 14                  -1  1         0  torch.nn.modules.upsampling.Upsample         [None, 2, 'nearest']          \n",
      " 15             [-1, 4]  1         0  ultralytics.nn.modules.conv.Concat           [1]                           \n",
      " 16                  -1  1     32096  ultralytics.nn.modules.block.C3k2            [256, 64, 1, False]           \n",
      " 17                  -1  1     36992  ultralytics.nn.modules.conv.Conv             [64, 64, 3, 2]                \n",
      " 18            [-1, 13]  1         0  ultralytics.nn.modules.conv.Concat           [1]                           \n",
      " 19                  -1  1     86720  ultralytics.nn.modules.block.C3k2            [192, 128, 1, False]          \n",
      " 20                  -1  1    147712  ultralytics.nn.modules.conv.Conv             [128, 128, 3, 2]              \n",
      " 21            [-1, 10]  1         0  ultralytics.nn.modules.conv.Concat           [1]                           \n",
      " 22                  -1  1    378880  ultralytics.nn.modules.block.C3k2            [384, 256, 1, True]           \n",
      " 23        [16, 19, 22]  1    434767  ultralytics.nn.modules.head.Detect           [21, [64, 128, 256]]          \n",
      "YOLO11n summary: 181 layers, 2,593,935 parameters, 2,593,919 gradients, 6.5 GFLOPs\n",
      "\n",
      "Transferred 448/499 items from pretrained weights\n",
      "Freezing layer 'model.23.dfl.conv.weight'\n",
      "\u001b[34m\u001b[1mAMP: \u001b[0mrunning Automatic Mixed Precision (AMP) checks...\n",
      "\u001b[34m\u001b[1mAMP: \u001b[0mchecks passed \n",
      "\u001b[34m\u001b[1mtrain: \u001b[0mFast image access  (ping: 0.10.0 ms, read: 759.8261.1 MB/s, size: 818.4 KB)\n"
     ]
    },
    {
     "name": "stderr",
     "output_type": "stream",
     "text": [
      "\u001b[34m\u001b[1mtrain: \u001b[0mScanning C:\\Users\\helen\\Desktop\\deep_sys_final\\data\\labels\\train... 45125 images, 12104 backgrounds, 0 corrupt: 100%|██████████| 45125/45125 [00:21<00:00, 2074.93it/s]"
     ]
    },
    {
     "name": "stdout",
     "output_type": "stream",
     "text": [
      "\u001b[34m\u001b[1mtrain: \u001b[0mC:\\Users\\helen\\Desktop\\deep_sys_final\\data\\images\\train\\R02_U04_C33_20220806_004465.jpg: 1 duplicate labels removed\n",
      "\u001b[34m\u001b[1mtrain: \u001b[0mC:\\Users\\helen\\Desktop\\deep_sys_final\\data\\images\\train\\R02_U04_C33_20220806_004474.jpg: 1 duplicate labels removed\n",
      "\u001b[34m\u001b[1mtrain: \u001b[0mC:\\Users\\helen\\Desktop\\deep_sys_final\\data\\images\\train\\R02_U04_C33_20220806_004505.jpg: 1 duplicate labels removed\n",
      "\u001b[34m\u001b[1mtrain: \u001b[0mC:\\Users\\helen\\Desktop\\deep_sys_final\\data\\images\\train\\R02_U04_C33_20220806_004550.jpg: 1 duplicate labels removed\n"
     ]
    },
    {
     "name": "stderr",
     "output_type": "stream",
     "text": [
      "\n"
     ]
    },
    {
     "name": "stdout",
     "output_type": "stream",
     "text": [
      "\u001b[34m\u001b[1mtrain: \u001b[0mNew cache created: C:\\Users\\helen\\Desktop\\deep_sys_final\\data\\labels\\train.cache\n",
      "\u001b[34m\u001b[1mval: \u001b[0mFast image access  (ping: 0.20.0 ms, read: 374.8158.1 MB/s, size: 401.7 KB)\n"
     ]
    },
    {
     "name": "stderr",
     "output_type": "stream",
     "text": [
      "\u001b[34m\u001b[1mval: \u001b[0mScanning C:\\Users\\helen\\Desktop\\deep_sys_final\\data\\labels\\val.cache... 26863 images, 4353 backgrounds, 0 corrupt: 100%|██████████| 26863/26863 [00:00<?, ?it/s]"
     ]
    },
    {
     "name": "stdout",
     "output_type": "stream",
     "text": [
      "\u001b[34m\u001b[1mval: \u001b[0mC:\\Users\\helen\\Desktop\\deep_sys_final\\data\\images\\val\\R01_U01_C04_20220714_000049.jpg: corrupt JPEG restored and saved\n",
      "\u001b[34m\u001b[1mval: \u001b[0mC:\\Users\\helen\\Desktop\\deep_sys_final\\data\\images\\val\\R01_U01_C04_20220714_000051.jpg: corrupt JPEG restored and saved\n",
      "\u001b[34m\u001b[1mval: \u001b[0mC:\\Users\\helen\\Desktop\\deep_sys_final\\data\\images\\val\\R01_U01_C04_20220714_000072.jpg: corrupt JPEG restored and saved\n",
      "\u001b[34m\u001b[1mval: \u001b[0mC:\\Users\\helen\\Desktop\\deep_sys_final\\data\\images\\val\\R01_U01_C04_20220714_000074.jpg: corrupt JPEG restored and saved\n",
      "\u001b[34m\u001b[1mval: \u001b[0mC:\\Users\\helen\\Desktop\\deep_sys_final\\data\\images\\val\\R01_U01_C04_20220714_000087.jpg: corrupt JPEG restored and saved\n",
      "\u001b[34m\u001b[1mval: \u001b[0mC:\\Users\\helen\\Desktop\\deep_sys_final\\data\\images\\val\\R01_U01_C04_20220714_000102.jpg: corrupt JPEG restored and saved\n",
      "\u001b[34m\u001b[1mval: \u001b[0mC:\\Users\\helen\\Desktop\\deep_sys_final\\data\\images\\val\\R01_U01_C04_20220714_000104.jpg: corrupt JPEG restored and saved\n",
      "\u001b[34m\u001b[1mval: \u001b[0mC:\\Users\\helen\\Desktop\\deep_sys_final\\data\\images\\val\\R01_U01_C04_20220714_000112.jpg: corrupt JPEG restored and saved\n",
      "\u001b[34m\u001b[1mval: \u001b[0mC:\\Users\\helen\\Desktop\\deep_sys_final\\data\\images\\val\\R01_U01_C04_20220714_000123.jpg: corrupt JPEG restored and saved\n",
      "\u001b[34m\u001b[1mval: \u001b[0mC:\\Users\\helen\\Desktop\\deep_sys_final\\data\\images\\val\\R01_U01_C04_20220714_000126.jpg: corrupt JPEG restored and saved\n",
      "\u001b[34m\u001b[1mval: \u001b[0mC:\\Users\\helen\\Desktop\\deep_sys_final\\data\\images\\val\\R01_U01_C04_20220714_000132.jpg: corrupt JPEG restored and saved\n",
      "\u001b[34m\u001b[1mval: \u001b[0mC:\\Users\\helen\\Desktop\\deep_sys_final\\data\\images\\val\\R01_U01_C04_20220714_000136.jpg: corrupt JPEG restored and saved\n",
      "\u001b[34m\u001b[1mval: \u001b[0mC:\\Users\\helen\\Desktop\\deep_sys_final\\data\\images\\val\\R01_U01_C04_20220714_000143.jpg: corrupt JPEG restored and saved\n",
      "\u001b[34m\u001b[1mval: \u001b[0mC:\\Users\\helen\\Desktop\\deep_sys_final\\data\\images\\val\\R01_U01_C04_20220714_000148.jpg: corrupt JPEG restored and saved\n",
      "\u001b[34m\u001b[1mval: \u001b[0mC:\\Users\\helen\\Desktop\\deep_sys_final\\data\\images\\val\\R01_U01_C04_20220714_000154.jpg: corrupt JPEG restored and saved\n",
      "\u001b[34m\u001b[1mval: \u001b[0mC:\\Users\\helen\\Desktop\\deep_sys_final\\data\\images\\val\\R01_U01_C04_20220714_000155.jpg: corrupt JPEG restored and saved\n",
      "\u001b[34m\u001b[1mval: \u001b[0mC:\\Users\\helen\\Desktop\\deep_sys_final\\data\\images\\val\\R01_U01_C04_20220714_000181.jpg: corrupt JPEG restored and saved\n",
      "\u001b[34m\u001b[1mval: \u001b[0mC:\\Users\\helen\\Desktop\\deep_sys_final\\data\\images\\val\\R01_U01_C04_20220714_000187.jpg: corrupt JPEG restored and saved\n",
      "\u001b[34m\u001b[1mval: \u001b[0mC:\\Users\\helen\\Desktop\\deep_sys_final\\data\\images\\val\\R01_U01_C04_20220714_000190.jpg: corrupt JPEG restored and saved\n",
      "\u001b[34m\u001b[1mval: \u001b[0mC:\\Users\\helen\\Desktop\\deep_sys_final\\data\\images\\val\\R01_U01_C04_20220714_000209.jpg: corrupt JPEG restored and saved\n",
      "\u001b[34m\u001b[1mval: \u001b[0mC:\\Users\\helen\\Desktop\\deep_sys_final\\data\\images\\val\\R01_U01_C04_20220714_000220.jpg: corrupt JPEG restored and saved\n",
      "\u001b[34m\u001b[1mval: \u001b[0mC:\\Users\\helen\\Desktop\\deep_sys_final\\data\\images\\val\\R01_U01_C04_20220714_000228.jpg: corrupt JPEG restored and saved\n",
      "\u001b[34m\u001b[1mval: \u001b[0mC:\\Users\\helen\\Desktop\\deep_sys_final\\data\\images\\val\\R01_U01_C04_20220714_000235.jpg: corrupt JPEG restored and saved\n",
      "\u001b[34m\u001b[1mval: \u001b[0mC:\\Users\\helen\\Desktop\\deep_sys_final\\data\\images\\val\\R01_U01_C04_20220714_000243.jpg: corrupt JPEG restored and saved\n",
      "\u001b[34m\u001b[1mval: \u001b[0mC:\\Users\\helen\\Desktop\\deep_sys_final\\data\\images\\val\\R01_U01_C04_20220714_000273.jpg: corrupt JPEG restored and saved\n",
      "\u001b[34m\u001b[1mval: \u001b[0mC:\\Users\\helen\\Desktop\\deep_sys_final\\data\\images\\val\\R01_U01_C04_20220714_000277.jpg: corrupt JPEG restored and saved\n",
      "\u001b[34m\u001b[1mval: \u001b[0mC:\\Users\\helen\\Desktop\\deep_sys_final\\data\\images\\val\\R01_U01_C04_20220714_000287.jpg: corrupt JPEG restored and saved\n",
      "\u001b[34m\u001b[1mval: \u001b[0mC:\\Users\\helen\\Desktop\\deep_sys_final\\data\\images\\val\\R01_U01_C04_20220714_000293.jpg: corrupt JPEG restored and saved\n",
      "\u001b[34m\u001b[1mval: \u001b[0mC:\\Users\\helen\\Desktop\\deep_sys_final\\data\\images\\val\\R01_U01_C04_20220714_000316.jpg: corrupt JPEG restored and saved\n",
      "\u001b[34m\u001b[1mval: \u001b[0mC:\\Users\\helen\\Desktop\\deep_sys_final\\data\\images\\val\\R01_U01_C04_20220714_000352.jpg: corrupt JPEG restored and saved\n",
      "\u001b[34m\u001b[1mval: \u001b[0mC:\\Users\\helen\\Desktop\\deep_sys_final\\data\\images\\val\\R01_U01_C04_20220714_000360.jpg: corrupt JPEG restored and saved\n",
      "\u001b[34m\u001b[1mval: \u001b[0mC:\\Users\\helen\\Desktop\\deep_sys_final\\data\\images\\val\\R01_U01_C04_20220714_000401.jpg: corrupt JPEG restored and saved\n",
      "\u001b[34m\u001b[1mval: \u001b[0mC:\\Users\\helen\\Desktop\\deep_sys_final\\data\\images\\val\\R01_U01_C04_20220714_000414.jpg: corrupt JPEG restored and saved\n",
      "\u001b[34m\u001b[1mval: \u001b[0mC:\\Users\\helen\\Desktop\\deep_sys_final\\data\\images\\val\\R01_U01_C04_20220714_000441.jpg: corrupt JPEG restored and saved\n",
      "\u001b[34m\u001b[1mval: \u001b[0mC:\\Users\\helen\\Desktop\\deep_sys_final\\data\\images\\val\\R01_U01_C04_20220714_000442.jpg: corrupt JPEG restored and saved\n",
      "\u001b[34m\u001b[1mval: \u001b[0mC:\\Users\\helen\\Desktop\\deep_sys_final\\data\\images\\val\\R01_U01_C04_20220714_000469.jpg: corrupt JPEG restored and saved\n",
      "\u001b[34m\u001b[1mval: \u001b[0mC:\\Users\\helen\\Desktop\\deep_sys_final\\data\\images\\val\\R01_U01_C04_20220714_000470.jpg: corrupt JPEG restored and saved\n",
      "\u001b[34m\u001b[1mval: \u001b[0mC:\\Users\\helen\\Desktop\\deep_sys_final\\data\\images\\val\\R01_U01_C04_20220714_000481.jpg: corrupt JPEG restored and saved\n",
      "\u001b[34m\u001b[1mval: \u001b[0mC:\\Users\\helen\\Desktop\\deep_sys_final\\data\\images\\val\\R01_U01_C04_20220714_000484.jpg: corrupt JPEG restored and saved\n",
      "\u001b[34m\u001b[1mval: \u001b[0mC:\\Users\\helen\\Desktop\\deep_sys_final\\data\\images\\val\\R01_U01_C04_20220714_000486.jpg: corrupt JPEG restored and saved\n",
      "\u001b[34m\u001b[1mval: \u001b[0mC:\\Users\\helen\\Desktop\\deep_sys_final\\data\\images\\val\\R01_U01_C04_20220714_000487.jpg: corrupt JPEG restored and saved\n",
      "\u001b[34m\u001b[1mval: \u001b[0mC:\\Users\\helen\\Desktop\\deep_sys_final\\data\\images\\val\\R01_U01_C04_20220714_000491.jpg: corrupt JPEG restored and saved\n",
      "\u001b[34m\u001b[1mval: \u001b[0mC:\\Users\\helen\\Desktop\\deep_sys_final\\data\\images\\val\\R01_U01_C04_20220714_000519.jpg: corrupt JPEG restored and saved\n",
      "\u001b[34m\u001b[1mval: \u001b[0mC:\\Users\\helen\\Desktop\\deep_sys_final\\data\\images\\val\\R01_U01_C04_20220714_000522.jpg: corrupt JPEG restored and saved\n",
      "\u001b[34m\u001b[1mval: \u001b[0mC:\\Users\\helen\\Desktop\\deep_sys_final\\data\\images\\val\\R01_U01_C04_20220714_000524.jpg: corrupt JPEG restored and saved\n",
      "\u001b[34m\u001b[1mval: \u001b[0mC:\\Users\\helen\\Desktop\\deep_sys_final\\data\\images\\val\\R01_U01_C04_20220714_000530.jpg: corrupt JPEG restored and saved\n",
      "\u001b[34m\u001b[1mval: \u001b[0mC:\\Users\\helen\\Desktop\\deep_sys_final\\data\\images\\val\\R01_U01_C04_20220714_000559.jpg: corrupt JPEG restored and saved\n",
      "\u001b[34m\u001b[1mval: \u001b[0mC:\\Users\\helen\\Desktop\\deep_sys_final\\data\\images\\val\\R01_U01_C04_20220714_000560.jpg: corrupt JPEG restored and saved\n",
      "\u001b[34m\u001b[1mval: \u001b[0mC:\\Users\\helen\\Desktop\\deep_sys_final\\data\\images\\val\\R01_U01_C04_20220714_000567.jpg: corrupt JPEG restored and saved\n",
      "\u001b[34m\u001b[1mval: \u001b[0mC:\\Users\\helen\\Desktop\\deep_sys_final\\data\\images\\val\\R01_U01_C04_20220714_000612.jpg: corrupt JPEG restored and saved\n",
      "\u001b[34m\u001b[1mval: \u001b[0mC:\\Users\\helen\\Desktop\\deep_sys_final\\data\\images\\val\\R01_U01_C04_20220714_000663.jpg: corrupt JPEG restored and saved\n",
      "\u001b[34m\u001b[1mval: \u001b[0mC:\\Users\\helen\\Desktop\\deep_sys_final\\data\\images\\val\\R01_U01_C04_20220714_000666.jpg: corrupt JPEG restored and saved\n",
      "\u001b[34m\u001b[1mval: \u001b[0mC:\\Users\\helen\\Desktop\\deep_sys_final\\data\\images\\val\\R01_U01_C04_20220714_000667.jpg: corrupt JPEG restored and saved\n",
      "\u001b[34m\u001b[1mval: \u001b[0mC:\\Users\\helen\\Desktop\\deep_sys_final\\data\\images\\val\\R01_U01_C04_20220714_000698.jpg: corrupt JPEG restored and saved\n",
      "\u001b[34m\u001b[1mval: \u001b[0mC:\\Users\\helen\\Desktop\\deep_sys_final\\data\\images\\val\\R01_U01_C04_20220714_000739.jpg: corrupt JPEG restored and saved\n",
      "\u001b[34m\u001b[1mval: \u001b[0mC:\\Users\\helen\\Desktop\\deep_sys_final\\data\\images\\val\\R01_U01_C04_20220714_000769.jpg: corrupt JPEG restored and saved\n",
      "\u001b[34m\u001b[1mval: \u001b[0mC:\\Users\\helen\\Desktop\\deep_sys_final\\data\\images\\val\\R01_U01_C04_20220714_000777.jpg: corrupt JPEG restored and saved\n",
      "\u001b[34m\u001b[1mval: \u001b[0mC:\\Users\\helen\\Desktop\\deep_sys_final\\data\\images\\val\\R01_U01_C04_20220714_000780.jpg: corrupt JPEG restored and saved\n",
      "\u001b[34m\u001b[1mval: \u001b[0mC:\\Users\\helen\\Desktop\\deep_sys_final\\data\\images\\val\\R01_U01_C04_20220714_000798.jpg: corrupt JPEG restored and saved\n",
      "\u001b[34m\u001b[1mval: \u001b[0mC:\\Users\\helen\\Desktop\\deep_sys_final\\data\\images\\val\\R01_U01_C04_20220714_000811.jpg: corrupt JPEG restored and saved\n",
      "\u001b[34m\u001b[1mval: \u001b[0mC:\\Users\\helen\\Desktop\\deep_sys_final\\data\\images\\val\\R01_U01_C04_20220714_000818.jpg: corrupt JPEG restored and saved\n",
      "\u001b[34m\u001b[1mval: \u001b[0mC:\\Users\\helen\\Desktop\\deep_sys_final\\data\\images\\val\\R01_U01_C04_20220714_000836.jpg: corrupt JPEG restored and saved\n",
      "\u001b[34m\u001b[1mval: \u001b[0mC:\\Users\\helen\\Desktop\\deep_sys_final\\data\\images\\val\\R01_U01_C04_20220714_000864.jpg: corrupt JPEG restored and saved\n",
      "\u001b[34m\u001b[1mval: \u001b[0mC:\\Users\\helen\\Desktop\\deep_sys_final\\data\\images\\val\\R01_U01_C04_20220714_000866.jpg: corrupt JPEG restored and saved\n",
      "\u001b[34m\u001b[1mval: \u001b[0mC:\\Users\\helen\\Desktop\\deep_sys_final\\data\\images\\val\\R01_U01_C04_20220714_000953.jpg: corrupt JPEG restored and saved\n",
      "\u001b[34m\u001b[1mval: \u001b[0mC:\\Users\\helen\\Desktop\\deep_sys_final\\data\\images\\val\\R01_U01_C04_20220714_000972.jpg: corrupt JPEG restored and saved\n",
      "\u001b[34m\u001b[1mval: \u001b[0mC:\\Users\\helen\\Desktop\\deep_sys_final\\data\\images\\val\\R01_U01_C04_20220714_000980.jpg: corrupt JPEG restored and saved\n",
      "\u001b[34m\u001b[1mval: \u001b[0mC:\\Users\\helen\\Desktop\\deep_sys_final\\data\\images\\val\\R01_U01_C04_20220714_000998.jpg: corrupt JPEG restored and saved\n",
      "\u001b[34m\u001b[1mval: \u001b[0mC:\\Users\\helen\\Desktop\\deep_sys_final\\data\\images\\val\\R01_U01_C04_20220714_001017.jpg: corrupt JPEG restored and saved\n",
      "\u001b[34m\u001b[1mval: \u001b[0mC:\\Users\\helen\\Desktop\\deep_sys_final\\data\\images\\val\\R01_U01_C04_20220714_001020.jpg: corrupt JPEG restored and saved\n",
      "\u001b[34m\u001b[1mval: \u001b[0mC:\\Users\\helen\\Desktop\\deep_sys_final\\data\\images\\val\\R01_U01_C04_20220714_001028.jpg: corrupt JPEG restored and saved\n",
      "\u001b[34m\u001b[1mval: \u001b[0mC:\\Users\\helen\\Desktop\\deep_sys_final\\data\\images\\val\\R01_U01_C04_20220714_001037.jpg: corrupt JPEG restored and saved\n",
      "\u001b[34m\u001b[1mval: \u001b[0mC:\\Users\\helen\\Desktop\\deep_sys_final\\data\\images\\val\\R01_U01_C04_20220714_001040.jpg: corrupt JPEG restored and saved\n",
      "\u001b[34m\u001b[1mval: \u001b[0mC:\\Users\\helen\\Desktop\\deep_sys_final\\data\\images\\val\\R01_U01_C04_20220714_001092.jpg: corrupt JPEG restored and saved\n",
      "\u001b[34m\u001b[1mval: \u001b[0mC:\\Users\\helen\\Desktop\\deep_sys_final\\data\\images\\val\\R01_U01_C04_20220714_001115.jpg: corrupt JPEG restored and saved\n",
      "\u001b[34m\u001b[1mval: \u001b[0mC:\\Users\\helen\\Desktop\\deep_sys_final\\data\\images\\val\\R01_U01_C04_20220714_001120.jpg: corrupt JPEG restored and saved\n",
      "\u001b[34m\u001b[1mval: \u001b[0mC:\\Users\\helen\\Desktop\\deep_sys_final\\data\\images\\val\\R01_U01_C04_20220714_001121.jpg: corrupt JPEG restored and saved\n",
      "\u001b[34m\u001b[1mval: \u001b[0mC:\\Users\\helen\\Desktop\\deep_sys_final\\data\\images\\val\\R01_U01_C04_20220714_001127.jpg: corrupt JPEG restored and saved\n",
      "\u001b[34m\u001b[1mval: \u001b[0mC:\\Users\\helen\\Desktop\\deep_sys_final\\data\\images\\val\\R01_U01_C04_20220714_001131.jpg: corrupt JPEG restored and saved\n",
      "\u001b[34m\u001b[1mval: \u001b[0mC:\\Users\\helen\\Desktop\\deep_sys_final\\data\\images\\val\\R01_U01_C04_20220714_001137.jpg: corrupt JPEG restored and saved\n",
      "\u001b[34m\u001b[1mval: \u001b[0mC:\\Users\\helen\\Desktop\\deep_sys_final\\data\\images\\val\\R01_U01_C04_20220714_001143.jpg: corrupt JPEG restored and saved\n",
      "\u001b[34m\u001b[1mval: \u001b[0mC:\\Users\\helen\\Desktop\\deep_sys_final\\data\\images\\val\\R01_U01_C04_20220714_001183.jpg: corrupt JPEG restored and saved\n",
      "\u001b[34m\u001b[1mval: \u001b[0mC:\\Users\\helen\\Desktop\\deep_sys_final\\data\\images\\val\\R01_U01_C04_20220714_001194.jpg: corrupt JPEG restored and saved\n",
      "\u001b[34m\u001b[1mval: \u001b[0mC:\\Users\\helen\\Desktop\\deep_sys_final\\data\\images\\val\\R01_U01_C04_20220714_001249.jpg: corrupt JPEG restored and saved\n",
      "\u001b[34m\u001b[1mval: \u001b[0mC:\\Users\\helen\\Desktop\\deep_sys_final\\data\\images\\val\\R01_U01_C04_20220714_001366.jpg: corrupt JPEG restored and saved\n",
      "\u001b[34m\u001b[1mval: \u001b[0mC:\\Users\\helen\\Desktop\\deep_sys_final\\data\\images\\val\\R01_U01_C04_20220714_001376.jpg: corrupt JPEG restored and saved\n",
      "\u001b[34m\u001b[1mval: \u001b[0mC:\\Users\\helen\\Desktop\\deep_sys_final\\data\\images\\val\\R01_U01_C04_20220714_001380.jpg: corrupt JPEG restored and saved\n",
      "\u001b[34m\u001b[1mval: \u001b[0mC:\\Users\\helen\\Desktop\\deep_sys_final\\data\\images\\val\\R01_U01_C04_20220714_001387.jpg: corrupt JPEG restored and saved\n",
      "\u001b[34m\u001b[1mval: \u001b[0mC:\\Users\\helen\\Desktop\\deep_sys_final\\data\\images\\val\\R01_U01_C04_20220714_001392.jpg: corrupt JPEG restored and saved\n",
      "\u001b[34m\u001b[1mval: \u001b[0mC:\\Users\\helen\\Desktop\\deep_sys_final\\data\\images\\val\\R01_U01_C04_20220714_001415.jpg: corrupt JPEG restored and saved\n",
      "\u001b[34m\u001b[1mval: \u001b[0mC:\\Users\\helen\\Desktop\\deep_sys_final\\data\\images\\val\\R01_U01_C04_20220714_001424.jpg: corrupt JPEG restored and saved\n",
      "\u001b[34m\u001b[1mval: \u001b[0mC:\\Users\\helen\\Desktop\\deep_sys_final\\data\\images\\val\\R01_U01_C04_20220714_001425.jpg: corrupt JPEG restored and saved\n",
      "\u001b[34m\u001b[1mval: \u001b[0mC:\\Users\\helen\\Desktop\\deep_sys_final\\data\\images\\val\\R01_U01_C04_20220714_001455.jpg: corrupt JPEG restored and saved\n",
      "\u001b[34m\u001b[1mval: \u001b[0mC:\\Users\\helen\\Desktop\\deep_sys_final\\data\\images\\val\\R01_U01_C04_20220714_001501.jpg: corrupt JPEG restored and saved\n",
      "\u001b[34m\u001b[1mval: \u001b[0mC:\\Users\\helen\\Desktop\\deep_sys_final\\data\\images\\val\\R01_U01_C04_20220714_001502.jpg: corrupt JPEG restored and saved\n",
      "\u001b[34m\u001b[1mval: \u001b[0mC:\\Users\\helen\\Desktop\\deep_sys_final\\data\\images\\val\\R01_U01_C04_20220714_001508.jpg: corrupt JPEG restored and saved\n",
      "\u001b[34m\u001b[1mval: \u001b[0mC:\\Users\\helen\\Desktop\\deep_sys_final\\data\\images\\val\\R01_U01_C04_20220714_001509.jpg: corrupt JPEG restored and saved\n",
      "\u001b[34m\u001b[1mval: \u001b[0mC:\\Users\\helen\\Desktop\\deep_sys_final\\data\\images\\val\\R01_U01_C04_20220714_001523.jpg: corrupt JPEG restored and saved\n",
      "\u001b[34m\u001b[1mval: \u001b[0mC:\\Users\\helen\\Desktop\\deep_sys_final\\data\\images\\val\\R01_U01_C04_20220714_001533.jpg: corrupt JPEG restored and saved\n",
      "\u001b[34m\u001b[1mval: \u001b[0mC:\\Users\\helen\\Desktop\\deep_sys_final\\data\\images\\val\\R01_U01_C04_20220714_001613.jpg: corrupt JPEG restored and saved\n",
      "\u001b[34m\u001b[1mval: \u001b[0mC:\\Users\\helen\\Desktop\\deep_sys_final\\data\\images\\val\\R01_U01_C04_20220714_001629.jpg: corrupt JPEG restored and saved\n",
      "\u001b[34m\u001b[1mval: \u001b[0mC:\\Users\\helen\\Desktop\\deep_sys_final\\data\\images\\val\\R01_U01_C04_20220714_001643.jpg: corrupt JPEG restored and saved\n",
      "\u001b[34m\u001b[1mval: \u001b[0mC:\\Users\\helen\\Desktop\\deep_sys_final\\data\\images\\val\\R01_U01_C04_20220714_001650.jpg: corrupt JPEG restored and saved\n",
      "\u001b[34m\u001b[1mval: \u001b[0mC:\\Users\\helen\\Desktop\\deep_sys_final\\data\\images\\val\\R01_U01_C04_20220714_001679.jpg: corrupt JPEG restored and saved\n",
      "\u001b[34m\u001b[1mval: \u001b[0mC:\\Users\\helen\\Desktop\\deep_sys_final\\data\\images\\val\\R01_U01_C04_20220714_001684.jpg: corrupt JPEG restored and saved\n",
      "\u001b[34m\u001b[1mval: \u001b[0mC:\\Users\\helen\\Desktop\\deep_sys_final\\data\\images\\val\\R01_U01_C04_20220714_001686.jpg: corrupt JPEG restored and saved\n",
      "\u001b[34m\u001b[1mval: \u001b[0mC:\\Users\\helen\\Desktop\\deep_sys_final\\data\\images\\val\\R01_U01_C04_20220714_001688.jpg: corrupt JPEG restored and saved\n",
      "\u001b[34m\u001b[1mval: \u001b[0mC:\\Users\\helen\\Desktop\\deep_sys_final\\data\\images\\val\\R01_U01_C04_20220714_001741.jpg: corrupt JPEG restored and saved\n",
      "\u001b[34m\u001b[1mval: \u001b[0mC:\\Users\\helen\\Desktop\\deep_sys_final\\data\\images\\val\\R01_U01_C04_20220714_001773.jpg: corrupt JPEG restored and saved\n",
      "\u001b[34m\u001b[1mval: \u001b[0mC:\\Users\\helen\\Desktop\\deep_sys_final\\data\\images\\val\\R01_U01_C04_20220714_001782.jpg: corrupt JPEG restored and saved\n",
      "\u001b[34m\u001b[1mval: \u001b[0mC:\\Users\\helen\\Desktop\\deep_sys_final\\data\\images\\val\\R01_U01_C04_20220714_001802.jpg: corrupt JPEG restored and saved\n",
      "\u001b[34m\u001b[1mval: \u001b[0mC:\\Users\\helen\\Desktop\\deep_sys_final\\data\\images\\val\\R01_U01_C04_20220714_001823.jpg: corrupt JPEG restored and saved\n",
      "\u001b[34m\u001b[1mval: \u001b[0mC:\\Users\\helen\\Desktop\\deep_sys_final\\data\\images\\val\\R01_U01_C04_20220714_001826.jpg: corrupt JPEG restored and saved\n",
      "\u001b[34m\u001b[1mval: \u001b[0mC:\\Users\\helen\\Desktop\\deep_sys_final\\data\\images\\val\\R01_U01_C04_20220714_001867.jpg: corrupt JPEG restored and saved\n",
      "\u001b[34m\u001b[1mval: \u001b[0mC:\\Users\\helen\\Desktop\\deep_sys_final\\data\\images\\val\\R01_U01_C04_20220714_001896.jpg: corrupt JPEG restored and saved\n",
      "\u001b[34m\u001b[1mval: \u001b[0mC:\\Users\\helen\\Desktop\\deep_sys_final\\data\\images\\val\\R01_U01_C04_20220714_001972.jpg: corrupt JPEG restored and saved\n",
      "\u001b[34m\u001b[1mval: \u001b[0mC:\\Users\\helen\\Desktop\\deep_sys_final\\data\\images\\val\\R01_U01_C04_20220714_001994.jpg: corrupt JPEG restored and saved\n",
      "\u001b[34m\u001b[1mval: \u001b[0mC:\\Users\\helen\\Desktop\\deep_sys_final\\data\\images\\val\\R01_U01_C04_20220714_002117.jpg: corrupt JPEG restored and saved\n",
      "\u001b[34m\u001b[1mval: \u001b[0mC:\\Users\\helen\\Desktop\\deep_sys_final\\data\\images\\val\\R01_U01_C04_20220714_002152.jpg: corrupt JPEG restored and saved\n",
      "\u001b[34m\u001b[1mval: \u001b[0mC:\\Users\\helen\\Desktop\\deep_sys_final\\data\\images\\val\\R01_U01_C04_20220714_002181.jpg: corrupt JPEG restored and saved\n",
      "\u001b[34m\u001b[1mval: \u001b[0mC:\\Users\\helen\\Desktop\\deep_sys_final\\data\\images\\val\\R01_U01_C04_20220714_002191.jpg: corrupt JPEG restored and saved\n",
      "\u001b[34m\u001b[1mval: \u001b[0mC:\\Users\\helen\\Desktop\\deep_sys_final\\data\\images\\val\\R01_U01_C04_20220714_002200.jpg: corrupt JPEG restored and saved\n",
      "\u001b[34m\u001b[1mval: \u001b[0mC:\\Users\\helen\\Desktop\\deep_sys_final\\data\\images\\val\\R01_U01_C04_20220714_002208.jpg: corrupt JPEG restored and saved\n",
      "\u001b[34m\u001b[1mval: \u001b[0mC:\\Users\\helen\\Desktop\\deep_sys_final\\data\\images\\val\\R01_U01_C04_20220714_002212.jpg: corrupt JPEG restored and saved\n",
      "\u001b[34m\u001b[1mval: \u001b[0mC:\\Users\\helen\\Desktop\\deep_sys_final\\data\\images\\val\\R01_U01_C04_20220714_002236.jpg: corrupt JPEG restored and saved\n",
      "\u001b[34m\u001b[1mval: \u001b[0mC:\\Users\\helen\\Desktop\\deep_sys_final\\data\\images\\val\\R01_U01_C04_20220714_002240.jpg: corrupt JPEG restored and saved\n",
      "\u001b[34m\u001b[1mval: \u001b[0mC:\\Users\\helen\\Desktop\\deep_sys_final\\data\\images\\val\\R01_U01_C04_20220714_002244.jpg: corrupt JPEG restored and saved\n",
      "\u001b[34m\u001b[1mval: \u001b[0mC:\\Users\\helen\\Desktop\\deep_sys_final\\data\\images\\val\\R01_U01_C04_20220714_002256.jpg: corrupt JPEG restored and saved\n",
      "\u001b[34m\u001b[1mval: \u001b[0mC:\\Users\\helen\\Desktop\\deep_sys_final\\data\\images\\val\\R01_U01_C04_20220714_002275.jpg: corrupt JPEG restored and saved\n",
      "\u001b[34m\u001b[1mval: \u001b[0mC:\\Users\\helen\\Desktop\\deep_sys_final\\data\\images\\val\\R01_U01_C04_20220714_002296.jpg: corrupt JPEG restored and saved\n",
      "\u001b[34m\u001b[1mval: \u001b[0mC:\\Users\\helen\\Desktop\\deep_sys_final\\data\\images\\val\\R01_U01_C04_20220714_002315.jpg: corrupt JPEG restored and saved\n",
      "\u001b[34m\u001b[1mval: \u001b[0mC:\\Users\\helen\\Desktop\\deep_sys_final\\data\\images\\val\\R01_U01_C04_20220714_002335.jpg: corrupt JPEG restored and saved\n",
      "\u001b[34m\u001b[1mval: \u001b[0mC:\\Users\\helen\\Desktop\\deep_sys_final\\data\\images\\val\\R01_U01_C04_20220714_002336.jpg: corrupt JPEG restored and saved\n",
      "\u001b[34m\u001b[1mval: \u001b[0mC:\\Users\\helen\\Desktop\\deep_sys_final\\data\\images\\val\\R01_U01_C04_20220714_002363.jpg: corrupt JPEG restored and saved\n",
      "\u001b[34m\u001b[1mval: \u001b[0mC:\\Users\\helen\\Desktop\\deep_sys_final\\data\\images\\val\\R01_U01_C04_20220714_002370.jpg: corrupt JPEG restored and saved\n",
      "\u001b[34m\u001b[1mval: \u001b[0mC:\\Users\\helen\\Desktop\\deep_sys_final\\data\\images\\val\\R01_U01_C04_20220714_002374.jpg: corrupt JPEG restored and saved\n",
      "\u001b[34m\u001b[1mval: \u001b[0mC:\\Users\\helen\\Desktop\\deep_sys_final\\data\\images\\val\\R01_U01_C04_20220714_002382.jpg: corrupt JPEG restored and saved\n",
      "\u001b[34m\u001b[1mval: \u001b[0mC:\\Users\\helen\\Desktop\\deep_sys_final\\data\\images\\val\\R01_U01_C04_20220714_002394.jpg: corrupt JPEG restored and saved\n",
      "\u001b[34m\u001b[1mval: \u001b[0mC:\\Users\\helen\\Desktop\\deep_sys_final\\data\\images\\val\\R01_U01_C04_20220714_002413.jpg: corrupt JPEG restored and saved\n",
      "\u001b[34m\u001b[1mval: \u001b[0mC:\\Users\\helen\\Desktop\\deep_sys_final\\data\\images\\val\\R01_U01_C04_20220714_002437.jpg: corrupt JPEG restored and saved\n",
      "\u001b[34m\u001b[1mval: \u001b[0mC:\\Users\\helen\\Desktop\\deep_sys_final\\data\\images\\val\\R01_U01_C04_20220714_002444.jpg: corrupt JPEG restored and saved\n",
      "\u001b[34m\u001b[1mval: \u001b[0mC:\\Users\\helen\\Desktop\\deep_sys_final\\data\\images\\val\\R01_U01_C04_20220714_002461.jpg: corrupt JPEG restored and saved\n",
      "\u001b[34m\u001b[1mval: \u001b[0mC:\\Users\\helen\\Desktop\\deep_sys_final\\data\\images\\val\\R01_U01_C04_20220714_002465.jpg: corrupt JPEG restored and saved\n",
      "\u001b[34m\u001b[1mval: \u001b[0mC:\\Users\\helen\\Desktop\\deep_sys_final\\data\\images\\val\\R01_U01_C04_20220714_002468.jpg: corrupt JPEG restored and saved\n",
      "\u001b[34m\u001b[1mval: \u001b[0mC:\\Users\\helen\\Desktop\\deep_sys_final\\data\\images\\val\\R01_U01_C04_20220714_002487.jpg: corrupt JPEG restored and saved\n",
      "\u001b[34m\u001b[1mval: \u001b[0mC:\\Users\\helen\\Desktop\\deep_sys_final\\data\\images\\val\\R01_U01_C04_20220714_002547.jpg: corrupt JPEG restored and saved\n",
      "\u001b[34m\u001b[1mval: \u001b[0mC:\\Users\\helen\\Desktop\\deep_sys_final\\data\\images\\val\\R01_U01_C04_20220714_002551.jpg: corrupt JPEG restored and saved\n",
      "\u001b[34m\u001b[1mval: \u001b[0mC:\\Users\\helen\\Desktop\\deep_sys_final\\data\\images\\val\\R01_U01_C04_20220714_002553.jpg: corrupt JPEG restored and saved\n",
      "\u001b[34m\u001b[1mval: \u001b[0mC:\\Users\\helen\\Desktop\\deep_sys_final\\data\\images\\val\\R01_U01_C04_20220714_002554.jpg: corrupt JPEG restored and saved\n",
      "\u001b[34m\u001b[1mval: \u001b[0mC:\\Users\\helen\\Desktop\\deep_sys_final\\data\\images\\val\\R01_U01_C04_20220714_002556.jpg: corrupt JPEG restored and saved\n",
      "\u001b[34m\u001b[1mval: \u001b[0mC:\\Users\\helen\\Desktop\\deep_sys_final\\data\\images\\val\\R01_U01_C04_20220714_002567.jpg: corrupt JPEG restored and saved\n",
      "\u001b[34m\u001b[1mval: \u001b[0mC:\\Users\\helen\\Desktop\\deep_sys_final\\data\\images\\val\\R01_U01_C04_20220714_002583.jpg: corrupt JPEG restored and saved\n",
      "\u001b[34m\u001b[1mval: \u001b[0mC:\\Users\\helen\\Desktop\\deep_sys_final\\data\\images\\val\\R01_U01_C04_20220714_002590.jpg: corrupt JPEG restored and saved\n",
      "\u001b[34m\u001b[1mval: \u001b[0mC:\\Users\\helen\\Desktop\\deep_sys_final\\data\\images\\val\\R01_U01_C04_20220714_002640.jpg: corrupt JPEG restored and saved\n",
      "\u001b[34m\u001b[1mval: \u001b[0mC:\\Users\\helen\\Desktop\\deep_sys_final\\data\\images\\val\\R01_U01_C04_20220714_002647.jpg: corrupt JPEG restored and saved\n",
      "\u001b[34m\u001b[1mval: \u001b[0mC:\\Users\\helen\\Desktop\\deep_sys_final\\data\\images\\val\\R01_U01_C04_20220714_002658.jpg: corrupt JPEG restored and saved\n",
      "\u001b[34m\u001b[1mval: \u001b[0mC:\\Users\\helen\\Desktop\\deep_sys_final\\data\\images\\val\\R01_U01_C04_20220714_002659.jpg: corrupt JPEG restored and saved\n",
      "\u001b[34m\u001b[1mval: \u001b[0mC:\\Users\\helen\\Desktop\\deep_sys_final\\data\\images\\val\\R01_U01_C04_20220714_002668.jpg: corrupt JPEG restored and saved\n",
      "\u001b[34m\u001b[1mval: \u001b[0mC:\\Users\\helen\\Desktop\\deep_sys_final\\data\\images\\val\\R01_U01_C04_20220714_002669.jpg: corrupt JPEG restored and saved\n",
      "\u001b[34m\u001b[1mval: \u001b[0mC:\\Users\\helen\\Desktop\\deep_sys_final\\data\\images\\val\\R01_U01_C04_20220714_002675.jpg: corrupt JPEG restored and saved\n",
      "\u001b[34m\u001b[1mval: \u001b[0mC:\\Users\\helen\\Desktop\\deep_sys_final\\data\\images\\val\\R01_U01_C04_20220714_002683.jpg: corrupt JPEG restored and saved\n",
      "\u001b[34m\u001b[1mval: \u001b[0mC:\\Users\\helen\\Desktop\\deep_sys_final\\data\\images\\val\\R01_U01_C04_20220714_002702.jpg: corrupt JPEG restored and saved\n",
      "\u001b[34m\u001b[1mval: \u001b[0mC:\\Users\\helen\\Desktop\\deep_sys_final\\data\\images\\val\\R01_U01_C04_20220714_002710.jpg: corrupt JPEG restored and saved\n",
      "\u001b[34m\u001b[1mval: \u001b[0mC:\\Users\\helen\\Desktop\\deep_sys_final\\data\\images\\val\\R01_U01_C04_20220714_002727.jpg: corrupt JPEG restored and saved\n",
      "\u001b[34m\u001b[1mval: \u001b[0mC:\\Users\\helen\\Desktop\\deep_sys_final\\data\\images\\val\\R01_U01_C04_20220714_002748.jpg: corrupt JPEG restored and saved\n",
      "\u001b[34m\u001b[1mval: \u001b[0mC:\\Users\\helen\\Desktop\\deep_sys_final\\data\\images\\val\\R01_U01_C04_20220714_002754.jpg: corrupt JPEG restored and saved\n",
      "\u001b[34m\u001b[1mval: \u001b[0mC:\\Users\\helen\\Desktop\\deep_sys_final\\data\\images\\val\\R01_U01_C04_20220714_002761.jpg: corrupt JPEG restored and saved\n",
      "\u001b[34m\u001b[1mval: \u001b[0mC:\\Users\\helen\\Desktop\\deep_sys_final\\data\\images\\val\\R01_U01_C04_20220714_002802.jpg: corrupt JPEG restored and saved\n",
      "\u001b[34m\u001b[1mval: \u001b[0mC:\\Users\\helen\\Desktop\\deep_sys_final\\data\\images\\val\\R01_U01_C04_20220714_002836.jpg: corrupt JPEG restored and saved\n",
      "\u001b[34m\u001b[1mval: \u001b[0mC:\\Users\\helen\\Desktop\\deep_sys_final\\data\\images\\val\\R01_U01_C04_20220714_002907.jpg: corrupt JPEG restored and saved\n",
      "\u001b[34m\u001b[1mval: \u001b[0mC:\\Users\\helen\\Desktop\\deep_sys_final\\data\\images\\val\\R01_U01_C04_20220714_002925.jpg: corrupt JPEG restored and saved\n",
      "\u001b[34m\u001b[1mval: \u001b[0mC:\\Users\\helen\\Desktop\\deep_sys_final\\data\\images\\val\\R01_U01_C04_20220714_002988.jpg: corrupt JPEG restored and saved\n",
      "\u001b[34m\u001b[1mval: \u001b[0mC:\\Users\\helen\\Desktop\\deep_sys_final\\data\\images\\val\\R01_U01_C04_20220714_003003.jpg: corrupt JPEG restored and saved\n",
      "\u001b[34m\u001b[1mval: \u001b[0mC:\\Users\\helen\\Desktop\\deep_sys_final\\data\\images\\val\\R01_U01_C04_20220714_003012.jpg: corrupt JPEG restored and saved\n",
      "\u001b[34m\u001b[1mval: \u001b[0mC:\\Users\\helen\\Desktop\\deep_sys_final\\data\\images\\val\\R01_U01_C04_20220714_003016.jpg: corrupt JPEG restored and saved\n",
      "\u001b[34m\u001b[1mval: \u001b[0mC:\\Users\\helen\\Desktop\\deep_sys_final\\data\\images\\val\\R01_U01_C04_20220714_003044.jpg: corrupt JPEG restored and saved\n",
      "\u001b[34m\u001b[1mval: \u001b[0mC:\\Users\\helen\\Desktop\\deep_sys_final\\data\\images\\val\\R01_U01_C04_20220714_003108.jpg: corrupt JPEG restored and saved\n",
      "\u001b[34m\u001b[1mval: \u001b[0mC:\\Users\\helen\\Desktop\\deep_sys_final\\data\\images\\val\\R01_U01_C04_20220714_003114.jpg: corrupt JPEG restored and saved\n",
      "\u001b[34m\u001b[1mval: \u001b[0mC:\\Users\\helen\\Desktop\\deep_sys_final\\data\\images\\val\\R01_U01_C04_20220714_003117.jpg: corrupt JPEG restored and saved\n",
      "\u001b[34m\u001b[1mval: \u001b[0mC:\\Users\\helen\\Desktop\\deep_sys_final\\data\\images\\val\\R01_U01_C04_20220714_003150.jpg: corrupt JPEG restored and saved\n",
      "\u001b[34m\u001b[1mval: \u001b[0mC:\\Users\\helen\\Desktop\\deep_sys_final\\data\\images\\val\\R01_U01_C04_20220714_003286.jpg: corrupt JPEG restored and saved\n",
      "\u001b[34m\u001b[1mval: \u001b[0mC:\\Users\\helen\\Desktop\\deep_sys_final\\data\\images\\val\\R01_U01_C04_20220714_003312.jpg: corrupt JPEG restored and saved\n",
      "\u001b[34m\u001b[1mval: \u001b[0mC:\\Users\\helen\\Desktop\\deep_sys_final\\data\\images\\val\\R01_U01_C04_20220714_003338.jpg: corrupt JPEG restored and saved\n",
      "\u001b[34m\u001b[1mval: \u001b[0mC:\\Users\\helen\\Desktop\\deep_sys_final\\data\\images\\val\\R01_U01_C04_20220714_003344.jpg: corrupt JPEG restored and saved\n",
      "\u001b[34m\u001b[1mval: \u001b[0mC:\\Users\\helen\\Desktop\\deep_sys_final\\data\\images\\val\\R01_U01_C04_20220714_003374.jpg: corrupt JPEG restored and saved\n",
      "\u001b[34m\u001b[1mval: \u001b[0mC:\\Users\\helen\\Desktop\\deep_sys_final\\data\\images\\val\\R01_U01_C04_20220714_003377.jpg: corrupt JPEG restored and saved\n",
      "\u001b[34m\u001b[1mval: \u001b[0mC:\\Users\\helen\\Desktop\\deep_sys_final\\data\\images\\val\\R01_U01_C04_20220714_003406.jpg: corrupt JPEG restored and saved\n",
      "\u001b[34m\u001b[1mval: \u001b[0mC:\\Users\\helen\\Desktop\\deep_sys_final\\data\\images\\val\\R01_U01_C04_20220714_003408.jpg: corrupt JPEG restored and saved\n",
      "\u001b[34m\u001b[1mval: \u001b[0mC:\\Users\\helen\\Desktop\\deep_sys_final\\data\\images\\val\\R01_U01_C04_20220714_003410.jpg: corrupt JPEG restored and saved\n",
      "\u001b[34m\u001b[1mval: \u001b[0mC:\\Users\\helen\\Desktop\\deep_sys_final\\data\\images\\val\\R01_U01_C04_20220714_003432.jpg: corrupt JPEG restored and saved\n",
      "\u001b[34m\u001b[1mval: \u001b[0mC:\\Users\\helen\\Desktop\\deep_sys_final\\data\\images\\val\\R01_U01_C04_20220714_003465.jpg: corrupt JPEG restored and saved\n",
      "\u001b[34m\u001b[1mval: \u001b[0mC:\\Users\\helen\\Desktop\\deep_sys_final\\data\\images\\val\\R01_U01_C04_20220714_003476.jpg: corrupt JPEG restored and saved\n",
      "\u001b[34m\u001b[1mval: \u001b[0mC:\\Users\\helen\\Desktop\\deep_sys_final\\data\\images\\val\\R01_U01_C04_20220714_003480.jpg: corrupt JPEG restored and saved\n",
      "\u001b[34m\u001b[1mval: \u001b[0mC:\\Users\\helen\\Desktop\\deep_sys_final\\data\\images\\val\\R01_U01_C04_20220714_003481.jpg: corrupt JPEG restored and saved\n",
      "\u001b[34m\u001b[1mval: \u001b[0mC:\\Users\\helen\\Desktop\\deep_sys_final\\data\\images\\val\\R01_U01_C04_20220714_003488.jpg: corrupt JPEG restored and saved\n",
      "\u001b[34m\u001b[1mval: \u001b[0mC:\\Users\\helen\\Desktop\\deep_sys_final\\data\\images\\val\\R01_U02_C05_20220714_006563.jpg: corrupt JPEG restored and saved\n",
      "\u001b[34m\u001b[1mval: \u001b[0mC:\\Users\\helen\\Desktop\\deep_sys_final\\data\\images\\val\\R01_U02_C05_20220714_006588.jpg: corrupt JPEG restored and saved\n",
      "\u001b[34m\u001b[1mval: \u001b[0mC:\\Users\\helen\\Desktop\\deep_sys_final\\data\\images\\val\\R01_U02_C05_20220714_006627.jpg: corrupt JPEG restored and saved\n",
      "\u001b[34m\u001b[1mval: \u001b[0mC:\\Users\\helen\\Desktop\\deep_sys_final\\data\\images\\val\\R01_U02_C05_20220714_006644.jpg: corrupt JPEG restored and saved\n",
      "\u001b[34m\u001b[1mval: \u001b[0mC:\\Users\\helen\\Desktop\\deep_sys_final\\data\\images\\val\\R01_U02_C05_20220714_006648.jpg: corrupt JPEG restored and saved\n",
      "\u001b[34m\u001b[1mval: \u001b[0mC:\\Users\\helen\\Desktop\\deep_sys_final\\data\\images\\val\\R01_U02_C05_20220714_006657.jpg: corrupt JPEG restored and saved\n",
      "\u001b[34m\u001b[1mval: \u001b[0mC:\\Users\\helen\\Desktop\\deep_sys_final\\data\\images\\val\\R01_U02_C05_20220714_006658.jpg: corrupt JPEG restored and saved\n",
      "\u001b[34m\u001b[1mval: \u001b[0mC:\\Users\\helen\\Desktop\\deep_sys_final\\data\\images\\val\\R01_U02_C05_20220714_006660.jpg: corrupt JPEG restored and saved\n",
      "\u001b[34m\u001b[1mval: \u001b[0mC:\\Users\\helen\\Desktop\\deep_sys_final\\data\\images\\val\\R01_U02_C05_20220714_006662.jpg: corrupt JPEG restored and saved\n",
      "\u001b[34m\u001b[1mval: \u001b[0mC:\\Users\\helen\\Desktop\\deep_sys_final\\data\\images\\val\\R01_U02_C05_20220714_006663.jpg: corrupt JPEG restored and saved\n",
      "\u001b[34m\u001b[1mval: \u001b[0mC:\\Users\\helen\\Desktop\\deep_sys_final\\data\\images\\val\\R01_U02_C05_20220714_006673.jpg: corrupt JPEG restored and saved\n",
      "\u001b[34m\u001b[1mval: \u001b[0mC:\\Users\\helen\\Desktop\\deep_sys_final\\data\\images\\val\\R01_U02_C05_20220714_006727.jpg: corrupt JPEG restored and saved\n",
      "\u001b[34m\u001b[1mval: \u001b[0mC:\\Users\\helen\\Desktop\\deep_sys_final\\data\\images\\val\\R01_U02_C05_20220714_006747.jpg: corrupt JPEG restored and saved\n",
      "\u001b[34m\u001b[1mval: \u001b[0mC:\\Users\\helen\\Desktop\\deep_sys_final\\data\\images\\val\\R01_U02_C05_20220714_006762.jpg: corrupt JPEG restored and saved\n",
      "\u001b[34m\u001b[1mval: \u001b[0mC:\\Users\\helen\\Desktop\\deep_sys_final\\data\\images\\val\\R01_U02_C05_20220714_006763.jpg: corrupt JPEG restored and saved\n",
      "\u001b[34m\u001b[1mval: \u001b[0mC:\\Users\\helen\\Desktop\\deep_sys_final\\data\\images\\val\\R01_U02_C05_20220714_006769.jpg: corrupt JPEG restored and saved\n",
      "\u001b[34m\u001b[1mval: \u001b[0mC:\\Users\\helen\\Desktop\\deep_sys_final\\data\\images\\val\\R01_U02_C05_20220714_006788.jpg: corrupt JPEG restored and saved\n",
      "\u001b[34m\u001b[1mval: \u001b[0mC:\\Users\\helen\\Desktop\\deep_sys_final\\data\\images\\val\\R01_U02_C05_20220714_006789.jpg: corrupt JPEG restored and saved\n",
      "\u001b[34m\u001b[1mval: \u001b[0mC:\\Users\\helen\\Desktop\\deep_sys_final\\data\\images\\val\\R01_U02_C05_20220714_006800.jpg: corrupt JPEG restored and saved\n",
      "\u001b[34m\u001b[1mval: \u001b[0mC:\\Users\\helen\\Desktop\\deep_sys_final\\data\\images\\val\\R01_U02_C05_20220714_006803.jpg: corrupt JPEG restored and saved\n",
      "\u001b[34m\u001b[1mval: \u001b[0mC:\\Users\\helen\\Desktop\\deep_sys_final\\data\\images\\val\\R01_U02_C05_20220714_006815.jpg: corrupt JPEG restored and saved\n",
      "\u001b[34m\u001b[1mval: \u001b[0mC:\\Users\\helen\\Desktop\\deep_sys_final\\data\\images\\val\\R01_U02_C05_20220714_006887.jpg: corrupt JPEG restored and saved\n",
      "\u001b[34m\u001b[1mval: \u001b[0mC:\\Users\\helen\\Desktop\\deep_sys_final\\data\\images\\val\\R01_U02_C05_20220714_006890.jpg: corrupt JPEG restored and saved\n",
      "\u001b[34m\u001b[1mval: \u001b[0mC:\\Users\\helen\\Desktop\\deep_sys_final\\data\\images\\val\\R01_U02_C05_20220714_006899.jpg: corrupt JPEG restored and saved\n",
      "\u001b[34m\u001b[1mval: \u001b[0mC:\\Users\\helen\\Desktop\\deep_sys_final\\data\\images\\val\\R01_U02_C05_20220714_006904.jpg: corrupt JPEG restored and saved\n",
      "\u001b[34m\u001b[1mval: \u001b[0mC:\\Users\\helen\\Desktop\\deep_sys_final\\data\\images\\val\\R01_U02_C05_20220714_006951.jpg: corrupt JPEG restored and saved\n",
      "\u001b[34m\u001b[1mval: \u001b[0mC:\\Users\\helen\\Desktop\\deep_sys_final\\data\\images\\val\\R01_U02_C05_20220714_006964.jpg: corrupt JPEG restored and saved\n",
      "\u001b[34m\u001b[1mval: \u001b[0mC:\\Users\\helen\\Desktop\\deep_sys_final\\data\\images\\val\\R01_U02_C05_20220714_006988.jpg: corrupt JPEG restored and saved\n",
      "\u001b[34m\u001b[1mval: \u001b[0mC:\\Users\\helen\\Desktop\\deep_sys_final\\data\\images\\val\\R01_U02_C05_20220714_007009.jpg: corrupt JPEG restored and saved\n",
      "\u001b[34m\u001b[1mval: \u001b[0mC:\\Users\\helen\\Desktop\\deep_sys_final\\data\\images\\val\\R01_U02_C05_20220714_007013.jpg: corrupt JPEG restored and saved\n",
      "\u001b[34m\u001b[1mval: \u001b[0mC:\\Users\\helen\\Desktop\\deep_sys_final\\data\\images\\val\\R01_U02_C05_20220714_007014.jpg: corrupt JPEG restored and saved\n",
      "\u001b[34m\u001b[1mval: \u001b[0mC:\\Users\\helen\\Desktop\\deep_sys_final\\data\\images\\val\\R01_U02_C05_20220714_007019.jpg: corrupt JPEG restored and saved\n",
      "\u001b[34m\u001b[1mval: \u001b[0mC:\\Users\\helen\\Desktop\\deep_sys_final\\data\\images\\val\\R01_U02_C05_20220714_007021.jpg: corrupt JPEG restored and saved\n",
      "\u001b[34m\u001b[1mval: \u001b[0mC:\\Users\\helen\\Desktop\\deep_sys_final\\data\\images\\val\\R01_U02_C05_20220714_007026.jpg: corrupt JPEG restored and saved\n",
      "\u001b[34m\u001b[1mval: \u001b[0mC:\\Users\\helen\\Desktop\\deep_sys_final\\data\\images\\val\\R01_U02_C05_20220714_007035.jpg: corrupt JPEG restored and saved\n",
      "\u001b[34m\u001b[1mval: \u001b[0mC:\\Users\\helen\\Desktop\\deep_sys_final\\data\\images\\val\\R01_U02_C05_20220714_007037.jpg: corrupt JPEG restored and saved\n",
      "\u001b[34m\u001b[1mval: \u001b[0mC:\\Users\\helen\\Desktop\\deep_sys_final\\data\\images\\val\\R01_U02_C05_20220714_007049.jpg: corrupt JPEG restored and saved\n",
      "\u001b[34m\u001b[1mval: \u001b[0mC:\\Users\\helen\\Desktop\\deep_sys_final\\data\\images\\val\\R01_U02_C05_20220714_007061.jpg: corrupt JPEG restored and saved\n",
      "\u001b[34m\u001b[1mval: \u001b[0mC:\\Users\\helen\\Desktop\\deep_sys_final\\data\\images\\val\\R01_U02_C05_20220714_011274.jpg: corrupt JPEG restored and saved\n",
      "\u001b[34m\u001b[1mval: \u001b[0mC:\\Users\\helen\\Desktop\\deep_sys_final\\data\\images\\val\\R01_U02_C05_20220714_011298.jpg: corrupt JPEG restored and saved\n",
      "\u001b[34m\u001b[1mval: \u001b[0mC:\\Users\\helen\\Desktop\\deep_sys_final\\data\\images\\val\\R01_U02_C05_20220714_011305.jpg: corrupt JPEG restored and saved\n",
      "\u001b[34m\u001b[1mval: \u001b[0mC:\\Users\\helen\\Desktop\\deep_sys_final\\data\\images\\val\\R01_U02_C05_20220714_011306.jpg: corrupt JPEG restored and saved\n",
      "\u001b[34m\u001b[1mval: \u001b[0mC:\\Users\\helen\\Desktop\\deep_sys_final\\data\\images\\val\\R01_U02_C05_20220714_011307.jpg: corrupt JPEG restored and saved\n",
      "\u001b[34m\u001b[1mval: \u001b[0mC:\\Users\\helen\\Desktop\\deep_sys_final\\data\\images\\val\\R01_U02_C05_20220714_011308.jpg: corrupt JPEG restored and saved\n",
      "\u001b[34m\u001b[1mval: \u001b[0mC:\\Users\\helen\\Desktop\\deep_sys_final\\data\\images\\val\\R01_U02_C05_20220714_011310.jpg: corrupt JPEG restored and saved\n",
      "\u001b[34m\u001b[1mval: \u001b[0mC:\\Users\\helen\\Desktop\\deep_sys_final\\data\\images\\val\\R01_U02_C05_20220714_011328.jpg: corrupt JPEG restored and saved\n",
      "\u001b[34m\u001b[1mval: \u001b[0mC:\\Users\\helen\\Desktop\\deep_sys_final\\data\\images\\val\\R01_U02_C05_20220714_011332.jpg: corrupt JPEG restored and saved\n",
      "\u001b[34m\u001b[1mval: \u001b[0mC:\\Users\\helen\\Desktop\\deep_sys_final\\data\\images\\val\\R01_U02_C05_20220714_011346.jpg: corrupt JPEG restored and saved\n",
      "\u001b[34m\u001b[1mval: \u001b[0mC:\\Users\\helen\\Desktop\\deep_sys_final\\data\\images\\val\\R01_U02_C05_20220714_011352.jpg: corrupt JPEG restored and saved\n",
      "\u001b[34m\u001b[1mval: \u001b[0mC:\\Users\\helen\\Desktop\\deep_sys_final\\data\\images\\val\\R01_U02_C05_20220714_011372.jpg: corrupt JPEG restored and saved\n",
      "\u001b[34m\u001b[1mval: \u001b[0mC:\\Users\\helen\\Desktop\\deep_sys_final\\data\\images\\val\\R01_U02_C05_20220714_011420.jpg: corrupt JPEG restored and saved\n",
      "\u001b[34m\u001b[1mval: \u001b[0mC:\\Users\\helen\\Desktop\\deep_sys_final\\data\\images\\val\\R01_U02_C05_20220714_011435.jpg: corrupt JPEG restored and saved\n",
      "\u001b[34m\u001b[1mval: \u001b[0mC:\\Users\\helen\\Desktop\\deep_sys_final\\data\\images\\val\\R01_U02_C05_20220714_011443.jpg: corrupt JPEG restored and saved\n",
      "\u001b[34m\u001b[1mval: \u001b[0mC:\\Users\\helen\\Desktop\\deep_sys_final\\data\\images\\val\\R01_U02_C05_20220714_011448.jpg: corrupt JPEG restored and saved\n",
      "\u001b[34m\u001b[1mval: \u001b[0mC:\\Users\\helen\\Desktop\\deep_sys_final\\data\\images\\val\\R01_U02_C05_20220714_011454.jpg: corrupt JPEG restored and saved\n",
      "\u001b[34m\u001b[1mval: \u001b[0mC:\\Users\\helen\\Desktop\\deep_sys_final\\data\\images\\val\\R01_U02_C05_20220714_011459.jpg: corrupt JPEG restored and saved\n",
      "\u001b[34m\u001b[1mval: \u001b[0mC:\\Users\\helen\\Desktop\\deep_sys_final\\data\\images\\val\\R01_U02_C05_20220714_011460.jpg: corrupt JPEG restored and saved\n",
      "\u001b[34m\u001b[1mval: \u001b[0mC:\\Users\\helen\\Desktop\\deep_sys_final\\data\\images\\val\\R01_U02_C05_20220714_011464.jpg: corrupt JPEG restored and saved\n",
      "\u001b[34m\u001b[1mval: \u001b[0mC:\\Users\\helen\\Desktop\\deep_sys_final\\data\\images\\val\\R01_U02_C05_20220714_011475.jpg: corrupt JPEG restored and saved\n",
      "\u001b[34m\u001b[1mval: \u001b[0mC:\\Users\\helen\\Desktop\\deep_sys_final\\data\\images\\val\\R01_U02_C05_20220714_011479.jpg: corrupt JPEG restored and saved\n",
      "\u001b[34m\u001b[1mval: \u001b[0mC:\\Users\\helen\\Desktop\\deep_sys_final\\data\\images\\val\\R01_U02_C05_20220714_011487.jpg: corrupt JPEG restored and saved\n",
      "\u001b[34m\u001b[1mval: \u001b[0mC:\\Users\\helen\\Desktop\\deep_sys_final\\data\\images\\val\\R01_U02_C05_20220714_011504.jpg: corrupt JPEG restored and saved\n",
      "\u001b[34m\u001b[1mval: \u001b[0mC:\\Users\\helen\\Desktop\\deep_sys_final\\data\\images\\val\\R01_U02_C05_20220714_011505.jpg: corrupt JPEG restored and saved\n",
      "\u001b[34m\u001b[1mval: \u001b[0mC:\\Users\\helen\\Desktop\\deep_sys_final\\data\\images\\val\\R01_U02_C05_20220714_011538.jpg: corrupt JPEG restored and saved\n",
      "\u001b[34m\u001b[1mval: \u001b[0mC:\\Users\\helen\\Desktop\\deep_sys_final\\data\\images\\val\\R01_U02_C05_20220714_011540.jpg: corrupt JPEG restored and saved\n",
      "\u001b[34m\u001b[1mval: \u001b[0mC:\\Users\\helen\\Desktop\\deep_sys_final\\data\\images\\val\\R01_U02_C05_20220714_011579.jpg: corrupt JPEG restored and saved\n",
      "\u001b[34m\u001b[1mval: \u001b[0mC:\\Users\\helen\\Desktop\\deep_sys_final\\data\\images\\val\\R01_U02_C05_20220714_011602.jpg: corrupt JPEG restored and saved\n",
      "\u001b[34m\u001b[1mval: \u001b[0mC:\\Users\\helen\\Desktop\\deep_sys_final\\data\\images\\val\\R01_U02_C05_20220714_011619.jpg: corrupt JPEG restored and saved\n",
      "\u001b[34m\u001b[1mval: \u001b[0mC:\\Users\\helen\\Desktop\\deep_sys_final\\data\\images\\val\\R01_U02_C05_20220714_011687.jpg: corrupt JPEG restored and saved\n",
      "\u001b[34m\u001b[1mval: \u001b[0mC:\\Users\\helen\\Desktop\\deep_sys_final\\data\\images\\val\\R01_U02_C05_20220714_011698.jpg: corrupt JPEG restored and saved\n",
      "\u001b[34m\u001b[1mval: \u001b[0mC:\\Users\\helen\\Desktop\\deep_sys_final\\data\\images\\val\\R01_U02_C05_20220714_011739.jpg: corrupt JPEG restored and saved\n",
      "\u001b[34m\u001b[1mval: \u001b[0mC:\\Users\\helen\\Desktop\\deep_sys_final\\data\\images\\val\\R01_U02_C05_20220714_011740.jpg: corrupt JPEG restored and saved\n",
      "\u001b[34m\u001b[1mval: \u001b[0mC:\\Users\\helen\\Desktop\\deep_sys_final\\data\\images\\val\\R01_U02_C05_20220714_011766.jpg: corrupt JPEG restored and saved\n",
      "\u001b[34m\u001b[1mval: \u001b[0mC:\\Users\\helen\\Desktop\\deep_sys_final\\data\\images\\val\\R01_U02_C05_20220714_011775.jpg: corrupt JPEG restored and saved\n",
      "\u001b[34m\u001b[1mval: \u001b[0mC:\\Users\\helen\\Desktop\\deep_sys_final\\data\\images\\val\\R01_U02_C05_20220714_011796.jpg: corrupt JPEG restored and saved\n",
      "\u001b[34m\u001b[1mval: \u001b[0mC:\\Users\\helen\\Desktop\\deep_sys_final\\data\\images\\val\\R01_U02_C05_20220714_011799.jpg: corrupt JPEG restored and saved\n",
      "\u001b[34m\u001b[1mval: \u001b[0mC:\\Users\\helen\\Desktop\\deep_sys_final\\data\\images\\val\\R01_U02_C05_20220714_011800.jpg: corrupt JPEG restored and saved\n",
      "\u001b[34m\u001b[1mval: \u001b[0mC:\\Users\\helen\\Desktop\\deep_sys_final\\data\\images\\val\\R01_U02_C05_20220714_011802.jpg: corrupt JPEG restored and saved\n",
      "\u001b[34m\u001b[1mval: \u001b[0mC:\\Users\\helen\\Desktop\\deep_sys_final\\data\\images\\val\\R01_U02_C05_20220714_011815.jpg: corrupt JPEG restored and saved\n",
      "\u001b[34m\u001b[1mval: \u001b[0mC:\\Users\\helen\\Desktop\\deep_sys_final\\data\\images\\val\\R01_U02_C05_20220714_011841.jpg: corrupt JPEG restored and saved\n",
      "\u001b[34m\u001b[1mval: \u001b[0mC:\\Users\\helen\\Desktop\\deep_sys_final\\data\\images\\val\\R01_U02_C05_20220714_011842.jpg: corrupt JPEG restored and saved\n",
      "\u001b[34m\u001b[1mval: \u001b[0mC:\\Users\\helen\\Desktop\\deep_sys_final\\data\\images\\val\\R01_U02_C05_20220714_011861.jpg: corrupt JPEG restored and saved\n",
      "\u001b[34m\u001b[1mval: \u001b[0mC:\\Users\\helen\\Desktop\\deep_sys_final\\data\\images\\val\\R01_U02_C05_20220714_011878.jpg: corrupt JPEG restored and saved\n",
      "\u001b[34m\u001b[1mval: \u001b[0mC:\\Users\\helen\\Desktop\\deep_sys_final\\data\\images\\val\\R01_U02_C05_20220714_011886.jpg: corrupt JPEG restored and saved\n",
      "\u001b[34m\u001b[1mval: \u001b[0mC:\\Users\\helen\\Desktop\\deep_sys_final\\data\\images\\val\\R01_U02_C05_20220714_011890.jpg: corrupt JPEG restored and saved\n",
      "\u001b[34m\u001b[1mval: \u001b[0mC:\\Users\\helen\\Desktop\\deep_sys_final\\data\\images\\val\\R01_U02_C05_20220714_011915.jpg: corrupt JPEG restored and saved\n",
      "\u001b[34m\u001b[1mval: \u001b[0mC:\\Users\\helen\\Desktop\\deep_sys_final\\data\\images\\val\\R01_U02_C05_20220714_011918.jpg: corrupt JPEG restored and saved\n",
      "\u001b[34m\u001b[1mval: \u001b[0mC:\\Users\\helen\\Desktop\\deep_sys_final\\data\\images\\val\\R01_U02_C05_20220714_011920.jpg: corrupt JPEG restored and saved\n",
      "\u001b[34m\u001b[1mval: \u001b[0mC:\\Users\\helen\\Desktop\\deep_sys_final\\data\\images\\val\\R01_U02_C05_20220714_011931.jpg: corrupt JPEG restored and saved\n",
      "\u001b[34m\u001b[1mval: \u001b[0mC:\\Users\\helen\\Desktop\\deep_sys_final\\data\\images\\val\\R01_U02_C05_20220714_011992.jpg: corrupt JPEG restored and saved\n",
      "\u001b[34m\u001b[1mval: \u001b[0mC:\\Users\\helen\\Desktop\\deep_sys_final\\data\\images\\val\\R01_U02_C05_20220714_011993.jpg: corrupt JPEG restored and saved\n",
      "\u001b[34m\u001b[1mval: \u001b[0mC:\\Users\\helen\\Desktop\\deep_sys_final\\data\\images\\val\\R01_U02_C05_20220714_011994.jpg: corrupt JPEG restored and saved\n",
      "\u001b[34m\u001b[1mval: \u001b[0mC:\\Users\\helen\\Desktop\\deep_sys_final\\data\\images\\val\\R01_U02_C05_20220714_011997.jpg: corrupt JPEG restored and saved\n",
      "\u001b[34m\u001b[1mval: \u001b[0mC:\\Users\\helen\\Desktop\\deep_sys_final\\data\\images\\val\\R01_U02_C05_20220714_012017.jpg: corrupt JPEG restored and saved\n",
      "\u001b[34m\u001b[1mval: \u001b[0mC:\\Users\\helen\\Desktop\\deep_sys_final\\data\\images\\val\\R01_U02_C05_20220714_012041.jpg: corrupt JPEG restored and saved\n",
      "\u001b[34m\u001b[1mval: \u001b[0mC:\\Users\\helen\\Desktop\\deep_sys_final\\data\\images\\val\\R01_U02_C05_20220714_012046.jpg: corrupt JPEG restored and saved\n",
      "\u001b[34m\u001b[1mval: \u001b[0mC:\\Users\\helen\\Desktop\\deep_sys_final\\data\\images\\val\\R01_U02_C05_20220714_012056.jpg: corrupt JPEG restored and saved\n",
      "\u001b[34m\u001b[1mval: \u001b[0mC:\\Users\\helen\\Desktop\\deep_sys_final\\data\\images\\val\\R01_U02_C05_20220714_012060.jpg: corrupt JPEG restored and saved\n",
      "\u001b[34m\u001b[1mval: \u001b[0mC:\\Users\\helen\\Desktop\\deep_sys_final\\data\\images\\val\\R01_U02_C05_20220714_012061.jpg: corrupt JPEG restored and saved\n",
      "\u001b[34m\u001b[1mval: \u001b[0mC:\\Users\\helen\\Desktop\\deep_sys_final\\data\\images\\val\\R01_U02_C05_20220714_012074.jpg: corrupt JPEG restored and saved\n",
      "\u001b[34m\u001b[1mval: \u001b[0mC:\\Users\\helen\\Desktop\\deep_sys_final\\data\\images\\val\\R01_U02_C05_20220714_012075.jpg: corrupt JPEG restored and saved\n",
      "\u001b[34m\u001b[1mval: \u001b[0mC:\\Users\\helen\\Desktop\\deep_sys_final\\data\\images\\val\\R01_U02_C05_20220714_012078.jpg: corrupt JPEG restored and saved\n",
      "\u001b[34m\u001b[1mval: \u001b[0mC:\\Users\\helen\\Desktop\\deep_sys_final\\data\\images\\val\\R01_U02_C05_20220714_012086.jpg: corrupt JPEG restored and saved\n",
      "\u001b[34m\u001b[1mval: \u001b[0mC:\\Users\\helen\\Desktop\\deep_sys_final\\data\\images\\val\\R01_U02_C05_20220714_012087.jpg: corrupt JPEG restored and saved\n",
      "\u001b[34m\u001b[1mval: \u001b[0mC:\\Users\\helen\\Desktop\\deep_sys_final\\data\\images\\val\\R01_U02_C05_20220714_012101.jpg: corrupt JPEG restored and saved\n",
      "\u001b[34m\u001b[1mval: \u001b[0mC:\\Users\\helen\\Desktop\\deep_sys_final\\data\\images\\val\\R01_U02_C05_20220714_012103.jpg: corrupt JPEG restored and saved\n",
      "\u001b[34m\u001b[1mval: \u001b[0mC:\\Users\\helen\\Desktop\\deep_sys_final\\data\\images\\val\\R01_U02_C05_20220714_012108.jpg: corrupt JPEG restored and saved\n",
      "\u001b[34m\u001b[1mval: \u001b[0mC:\\Users\\helen\\Desktop\\deep_sys_final\\data\\images\\val\\R01_U02_C05_20220714_012126.jpg: corrupt JPEG restored and saved\n",
      "\u001b[34m\u001b[1mval: \u001b[0mC:\\Users\\helen\\Desktop\\deep_sys_final\\data\\images\\val\\R01_U02_C05_20220714_012129.jpg: corrupt JPEG restored and saved\n",
      "\u001b[34m\u001b[1mval: \u001b[0mC:\\Users\\helen\\Desktop\\deep_sys_final\\data\\images\\val\\R01_U02_C05_20220714_012148.jpg: corrupt JPEG restored and saved\n",
      "\u001b[34m\u001b[1mval: \u001b[0mC:\\Users\\helen\\Desktop\\deep_sys_final\\data\\images\\val\\R01_U02_C05_20220714_012156.jpg: corrupt JPEG restored and saved\n",
      "\u001b[34m\u001b[1mval: \u001b[0mC:\\Users\\helen\\Desktop\\deep_sys_final\\data\\images\\val\\R01_U02_C05_20220714_012158.jpg: corrupt JPEG restored and saved\n",
      "\u001b[34m\u001b[1mval: \u001b[0mC:\\Users\\helen\\Desktop\\deep_sys_final\\data\\images\\val\\R01_U02_C05_20220714_012166.jpg: corrupt JPEG restored and saved\n",
      "\u001b[34m\u001b[1mval: \u001b[0mC:\\Users\\helen\\Desktop\\deep_sys_final\\data\\images\\val\\R01_U02_C05_20220714_012184.jpg: corrupt JPEG restored and saved\n",
      "\u001b[34m\u001b[1mval: \u001b[0mC:\\Users\\helen\\Desktop\\deep_sys_final\\data\\images\\val\\R01_U02_C05_20220714_012213.jpg: corrupt JPEG restored and saved\n",
      "\u001b[34m\u001b[1mval: \u001b[0mC:\\Users\\helen\\Desktop\\deep_sys_final\\data\\images\\val\\R01_U02_C05_20220714_012216.jpg: corrupt JPEG restored and saved\n",
      "\u001b[34m\u001b[1mval: \u001b[0mC:\\Users\\helen\\Desktop\\deep_sys_final\\data\\images\\val\\R01_U02_C05_20220714_012218.jpg: corrupt JPEG restored and saved\n",
      "\u001b[34m\u001b[1mval: \u001b[0mC:\\Users\\helen\\Desktop\\deep_sys_final\\data\\images\\val\\R01_U02_C05_20220714_012232.jpg: corrupt JPEG restored and saved\n",
      "\u001b[34m\u001b[1mval: \u001b[0mC:\\Users\\helen\\Desktop\\deep_sys_final\\data\\images\\val\\R01_U04_C10_20220727_000005.jpg: corrupt JPEG restored and saved\n",
      "\u001b[34m\u001b[1mval: \u001b[0mC:\\Users\\helen\\Desktop\\deep_sys_final\\data\\images\\val\\R01_U04_C10_20220727_000006.jpg: corrupt JPEG restored and saved\n",
      "\u001b[34m\u001b[1mval: \u001b[0mC:\\Users\\helen\\Desktop\\deep_sys_final\\data\\images\\val\\R01_U04_C10_20220727_000011.jpg: corrupt JPEG restored and saved\n",
      "\u001b[34m\u001b[1mval: \u001b[0mC:\\Users\\helen\\Desktop\\deep_sys_final\\data\\images\\val\\R01_U04_C10_20220727_000012.jpg: corrupt JPEG restored and saved\n",
      "\u001b[34m\u001b[1mval: \u001b[0mC:\\Users\\helen\\Desktop\\deep_sys_final\\data\\images\\val\\R01_U04_C10_20220727_000016.jpg: corrupt JPEG restored and saved\n",
      "\u001b[34m\u001b[1mval: \u001b[0mC:\\Users\\helen\\Desktop\\deep_sys_final\\data\\images\\val\\R01_U04_C10_20220727_000057.jpg: corrupt JPEG restored and saved\n",
      "\u001b[34m\u001b[1mval: \u001b[0mC:\\Users\\helen\\Desktop\\deep_sys_final\\data\\images\\val\\R01_U04_C10_20220727_000066.jpg: corrupt JPEG restored and saved\n",
      "\u001b[34m\u001b[1mval: \u001b[0mC:\\Users\\helen\\Desktop\\deep_sys_final\\data\\images\\val\\R01_U04_C10_20220727_000098.jpg: corrupt JPEG restored and saved\n",
      "\u001b[34m\u001b[1mval: \u001b[0mC:\\Users\\helen\\Desktop\\deep_sys_final\\data\\images\\val\\R01_U04_C10_20220727_000102.jpg: corrupt JPEG restored and saved\n",
      "\u001b[34m\u001b[1mval: \u001b[0mC:\\Users\\helen\\Desktop\\deep_sys_final\\data\\images\\val\\R01_U04_C10_20220727_000117.jpg: corrupt JPEG restored and saved\n",
      "\u001b[34m\u001b[1mval: \u001b[0mC:\\Users\\helen\\Desktop\\deep_sys_final\\data\\images\\val\\R01_U04_C10_20220727_000189.jpg: corrupt JPEG restored and saved\n",
      "\u001b[34m\u001b[1mval: \u001b[0mC:\\Users\\helen\\Desktop\\deep_sys_final\\data\\images\\val\\R01_U04_C10_20220727_000191.jpg: corrupt JPEG restored and saved\n",
      "\u001b[34m\u001b[1mval: \u001b[0mC:\\Users\\helen\\Desktop\\deep_sys_final\\data\\images\\val\\R01_U04_C10_20220727_000252.jpg: corrupt JPEG restored and saved\n",
      "\u001b[34m\u001b[1mval: \u001b[0mC:\\Users\\helen\\Desktop\\deep_sys_final\\data\\images\\val\\R01_U04_C10_20220727_000262.jpg: corrupt JPEG restored and saved\n",
      "\u001b[34m\u001b[1mval: \u001b[0mC:\\Users\\helen\\Desktop\\deep_sys_final\\data\\images\\val\\R01_U04_C10_20220727_000292.jpg: corrupt JPEG restored and saved\n",
      "\u001b[34m\u001b[1mval: \u001b[0mC:\\Users\\helen\\Desktop\\deep_sys_final\\data\\images\\val\\R01_U04_C10_20220727_000331.jpg: corrupt JPEG restored and saved\n",
      "\u001b[34m\u001b[1mval: \u001b[0mC:\\Users\\helen\\Desktop\\deep_sys_final\\data\\images\\val\\R01_U04_C10_20220727_000334.jpg: corrupt JPEG restored and saved\n",
      "\u001b[34m\u001b[1mval: \u001b[0mC:\\Users\\helen\\Desktop\\deep_sys_final\\data\\images\\val\\R01_U04_C10_20220727_000351.jpg: corrupt JPEG restored and saved\n",
      "\u001b[34m\u001b[1mval: \u001b[0mC:\\Users\\helen\\Desktop\\deep_sys_final\\data\\images\\val\\R01_U04_C10_20220727_000412.jpg: corrupt JPEG restored and saved\n",
      "\u001b[34m\u001b[1mval: \u001b[0mC:\\Users\\helen\\Desktop\\deep_sys_final\\data\\images\\val\\R01_U04_C10_20220727_000502.jpg: corrupt JPEG restored and saved\n",
      "\u001b[34m\u001b[1mval: \u001b[0mC:\\Users\\helen\\Desktop\\deep_sys_final\\data\\images\\val\\R01_U04_C10_20220727_000507.jpg: corrupt JPEG restored and saved\n",
      "\u001b[34m\u001b[1mval: \u001b[0mC:\\Users\\helen\\Desktop\\deep_sys_final\\data\\images\\val\\R01_U04_C10_20220727_000508.jpg: corrupt JPEG restored and saved\n",
      "\u001b[34m\u001b[1mval: \u001b[0mC:\\Users\\helen\\Desktop\\deep_sys_final\\data\\images\\val\\R01_U04_C10_20220727_000510.jpg: corrupt JPEG restored and saved\n",
      "\u001b[34m\u001b[1mval: \u001b[0mC:\\Users\\helen\\Desktop\\deep_sys_final\\data\\images\\val\\R01_U04_C10_20220727_000544.jpg: corrupt JPEG restored and saved\n",
      "\u001b[34m\u001b[1mval: \u001b[0mC:\\Users\\helen\\Desktop\\deep_sys_final\\data\\images\\val\\R01_U04_C10_20220727_000558.jpg: corrupt JPEG restored and saved\n",
      "\u001b[34m\u001b[1mval: \u001b[0mC:\\Users\\helen\\Desktop\\deep_sys_final\\data\\images\\val\\R01_U04_C10_20220727_000611.jpg: corrupt JPEG restored and saved\n",
      "\u001b[34m\u001b[1mval: \u001b[0mC:\\Users\\helen\\Desktop\\deep_sys_final\\data\\images\\val\\R01_U04_C10_20220727_000616.jpg: corrupt JPEG restored and saved\n",
      "\u001b[34m\u001b[1mval: \u001b[0mC:\\Users\\helen\\Desktop\\deep_sys_final\\data\\images\\val\\R01_U04_C10_20220727_000640.jpg: corrupt JPEG restored and saved\n",
      "\u001b[34m\u001b[1mval: \u001b[0mC:\\Users\\helen\\Desktop\\deep_sys_final\\data\\images\\val\\R01_U04_C10_20220727_000643.jpg: corrupt JPEG restored and saved\n",
      "\u001b[34m\u001b[1mval: \u001b[0mC:\\Users\\helen\\Desktop\\deep_sys_final\\data\\images\\val\\R01_U04_C10_20220727_000695.jpg: corrupt JPEG restored and saved\n",
      "\u001b[34m\u001b[1mval: \u001b[0mC:\\Users\\helen\\Desktop\\deep_sys_final\\data\\images\\val\\R01_U04_C10_20220727_000729.jpg: corrupt JPEG restored and saved\n",
      "\u001b[34m\u001b[1mval: \u001b[0mC:\\Users\\helen\\Desktop\\deep_sys_final\\data\\images\\val\\R01_U04_C10_20220727_000747.jpg: corrupt JPEG restored and saved\n",
      "\u001b[34m\u001b[1mval: \u001b[0mC:\\Users\\helen\\Desktop\\deep_sys_final\\data\\images\\val\\R01_U04_C10_20220727_000778.jpg: corrupt JPEG restored and saved\n",
      "\u001b[34m\u001b[1mval: \u001b[0mC:\\Users\\helen\\Desktop\\deep_sys_final\\data\\images\\val\\R01_U04_C10_20220727_000803.jpg: corrupt JPEG restored and saved\n",
      "\u001b[34m\u001b[1mval: \u001b[0mC:\\Users\\helen\\Desktop\\deep_sys_final\\data\\images\\val\\R01_U04_C10_20220727_000814.jpg: corrupt JPEG restored and saved\n",
      "\u001b[34m\u001b[1mval: \u001b[0mC:\\Users\\helen\\Desktop\\deep_sys_final\\data\\images\\val\\R01_U04_C10_20220727_000822.jpg: corrupt JPEG restored and saved\n",
      "\u001b[34m\u001b[1mval: \u001b[0mC:\\Users\\helen\\Desktop\\deep_sys_final\\data\\images\\val\\R01_U04_C10_20220727_000864.jpg: corrupt JPEG restored and saved\n",
      "\u001b[34m\u001b[1mval: \u001b[0mC:\\Users\\helen\\Desktop\\deep_sys_final\\data\\images\\val\\R01_U04_C10_20220727_000879.jpg: corrupt JPEG restored and saved\n",
      "\u001b[34m\u001b[1mval: \u001b[0mC:\\Users\\helen\\Desktop\\deep_sys_final\\data\\images\\val\\R01_U04_C10_20220727_000892.jpg: corrupt JPEG restored and saved\n",
      "\u001b[34m\u001b[1mval: \u001b[0mC:\\Users\\helen\\Desktop\\deep_sys_final\\data\\images\\val\\R01_U04_C10_20220727_000942.jpg: corrupt JPEG restored and saved\n",
      "\u001b[34m\u001b[1mval: \u001b[0mC:\\Users\\helen\\Desktop\\deep_sys_final\\data\\images\\val\\R01_U04_C10_20220727_000947.jpg: corrupt JPEG restored and saved\n",
      "\u001b[34m\u001b[1mval: \u001b[0mC:\\Users\\helen\\Desktop\\deep_sys_final\\data\\images\\val\\R01_U04_C10_20220727_000975.jpg: corrupt JPEG restored and saved\n",
      "\u001b[34m\u001b[1mval: \u001b[0mC:\\Users\\helen\\Desktop\\deep_sys_final\\data\\images\\val\\R01_U04_C10_20220727_001024.jpg: corrupt JPEG restored and saved\n",
      "\u001b[34m\u001b[1mval: \u001b[0mC:\\Users\\helen\\Desktop\\deep_sys_final\\data\\images\\val\\R01_U04_C10_20220727_001037.jpg: corrupt JPEG restored and saved\n",
      "\u001b[34m\u001b[1mval: \u001b[0mC:\\Users\\helen\\Desktop\\deep_sys_final\\data\\images\\val\\R01_U04_C10_20220727_001041.jpg: corrupt JPEG restored and saved\n",
      "\u001b[34m\u001b[1mval: \u001b[0mC:\\Users\\helen\\Desktop\\deep_sys_final\\data\\images\\val\\R01_U04_C10_20220727_001065.jpg: corrupt JPEG restored and saved\n",
      "\u001b[34m\u001b[1mval: \u001b[0mC:\\Users\\helen\\Desktop\\deep_sys_final\\data\\images\\val\\R01_U04_C10_20220727_001066.jpg: corrupt JPEG restored and saved\n",
      "\u001b[34m\u001b[1mval: \u001b[0mC:\\Users\\helen\\Desktop\\deep_sys_final\\data\\images\\val\\R01_U04_C10_20220727_001068.jpg: corrupt JPEG restored and saved\n",
      "\u001b[34m\u001b[1mval: \u001b[0mC:\\Users\\helen\\Desktop\\deep_sys_final\\data\\images\\val\\R01_U04_C10_20220727_001153.jpg: corrupt JPEG restored and saved\n",
      "\u001b[34m\u001b[1mval: \u001b[0mC:\\Users\\helen\\Desktop\\deep_sys_final\\data\\images\\val\\R01_U04_C10_20220727_001157.jpg: corrupt JPEG restored and saved\n",
      "\u001b[34m\u001b[1mval: \u001b[0mC:\\Users\\helen\\Desktop\\deep_sys_final\\data\\images\\val\\R01_U04_C10_20220727_001176.jpg: corrupt JPEG restored and saved\n",
      "\u001b[34m\u001b[1mval: \u001b[0mC:\\Users\\helen\\Desktop\\deep_sys_final\\data\\images\\val\\R01_U04_C10_20220727_001274.jpg: corrupt JPEG restored and saved\n",
      "\u001b[34m\u001b[1mval: \u001b[0mC:\\Users\\helen\\Desktop\\deep_sys_final\\data\\images\\val\\R01_U04_C10_20220727_001278.jpg: corrupt JPEG restored and saved\n",
      "\u001b[34m\u001b[1mval: \u001b[0mC:\\Users\\helen\\Desktop\\deep_sys_final\\data\\images\\val\\R01_U04_C10_20220727_001291.jpg: corrupt JPEG restored and saved\n",
      "\u001b[34m\u001b[1mval: \u001b[0mC:\\Users\\helen\\Desktop\\deep_sys_final\\data\\images\\val\\R01_U04_C10_20220727_001372.jpg: corrupt JPEG restored and saved\n",
      "\u001b[34m\u001b[1mval: \u001b[0mC:\\Users\\helen\\Desktop\\deep_sys_final\\data\\images\\val\\R01_U04_C10_20220727_001392.jpg: corrupt JPEG restored and saved\n",
      "\u001b[34m\u001b[1mval: \u001b[0mC:\\Users\\helen\\Desktop\\deep_sys_final\\data\\images\\val\\R01_U04_C10_20220727_001395.jpg: corrupt JPEG restored and saved\n",
      "\u001b[34m\u001b[1mval: \u001b[0mC:\\Users\\helen\\Desktop\\deep_sys_final\\data\\images\\val\\R01_U04_C10_20220727_001408.jpg: corrupt JPEG restored and saved\n",
      "\u001b[34m\u001b[1mval: \u001b[0mC:\\Users\\helen\\Desktop\\deep_sys_final\\data\\images\\val\\R01_U04_C10_20220727_001410.jpg: corrupt JPEG restored and saved\n",
      "\u001b[34m\u001b[1mval: \u001b[0mC:\\Users\\helen\\Desktop\\deep_sys_final\\data\\images\\val\\R01_U04_C10_20220727_001413.jpg: corrupt JPEG restored and saved\n",
      "\u001b[34m\u001b[1mval: \u001b[0mC:\\Users\\helen\\Desktop\\deep_sys_final\\data\\images\\val\\R01_U04_C10_20220727_001416.jpg: corrupt JPEG restored and saved\n",
      "\u001b[34m\u001b[1mval: \u001b[0mC:\\Users\\helen\\Desktop\\deep_sys_final\\data\\images\\val\\R01_U04_C10_20220727_001449.jpg: corrupt JPEG restored and saved\n",
      "\u001b[34m\u001b[1mval: \u001b[0mC:\\Users\\helen\\Desktop\\deep_sys_final\\data\\images\\val\\R01_U04_C10_20220727_001458.jpg: corrupt JPEG restored and saved\n",
      "\u001b[34m\u001b[1mval: \u001b[0mC:\\Users\\helen\\Desktop\\deep_sys_final\\data\\images\\val\\R01_U04_C10_20220727_001477.jpg: corrupt JPEG restored and saved\n",
      "\u001b[34m\u001b[1mval: \u001b[0mC:\\Users\\helen\\Desktop\\deep_sys_final\\data\\images\\val\\R01_U04_C10_20220727_001480.jpg: corrupt JPEG restored and saved\n",
      "\u001b[34m\u001b[1mval: \u001b[0mC:\\Users\\helen\\Desktop\\deep_sys_final\\data\\images\\val\\R01_U04_C10_20220727_001484.jpg: corrupt JPEG restored and saved\n",
      "\u001b[34m\u001b[1mval: \u001b[0mC:\\Users\\helen\\Desktop\\deep_sys_final\\data\\images\\val\\R01_U04_C10_20220727_001485.jpg: corrupt JPEG restored and saved\n",
      "\u001b[34m\u001b[1mval: \u001b[0mC:\\Users\\helen\\Desktop\\deep_sys_final\\data\\images\\val\\R01_U04_C10_20220727_001486.jpg: corrupt JPEG restored and saved\n",
      "\u001b[34m\u001b[1mval: \u001b[0mC:\\Users\\helen\\Desktop\\deep_sys_final\\data\\images\\val\\R01_U04_C10_20220727_001514.jpg: corrupt JPEG restored and saved\n",
      "\u001b[34m\u001b[1mval: \u001b[0mC:\\Users\\helen\\Desktop\\deep_sys_final\\data\\images\\val\\R01_U04_C10_20220727_001527.jpg: corrupt JPEG restored and saved\n",
      "\u001b[34m\u001b[1mval: \u001b[0mC:\\Users\\helen\\Desktop\\deep_sys_final\\data\\images\\val\\R01_U04_C10_20220727_001535.jpg: corrupt JPEG restored and saved\n",
      "\u001b[34m\u001b[1mval: \u001b[0mC:\\Users\\helen\\Desktop\\deep_sys_final\\data\\images\\val\\R01_U04_C10_20220727_001538.jpg: corrupt JPEG restored and saved\n",
      "\u001b[34m\u001b[1mval: \u001b[0mC:\\Users\\helen\\Desktop\\deep_sys_final\\data\\images\\val\\R01_U04_C10_20220727_001556.jpg: corrupt JPEG restored and saved\n",
      "\u001b[34m\u001b[1mval: \u001b[0mC:\\Users\\helen\\Desktop\\deep_sys_final\\data\\images\\val\\R01_U04_C11_20220727_001613.jpg: corrupt JPEG restored and saved\n",
      "\u001b[34m\u001b[1mval: \u001b[0mC:\\Users\\helen\\Desktop\\deep_sys_final\\data\\images\\val\\R01_U04_C11_20220727_001693.jpg: corrupt JPEG restored and saved\n",
      "\u001b[34m\u001b[1mval: \u001b[0mC:\\Users\\helen\\Desktop\\deep_sys_final\\data\\images\\val\\R01_U04_C11_20220727_001713.jpg: corrupt JPEG restored and saved\n",
      "\u001b[34m\u001b[1mval: \u001b[0mC:\\Users\\helen\\Desktop\\deep_sys_final\\data\\images\\val\\R01_U04_C11_20220727_001742.jpg: corrupt JPEG restored and saved\n",
      "\u001b[34m\u001b[1mval: \u001b[0mC:\\Users\\helen\\Desktop\\deep_sys_final\\data\\images\\val\\R01_U04_C11_20220727_001760.jpg: corrupt JPEG restored and saved\n",
      "\u001b[34m\u001b[1mval: \u001b[0mC:\\Users\\helen\\Desktop\\deep_sys_final\\data\\images\\val\\R01_U04_C11_20220727_001788.jpg: corrupt JPEG restored and saved\n",
      "\u001b[34m\u001b[1mval: \u001b[0mC:\\Users\\helen\\Desktop\\deep_sys_final\\data\\images\\val\\R01_U04_C11_20220727_001793.jpg: corrupt JPEG restored and saved\n",
      "\u001b[34m\u001b[1mval: \u001b[0mC:\\Users\\helen\\Desktop\\deep_sys_final\\data\\images\\val\\R01_U04_C11_20220727_001803.jpg: corrupt JPEG restored and saved\n",
      "\u001b[34m\u001b[1mval: \u001b[0mC:\\Users\\helen\\Desktop\\deep_sys_final\\data\\images\\val\\R01_U04_C11_20220727_001807.jpg: corrupt JPEG restored and saved\n",
      "\u001b[34m\u001b[1mval: \u001b[0mC:\\Users\\helen\\Desktop\\deep_sys_final\\data\\images\\val\\R01_U04_C11_20220727_001809.jpg: corrupt JPEG restored and saved\n",
      "\u001b[34m\u001b[1mval: \u001b[0mC:\\Users\\helen\\Desktop\\deep_sys_final\\data\\images\\val\\R01_U04_C11_20220727_001854.jpg: corrupt JPEG restored and saved\n",
      "\u001b[34m\u001b[1mval: \u001b[0mC:\\Users\\helen\\Desktop\\deep_sys_final\\data\\images\\val\\R01_U04_C11_20220727_002006.jpg: corrupt JPEG restored and saved\n",
      "\u001b[34m\u001b[1mval: \u001b[0mC:\\Users\\helen\\Desktop\\deep_sys_final\\data\\images\\val\\R01_U04_C11_20220727_002026.jpg: corrupt JPEG restored and saved\n",
      "\u001b[34m\u001b[1mval: \u001b[0mC:\\Users\\helen\\Desktop\\deep_sys_final\\data\\images\\val\\R01_U04_C11_20220727_002035.jpg: corrupt JPEG restored and saved\n",
      "\u001b[34m\u001b[1mval: \u001b[0mC:\\Users\\helen\\Desktop\\deep_sys_final\\data\\images\\val\\R01_U04_C11_20220727_002046.jpg: corrupt JPEG restored and saved\n",
      "\u001b[34m\u001b[1mval: \u001b[0mC:\\Users\\helen\\Desktop\\deep_sys_final\\data\\images\\val\\R01_U04_C11_20220727_002054.jpg: corrupt JPEG restored and saved\n",
      "\u001b[34m\u001b[1mval: \u001b[0mC:\\Users\\helen\\Desktop\\deep_sys_final\\data\\images\\val\\R01_U04_C11_20220727_002063.jpg: corrupt JPEG restored and saved\n",
      "\u001b[34m\u001b[1mval: \u001b[0mC:\\Users\\helen\\Desktop\\deep_sys_final\\data\\images\\val\\R01_U05_C09_20220728_003813.jpg: corrupt JPEG restored and saved\n",
      "\u001b[34m\u001b[1mval: \u001b[0mC:\\Users\\helen\\Desktop\\deep_sys_final\\data\\images\\val\\R01_U05_C09_20220728_003841.jpg: corrupt JPEG restored and saved\n",
      "\u001b[34m\u001b[1mval: \u001b[0mC:\\Users\\helen\\Desktop\\deep_sys_final\\data\\images\\val\\R01_U05_C09_20220728_003843.jpg: corrupt JPEG restored and saved\n",
      "\u001b[34m\u001b[1mval: \u001b[0mC:\\Users\\helen\\Desktop\\deep_sys_final\\data\\images\\val\\R01_U05_C09_20220728_003848.jpg: corrupt JPEG restored and saved\n",
      "\u001b[34m\u001b[1mval: \u001b[0mC:\\Users\\helen\\Desktop\\deep_sys_final\\data\\images\\val\\R01_U05_C09_20220728_003863.jpg: corrupt JPEG restored and saved\n",
      "\u001b[34m\u001b[1mval: \u001b[0mC:\\Users\\helen\\Desktop\\deep_sys_final\\data\\images\\val\\R01_U05_C09_20220728_003864.jpg: corrupt JPEG restored and saved\n",
      "\u001b[34m\u001b[1mval: \u001b[0mC:\\Users\\helen\\Desktop\\deep_sys_final\\data\\images\\val\\R01_U05_C09_20220728_003867.jpg: corrupt JPEG restored and saved\n",
      "\u001b[34m\u001b[1mval: \u001b[0mC:\\Users\\helen\\Desktop\\deep_sys_final\\data\\images\\val\\R01_U05_C09_20220728_003872.jpg: corrupt JPEG restored and saved\n",
      "\u001b[34m\u001b[1mval: \u001b[0mC:\\Users\\helen\\Desktop\\deep_sys_final\\data\\images\\val\\R01_U05_C09_20220728_003874.jpg: corrupt JPEG restored and saved\n",
      "\u001b[34m\u001b[1mval: \u001b[0mC:\\Users\\helen\\Desktop\\deep_sys_final\\data\\images\\val\\R01_U05_C09_20220728_003892.jpg: corrupt JPEG restored and saved\n",
      "\u001b[34m\u001b[1mval: \u001b[0mC:\\Users\\helen\\Desktop\\deep_sys_final\\data\\images\\val\\R01_U05_C09_20220728_003904.jpg: corrupt JPEG restored and saved\n",
      "\u001b[34m\u001b[1mval: \u001b[0mC:\\Users\\helen\\Desktop\\deep_sys_final\\data\\images\\val\\R01_U05_C09_20220728_003910.jpg: corrupt JPEG restored and saved\n",
      "\u001b[34m\u001b[1mval: \u001b[0mC:\\Users\\helen\\Desktop\\deep_sys_final\\data\\images\\val\\R01_U05_C09_20220728_003915.jpg: corrupt JPEG restored and saved\n",
      "\u001b[34m\u001b[1mval: \u001b[0mC:\\Users\\helen\\Desktop\\deep_sys_final\\data\\images\\val\\R01_U05_C09_20220728_003952.jpg: corrupt JPEG restored and saved\n",
      "\u001b[34m\u001b[1mval: \u001b[0mC:\\Users\\helen\\Desktop\\deep_sys_final\\data\\images\\val\\R01_U05_C09_20220728_003959.jpg: corrupt JPEG restored and saved\n",
      "\u001b[34m\u001b[1mval: \u001b[0mC:\\Users\\helen\\Desktop\\deep_sys_final\\data\\images\\val\\R01_U05_C09_20220728_003962.jpg: corrupt JPEG restored and saved\n",
      "\u001b[34m\u001b[1mval: \u001b[0mC:\\Users\\helen\\Desktop\\deep_sys_final\\data\\images\\val\\R01_U05_C09_20220728_003979.jpg: corrupt JPEG restored and saved\n",
      "\u001b[34m\u001b[1mval: \u001b[0mC:\\Users\\helen\\Desktop\\deep_sys_final\\data\\images\\val\\R01_U05_C09_20220728_003988.jpg: corrupt JPEG restored and saved\n",
      "\u001b[34m\u001b[1mval: \u001b[0mC:\\Users\\helen\\Desktop\\deep_sys_final\\data\\images\\val\\R01_U05_C09_20220728_003996.jpg: corrupt JPEG restored and saved\n",
      "\u001b[34m\u001b[1mval: \u001b[0mC:\\Users\\helen\\Desktop\\deep_sys_final\\data\\images\\val\\R01_U05_C09_20220728_004000.jpg: corrupt JPEG restored and saved\n",
      "\u001b[34m\u001b[1mval: \u001b[0mC:\\Users\\helen\\Desktop\\deep_sys_final\\data\\images\\val\\R01_U05_C09_20220728_004005.jpg: corrupt JPEG restored and saved\n",
      "\u001b[34m\u001b[1mval: \u001b[0mC:\\Users\\helen\\Desktop\\deep_sys_final\\data\\images\\val\\R01_U05_C09_20220728_004027.jpg: corrupt JPEG restored and saved\n",
      "\u001b[34m\u001b[1mval: \u001b[0mC:\\Users\\helen\\Desktop\\deep_sys_final\\data\\images\\val\\R01_U05_C09_20220728_004030.jpg: corrupt JPEG restored and saved\n",
      "\u001b[34m\u001b[1mval: \u001b[0mC:\\Users\\helen\\Desktop\\deep_sys_final\\data\\images\\val\\R01_U05_C09_20220728_004037.jpg: corrupt JPEG restored and saved\n",
      "\u001b[34m\u001b[1mval: \u001b[0mC:\\Users\\helen\\Desktop\\deep_sys_final\\data\\images\\val\\R01_U05_C09_20220728_004042.jpg: corrupt JPEG restored and saved\n",
      "\u001b[34m\u001b[1mval: \u001b[0mC:\\Users\\helen\\Desktop\\deep_sys_final\\data\\images\\val\\R01_U05_C09_20220728_004048.jpg: corrupt JPEG restored and saved\n",
      "\u001b[34m\u001b[1mval: \u001b[0mC:\\Users\\helen\\Desktop\\deep_sys_final\\data\\images\\val\\R01_U05_C09_20220728_004050.jpg: corrupt JPEG restored and saved\n",
      "\u001b[34m\u001b[1mval: \u001b[0mC:\\Users\\helen\\Desktop\\deep_sys_final\\data\\images\\val\\R01_U05_C09_20220728_004079.jpg: corrupt JPEG restored and saved\n",
      "\u001b[34m\u001b[1mval: \u001b[0mC:\\Users\\helen\\Desktop\\deep_sys_final\\data\\images\\val\\R01_U05_C09_20220728_004083.jpg: corrupt JPEG restored and saved\n",
      "\u001b[34m\u001b[1mval: \u001b[0mC:\\Users\\helen\\Desktop\\deep_sys_final\\data\\images\\val\\R01_U05_C09_20220728_004084.jpg: corrupt JPEG restored and saved\n",
      "\u001b[34m\u001b[1mval: \u001b[0mC:\\Users\\helen\\Desktop\\deep_sys_final\\data\\images\\val\\R01_U05_C09_20220728_004086.jpg: corrupt JPEG restored and saved\n",
      "\u001b[34m\u001b[1mval: \u001b[0mC:\\Users\\helen\\Desktop\\deep_sys_final\\data\\images\\val\\R01_U05_C09_20220728_004124.jpg: corrupt JPEG restored and saved\n",
      "\u001b[34m\u001b[1mval: \u001b[0mC:\\Users\\helen\\Desktop\\deep_sys_final\\data\\images\\val\\R01_U05_C09_20220728_004140.jpg: corrupt JPEG restored and saved\n",
      "\u001b[34m\u001b[1mval: \u001b[0mC:\\Users\\helen\\Desktop\\deep_sys_final\\data\\images\\val\\R01_U05_C09_20220728_004159.jpg: corrupt JPEG restored and saved\n",
      "\u001b[34m\u001b[1mval: \u001b[0mC:\\Users\\helen\\Desktop\\deep_sys_final\\data\\images\\val\\R01_U05_C09_20220728_004180.jpg: corrupt JPEG restored and saved\n",
      "\u001b[34m\u001b[1mval: \u001b[0mC:\\Users\\helen\\Desktop\\deep_sys_final\\data\\images\\val\\R01_U05_C09_20220728_004189.jpg: corrupt JPEG restored and saved\n",
      "\u001b[34m\u001b[1mval: \u001b[0mC:\\Users\\helen\\Desktop\\deep_sys_final\\data\\images\\val\\R01_U05_C09_20220728_004201.jpg: corrupt JPEG restored and saved\n",
      "\u001b[34m\u001b[1mval: \u001b[0mC:\\Users\\helen\\Desktop\\deep_sys_final\\data\\images\\val\\R01_U05_C09_20220728_004218.jpg: corrupt JPEG restored and saved\n",
      "\u001b[34m\u001b[1mval: \u001b[0mC:\\Users\\helen\\Desktop\\deep_sys_final\\data\\images\\val\\R01_U05_C09_20220728_004487.jpg: corrupt JPEG restored and saved\n",
      "\u001b[34m\u001b[1mval: \u001b[0mC:\\Users\\helen\\Desktop\\deep_sys_final\\data\\images\\val\\R01_U05_C09_20220728_004495.jpg: corrupt JPEG restored and saved\n",
      "\u001b[34m\u001b[1mval: \u001b[0mC:\\Users\\helen\\Desktop\\deep_sys_final\\data\\images\\val\\R01_U05_C09_20220728_004499.jpg: corrupt JPEG restored and saved\n",
      "\u001b[34m\u001b[1mval: \u001b[0mC:\\Users\\helen\\Desktop\\deep_sys_final\\data\\images\\val\\R01_U05_C09_20220728_004506.jpg: corrupt JPEG restored and saved\n",
      "\u001b[34m\u001b[1mval: \u001b[0mC:\\Users\\helen\\Desktop\\deep_sys_final\\data\\images\\val\\R01_U05_C09_20220728_004519.jpg: corrupt JPEG restored and saved\n",
      "\u001b[34m\u001b[1mval: \u001b[0mC:\\Users\\helen\\Desktop\\deep_sys_final\\data\\images\\val\\R01_U05_C09_20220728_004528.jpg: corrupt JPEG restored and saved\n",
      "\u001b[34m\u001b[1mval: \u001b[0mC:\\Users\\helen\\Desktop\\deep_sys_final\\data\\images\\val\\R01_U05_C09_20220728_004537.jpg: corrupt JPEG restored and saved\n",
      "\u001b[34m\u001b[1mval: \u001b[0mC:\\Users\\helen\\Desktop\\deep_sys_final\\data\\images\\val\\R01_U05_C09_20220728_004593.jpg: corrupt JPEG restored and saved\n",
      "\u001b[34m\u001b[1mval: \u001b[0mC:\\Users\\helen\\Desktop\\deep_sys_final\\data\\images\\val\\R01_U05_C09_20220728_004599.jpg: corrupt JPEG restored and saved\n",
      "\u001b[34m\u001b[1mval: \u001b[0mC:\\Users\\helen\\Desktop\\deep_sys_final\\data\\images\\val\\R01_U05_C09_20220728_004610.jpg: corrupt JPEG restored and saved\n",
      "\u001b[34m\u001b[1mval: \u001b[0mC:\\Users\\helen\\Desktop\\deep_sys_final\\data\\images\\val\\R01_U05_C09_20220728_004621.jpg: corrupt JPEG restored and saved\n",
      "\u001b[34m\u001b[1mval: \u001b[0mC:\\Users\\helen\\Desktop\\deep_sys_final\\data\\images\\val\\R01_U05_C09_20220728_004634.jpg: corrupt JPEG restored and saved\n",
      "\u001b[34m\u001b[1mval: \u001b[0mC:\\Users\\helen\\Desktop\\deep_sys_final\\data\\images\\val\\R01_U05_C09_20220728_004659.jpg: corrupt JPEG restored and saved\n",
      "\u001b[34m\u001b[1mval: \u001b[0mC:\\Users\\helen\\Desktop\\deep_sys_final\\data\\images\\val\\R01_U05_C09_20220728_004661.jpg: corrupt JPEG restored and saved\n",
      "\u001b[34m\u001b[1mval: \u001b[0mC:\\Users\\helen\\Desktop\\deep_sys_final\\data\\images\\val\\R01_U05_C09_20220728_004679.jpg: corrupt JPEG restored and saved\n",
      "\u001b[34m\u001b[1mval: \u001b[0mC:\\Users\\helen\\Desktop\\deep_sys_final\\data\\images\\val\\R01_U05_C09_20220728_004684.jpg: corrupt JPEG restored and saved\n",
      "\u001b[34m\u001b[1mval: \u001b[0mC:\\Users\\helen\\Desktop\\deep_sys_final\\data\\images\\val\\R01_U05_C09_20220728_004686.jpg: corrupt JPEG restored and saved\n",
      "\u001b[34m\u001b[1mval: \u001b[0mC:\\Users\\helen\\Desktop\\deep_sys_final\\data\\images\\val\\R01_U05_C09_20220728_004688.jpg: corrupt JPEG restored and saved\n",
      "\u001b[34m\u001b[1mval: \u001b[0mC:\\Users\\helen\\Desktop\\deep_sys_final\\data\\images\\val\\R01_U05_C09_20220728_004689.jpg: corrupt JPEG restored and saved\n",
      "\u001b[34m\u001b[1mval: \u001b[0mC:\\Users\\helen\\Desktop\\deep_sys_final\\data\\images\\val\\R01_U05_C09_20220728_004690.jpg: corrupt JPEG restored and saved\n",
      "\u001b[34m\u001b[1mval: \u001b[0mC:\\Users\\helen\\Desktop\\deep_sys_final\\data\\images\\val\\R01_U05_C09_20220728_004693.jpg: corrupt JPEG restored and saved\n",
      "\u001b[34m\u001b[1mval: \u001b[0mC:\\Users\\helen\\Desktop\\deep_sys_final\\data\\images\\val\\R01_U05_C09_20220728_004700.jpg: corrupt JPEG restored and saved\n",
      "\u001b[34m\u001b[1mval: \u001b[0mC:\\Users\\helen\\Desktop\\deep_sys_final\\data\\images\\val\\R01_U05_C09_20220728_004720.jpg: corrupt JPEG restored and saved\n",
      "\u001b[34m\u001b[1mval: \u001b[0mC:\\Users\\helen\\Desktop\\deep_sys_final\\data\\images\\val\\R01_U05_C09_20220728_004722.jpg: corrupt JPEG restored and saved\n",
      "\u001b[34m\u001b[1mval: \u001b[0mC:\\Users\\helen\\Desktop\\deep_sys_final\\data\\images\\val\\R01_U05_C09_20220728_004731.jpg: corrupt JPEG restored and saved\n",
      "\u001b[34m\u001b[1mval: \u001b[0mC:\\Users\\helen\\Desktop\\deep_sys_final\\data\\images\\val\\R01_U05_C09_20220728_004779.jpg: corrupt JPEG restored and saved\n",
      "\u001b[34m\u001b[1mval: \u001b[0mC:\\Users\\helen\\Desktop\\deep_sys_final\\data\\images\\val\\R01_U05_C09_20220728_004804.jpg: corrupt JPEG restored and saved\n",
      "\u001b[34m\u001b[1mval: \u001b[0mC:\\Users\\helen\\Desktop\\deep_sys_final\\data\\images\\val\\R01_U05_C09_20220728_004813.jpg: corrupt JPEG restored and saved\n",
      "\u001b[34m\u001b[1mval: \u001b[0mC:\\Users\\helen\\Desktop\\deep_sys_final\\data\\images\\val\\R01_U05_C09_20220728_004824.jpg: corrupt JPEG restored and saved\n",
      "\u001b[34m\u001b[1mval: \u001b[0mC:\\Users\\helen\\Desktop\\deep_sys_final\\data\\images\\val\\R01_U05_C09_20220728_004854.jpg: corrupt JPEG restored and saved\n",
      "\u001b[34m\u001b[1mval: \u001b[0mC:\\Users\\helen\\Desktop\\deep_sys_final\\data\\images\\val\\R01_U05_C09_20220728_004859.jpg: corrupt JPEG restored and saved\n",
      "\u001b[34m\u001b[1mval: \u001b[0mC:\\Users\\helen\\Desktop\\deep_sys_final\\data\\images\\val\\R01_U05_C09_20220728_004866.jpg: corrupt JPEG restored and saved\n",
      "\u001b[34m\u001b[1mval: \u001b[0mC:\\Users\\helen\\Desktop\\deep_sys_final\\data\\images\\val\\R01_U05_C09_20220728_004875.jpg: corrupt JPEG restored and saved\n",
      "\u001b[34m\u001b[1mval: \u001b[0mC:\\Users\\helen\\Desktop\\deep_sys_final\\data\\images\\val\\R01_U05_C09_20220728_004880.jpg: corrupt JPEG restored and saved\n",
      "\u001b[34m\u001b[1mval: \u001b[0mC:\\Users\\helen\\Desktop\\deep_sys_final\\data\\images\\val\\R01_U05_C09_20220728_004902.jpg: corrupt JPEG restored and saved\n",
      "\u001b[34m\u001b[1mval: \u001b[0mC:\\Users\\helen\\Desktop\\deep_sys_final\\data\\images\\val\\R01_U05_C09_20220728_004914.jpg: corrupt JPEG restored and saved\n",
      "\u001b[34m\u001b[1mval: \u001b[0mC:\\Users\\helen\\Desktop\\deep_sys_final\\data\\images\\val\\R01_U05_C09_20220728_004950.jpg: corrupt JPEG restored and saved\n",
      "\u001b[34m\u001b[1mval: \u001b[0mC:\\Users\\helen\\Desktop\\deep_sys_final\\data\\images\\val\\R01_U05_C09_20220728_004965.jpg: corrupt JPEG restored and saved\n",
      "\u001b[34m\u001b[1mval: \u001b[0mC:\\Users\\helen\\Desktop\\deep_sys_final\\data\\images\\val\\R01_U05_C09_20220728_004972.jpg: corrupt JPEG restored and saved\n",
      "\u001b[34m\u001b[1mval: \u001b[0mC:\\Users\\helen\\Desktop\\deep_sys_final\\data\\images\\val\\R01_U05_C09_20220728_004984.jpg: corrupt JPEG restored and saved\n",
      "\u001b[34m\u001b[1mval: \u001b[0mC:\\Users\\helen\\Desktop\\deep_sys_final\\data\\images\\val\\R01_U05_C09_20220728_005045.jpg: corrupt JPEG restored and saved\n",
      "\u001b[34m\u001b[1mval: \u001b[0mC:\\Users\\helen\\Desktop\\deep_sys_final\\data\\images\\val\\R01_U05_C09_20220728_005046.jpg: corrupt JPEG restored and saved\n",
      "\u001b[34m\u001b[1mval: \u001b[0mC:\\Users\\helen\\Desktop\\deep_sys_final\\data\\images\\val\\R01_U05_C09_20220728_005064.jpg: corrupt JPEG restored and saved\n",
      "\u001b[34m\u001b[1mval: \u001b[0mC:\\Users\\helen\\Desktop\\deep_sys_final\\data\\images\\val\\R01_U05_C09_20220728_005066.jpg: corrupt JPEG restored and saved\n",
      "\u001b[34m\u001b[1mval: \u001b[0mC:\\Users\\helen\\Desktop\\deep_sys_final\\data\\images\\val\\R01_U05_C09_20220728_005067.jpg: corrupt JPEG restored and saved\n",
      "\u001b[34m\u001b[1mval: \u001b[0mC:\\Users\\helen\\Desktop\\deep_sys_final\\data\\images\\val\\R01_U05_C09_20220728_005069.jpg: corrupt JPEG restored and saved\n",
      "\u001b[34m\u001b[1mval: \u001b[0mC:\\Users\\helen\\Desktop\\deep_sys_final\\data\\images\\val\\R01_U05_C09_20220728_005078.jpg: corrupt JPEG restored and saved\n",
      "\u001b[34m\u001b[1mval: \u001b[0mC:\\Users\\helen\\Desktop\\deep_sys_final\\data\\images\\val\\R01_U05_C09_20220728_005079.jpg: corrupt JPEG restored and saved\n",
      "\u001b[34m\u001b[1mval: \u001b[0mC:\\Users\\helen\\Desktop\\deep_sys_final\\data\\images\\val\\R01_U05_C09_20220728_005094.jpg: corrupt JPEG restored and saved\n",
      "\u001b[34m\u001b[1mval: \u001b[0mC:\\Users\\helen\\Desktop\\deep_sys_final\\data\\images\\val\\R01_U05_C09_20220728_005101.jpg: corrupt JPEG restored and saved\n",
      "\u001b[34m\u001b[1mval: \u001b[0mC:\\Users\\helen\\Desktop\\deep_sys_final\\data\\images\\val\\R01_U05_C09_20220728_005103.jpg: corrupt JPEG restored and saved\n",
      "\u001b[34m\u001b[1mval: \u001b[0mC:\\Users\\helen\\Desktop\\deep_sys_final\\data\\images\\val\\R01_U05_C09_20220728_005107.jpg: corrupt JPEG restored and saved\n",
      "\u001b[34m\u001b[1mval: \u001b[0mC:\\Users\\helen\\Desktop\\deep_sys_final\\data\\images\\val\\R01_U05_C09_20220728_005110.jpg: corrupt JPEG restored and saved\n",
      "\u001b[34m\u001b[1mval: \u001b[0mC:\\Users\\helen\\Desktop\\deep_sys_final\\data\\images\\val\\R01_U05_C09_20220728_005117.jpg: corrupt JPEG restored and saved\n",
      "\u001b[34m\u001b[1mval: \u001b[0mC:\\Users\\helen\\Desktop\\deep_sys_final\\data\\images\\val\\R01_U05_C09_20220728_005122.jpg: corrupt JPEG restored and saved\n",
      "\u001b[34m\u001b[1mval: \u001b[0mC:\\Users\\helen\\Desktop\\deep_sys_final\\data\\images\\val\\R01_U05_C09_20220728_005123.jpg: corrupt JPEG restored and saved\n",
      "\u001b[34m\u001b[1mval: \u001b[0mC:\\Users\\helen\\Desktop\\deep_sys_final\\data\\images\\val\\R01_U05_C09_20220728_005176.jpg: corrupt JPEG restored and saved\n",
      "\u001b[34m\u001b[1mval: \u001b[0mC:\\Users\\helen\\Desktop\\deep_sys_final\\data\\images\\val\\R01_U05_C09_20220728_005177.jpg: corrupt JPEG restored and saved\n",
      "\u001b[34m\u001b[1mval: \u001b[0mC:\\Users\\helen\\Desktop\\deep_sys_final\\data\\images\\val\\R01_U05_C09_20220728_005181.jpg: corrupt JPEG restored and saved\n",
      "\u001b[34m\u001b[1mval: \u001b[0mC:\\Users\\helen\\Desktop\\deep_sys_final\\data\\images\\val\\R01_U05_C09_20220728_005195.jpg: corrupt JPEG restored and saved\n",
      "\u001b[34m\u001b[1mval: \u001b[0mC:\\Users\\helen\\Desktop\\deep_sys_final\\data\\images\\val\\R01_U05_C09_20220728_005197.jpg: corrupt JPEG restored and saved\n",
      "\u001b[34m\u001b[1mval: \u001b[0mC:\\Users\\helen\\Desktop\\deep_sys_final\\data\\images\\val\\R01_U05_C09_20220728_005219.jpg: corrupt JPEG restored and saved\n",
      "\u001b[34m\u001b[1mval: \u001b[0mC:\\Users\\helen\\Desktop\\deep_sys_final\\data\\images\\val\\R01_U05_C09_20220728_005225.jpg: corrupt JPEG restored and saved\n",
      "\u001b[34m\u001b[1mval: \u001b[0mC:\\Users\\helen\\Desktop\\deep_sys_final\\data\\images\\val\\R01_U05_C09_20220728_005251.jpg: corrupt JPEG restored and saved\n",
      "\u001b[34m\u001b[1mval: \u001b[0mC:\\Users\\helen\\Desktop\\deep_sys_final\\data\\images\\val\\R01_U05_C09_20220728_005254.jpg: corrupt JPEG restored and saved\n",
      "\u001b[34m\u001b[1mval: \u001b[0mC:\\Users\\helen\\Desktop\\deep_sys_final\\data\\images\\val\\R01_U05_C09_20220728_005259.jpg: corrupt JPEG restored and saved\n",
      "\u001b[34m\u001b[1mval: \u001b[0mC:\\Users\\helen\\Desktop\\deep_sys_final\\data\\images\\val\\R01_U05_C09_20220728_005283.jpg: corrupt JPEG restored and saved\n",
      "\u001b[34m\u001b[1mval: \u001b[0mC:\\Users\\helen\\Desktop\\deep_sys_final\\data\\images\\val\\R01_U05_C09_20220728_005291.jpg: corrupt JPEG restored and saved\n",
      "\u001b[34m\u001b[1mval: \u001b[0mC:\\Users\\helen\\Desktop\\deep_sys_final\\data\\images\\val\\R01_U05_C09_20220728_005295.jpg: corrupt JPEG restored and saved\n",
      "\u001b[34m\u001b[1mval: \u001b[0mC:\\Users\\helen\\Desktop\\deep_sys_final\\data\\images\\val\\R01_U05_C09_20220728_005311.jpg: corrupt JPEG restored and saved\n",
      "\u001b[34m\u001b[1mval: \u001b[0mC:\\Users\\helen\\Desktop\\deep_sys_final\\data\\images\\val\\R01_U05_C09_20220728_005321.jpg: corrupt JPEG restored and saved\n",
      "\u001b[34m\u001b[1mval: \u001b[0mC:\\Users\\helen\\Desktop\\deep_sys_final\\data\\images\\val\\R01_U05_C09_20220728_005336.jpg: corrupt JPEG restored and saved\n",
      "\u001b[34m\u001b[1mval: \u001b[0mC:\\Users\\helen\\Desktop\\deep_sys_final\\data\\images\\val\\R01_U05_C09_20220728_005352.jpg: corrupt JPEG restored and saved\n",
      "\u001b[34m\u001b[1mval: \u001b[0mC:\\Users\\helen\\Desktop\\deep_sys_final\\data\\images\\val\\R01_U05_C09_20220728_005376.jpg: corrupt JPEG restored and saved\n",
      "\u001b[34m\u001b[1mval: \u001b[0mC:\\Users\\helen\\Desktop\\deep_sys_final\\data\\images\\val\\R01_U05_C09_20220728_005381.jpg: corrupt JPEG restored and saved\n",
      "\u001b[34m\u001b[1mval: \u001b[0mC:\\Users\\helen\\Desktop\\deep_sys_final\\data\\images\\val\\R01_U05_C09_20220728_005392.jpg: corrupt JPEG restored and saved\n",
      "\u001b[34m\u001b[1mval: \u001b[0mC:\\Users\\helen\\Desktop\\deep_sys_final\\data\\images\\val\\R01_U05_C09_20220728_005396.jpg: corrupt JPEG restored and saved\n",
      "\u001b[34m\u001b[1mval: \u001b[0mC:\\Users\\helen\\Desktop\\deep_sys_final\\data\\images\\val\\R01_U05_C09_20220728_005400.jpg: corrupt JPEG restored and saved\n",
      "\u001b[34m\u001b[1mval: \u001b[0mC:\\Users\\helen\\Desktop\\deep_sys_final\\data\\images\\val\\R01_U05_C09_20220728_005404.jpg: corrupt JPEG restored and saved\n",
      "\u001b[34m\u001b[1mval: \u001b[0mC:\\Users\\helen\\Desktop\\deep_sys_final\\data\\images\\val\\R01_U05_C09_20220728_005406.jpg: corrupt JPEG restored and saved\n",
      "\u001b[34m\u001b[1mval: \u001b[0mC:\\Users\\helen\\Desktop\\deep_sys_final\\data\\images\\val\\R01_U05_C09_20220728_005411.jpg: corrupt JPEG restored and saved\n",
      "\u001b[34m\u001b[1mval: \u001b[0mC:\\Users\\helen\\Desktop\\deep_sys_final\\data\\images\\val\\R01_U05_C09_20220728_005446.jpg: corrupt JPEG restored and saved\n",
      "\u001b[34m\u001b[1mval: \u001b[0mC:\\Users\\helen\\Desktop\\deep_sys_final\\data\\images\\val\\R01_U05_C09_20220728_005452.jpg: corrupt JPEG restored and saved\n",
      "\u001b[34m\u001b[1mval: \u001b[0mC:\\Users\\helen\\Desktop\\deep_sys_final\\data\\images\\val\\R01_U06_C13_20220727_006360.jpg: corrupt JPEG restored and saved\n",
      "\u001b[34m\u001b[1mval: \u001b[0mC:\\Users\\helen\\Desktop\\deep_sys_final\\data\\images\\val\\R01_U06_C13_20220727_006361.jpg: corrupt JPEG restored and saved\n",
      "\u001b[34m\u001b[1mval: \u001b[0mC:\\Users\\helen\\Desktop\\deep_sys_final\\data\\images\\val\\R01_U06_C13_20220727_006364.jpg: corrupt JPEG restored and saved\n",
      "\u001b[34m\u001b[1mval: \u001b[0mC:\\Users\\helen\\Desktop\\deep_sys_final\\data\\images\\val\\R01_U06_C13_20220727_006366.jpg: corrupt JPEG restored and saved\n",
      "\u001b[34m\u001b[1mval: \u001b[0mC:\\Users\\helen\\Desktop\\deep_sys_final\\data\\images\\val\\R01_U06_C13_20220727_006375.jpg: corrupt JPEG restored and saved\n",
      "\u001b[34m\u001b[1mval: \u001b[0mC:\\Users\\helen\\Desktop\\deep_sys_final\\data\\images\\val\\R01_U06_C13_20220727_006437.jpg: corrupt JPEG restored and saved\n",
      "\u001b[34m\u001b[1mval: \u001b[0mC:\\Users\\helen\\Desktop\\deep_sys_final\\data\\images\\val\\R01_U06_C13_20220727_006443.jpg: corrupt JPEG restored and saved\n",
      "\u001b[34m\u001b[1mval: \u001b[0mC:\\Users\\helen\\Desktop\\deep_sys_final\\data\\images\\val\\R01_U06_C13_20220727_006461.jpg: corrupt JPEG restored and saved\n",
      "\u001b[34m\u001b[1mval: \u001b[0mC:\\Users\\helen\\Desktop\\deep_sys_final\\data\\images\\val\\R01_U06_C13_20220727_006475.jpg: corrupt JPEG restored and saved\n",
      "\u001b[34m\u001b[1mval: \u001b[0mC:\\Users\\helen\\Desktop\\deep_sys_final\\data\\images\\val\\R01_U06_C13_20220727_006496.jpg: corrupt JPEG restored and saved\n",
      "\u001b[34m\u001b[1mval: \u001b[0mC:\\Users\\helen\\Desktop\\deep_sys_final\\data\\images\\val\\R01_U06_C13_20220727_006503.jpg: corrupt JPEG restored and saved\n",
      "\u001b[34m\u001b[1mval: \u001b[0mC:\\Users\\helen\\Desktop\\deep_sys_final\\data\\images\\val\\R01_U06_C13_20220727_006505.jpg: corrupt JPEG restored and saved\n",
      "\u001b[34m\u001b[1mval: \u001b[0mC:\\Users\\helen\\Desktop\\deep_sys_final\\data\\images\\val\\R01_U06_C13_20220727_006536.jpg: corrupt JPEG restored and saved\n",
      "\u001b[34m\u001b[1mval: \u001b[0mC:\\Users\\helen\\Desktop\\deep_sys_final\\data\\images\\val\\R01_U06_C13_20220727_006537.jpg: corrupt JPEG restored and saved\n",
      "\u001b[34m\u001b[1mval: \u001b[0mC:\\Users\\helen\\Desktop\\deep_sys_final\\data\\images\\val\\R01_U06_C13_20220727_006539.jpg: corrupt JPEG restored and saved\n",
      "\u001b[34m\u001b[1mval: \u001b[0mC:\\Users\\helen\\Desktop\\deep_sys_final\\data\\images\\val\\R01_U06_C13_20220727_006558.jpg: corrupt JPEG restored and saved\n",
      "\u001b[34m\u001b[1mval: \u001b[0mC:\\Users\\helen\\Desktop\\deep_sys_final\\data\\images\\val\\R01_U06_C13_20220727_006597.jpg: corrupt JPEG restored and saved\n",
      "\u001b[34m\u001b[1mval: \u001b[0mC:\\Users\\helen\\Desktop\\deep_sys_final\\data\\images\\val\\R01_U06_C13_20220727_006602.jpg: corrupt JPEG restored and saved\n",
      "\u001b[34m\u001b[1mval: \u001b[0mC:\\Users\\helen\\Desktop\\deep_sys_final\\data\\images\\val\\R01_U06_C13_20220727_006669.jpg: corrupt JPEG restored and saved\n",
      "\u001b[34m\u001b[1mval: \u001b[0mC:\\Users\\helen\\Desktop\\deep_sys_final\\data\\images\\val\\R01_U06_C13_20220727_006677.jpg: corrupt JPEG restored and saved\n",
      "\u001b[34m\u001b[1mval: \u001b[0mC:\\Users\\helen\\Desktop\\deep_sys_final\\data\\images\\val\\R01_U06_C13_20220727_006775.jpg: corrupt JPEG restored and saved\n",
      "\u001b[34m\u001b[1mval: \u001b[0mC:\\Users\\helen\\Desktop\\deep_sys_final\\data\\images\\val\\R01_U06_C13_20220727_006806.jpg: corrupt JPEG restored and saved\n",
      "\u001b[34m\u001b[1mval: \u001b[0mC:\\Users\\helen\\Desktop\\deep_sys_final\\data\\images\\val\\R01_U06_C13_20220727_006817.jpg: corrupt JPEG restored and saved\n",
      "\u001b[34m\u001b[1mval: \u001b[0mC:\\Users\\helen\\Desktop\\deep_sys_final\\data\\images\\val\\R01_U06_C13_20220727_006832.jpg: corrupt JPEG restored and saved\n",
      "\u001b[34m\u001b[1mval: \u001b[0mC:\\Users\\helen\\Desktop\\deep_sys_final\\data\\images\\val\\R01_U06_C13_20220727_006834.jpg: corrupt JPEG restored and saved\n",
      "\u001b[34m\u001b[1mval: \u001b[0mC:\\Users\\helen\\Desktop\\deep_sys_final\\data\\images\\val\\R01_U06_C13_20220727_007218.jpg: corrupt JPEG restored and saved\n",
      "\u001b[34m\u001b[1mval: \u001b[0mC:\\Users\\helen\\Desktop\\deep_sys_final\\data\\images\\val\\R01_U06_C13_20220727_007570.jpg: corrupt JPEG restored and saved\n",
      "\u001b[34m\u001b[1mval: \u001b[0mC:\\Users\\helen\\Desktop\\deep_sys_final\\data\\images\\val\\R01_U06_C13_20220727_007599.jpg: corrupt JPEG restored and saved\n",
      "\u001b[34m\u001b[1mval: \u001b[0mC:\\Users\\helen\\Desktop\\deep_sys_final\\data\\images\\val\\R01_U06_C13_20220727_007680.jpg: corrupt JPEG restored and saved\n",
      "\u001b[34m\u001b[1mval: \u001b[0mC:\\Users\\helen\\Desktop\\deep_sys_final\\data\\images\\val\\R01_U06_C13_20220727_007782.jpg: corrupt JPEG restored and saved\n",
      "\u001b[34m\u001b[1mval: \u001b[0mC:\\Users\\helen\\Desktop\\deep_sys_final\\data\\images\\val\\R01_U06_C13_20220727_007793.jpg: corrupt JPEG restored and saved\n",
      "\u001b[34m\u001b[1mval: \u001b[0mC:\\Users\\helen\\Desktop\\deep_sys_final\\data\\images\\val\\R01_U06_C13_20220727_007846.jpg: corrupt JPEG restored and saved\n",
      "\u001b[34m\u001b[1mval: \u001b[0mC:\\Users\\helen\\Desktop\\deep_sys_final\\data\\images\\val\\R02_U04_C32_20220806_023388.jpg: 1 duplicate labels removed\n"
     ]
    },
    {
     "name": "stderr",
     "output_type": "stream",
     "text": [
      "\n"
     ]
    },
    {
     "name": "stdout",
     "output_type": "stream",
     "text": [
      "Plotting labels to runs\\detect\\train3\\labels.jpg... \n"
     ]
    },
    {
     "name": "stderr",
     "output_type": "stream",
     "text": [
      "c:\\Users\\helen\\anaconda3\\envs\\yolov11\\lib\\site-packages\\ultralytics\\utils\\plotting.py:618: UserWarning: Glyph 51088 (\\N{HANGUL SYLLABLE JA}) missing from font(s) DejaVu Sans.\n",
      "  plt.savefig(fname, dpi=200)\n",
      "c:\\Users\\helen\\anaconda3\\envs\\yolov11\\lib\\site-packages\\ultralytics\\utils\\plotting.py:618: UserWarning: Glyph 46041 (\\N{HANGUL SYLLABLE DONG}) missing from font(s) DejaVu Sans.\n",
      "  plt.savefig(fname, dpi=200)\n",
      "c:\\Users\\helen\\anaconda3\\envs\\yolov11\\lib\\site-packages\\ultralytics\\utils\\plotting.py:618: UserWarning: Glyph 52264 (\\N{HANGUL SYLLABLE CA}) missing from font(s) DejaVu Sans.\n",
      "  plt.savefig(fname, dpi=200)\n",
      "c:\\Users\\helen\\anaconda3\\envs\\yolov11\\lib\\site-packages\\ultralytics\\utils\\plotting.py:618: UserWarning: Glyph 48520 (\\N{HANGUL SYLLABLE BUL}) missing from font(s) DejaVu Sans.\n",
      "  plt.savefig(fname, dpi=200)\n",
      "c:\\Users\\helen\\anaconda3\\envs\\yolov11\\lib\\site-packages\\ultralytics\\utils\\plotting.py:618: UserWarning: Glyph 48277 (\\N{HANGUL SYLLABLE BEOB}) missing from font(s) DejaVu Sans.\n",
      "  plt.savefig(fname, dpi=200)\n",
      "c:\\Users\\helen\\anaconda3\\envs\\yolov11\\lib\\site-packages\\ultralytics\\utils\\plotting.py:618: UserWarning: Glyph 51452 (\\N{HANGUL SYLLABLE JU}) missing from font(s) DejaVu Sans.\n",
      "  plt.savefig(fname, dpi=200)\n",
      "c:\\Users\\helen\\anaconda3\\envs\\yolov11\\lib\\site-packages\\ultralytics\\utils\\plotting.py:618: UserWarning: Glyph 51221 (\\N{HANGUL SYLLABLE JEONG}) missing from font(s) DejaVu Sans.\n",
      "  plt.savefig(fname, dpi=200)\n",
      "c:\\Users\\helen\\anaconda3\\envs\\yolov11\\lib\\site-packages\\ultralytics\\utils\\plotting.py:618: UserWarning: Glyph 48372 (\\N{HANGUL SYLLABLE BO}) missing from font(s) DejaVu Sans.\n",
      "  plt.savefig(fname, dpi=200)\n",
      "c:\\Users\\helen\\anaconda3\\envs\\yolov11\\lib\\site-packages\\ultralytics\\utils\\plotting.py:618: UserWarning: Glyph 54665 (\\N{HANGUL SYLLABLE HAENG}) missing from font(s) DejaVu Sans.\n",
      "  plt.savefig(fname, dpi=200)\n",
      "c:\\Users\\helen\\anaconda3\\envs\\yolov11\\lib\\site-packages\\ultralytics\\utils\\plotting.py:618: UserWarning: Glyph 50976 (\\N{HANGUL SYLLABLE YU}) missing from font(s) DejaVu Sans.\n",
      "  plt.savefig(fname, dpi=200)\n",
      "c:\\Users\\helen\\anaconda3\\envs\\yolov11\\lib\\site-packages\\ultralytics\\utils\\plotting.py:618: UserWarning: Glyph 47784 (\\N{HANGUL SYLLABLE MO}) missing from font(s) DejaVu Sans.\n",
      "  plt.savefig(fname, dpi=200)\n",
      "c:\\Users\\helen\\anaconda3\\envs\\yolov11\\lib\\site-packages\\ultralytics\\utils\\plotting.py:618: UserWarning: Glyph 51204 (\\N{HANGUL SYLLABLE JEON}) missing from font(s) DejaVu Sans.\n",
      "  plt.savefig(fname, dpi=200)\n",
      "c:\\Users\\helen\\anaconda3\\envs\\yolov11\\lib\\site-packages\\ultralytics\\utils\\plotting.py:618: UserWarning: Glyph 53413 (\\N{HANGUL SYLLABLE KIG}) missing from font(s) DejaVu Sans.\n",
      "  plt.savefig(fname, dpi=200)\n",
      "c:\\Users\\helen\\anaconda3\\envs\\yolov11\\lib\\site-packages\\ultralytics\\utils\\plotting.py:618: UserWarning: Glyph 46300 (\\N{HANGUL SYLLABLE DEU}) missing from font(s) DejaVu Sans.\n",
      "  plt.savefig(fname, dpi=200)\n",
      "c:\\Users\\helen\\anaconda3\\envs\\yolov11\\lib\\site-packages\\ultralytics\\utils\\plotting.py:618: UserWarning: Glyph 44144 (\\N{HANGUL SYLLABLE GEO}) missing from font(s) DejaVu Sans.\n",
      "  plt.savefig(fname, dpi=200)\n",
      "c:\\Users\\helen\\anaconda3\\envs\\yolov11\\lib\\site-packages\\ultralytics\\utils\\plotting.py:618: UserWarning: Glyph 50724 (\\N{HANGUL SYLLABLE O}) missing from font(s) DejaVu Sans.\n",
      "  plt.savefig(fname, dpi=200)\n",
      "c:\\Users\\helen\\anaconda3\\envs\\yolov11\\lib\\site-packages\\ultralytics\\utils\\plotting.py:618: UserWarning: Glyph 53664 (\\N{HANGUL SYLLABLE TO}) missing from font(s) DejaVu Sans.\n",
      "  plt.savefig(fname, dpi=200)\n",
      "c:\\Users\\helen\\anaconda3\\envs\\yolov11\\lib\\site-packages\\ultralytics\\utils\\plotting.py:618: UserWarning: Glyph 48148 (\\N{HANGUL SYLLABLE BA}) missing from font(s) DejaVu Sans.\n",
      "  plt.savefig(fname, dpi=200)\n",
      "c:\\Users\\helen\\anaconda3\\envs\\yolov11\\lib\\site-packages\\ultralytics\\utils\\plotting.py:618: UserWarning: Glyph 51060 (\\N{HANGUL SYLLABLE I}) missing from font(s) DejaVu Sans.\n",
      "  plt.savefig(fname, dpi=200)\n",
      "c:\\Users\\helen\\anaconda3\\envs\\yolov11\\lib\\site-packages\\ultralytics\\utils\\plotting.py:618: UserWarning: Glyph 47932 (\\N{HANGUL SYLLABLE MUL}) missing from font(s) DejaVu Sans.\n",
      "  plt.savefig(fname, dpi=200)\n",
      "c:\\Users\\helen\\anaconda3\\envs\\yolov11\\lib\\site-packages\\ultralytics\\utils\\plotting.py:618: UserWarning: Glyph 48380 (\\N{HANGUL SYLLABLE BOL}) missing from font(s) DejaVu Sans.\n",
      "  plt.savefig(fname, dpi=200)\n",
      "c:\\Users\\helen\\anaconda3\\envs\\yolov11\\lib\\site-packages\\ultralytics\\utils\\plotting.py:618: UserWarning: Glyph 46972 (\\N{HANGUL SYLLABLE RA}) missing from font(s) DejaVu Sans.\n",
      "  plt.savefig(fname, dpi=200)\n",
      "c:\\Users\\helen\\anaconda3\\envs\\yolov11\\lib\\site-packages\\ultralytics\\utils\\plotting.py:618: UserWarning: Glyph 48516 (\\N{HANGUL SYLLABLE BUN}) missing from font(s) DejaVu Sans.\n",
      "  plt.savefig(fname, dpi=200)\n",
      "c:\\Users\\helen\\anaconda3\\envs\\yolov11\\lib\\site-packages\\ultralytics\\utils\\plotting.py:618: UserWarning: Glyph 47532 (\\N{HANGUL SYLLABLE RI}) missing from font(s) DejaVu Sans.\n",
      "  plt.savefig(fname, dpi=200)\n",
      "c:\\Users\\helen\\anaconda3\\envs\\yolov11\\lib\\site-packages\\ultralytics\\utils\\plotting.py:618: UserWarning: Glyph 48393 (\\N{HANGUL SYLLABLE BONG}) missing from font(s) DejaVu Sans.\n",
      "  plt.savefig(fname, dpi=200)\n",
      "c:\\Users\\helen\\anaconda3\\envs\\yolov11\\lib\\site-packages\\ultralytics\\utils\\plotting.py:618: UserWarning: Glyph 54364 (\\N{HANGUL SYLLABLE PYO}) missing from font(s) DejaVu Sans.\n",
      "  plt.savefig(fname, dpi=200)\n",
      "c:\\Users\\helen\\anaconda3\\envs\\yolov11\\lib\\site-packages\\ultralytics\\utils\\plotting.py:618: UserWarning: Glyph 51648 (\\N{HANGUL SYLLABLE JI}) missing from font(s) DejaVu Sans.\n",
      "  plt.savefig(fname, dpi=200)\n",
      "c:\\Users\\helen\\anaconda3\\envs\\yolov11\\lib\\site-packages\\ultralytics\\utils\\plotting.py:618: UserWarning: Glyph 54032 (\\N{HANGUL SYLLABLE PAN}) missing from font(s) DejaVu Sans.\n",
      "  plt.savefig(fname, dpi=200)\n",
      "c:\\Users\\helen\\anaconda3\\envs\\yolov11\\lib\\site-packages\\ultralytics\\utils\\plotting.py:618: UserWarning: Glyph 44288 (\\N{HANGUL SYLLABLE GWAN}) missing from font(s) DejaVu Sans.\n",
      "  plt.savefig(fname, dpi=200)\n",
      "c:\\Users\\helen\\anaconda3\\envs\\yolov11\\lib\\site-packages\\ultralytics\\utils\\plotting.py:618: UserWarning: Glyph 45824 (\\N{HANGUL SYLLABLE DAE}) missing from font(s) DejaVu Sans.\n",
      "  plt.savefig(fname, dpi=200)\n",
      "c:\\Users\\helen\\anaconda3\\envs\\yolov11\\lib\\site-packages\\ultralytics\\utils\\plotting.py:618: UserWarning: Glyph 54945 (\\N{HANGUL SYLLABLE HOENG}) missing from font(s) DejaVu Sans.\n",
      "  plt.savefig(fname, dpi=200)\n",
      "c:\\Users\\helen\\anaconda3\\envs\\yolov11\\lib\\site-packages\\ultralytics\\utils\\plotting.py:618: UserWarning: Glyph 45800 (\\N{HANGUL SYLLABLE DAN}) missing from font(s) DejaVu Sans.\n",
      "  plt.savefig(fname, dpi=200)\n",
      "c:\\Users\\helen\\anaconda3\\envs\\yolov11\\lib\\site-packages\\ultralytics\\utils\\plotting.py:618: UserWarning: Glyph 46020 (\\N{HANGUL SYLLABLE DO}) missing from font(s) DejaVu Sans.\n",
      "  plt.savefig(fname, dpi=200)\n",
      "c:\\Users\\helen\\anaconda3\\envs\\yolov11\\lib\\site-packages\\ultralytics\\utils\\plotting.py:618: UserWarning: Glyph 49888 (\\N{HANGUL SYLLABLE SIN}) missing from font(s) DejaVu Sans.\n",
      "  plt.savefig(fname, dpi=200)\n",
      "c:\\Users\\helen\\anaconda3\\envs\\yolov11\\lib\\site-packages\\ultralytics\\utils\\plotting.py:618: UserWarning: Glyph 54840 (\\N{HANGUL SYLLABLE HO}) missing from font(s) DejaVu Sans.\n",
      "  plt.savefig(fname, dpi=200)\n",
      "c:\\Users\\helen\\anaconda3\\envs\\yolov11\\lib\\site-packages\\ultralytics\\utils\\plotting.py:618: UserWarning: Glyph 46321 (\\N{HANGUL SYLLABLE DEUNG}) missing from font(s) DejaVu Sans.\n",
      "  plt.savefig(fname, dpi=200)\n",
      "c:\\Users\\helen\\anaconda3\\envs\\yolov11\\lib\\site-packages\\ultralytics\\utils\\plotting.py:618: UserWarning: Glyph 51020 (\\N{HANGUL SYLLABLE EUM}) missing from font(s) DejaVu Sans.\n",
      "  plt.savefig(fname, dpi=200)\n",
      "c:\\Users\\helen\\anaconda3\\envs\\yolov11\\lib\\site-packages\\ultralytics\\utils\\plotting.py:618: UserWarning: Glyph 49688 (\\N{HANGUL SYLLABLE SU}) missing from font(s) DejaVu Sans.\n",
      "  plt.savefig(fname, dpi=200)\n",
      "c:\\Users\\helen\\anaconda3\\envs\\yolov11\\lib\\site-packages\\ultralytics\\utils\\plotting.py:618: UserWarning: Glyph 47588 (\\N{HANGUL SYLLABLE MAE}) missing from font(s) DejaVu Sans.\n",
      "  plt.savefig(fname, dpi=200)\n",
      "c:\\Users\\helen\\anaconda3\\envs\\yolov11\\lib\\site-packages\\ultralytics\\utils\\plotting.py:618: UserWarning: Glyph 51216 (\\N{HANGUL SYLLABLE JEOM}) missing from font(s) DejaVu Sans.\n",
      "  plt.savefig(fname, dpi=200)\n",
      "c:\\Users\\helen\\anaconda3\\envs\\yolov11\\lib\\site-packages\\ultralytics\\utils\\plotting.py:618: UserWarning: Glyph 54868 (\\N{HANGUL SYLLABLE HWA}) missing from font(s) DejaVu Sans.\n",
      "  plt.savefig(fname, dpi=200)\n",
      "c:\\Users\\helen\\anaconda3\\envs\\yolov11\\lib\\site-packages\\ultralytics\\utils\\plotting.py:618: UserWarning: Glyph 51109 (\\N{HANGUL SYLLABLE JANG}) missing from font(s) DejaVu Sans.\n",
      "  plt.savefig(fname, dpi=200)\n",
      "c:\\Users\\helen\\anaconda3\\envs\\yolov11\\lib\\site-packages\\ultralytics\\utils\\plotting.py:618: UserWarning: Glyph 49892 (\\N{HANGUL SYLLABLE SIL}) missing from font(s) DejaVu Sans.\n",
      "  plt.savefig(fname, dpi=200)\n",
      "c:\\Users\\helen\\anaconda3\\envs\\yolov11\\lib\\site-packages\\ultralytics\\utils\\plotting.py:618: UserWarning: Glyph 53356 (\\N{HANGUL SYLLABLE KEU}) missing from font(s) DejaVu Sans.\n",
      "  plt.savefig(fname, dpi=200)\n",
      "c:\\Users\\helen\\anaconda3\\envs\\yolov11\\lib\\site-packages\\ultralytics\\utils\\plotting.py:618: UserWarning: Glyph 47001 (\\N{HANGUL SYLLABLE RAEG}) missing from font(s) DejaVu Sans.\n",
      "  plt.savefig(fname, dpi=200)\n",
      "c:\\Users\\helen\\anaconda3\\envs\\yolov11\\lib\\site-packages\\ultralytics\\utils\\plotting.py:618: UserWarning: Glyph 44208 (\\N{HANGUL SYLLABLE GYEOL}) missing from font(s) DejaVu Sans.\n",
      "  plt.savefig(fname, dpi=200)\n",
      "c:\\Users\\helen\\anaconda3\\envs\\yolov11\\lib\\site-packages\\ultralytics\\utils\\plotting.py:618: UserWarning: Glyph 49552 (\\N{HANGUL SYLLABLE SON}) missing from font(s) DejaVu Sans.\n",
      "  plt.savefig(fname, dpi=200)\n",
      "c:\\Users\\helen\\anaconda3\\envs\\yolov11\\lib\\site-packages\\ultralytics\\utils\\plotting.py:618: UserWarning: Glyph 46308 (\\N{HANGUL SYLLABLE DEUL}) missing from font(s) DejaVu Sans.\n",
      "  plt.savefig(fname, dpi=200)\n",
      "c:\\Users\\helen\\anaconda3\\envs\\yolov11\\lib\\site-packages\\ultralytics\\utils\\plotting.py:618: UserWarning: Glyph 46904 (\\N{HANGUL SYLLABLE DDEUM}) missing from font(s) DejaVu Sans.\n",
      "  plt.savefig(fname, dpi=200)\n",
      "c:\\Users\\helen\\anaconda3\\envs\\yolov11\\lib\\site-packages\\ultralytics\\utils\\plotting.py:618: UserWarning: Glyph 52840 (\\N{HANGUL SYLLABLE CIM}) missing from font(s) DejaVu Sans.\n",
      "  plt.savefig(fname, dpi=200)\n",
      "c:\\Users\\helen\\anaconda3\\envs\\yolov11\\lib\\site-packages\\ultralytics\\utils\\plotting.py:618: UserWarning: Glyph 54616 (\\N{HANGUL SYLLABLE HA}) missing from font(s) DejaVu Sans.\n",
      "  plt.savefig(fname, dpi=200)\n",
      "c:\\Users\\helen\\anaconda3\\envs\\yolov11\\lib\\site-packages\\ultralytics\\utils\\plotting.py:618: UserWarning: Glyph 44396 (\\N{HANGUL SYLLABLE GU}) missing from font(s) DejaVu Sans.\n",
      "  plt.savefig(fname, dpi=200)\n",
      "c:\\Users\\helen\\anaconda3\\envs\\yolov11\\lib\\site-packages\\ultralytics\\utils\\plotting.py:618: UserWarning: Glyph 51088 (\\N{HANGUL SYLLABLE JA}) missing from font(s) DejaVu Sans.\n",
      "  plt.savefig(fname, dpi=200)\n",
      "c:\\Users\\helen\\anaconda3\\envs\\yolov11\\lib\\site-packages\\ultralytics\\utils\\plotting.py:618: UserWarning: Glyph 46041 (\\N{HANGUL SYLLABLE DONG}) missing from font(s) DejaVu Sans.\n",
      "  plt.savefig(fname, dpi=200)\n",
      "c:\\Users\\helen\\anaconda3\\envs\\yolov11\\lib\\site-packages\\ultralytics\\utils\\plotting.py:618: UserWarning: Glyph 52264 (\\N{HANGUL SYLLABLE CA}) missing from font(s) DejaVu Sans.\n",
      "  plt.savefig(fname, dpi=200)\n",
      "c:\\Users\\helen\\anaconda3\\envs\\yolov11\\lib\\site-packages\\ultralytics\\utils\\plotting.py:618: UserWarning: Glyph 48520 (\\N{HANGUL SYLLABLE BUL}) missing from font(s) DejaVu Sans.\n",
      "  plt.savefig(fname, dpi=200)\n",
      "c:\\Users\\helen\\anaconda3\\envs\\yolov11\\lib\\site-packages\\ultralytics\\utils\\plotting.py:618: UserWarning: Glyph 48277 (\\N{HANGUL SYLLABLE BEOB}) missing from font(s) DejaVu Sans.\n",
      "  plt.savefig(fname, dpi=200)\n",
      "c:\\Users\\helen\\anaconda3\\envs\\yolov11\\lib\\site-packages\\ultralytics\\utils\\plotting.py:618: UserWarning: Glyph 51452 (\\N{HANGUL SYLLABLE JU}) missing from font(s) DejaVu Sans.\n",
      "  plt.savefig(fname, dpi=200)\n",
      "c:\\Users\\helen\\anaconda3\\envs\\yolov11\\lib\\site-packages\\ultralytics\\utils\\plotting.py:618: UserWarning: Glyph 51221 (\\N{HANGUL SYLLABLE JEONG}) missing from font(s) DejaVu Sans.\n",
      "  plt.savefig(fname, dpi=200)\n",
      "c:\\Users\\helen\\anaconda3\\envs\\yolov11\\lib\\site-packages\\ultralytics\\utils\\plotting.py:618: UserWarning: Glyph 48372 (\\N{HANGUL SYLLABLE BO}) missing from font(s) DejaVu Sans.\n",
      "  plt.savefig(fname, dpi=200)\n",
      "c:\\Users\\helen\\anaconda3\\envs\\yolov11\\lib\\site-packages\\ultralytics\\utils\\plotting.py:618: UserWarning: Glyph 54665 (\\N{HANGUL SYLLABLE HAENG}) missing from font(s) DejaVu Sans.\n",
      "  plt.savefig(fname, dpi=200)\n",
      "c:\\Users\\helen\\anaconda3\\envs\\yolov11\\lib\\site-packages\\ultralytics\\utils\\plotting.py:618: UserWarning: Glyph 50976 (\\N{HANGUL SYLLABLE YU}) missing from font(s) DejaVu Sans.\n",
      "  plt.savefig(fname, dpi=200)\n",
      "c:\\Users\\helen\\anaconda3\\envs\\yolov11\\lib\\site-packages\\ultralytics\\utils\\plotting.py:618: UserWarning: Glyph 47784 (\\N{HANGUL SYLLABLE MO}) missing from font(s) DejaVu Sans.\n",
      "  plt.savefig(fname, dpi=200)\n",
      "c:\\Users\\helen\\anaconda3\\envs\\yolov11\\lib\\site-packages\\ultralytics\\utils\\plotting.py:618: UserWarning: Glyph 51204 (\\N{HANGUL SYLLABLE JEON}) missing from font(s) DejaVu Sans.\n",
      "  plt.savefig(fname, dpi=200)\n",
      "c:\\Users\\helen\\anaconda3\\envs\\yolov11\\lib\\site-packages\\ultralytics\\utils\\plotting.py:618: UserWarning: Glyph 53413 (\\N{HANGUL SYLLABLE KIG}) missing from font(s) DejaVu Sans.\n",
      "  plt.savefig(fname, dpi=200)\n",
      "c:\\Users\\helen\\anaconda3\\envs\\yolov11\\lib\\site-packages\\ultralytics\\utils\\plotting.py:618: UserWarning: Glyph 46300 (\\N{HANGUL SYLLABLE DEU}) missing from font(s) DejaVu Sans.\n",
      "  plt.savefig(fname, dpi=200)\n",
      "c:\\Users\\helen\\anaconda3\\envs\\yolov11\\lib\\site-packages\\ultralytics\\utils\\plotting.py:618: UserWarning: Glyph 44144 (\\N{HANGUL SYLLABLE GEO}) missing from font(s) DejaVu Sans.\n",
      "  plt.savefig(fname, dpi=200)\n",
      "c:\\Users\\helen\\anaconda3\\envs\\yolov11\\lib\\site-packages\\ultralytics\\utils\\plotting.py:618: UserWarning: Glyph 50724 (\\N{HANGUL SYLLABLE O}) missing from font(s) DejaVu Sans.\n",
      "  plt.savefig(fname, dpi=200)\n",
      "c:\\Users\\helen\\anaconda3\\envs\\yolov11\\lib\\site-packages\\ultralytics\\utils\\plotting.py:618: UserWarning: Glyph 53664 (\\N{HANGUL SYLLABLE TO}) missing from font(s) DejaVu Sans.\n",
      "  plt.savefig(fname, dpi=200)\n",
      "c:\\Users\\helen\\anaconda3\\envs\\yolov11\\lib\\site-packages\\ultralytics\\utils\\plotting.py:618: UserWarning: Glyph 48148 (\\N{HANGUL SYLLABLE BA}) missing from font(s) DejaVu Sans.\n",
      "  plt.savefig(fname, dpi=200)\n",
      "c:\\Users\\helen\\anaconda3\\envs\\yolov11\\lib\\site-packages\\ultralytics\\utils\\plotting.py:618: UserWarning: Glyph 51060 (\\N{HANGUL SYLLABLE I}) missing from font(s) DejaVu Sans.\n",
      "  plt.savefig(fname, dpi=200)\n",
      "c:\\Users\\helen\\anaconda3\\envs\\yolov11\\lib\\site-packages\\ultralytics\\utils\\plotting.py:618: UserWarning: Glyph 47932 (\\N{HANGUL SYLLABLE MUL}) missing from font(s) DejaVu Sans.\n",
      "  plt.savefig(fname, dpi=200)\n",
      "c:\\Users\\helen\\anaconda3\\envs\\yolov11\\lib\\site-packages\\ultralytics\\utils\\plotting.py:618: UserWarning: Glyph 48380 (\\N{HANGUL SYLLABLE BOL}) missing from font(s) DejaVu Sans.\n",
      "  plt.savefig(fname, dpi=200)\n",
      "c:\\Users\\helen\\anaconda3\\envs\\yolov11\\lib\\site-packages\\ultralytics\\utils\\plotting.py:618: UserWarning: Glyph 46972 (\\N{HANGUL SYLLABLE RA}) missing from font(s) DejaVu Sans.\n",
      "  plt.savefig(fname, dpi=200)\n",
      "c:\\Users\\helen\\anaconda3\\envs\\yolov11\\lib\\site-packages\\ultralytics\\utils\\plotting.py:618: UserWarning: Glyph 48516 (\\N{HANGUL SYLLABLE BUN}) missing from font(s) DejaVu Sans.\n",
      "  plt.savefig(fname, dpi=200)\n",
      "c:\\Users\\helen\\anaconda3\\envs\\yolov11\\lib\\site-packages\\ultralytics\\utils\\plotting.py:618: UserWarning: Glyph 47532 (\\N{HANGUL SYLLABLE RI}) missing from font(s) DejaVu Sans.\n",
      "  plt.savefig(fname, dpi=200)\n",
      "c:\\Users\\helen\\anaconda3\\envs\\yolov11\\lib\\site-packages\\ultralytics\\utils\\plotting.py:618: UserWarning: Glyph 48393 (\\N{HANGUL SYLLABLE BONG}) missing from font(s) DejaVu Sans.\n",
      "  plt.savefig(fname, dpi=200)\n",
      "c:\\Users\\helen\\anaconda3\\envs\\yolov11\\lib\\site-packages\\ultralytics\\utils\\plotting.py:618: UserWarning: Glyph 54364 (\\N{HANGUL SYLLABLE PYO}) missing from font(s) DejaVu Sans.\n",
      "  plt.savefig(fname, dpi=200)\n",
      "c:\\Users\\helen\\anaconda3\\envs\\yolov11\\lib\\site-packages\\ultralytics\\utils\\plotting.py:618: UserWarning: Glyph 51648 (\\N{HANGUL SYLLABLE JI}) missing from font(s) DejaVu Sans.\n",
      "  plt.savefig(fname, dpi=200)\n",
      "c:\\Users\\helen\\anaconda3\\envs\\yolov11\\lib\\site-packages\\ultralytics\\utils\\plotting.py:618: UserWarning: Glyph 54032 (\\N{HANGUL SYLLABLE PAN}) missing from font(s) DejaVu Sans.\n",
      "  plt.savefig(fname, dpi=200)\n",
      "c:\\Users\\helen\\anaconda3\\envs\\yolov11\\lib\\site-packages\\ultralytics\\utils\\plotting.py:618: UserWarning: Glyph 44288 (\\N{HANGUL SYLLABLE GWAN}) missing from font(s) DejaVu Sans.\n",
      "  plt.savefig(fname, dpi=200)\n",
      "c:\\Users\\helen\\anaconda3\\envs\\yolov11\\lib\\site-packages\\ultralytics\\utils\\plotting.py:618: UserWarning: Glyph 45824 (\\N{HANGUL SYLLABLE DAE}) missing from font(s) DejaVu Sans.\n",
      "  plt.savefig(fname, dpi=200)\n",
      "c:\\Users\\helen\\anaconda3\\envs\\yolov11\\lib\\site-packages\\ultralytics\\utils\\plotting.py:618: UserWarning: Glyph 54945 (\\N{HANGUL SYLLABLE HOENG}) missing from font(s) DejaVu Sans.\n",
      "  plt.savefig(fname, dpi=200)\n",
      "c:\\Users\\helen\\anaconda3\\envs\\yolov11\\lib\\site-packages\\ultralytics\\utils\\plotting.py:618: UserWarning: Glyph 45800 (\\N{HANGUL SYLLABLE DAN}) missing from font(s) DejaVu Sans.\n",
      "  plt.savefig(fname, dpi=200)\n",
      "c:\\Users\\helen\\anaconda3\\envs\\yolov11\\lib\\site-packages\\ultralytics\\utils\\plotting.py:618: UserWarning: Glyph 46020 (\\N{HANGUL SYLLABLE DO}) missing from font(s) DejaVu Sans.\n",
      "  plt.savefig(fname, dpi=200)\n",
      "c:\\Users\\helen\\anaconda3\\envs\\yolov11\\lib\\site-packages\\ultralytics\\utils\\plotting.py:618: UserWarning: Glyph 49888 (\\N{HANGUL SYLLABLE SIN}) missing from font(s) DejaVu Sans.\n",
      "  plt.savefig(fname, dpi=200)\n",
      "c:\\Users\\helen\\anaconda3\\envs\\yolov11\\lib\\site-packages\\ultralytics\\utils\\plotting.py:618: UserWarning: Glyph 54840 (\\N{HANGUL SYLLABLE HO}) missing from font(s) DejaVu Sans.\n",
      "  plt.savefig(fname, dpi=200)\n",
      "c:\\Users\\helen\\anaconda3\\envs\\yolov11\\lib\\site-packages\\ultralytics\\utils\\plotting.py:618: UserWarning: Glyph 46321 (\\N{HANGUL SYLLABLE DEUNG}) missing from font(s) DejaVu Sans.\n",
      "  plt.savefig(fname, dpi=200)\n",
      "c:\\Users\\helen\\anaconda3\\envs\\yolov11\\lib\\site-packages\\ultralytics\\utils\\plotting.py:618: UserWarning: Glyph 51020 (\\N{HANGUL SYLLABLE EUM}) missing from font(s) DejaVu Sans.\n",
      "  plt.savefig(fname, dpi=200)\n",
      "c:\\Users\\helen\\anaconda3\\envs\\yolov11\\lib\\site-packages\\ultralytics\\utils\\plotting.py:618: UserWarning: Glyph 49688 (\\N{HANGUL SYLLABLE SU}) missing from font(s) DejaVu Sans.\n",
      "  plt.savefig(fname, dpi=200)\n",
      "c:\\Users\\helen\\anaconda3\\envs\\yolov11\\lib\\site-packages\\ultralytics\\utils\\plotting.py:618: UserWarning: Glyph 47588 (\\N{HANGUL SYLLABLE MAE}) missing from font(s) DejaVu Sans.\n",
      "  plt.savefig(fname, dpi=200)\n",
      "c:\\Users\\helen\\anaconda3\\envs\\yolov11\\lib\\site-packages\\ultralytics\\utils\\plotting.py:618: UserWarning: Glyph 51216 (\\N{HANGUL SYLLABLE JEOM}) missing from font(s) DejaVu Sans.\n",
      "  plt.savefig(fname, dpi=200)\n",
      "c:\\Users\\helen\\anaconda3\\envs\\yolov11\\lib\\site-packages\\ultralytics\\utils\\plotting.py:618: UserWarning: Glyph 54868 (\\N{HANGUL SYLLABLE HWA}) missing from font(s) DejaVu Sans.\n",
      "  plt.savefig(fname, dpi=200)\n",
      "c:\\Users\\helen\\anaconda3\\envs\\yolov11\\lib\\site-packages\\ultralytics\\utils\\plotting.py:618: UserWarning: Glyph 51109 (\\N{HANGUL SYLLABLE JANG}) missing from font(s) DejaVu Sans.\n",
      "  plt.savefig(fname, dpi=200)\n",
      "c:\\Users\\helen\\anaconda3\\envs\\yolov11\\lib\\site-packages\\ultralytics\\utils\\plotting.py:618: UserWarning: Glyph 49892 (\\N{HANGUL SYLLABLE SIL}) missing from font(s) DejaVu Sans.\n",
      "  plt.savefig(fname, dpi=200)\n",
      "c:\\Users\\helen\\anaconda3\\envs\\yolov11\\lib\\site-packages\\ultralytics\\utils\\plotting.py:618: UserWarning: Glyph 53356 (\\N{HANGUL SYLLABLE KEU}) missing from font(s) DejaVu Sans.\n",
      "  plt.savefig(fname, dpi=200)\n",
      "c:\\Users\\helen\\anaconda3\\envs\\yolov11\\lib\\site-packages\\ultralytics\\utils\\plotting.py:618: UserWarning: Glyph 47001 (\\N{HANGUL SYLLABLE RAEG}) missing from font(s) DejaVu Sans.\n",
      "  plt.savefig(fname, dpi=200)\n",
      "c:\\Users\\helen\\anaconda3\\envs\\yolov11\\lib\\site-packages\\ultralytics\\utils\\plotting.py:618: UserWarning: Glyph 44208 (\\N{HANGUL SYLLABLE GYEOL}) missing from font(s) DejaVu Sans.\n",
      "  plt.savefig(fname, dpi=200)\n",
      "c:\\Users\\helen\\anaconda3\\envs\\yolov11\\lib\\site-packages\\ultralytics\\utils\\plotting.py:618: UserWarning: Glyph 49552 (\\N{HANGUL SYLLABLE SON}) missing from font(s) DejaVu Sans.\n",
      "  plt.savefig(fname, dpi=200)\n",
      "c:\\Users\\helen\\anaconda3\\envs\\yolov11\\lib\\site-packages\\ultralytics\\utils\\plotting.py:618: UserWarning: Glyph 46308 (\\N{HANGUL SYLLABLE DEUL}) missing from font(s) DejaVu Sans.\n",
      "  plt.savefig(fname, dpi=200)\n",
      "c:\\Users\\helen\\anaconda3\\envs\\yolov11\\lib\\site-packages\\ultralytics\\utils\\plotting.py:618: UserWarning: Glyph 46904 (\\N{HANGUL SYLLABLE DDEUM}) missing from font(s) DejaVu Sans.\n",
      "  plt.savefig(fname, dpi=200)\n",
      "c:\\Users\\helen\\anaconda3\\envs\\yolov11\\lib\\site-packages\\ultralytics\\utils\\plotting.py:618: UserWarning: Glyph 52840 (\\N{HANGUL SYLLABLE CIM}) missing from font(s) DejaVu Sans.\n",
      "  plt.savefig(fname, dpi=200)\n",
      "c:\\Users\\helen\\anaconda3\\envs\\yolov11\\lib\\site-packages\\ultralytics\\utils\\plotting.py:618: UserWarning: Glyph 54616 (\\N{HANGUL SYLLABLE HA}) missing from font(s) DejaVu Sans.\n",
      "  plt.savefig(fname, dpi=200)\n",
      "c:\\Users\\helen\\anaconda3\\envs\\yolov11\\lib\\site-packages\\ultralytics\\utils\\plotting.py:618: UserWarning: Glyph 44396 (\\N{HANGUL SYLLABLE GU}) missing from font(s) DejaVu Sans.\n",
      "  plt.savefig(fname, dpi=200)\n"
     ]
    },
    {
     "name": "stdout",
     "output_type": "stream",
     "text": [
      "\u001b[34m\u001b[1moptimizer:\u001b[0m 'optimizer=auto' found, ignoring 'lr0=0.01' and 'momentum=0.937' and determining best 'optimizer', 'lr0' and 'momentum' automatically... \n",
      "\u001b[34m\u001b[1moptimizer:\u001b[0m SGD(lr=0.01, momentum=0.9) with parameter groups 81 weight(decay=0.0), 88 weight(decay=0.0005), 87 bias(decay=0.0)\n",
      "Image sizes 640 train, 640 val\n",
      "Using 8 dataloader workers\n",
      "Logging results to \u001b[1mruns\\detect\\train3\u001b[0m\n",
      "Starting training for 100 epochs...\n",
      "\n",
      "      Epoch    GPU_mem   box_loss   cls_loss   dfl_loss  Instances       Size\n"
     ]
    },
    {
     "name": "stderr",
     "output_type": "stream",
     "text": [
      "      1/100      2.73G      1.708      2.818      1.328         35        640: 100%|██████████| 2821/2821 [06:49<00:00,  6.88it/s]\n",
      "                 Class     Images  Instances      Box(P          R      mAP50  mAP50-95): 100%|██████████| 840/840 [02:23<00:00,  5.87it/s]\n"
     ]
    },
    {
     "name": "stdout",
     "output_type": "stream",
     "text": [
      "                   all      26863     142020      0.775      0.189      0.201      0.107\n",
      "\n",
      "      Epoch    GPU_mem   box_loss   cls_loss   dfl_loss  Instances       Size\n"
     ]
    },
    {
     "name": "stderr",
     "output_type": "stream",
     "text": [
      "      2/100      2.89G      1.671      2.063      1.305         19        640: 100%|██████████| 2821/2821 [06:28<00:00,  7.26it/s]\n",
      "                 Class     Images  Instances      Box(P          R      mAP50  mAP50-95): 100%|██████████| 840/840 [02:21<00:00,  5.92it/s]\n"
     ]
    },
    {
     "name": "stdout",
     "output_type": "stream",
     "text": [
      "                   all      26863     142020      0.527      0.189      0.201      0.108\n",
      "\n",
      "      Epoch    GPU_mem   box_loss   cls_loss   dfl_loss  Instances       Size\n"
     ]
    },
    {
     "name": "stderr",
     "output_type": "stream",
     "text": [
      "      3/100      2.78G      1.733      1.885      1.351         18        640: 100%|██████████| 2821/2821 [06:20<00:00,  7.42it/s]\n",
      "                 Class     Images  Instances      Box(P          R      mAP50  mAP50-95): 100%|██████████| 840/840 [02:22<00:00,  5.88it/s]\n"
     ]
    },
    {
     "name": "stdout",
     "output_type": "stream",
     "text": [
      "                   all      26863     142020      0.469      0.178      0.188     0.0977\n",
      "\n",
      "      Epoch    GPU_mem   box_loss   cls_loss   dfl_loss  Instances       Size\n"
     ]
    },
    {
     "name": "stderr",
     "output_type": "stream",
     "text": [
      "      4/100      2.71G      1.729      1.751      1.354         18        640: 100%|██████████| 2821/2821 [06:18<00:00,  7.44it/s]\n",
      "                 Class     Images  Instances      Box(P          R      mAP50  mAP50-95): 100%|██████████| 840/840 [02:23<00:00,  5.86it/s]\n"
     ]
    },
    {
     "name": "stdout",
     "output_type": "stream",
     "text": [
      "                   all      26863     142020      0.616      0.202      0.223      0.121\n",
      "\n",
      "      Epoch    GPU_mem   box_loss   cls_loss   dfl_loss  Instances       Size\n"
     ]
    },
    {
     "name": "stderr",
     "output_type": "stream",
     "text": [
      "      5/100       2.7G      1.651      1.621      1.308         29        640: 100%|██████████| 2821/2821 [06:18<00:00,  7.45it/s]\n",
      "                 Class     Images  Instances      Box(P          R      mAP50  mAP50-95): 100%|██████████| 840/840 [02:22<00:00,  5.91it/s]\n"
     ]
    },
    {
     "name": "stdout",
     "output_type": "stream",
     "text": [
      "                   all      26863     142020      0.614      0.218      0.239      0.133\n",
      "\n",
      "      Epoch    GPU_mem   box_loss   cls_loss   dfl_loss  Instances       Size\n"
     ]
    },
    {
     "name": "stderr",
     "output_type": "stream",
     "text": [
      "      6/100      3.94G      1.606      1.545      1.283         34        640: 100%|██████████| 2821/2821 [06:20<00:00,  7.42it/s]\n",
      "                 Class     Images  Instances      Box(P          R      mAP50  mAP50-95): 100%|██████████| 840/840 [02:23<00:00,  5.87it/s]\n"
     ]
    },
    {
     "name": "stdout",
     "output_type": "stream",
     "text": [
      "                   all      26863     142020      0.661      0.241      0.256      0.143\n",
      "\n",
      "      Epoch    GPU_mem   box_loss   cls_loss   dfl_loss  Instances       Size\n"
     ]
    },
    {
     "name": "stderr",
     "output_type": "stream",
     "text": [
      "      7/100      3.95G      1.578        1.5      1.263         26        640: 100%|██████████| 2821/2821 [06:17<00:00,  7.47it/s]\n",
      "                 Class     Images  Instances      Box(P          R      mAP50  mAP50-95): 100%|██████████| 840/840 [02:22<00:00,  5.90it/s]\n"
     ]
    },
    {
     "name": "stdout",
     "output_type": "stream",
     "text": [
      "                   all      26863     142020      0.577      0.251      0.268      0.152\n",
      "\n",
      "      Epoch    GPU_mem   box_loss   cls_loss   dfl_loss  Instances       Size\n"
     ]
    },
    {
     "name": "stderr",
     "output_type": "stream",
     "text": [
      "      8/100      3.95G       1.55      1.457      1.251         30        640: 100%|██████████| 2821/2821 [06:17<00:00,  7.46it/s]\n",
      "                 Class     Images  Instances      Box(P          R      mAP50  mAP50-95): 100%|██████████| 840/840 [02:22<00:00,  5.90it/s]\n"
     ]
    },
    {
     "name": "stdout",
     "output_type": "stream",
     "text": [
      "                   all      26863     142020      0.562      0.254      0.273      0.156\n",
      "\n",
      "      Epoch    GPU_mem   box_loss   cls_loss   dfl_loss  Instances       Size\n"
     ]
    },
    {
     "name": "stderr",
     "output_type": "stream",
     "text": [
      "      9/100      3.95G      1.535      1.436      1.239         24        640: 100%|██████████| 2821/2821 [06:17<00:00,  7.48it/s]\n",
      "                 Class     Images  Instances      Box(P          R      mAP50  mAP50-95): 100%|██████████| 840/840 [02:22<00:00,  5.90it/s]\n"
     ]
    },
    {
     "name": "stdout",
     "output_type": "stream",
     "text": [
      "                   all      26863     142020      0.666      0.264      0.282      0.162\n",
      "\n",
      "      Epoch    GPU_mem   box_loss   cls_loss   dfl_loss  Instances       Size\n"
     ]
    },
    {
     "name": "stderr",
     "output_type": "stream",
     "text": [
      "     10/100      3.95G      1.518      1.412      1.231         13        640: 100%|██████████| 2821/2821 [06:18<00:00,  7.46it/s]\n",
      "                 Class     Images  Instances      Box(P          R      mAP50  mAP50-95): 100%|██████████| 840/840 [02:22<00:00,  5.91it/s]\n"
     ]
    },
    {
     "name": "stdout",
     "output_type": "stream",
     "text": [
      "                   all      26863     142020      0.566      0.269      0.287      0.165\n",
      "\n",
      "      Epoch    GPU_mem   box_loss   cls_loss   dfl_loss  Instances       Size\n"
     ]
    },
    {
     "name": "stderr",
     "output_type": "stream",
     "text": [
      "     11/100      3.95G      1.503      1.395      1.223         24        640: 100%|██████████| 2821/2821 [06:17<00:00,  7.46it/s]\n",
      "                 Class     Images  Instances      Box(P          R      mAP50  mAP50-95): 100%|██████████| 840/840 [02:22<00:00,  5.91it/s]\n"
     ]
    },
    {
     "name": "stdout",
     "output_type": "stream",
     "text": [
      "                   all      26863     142020      0.644      0.273      0.295       0.17\n",
      "\n",
      "      Epoch    GPU_mem   box_loss   cls_loss   dfl_loss  Instances       Size\n"
     ]
    },
    {
     "name": "stderr",
     "output_type": "stream",
     "text": [
      "     12/100      3.95G      1.494       1.37      1.216         24        640: 100%|██████████| 2821/2821 [06:18<00:00,  7.46it/s]\n",
      "                 Class     Images  Instances      Box(P          R      mAP50  mAP50-95): 100%|██████████| 840/840 [02:22<00:00,  5.89it/s]\n"
     ]
    },
    {
     "name": "stdout",
     "output_type": "stream",
     "text": [
      "                   all      26863     142020      0.546      0.274      0.301      0.174\n",
      "\n",
      "      Epoch    GPU_mem   box_loss   cls_loss   dfl_loss  Instances       Size\n"
     ]
    },
    {
     "name": "stderr",
     "output_type": "stream",
     "text": [
      "     13/100      3.95G      1.479      1.359       1.21         27        640: 100%|██████████| 2821/2821 [06:17<00:00,  7.47it/s]\n",
      "                 Class     Images  Instances      Box(P          R      mAP50  mAP50-95): 100%|██████████| 840/840 [02:22<00:00,  5.88it/s]\n"
     ]
    },
    {
     "name": "stdout",
     "output_type": "stream",
     "text": [
      "                   all      26863     142020       0.61      0.281      0.303      0.177\n",
      "\n",
      "      Epoch    GPU_mem   box_loss   cls_loss   dfl_loss  Instances       Size\n"
     ]
    },
    {
     "name": "stderr",
     "output_type": "stream",
     "text": [
      "     14/100      3.95G      1.472      1.343      1.206         13        640: 100%|██████████| 2821/2821 [06:17<00:00,  7.48it/s]\n",
      "                 Class     Images  Instances      Box(P          R      mAP50  mAP50-95): 100%|██████████| 840/840 [02:21<00:00,  5.92it/s]\n"
     ]
    },
    {
     "name": "stdout",
     "output_type": "stream",
     "text": [
      "                   all      26863     142020      0.639       0.28      0.304      0.178\n",
      "\n",
      "      Epoch    GPU_mem   box_loss   cls_loss   dfl_loss  Instances       Size\n"
     ]
    },
    {
     "name": "stderr",
     "output_type": "stream",
     "text": [
      "     15/100      3.95G      1.464      1.333      1.202         36        640: 100%|██████████| 2821/2821 [06:17<00:00,  7.46it/s]\n",
      "                 Class     Images  Instances      Box(P          R      mAP50  mAP50-95): 100%|██████████| 840/840 [02:22<00:00,  5.90it/s]\n"
     ]
    },
    {
     "name": "stdout",
     "output_type": "stream",
     "text": [
      "                   all      26863     142020      0.628      0.281      0.308       0.18\n",
      "\n",
      "      Epoch    GPU_mem   box_loss   cls_loss   dfl_loss  Instances       Size\n"
     ]
    },
    {
     "name": "stderr",
     "output_type": "stream",
     "text": [
      "     16/100      3.95G      1.457      1.324      1.198         36        640: 100%|██████████| 2821/2821 [06:17<00:00,  7.48it/s]\n",
      "                 Class     Images  Instances      Box(P          R      mAP50  mAP50-95): 100%|██████████| 840/840 [02:21<00:00,  5.92it/s]\n"
     ]
    },
    {
     "name": "stdout",
     "output_type": "stream",
     "text": [
      "                   all      26863     142020      0.618      0.284      0.311      0.182\n",
      "\n",
      "      Epoch    GPU_mem   box_loss   cls_loss   dfl_loss  Instances       Size\n"
     ]
    },
    {
     "name": "stderr",
     "output_type": "stream",
     "text": [
      "     17/100      3.95G      1.449      1.313      1.191         22        640: 100%|██████████| 2821/2821 [06:18<00:00,  7.46it/s]\n",
      "                 Class     Images  Instances      Box(P          R      mAP50  mAP50-95): 100%|██████████| 840/840 [02:22<00:00,  5.90it/s]\n"
     ]
    },
    {
     "name": "stdout",
     "output_type": "stream",
     "text": [
      "                   all      26863     142020      0.631      0.288      0.314      0.184\n",
      "\n",
      "      Epoch    GPU_mem   box_loss   cls_loss   dfl_loss  Instances       Size\n"
     ]
    },
    {
     "name": "stderr",
     "output_type": "stream",
     "text": [
      "     18/100      3.95G      1.449      1.306      1.191         20        640: 100%|██████████| 2821/2821 [06:17<00:00,  7.48it/s]\n",
      "                 Class     Images  Instances      Box(P          R      mAP50  mAP50-95): 100%|██████████| 840/840 [02:22<00:00,  5.91it/s]\n"
     ]
    },
    {
     "name": "stdout",
     "output_type": "stream",
     "text": [
      "                   all      26863     142020       0.63      0.293      0.316      0.185\n",
      "\n",
      "      Epoch    GPU_mem   box_loss   cls_loss   dfl_loss  Instances       Size\n"
     ]
    },
    {
     "name": "stderr",
     "output_type": "stream",
     "text": [
      "     19/100      3.95G      1.436      1.294      1.184         17        640: 100%|██████████| 2821/2821 [06:17<00:00,  7.48it/s]\n",
      "                 Class     Images  Instances      Box(P          R      mAP50  mAP50-95): 100%|██████████| 840/840 [02:22<00:00,  5.89it/s]\n"
     ]
    },
    {
     "name": "stdout",
     "output_type": "stream",
     "text": [
      "                   all      26863     142020      0.639      0.291      0.317      0.186\n",
      "\n",
      "      Epoch    GPU_mem   box_loss   cls_loss   dfl_loss  Instances       Size\n"
     ]
    },
    {
     "name": "stderr",
     "output_type": "stream",
     "text": [
      "     20/100      3.95G      1.431      1.289      1.182         62        640: 100%|██████████| 2821/2821 [06:19<00:00,  7.44it/s]\n",
      "                 Class     Images  Instances      Box(P          R      mAP50  mAP50-95): 100%|██████████| 840/840 [02:23<00:00,  5.85it/s]\n"
     ]
    },
    {
     "name": "stdout",
     "output_type": "stream",
     "text": [
      "                   all      26863     142020      0.616      0.295      0.318      0.187\n",
      "\n",
      "      Epoch    GPU_mem   box_loss   cls_loss   dfl_loss  Instances       Size\n"
     ]
    },
    {
     "name": "stderr",
     "output_type": "stream",
     "text": [
      "     21/100      3.95G      1.429       1.28      1.181         21        640: 100%|██████████| 2821/2821 [06:18<00:00,  7.46it/s]\n",
      "                 Class     Images  Instances      Box(P          R      mAP50  mAP50-95): 100%|██████████| 840/840 [02:22<00:00,  5.90it/s]\n"
     ]
    },
    {
     "name": "stdout",
     "output_type": "stream",
     "text": [
      "                   all      26863     142020      0.617      0.297      0.319      0.188\n",
      "\n",
      "      Epoch    GPU_mem   box_loss   cls_loss   dfl_loss  Instances       Size\n"
     ]
    },
    {
     "name": "stderr",
     "output_type": "stream",
     "text": [
      "     22/100      3.95G      1.427      1.279       1.18         26        640: 100%|██████████| 2821/2821 [06:19<00:00,  7.42it/s]\n",
      "                 Class     Images  Instances      Box(P          R      mAP50  mAP50-95): 100%|██████████| 840/840 [02:23<00:00,  5.87it/s]\n"
     ]
    },
    {
     "name": "stdout",
     "output_type": "stream",
     "text": [
      "                   all      26863     142020      0.624      0.297       0.32      0.189\n",
      "\n",
      "      Epoch    GPU_mem   box_loss   cls_loss   dfl_loss  Instances       Size\n"
     ]
    },
    {
     "name": "stderr",
     "output_type": "stream",
     "text": [
      "     23/100      3.95G      1.413      1.261      1.171         42        640: 100%|██████████| 2821/2821 [06:18<00:00,  7.45it/s]\n",
      "                 Class     Images  Instances      Box(P          R      mAP50  mAP50-95): 100%|██████████| 840/840 [02:24<00:00,  5.80it/s]\n"
     ]
    },
    {
     "name": "stdout",
     "output_type": "stream",
     "text": [
      "                   all      26863     142020      0.631      0.295      0.321      0.189\n",
      "\n",
      "      Epoch    GPU_mem   box_loss   cls_loss   dfl_loss  Instances       Size\n"
     ]
    },
    {
     "name": "stderr",
     "output_type": "stream",
     "text": [
      "     24/100      3.95G      1.414      1.263      1.173         30        640: 100%|██████████| 2821/2821 [06:19<00:00,  7.44it/s]\n",
      "                 Class     Images  Instances      Box(P          R      mAP50  mAP50-95): 100%|██████████| 840/840 [02:32<00:00,  5.50it/s]\n"
     ]
    },
    {
     "name": "stdout",
     "output_type": "stream",
     "text": [
      "                   all      26863     142020      0.627      0.297      0.322       0.19\n",
      "\n",
      "      Epoch    GPU_mem   box_loss   cls_loss   dfl_loss  Instances       Size\n"
     ]
    },
    {
     "name": "stderr",
     "output_type": "stream",
     "text": [
      "     25/100      3.95G      1.413       1.26      1.171         20        640: 100%|██████████| 2821/2821 [06:30<00:00,  7.22it/s]\n",
      "                 Class     Images  Instances      Box(P          R      mAP50  mAP50-95): 100%|██████████| 840/840 [02:24<00:00,  5.82it/s]\n"
     ]
    },
    {
     "name": "stdout",
     "output_type": "stream",
     "text": [
      "                   all      26863     142020      0.642      0.294      0.322      0.191\n",
      "\n",
      "      Epoch    GPU_mem   box_loss   cls_loss   dfl_loss  Instances       Size\n"
     ]
    },
    {
     "name": "stderr",
     "output_type": "stream",
     "text": [
      "     26/100      3.95G      1.404      1.247      1.167         45        640: 100%|██████████| 2821/2821 [06:22<00:00,  7.38it/s]\n",
      "                 Class     Images  Instances      Box(P          R      mAP50  mAP50-95): 100%|██████████| 840/840 [02:22<00:00,  5.89it/s]\n"
     ]
    },
    {
     "name": "stdout",
     "output_type": "stream",
     "text": [
      "                   all      26863     142020       0.64      0.295      0.323      0.191\n",
      "\n",
      "      Epoch    GPU_mem   box_loss   cls_loss   dfl_loss  Instances       Size\n"
     ]
    },
    {
     "name": "stderr",
     "output_type": "stream",
     "text": [
      "     27/100      3.95G        1.4      1.245      1.163         44        640: 100%|██████████| 2821/2821 [06:28<00:00,  7.26it/s]\n",
      "                 Class     Images  Instances      Box(P          R      mAP50  mAP50-95): 100%|██████████| 840/840 [02:23<00:00,  5.87it/s]\n"
     ]
    },
    {
     "name": "stdout",
     "output_type": "stream",
     "text": [
      "                   all      26863     142020       0.64      0.296      0.324      0.192\n",
      "\n",
      "      Epoch    GPU_mem   box_loss   cls_loss   dfl_loss  Instances       Size\n"
     ]
    },
    {
     "name": "stderr",
     "output_type": "stream",
     "text": [
      "     28/100      3.95G      1.402      1.247      1.167         21        640: 100%|██████████| 2821/2821 [06:20<00:00,  7.41it/s]\n",
      "                 Class     Images  Instances      Box(P          R      mAP50  mAP50-95): 100%|██████████| 840/840 [02:23<00:00,  5.87it/s]\n"
     ]
    },
    {
     "name": "stdout",
     "output_type": "stream",
     "text": [
      "                   all      26863     142020      0.634      0.299      0.325      0.192\n",
      "\n",
      "      Epoch    GPU_mem   box_loss   cls_loss   dfl_loss  Instances       Size\n"
     ]
    },
    {
     "name": "stderr",
     "output_type": "stream",
     "text": [
      "     29/100      3.95G       1.39       1.23      1.161         28        640: 100%|██████████| 2821/2821 [06:21<00:00,  7.39it/s]\n",
      "                 Class     Images  Instances      Box(P          R      mAP50  mAP50-95): 100%|██████████| 840/840 [02:22<00:00,  5.89it/s]\n"
     ]
    },
    {
     "name": "stdout",
     "output_type": "stream",
     "text": [
      "                   all      26863     142020      0.631      0.298      0.326      0.193\n",
      "\n",
      "      Epoch    GPU_mem   box_loss   cls_loss   dfl_loss  Instances       Size\n"
     ]
    },
    {
     "name": "stderr",
     "output_type": "stream",
     "text": [
      "     30/100      3.95G      1.387      1.231       1.16         19        640: 100%|██████████| 2821/2821 [06:21<00:00,  7.39it/s]\n",
      "                 Class     Images  Instances      Box(P          R      mAP50  mAP50-95): 100%|██████████| 840/840 [02:23<00:00,  5.87it/s]\n"
     ]
    },
    {
     "name": "stdout",
     "output_type": "stream",
     "text": [
      "                   all      26863     142020      0.627        0.3      0.327      0.194\n",
      "\n",
      "      Epoch    GPU_mem   box_loss   cls_loss   dfl_loss  Instances       Size\n"
     ]
    },
    {
     "name": "stderr",
     "output_type": "stream",
     "text": [
      "     31/100      3.95G      1.386      1.223      1.156         13        640: 100%|██████████| 2821/2821 [06:21<00:00,  7.40it/s]\n",
      "                 Class     Images  Instances      Box(P          R      mAP50  mAP50-95): 100%|██████████| 840/840 [02:22<00:00,  5.90it/s]\n"
     ]
    },
    {
     "name": "stdout",
     "output_type": "stream",
     "text": [
      "                   all      26863     142020      0.628      0.302      0.327      0.194\n",
      "\n",
      "      Epoch    GPU_mem   box_loss   cls_loss   dfl_loss  Instances       Size\n"
     ]
    },
    {
     "name": "stderr",
     "output_type": "stream",
     "text": [
      "     32/100      3.95G      1.383      1.216      1.154         11        640: 100%|██████████| 2821/2821 [06:19<00:00,  7.42it/s]\n",
      "                 Class     Images  Instances      Box(P          R      mAP50  mAP50-95): 100%|██████████| 840/840 [02:22<00:00,  5.88it/s]\n"
     ]
    },
    {
     "name": "stdout",
     "output_type": "stream",
     "text": [
      "                   all      26863     142020      0.633      0.301      0.328      0.195\n",
      "\n",
      "      Epoch    GPU_mem   box_loss   cls_loss   dfl_loss  Instances       Size\n"
     ]
    },
    {
     "name": "stderr",
     "output_type": "stream",
     "text": [
      "     33/100      3.95G      1.384      1.221      1.156         21        640: 100%|██████████| 2821/2821 [07:00<00:00,  6.71it/s]\n",
      "                 Class     Images  Instances      Box(P          R      mAP50  mAP50-95): 100%|██████████| 840/840 [02:39<00:00,  5.28it/s]\n"
     ]
    },
    {
     "name": "stdout",
     "output_type": "stream",
     "text": [
      "                   all      26863     142020       0.64        0.3      0.329      0.195\n",
      "\n",
      "      Epoch    GPU_mem   box_loss   cls_loss   dfl_loss  Instances       Size\n"
     ]
    },
    {
     "name": "stderr",
     "output_type": "stream",
     "text": [
      "     34/100      3.95G      1.382      1.215      1.154         27        640: 100%|██████████| 2821/2821 [07:01<00:00,  6.69it/s]\n",
      "                 Class     Images  Instances      Box(P          R      mAP50  mAP50-95): 100%|██████████| 840/840 [02:37<00:00,  5.34it/s]\n"
     ]
    },
    {
     "name": "stdout",
     "output_type": "stream",
     "text": [
      "                   all      26863     142020      0.644        0.3      0.329      0.196\n",
      "\n",
      "      Epoch    GPU_mem   box_loss   cls_loss   dfl_loss  Instances       Size\n"
     ]
    },
    {
     "name": "stderr",
     "output_type": "stream",
     "text": [
      "     35/100      3.95G      1.375       1.21      1.151         37        640: 100%|██████████| 2821/2821 [07:03<00:00,  6.66it/s]\n",
      "                 Class     Images  Instances      Box(P          R      mAP50  mAP50-95): 100%|██████████| 840/840 [02:35<00:00,  5.40it/s]\n"
     ]
    },
    {
     "name": "stdout",
     "output_type": "stream",
     "text": [
      "                   all      26863     142020      0.646      0.301       0.33      0.196\n",
      "\n",
      "      Epoch    GPU_mem   box_loss   cls_loss   dfl_loss  Instances       Size\n"
     ]
    },
    {
     "name": "stderr",
     "output_type": "stream",
     "text": [
      "     36/100      3.95G      1.367      1.201      1.149         39        640: 100%|██████████| 2821/2821 [07:04<00:00,  6.64it/s]\n",
      "                 Class     Images  Instances      Box(P          R      mAP50  mAP50-95): 100%|██████████| 840/840 [02:40<00:00,  5.22it/s]\n"
     ]
    },
    {
     "name": "stdout",
     "output_type": "stream",
     "text": [
      "                   all      26863     142020      0.644      0.301       0.33      0.196\n",
      "\n",
      "      Epoch    GPU_mem   box_loss   cls_loss   dfl_loss  Instances       Size\n"
     ]
    },
    {
     "name": "stderr",
     "output_type": "stream",
     "text": [
      "     37/100      3.95G      1.372      1.206      1.149         13        640: 100%|██████████| 2821/2821 [07:03<00:00,  6.66it/s]\n",
      "                 Class     Images  Instances      Box(P          R      mAP50  mAP50-95): 100%|██████████| 840/840 [02:38<00:00,  5.31it/s]\n"
     ]
    },
    {
     "name": "stdout",
     "output_type": "stream",
     "text": [
      "                   all      26863     142020      0.643      0.302      0.331      0.197\n",
      "\n",
      "      Epoch    GPU_mem   box_loss   cls_loss   dfl_loss  Instances       Size\n"
     ]
    },
    {
     "name": "stderr",
     "output_type": "stream",
     "text": [
      "     38/100      3.95G      1.364      1.195      1.145         47        640: 100%|██████████| 2821/2821 [07:05<00:00,  6.63it/s]\n",
      "                 Class     Images  Instances      Box(P          R      mAP50  mAP50-95): 100%|██████████| 840/840 [02:37<00:00,  5.34it/s]\n"
     ]
    },
    {
     "name": "stdout",
     "output_type": "stream",
     "text": [
      "                   all      26863     142020      0.643      0.303      0.331      0.197\n",
      "\n",
      "      Epoch    GPU_mem   box_loss   cls_loss   dfl_loss  Instances       Size\n"
     ]
    },
    {
     "name": "stderr",
     "output_type": "stream",
     "text": [
      "     39/100      3.95G      1.364      1.192      1.146         17        640: 100%|██████████| 2821/2821 [07:11<00:00,  6.53it/s]\n",
      "                 Class     Images  Instances      Box(P          R      mAP50  mAP50-95): 100%|██████████| 840/840 [02:46<00:00,  5.04it/s]\n"
     ]
    },
    {
     "name": "stdout",
     "output_type": "stream",
     "text": [
      "                   all      26863     142020      0.645      0.304      0.332      0.198\n",
      "\n",
      "      Epoch    GPU_mem   box_loss   cls_loss   dfl_loss  Instances       Size\n"
     ]
    },
    {
     "name": "stderr",
     "output_type": "stream",
     "text": [
      "     40/100      3.95G      1.361       1.19      1.143         34        640: 100%|██████████| 2821/2821 [07:24<00:00,  6.35it/s]\n",
      "                 Class     Images  Instances      Box(P          R      mAP50  mAP50-95): 100%|██████████| 840/840 [02:43<00:00,  5.14it/s]\n"
     ]
    },
    {
     "name": "stdout",
     "output_type": "stream",
     "text": [
      "                   all      26863     142020      0.642      0.307      0.333      0.198\n",
      "\n",
      "      Epoch    GPU_mem   box_loss   cls_loss   dfl_loss  Instances       Size\n"
     ]
    },
    {
     "name": "stderr",
     "output_type": "stream",
     "text": [
      "     41/100      3.95G      1.358      1.186      1.141         16        640: 100%|██████████| 2821/2821 [07:17<00:00,  6.44it/s]\n",
      "                 Class     Images  Instances      Box(P          R      mAP50  mAP50-95): 100%|██████████| 840/840 [02:42<00:00,  5.17it/s]\n"
     ]
    },
    {
     "name": "stdout",
     "output_type": "stream",
     "text": [
      "                   all      26863     142020      0.644      0.306      0.334      0.199\n",
      "\n",
      "      Epoch    GPU_mem   box_loss   cls_loss   dfl_loss  Instances       Size\n"
     ]
    },
    {
     "name": "stderr",
     "output_type": "stream",
     "text": [
      "     42/100      3.95G      1.354      1.181      1.141         35        640: 100%|██████████| 2821/2821 [07:18<00:00,  6.43it/s]\n",
      "                 Class     Images  Instances      Box(P          R      mAP50  mAP50-95): 100%|██████████| 840/840 [02:43<00:00,  5.13it/s]\n"
     ]
    },
    {
     "name": "stdout",
     "output_type": "stream",
     "text": [
      "                   all      26863     142020      0.584      0.314      0.334      0.199\n",
      "\n",
      "      Epoch    GPU_mem   box_loss   cls_loss   dfl_loss  Instances       Size\n"
     ]
    },
    {
     "name": "stderr",
     "output_type": "stream",
     "text": [
      "     43/100      3.95G      1.351      1.178      1.137         13        640: 100%|██████████| 2821/2821 [07:21<00:00,  6.39it/s]\n",
      "                 Class     Images  Instances      Box(P          R      mAP50  mAP50-95): 100%|██████████| 840/840 [02:43<00:00,  5.14it/s]\n"
     ]
    },
    {
     "name": "stdout",
     "output_type": "stream",
     "text": [
      "                   all      26863     142020      0.589      0.312      0.335        0.2\n",
      "\n",
      "      Epoch    GPU_mem   box_loss   cls_loss   dfl_loss  Instances       Size\n"
     ]
    },
    {
     "name": "stderr",
     "output_type": "stream",
     "text": [
      "     44/100      3.95G      1.354      1.179      1.139         29        640: 100%|██████████| 2821/2821 [07:21<00:00,  6.39it/s]\n",
      "                 Class     Images  Instances      Box(P          R      mAP50  mAP50-95): 100%|██████████| 840/840 [02:36<00:00,  5.37it/s]\n"
     ]
    },
    {
     "name": "stdout",
     "output_type": "stream",
     "text": [
      "                   all      26863     142020      0.588      0.314      0.336        0.2\n",
      "\n",
      "      Epoch    GPU_mem   box_loss   cls_loss   dfl_loss  Instances       Size\n"
     ]
    },
    {
     "name": "stderr",
     "output_type": "stream",
     "text": [
      "     45/100      3.95G      1.346      1.171      1.135         36        640: 100%|██████████| 2821/2821 [06:57<00:00,  6.76it/s]\n",
      "                 Class     Images  Instances      Box(P          R      mAP50  mAP50-95): 100%|██████████| 840/840 [02:23<00:00,  5.85it/s]\n"
     ]
    },
    {
     "name": "stdout",
     "output_type": "stream",
     "text": [
      "                   all      26863     142020      0.593      0.312      0.336      0.201\n",
      "\n",
      "      Epoch    GPU_mem   box_loss   cls_loss   dfl_loss  Instances       Size\n"
     ]
    },
    {
     "name": "stderr",
     "output_type": "stream",
     "text": [
      "     46/100      3.95G      1.345      1.167      1.135         25        640: 100%|██████████| 2821/2821 [06:18<00:00,  7.44it/s]\n",
      "                 Class     Images  Instances      Box(P          R      mAP50  mAP50-95): 100%|██████████| 840/840 [02:21<00:00,  5.94it/s]\n"
     ]
    },
    {
     "name": "stdout",
     "output_type": "stream",
     "text": [
      "                   all      26863     142020      0.604      0.309      0.337      0.201\n",
      "\n",
      "      Epoch    GPU_mem   box_loss   cls_loss   dfl_loss  Instances       Size\n"
     ]
    },
    {
     "name": "stderr",
     "output_type": "stream",
     "text": [
      "     47/100      3.95G      1.343      1.163      1.132         24        640: 100%|██████████| 2821/2821 [06:21<00:00,  7.40it/s]\n",
      "                 Class     Images  Instances      Box(P          R      mAP50  mAP50-95): 100%|██████████| 840/840 [02:22<00:00,  5.91it/s]\n"
     ]
    },
    {
     "name": "stdout",
     "output_type": "stream",
     "text": [
      "                   all      26863     142020      0.608      0.309      0.337      0.201\n",
      "\n",
      "      Epoch    GPU_mem   box_loss   cls_loss   dfl_loss  Instances       Size\n"
     ]
    },
    {
     "name": "stderr",
     "output_type": "stream",
     "text": [
      "     48/100      3.95G      1.339       1.16      1.132         13        640: 100%|██████████| 2821/2821 [06:20<00:00,  7.41it/s]\n",
      "                 Class     Images  Instances      Box(P          R      mAP50  mAP50-95): 100%|██████████| 840/840 [02:21<00:00,  5.95it/s]\n"
     ]
    },
    {
     "name": "stdout",
     "output_type": "stream",
     "text": [
      "                   all      26863     142020      0.605       0.31      0.337      0.202\n",
      "\n",
      "      Epoch    GPU_mem   box_loss   cls_loss   dfl_loss  Instances       Size\n"
     ]
    },
    {
     "name": "stderr",
     "output_type": "stream",
     "text": [
      "     49/100      3.95G       1.34      1.158       1.13         17        640: 100%|██████████| 2821/2821 [06:22<00:00,  7.38it/s]\n",
      "                 Class     Images  Instances      Box(P          R      mAP50  mAP50-95): 100%|██████████| 840/840 [02:21<00:00,  5.94it/s]\n"
     ]
    },
    {
     "name": "stdout",
     "output_type": "stream",
     "text": [
      "                   all      26863     142020      0.593       0.31      0.338      0.202\n",
      "\n",
      "      Epoch    GPU_mem   box_loss   cls_loss   dfl_loss  Instances       Size\n"
     ]
    },
    {
     "name": "stderr",
     "output_type": "stream",
     "text": [
      "     50/100      3.95G      1.335      1.154      1.129         29        640: 100%|██████████| 2821/2821 [06:21<00:00,  7.40it/s]\n",
      "                 Class     Images  Instances      Box(P          R      mAP50  mAP50-95): 100%|██████████| 840/840 [02:21<00:00,  5.93it/s]\n"
     ]
    },
    {
     "name": "stdout",
     "output_type": "stream",
     "text": [
      "                   all      26863     142020      0.585      0.311      0.338      0.203\n",
      "\n",
      "      Epoch    GPU_mem   box_loss   cls_loss   dfl_loss  Instances       Size\n"
     ]
    },
    {
     "name": "stderr",
     "output_type": "stream",
     "text": [
      "     51/100      3.95G       1.33       1.15      1.126         27        640: 100%|██████████| 2821/2821 [06:20<00:00,  7.41it/s]\n",
      "                 Class     Images  Instances      Box(P          R      mAP50  mAP50-95): 100%|██████████| 840/840 [02:22<00:00,  5.91it/s]\n"
     ]
    },
    {
     "name": "stdout",
     "output_type": "stream",
     "text": [
      "                   all      26863     142020      0.588       0.31      0.339      0.203\n",
      "\n",
      "      Epoch    GPU_mem   box_loss   cls_loss   dfl_loss  Instances       Size\n"
     ]
    },
    {
     "name": "stderr",
     "output_type": "stream",
     "text": [
      "     52/100      3.95G      1.331      1.147      1.125         15        640: 100%|██████████| 2821/2821 [06:22<00:00,  7.38it/s]\n",
      "                 Class     Images  Instances      Box(P          R      mAP50  mAP50-95): 100%|██████████| 840/840 [02:21<00:00,  5.92it/s]\n"
     ]
    },
    {
     "name": "stdout",
     "output_type": "stream",
     "text": [
      "                   all      26863     142020      0.585      0.312       0.34      0.204\n",
      "\n",
      "      Epoch    GPU_mem   box_loss   cls_loss   dfl_loss  Instances       Size\n"
     ]
    },
    {
     "name": "stderr",
     "output_type": "stream",
     "text": [
      "     53/100      3.95G       1.33      1.146      1.126         11        640: 100%|██████████| 2821/2821 [06:21<00:00,  7.39it/s]\n",
      "                 Class     Images  Instances      Box(P          R      mAP50  mAP50-95): 100%|██████████| 840/840 [02:21<00:00,  5.92it/s]\n"
     ]
    },
    {
     "name": "stdout",
     "output_type": "stream",
     "text": [
      "                   all      26863     142020      0.593      0.312       0.34      0.204\n",
      "\n",
      "      Epoch    GPU_mem   box_loss   cls_loss   dfl_loss  Instances       Size\n"
     ]
    },
    {
     "name": "stderr",
     "output_type": "stream",
     "text": [
      "     54/100      3.95G      1.325      1.142      1.123         28        640: 100%|██████████| 2821/2821 [06:20<00:00,  7.42it/s]\n",
      "                 Class     Images  Instances      Box(P          R      mAP50  mAP50-95): 100%|██████████| 840/840 [02:21<00:00,  5.93it/s]\n"
     ]
    },
    {
     "name": "stdout",
     "output_type": "stream",
     "text": [
      "                   all      26863     142020      0.588      0.313      0.341      0.205\n",
      "\n",
      "      Epoch    GPU_mem   box_loss   cls_loss   dfl_loss  Instances       Size\n"
     ]
    },
    {
     "name": "stderr",
     "output_type": "stream",
     "text": [
      "     55/100      3.95G      1.317       1.13       1.12         23        640: 100%|██████████| 2821/2821 [06:18<00:00,  7.45it/s]\n",
      "                 Class     Images  Instances      Box(P          R      mAP50  mAP50-95): 100%|██████████| 840/840 [02:21<00:00,  5.94it/s]\n"
     ]
    },
    {
     "name": "stdout",
     "output_type": "stream",
     "text": [
      "                   all      26863     142020      0.584      0.313      0.342      0.205\n",
      "\n",
      "      Epoch    GPU_mem   box_loss   cls_loss   dfl_loss  Instances       Size\n"
     ]
    },
    {
     "name": "stderr",
     "output_type": "stream",
     "text": [
      "     56/100      3.95G      1.321      1.133      1.123         18        640: 100%|██████████| 2821/2821 [06:21<00:00,  7.39it/s]\n",
      "                 Class     Images  Instances      Box(P          R      mAP50  mAP50-95): 100%|██████████| 840/840 [02:21<00:00,  5.93it/s]\n"
     ]
    },
    {
     "name": "stdout",
     "output_type": "stream",
     "text": [
      "                   all      26863     142020       0.58      0.314      0.342      0.205\n",
      "\n",
      "      Epoch    GPU_mem   box_loss   cls_loss   dfl_loss  Instances       Size\n"
     ]
    },
    {
     "name": "stderr",
     "output_type": "stream",
     "text": [
      "     57/100      3.95G      1.314      1.126      1.117         13        640: 100%|██████████| 2821/2821 [06:21<00:00,  7.39it/s]\n",
      "                 Class     Images  Instances      Box(P          R      mAP50  mAP50-95): 100%|██████████| 840/840 [02:21<00:00,  5.93it/s]\n"
     ]
    },
    {
     "name": "stdout",
     "output_type": "stream",
     "text": [
      "                   all      26863     142020      0.582      0.316      0.343      0.206\n",
      "\n",
      "      Epoch    GPU_mem   box_loss   cls_loss   dfl_loss  Instances       Size\n"
     ]
    },
    {
     "name": "stderr",
     "output_type": "stream",
     "text": [
      "     58/100      3.95G      1.313      1.128      1.119         18        640: 100%|██████████| 2821/2821 [06:19<00:00,  7.43it/s]\n",
      "                 Class     Images  Instances      Box(P          R      mAP50  mAP50-95): 100%|██████████| 840/840 [02:22<00:00,  5.91it/s]\n"
     ]
    },
    {
     "name": "stdout",
     "output_type": "stream",
     "text": [
      "                   all      26863     142020      0.579      0.318      0.343      0.206\n",
      "\n",
      "      Epoch    GPU_mem   box_loss   cls_loss   dfl_loss  Instances       Size\n"
     ]
    },
    {
     "name": "stderr",
     "output_type": "stream",
     "text": [
      "     59/100      3.95G      1.308      1.121      1.115         31        640: 100%|██████████| 2821/2821 [06:20<00:00,  7.41it/s]\n",
      "                 Class     Images  Instances      Box(P          R      mAP50  mAP50-95): 100%|██████████| 840/840 [02:21<00:00,  5.95it/s]\n"
     ]
    },
    {
     "name": "stdout",
     "output_type": "stream",
     "text": [
      "                   all      26863     142020      0.578      0.319      0.344      0.207\n",
      "\n",
      "      Epoch    GPU_mem   box_loss   cls_loss   dfl_loss  Instances       Size\n"
     ]
    },
    {
     "name": "stderr",
     "output_type": "stream",
     "text": [
      "     60/100      3.95G      1.307      1.118      1.115         19        640: 100%|██████████| 2821/2821 [06:21<00:00,  7.39it/s]\n",
      "                 Class     Images  Instances      Box(P          R      mAP50  mAP50-95): 100%|██████████| 840/840 [02:21<00:00,  5.94it/s]\n"
     ]
    },
    {
     "name": "stdout",
     "output_type": "stream",
     "text": [
      "                   all      26863     142020      0.579      0.319      0.344      0.207\n",
      "\n",
      "      Epoch    GPU_mem   box_loss   cls_loss   dfl_loss  Instances       Size\n"
     ]
    },
    {
     "name": "stderr",
     "output_type": "stream",
     "text": [
      "     61/100      3.95G      1.306      1.115      1.113         16        640: 100%|██████████| 2821/2821 [06:21<00:00,  7.40it/s]\n",
      "                 Class     Images  Instances      Box(P          R      mAP50  mAP50-95): 100%|██████████| 840/840 [02:21<00:00,  5.94it/s]\n"
     ]
    },
    {
     "name": "stdout",
     "output_type": "stream",
     "text": [
      "                   all      26863     142020      0.575       0.32      0.345      0.208\n",
      "\n",
      "      Epoch    GPU_mem   box_loss   cls_loss   dfl_loss  Instances       Size\n"
     ]
    },
    {
     "name": "stderr",
     "output_type": "stream",
     "text": [
      "     62/100      3.95G      1.301      1.106       1.11         48        640: 100%|██████████| 2821/2821 [06:21<00:00,  7.40it/s]\n",
      "                 Class     Images  Instances      Box(P          R      mAP50  mAP50-95): 100%|██████████| 840/840 [02:22<00:00,  5.91it/s]\n"
     ]
    },
    {
     "name": "stdout",
     "output_type": "stream",
     "text": [
      "                   all      26863     142020      0.575       0.32      0.346      0.208\n",
      "\n",
      "      Epoch    GPU_mem   box_loss   cls_loss   dfl_loss  Instances       Size\n"
     ]
    },
    {
     "name": "stderr",
     "output_type": "stream",
     "text": [
      "     63/100      3.95G      1.297      1.105       1.11         27        640: 100%|██████████| 2821/2821 [06:21<00:00,  7.40it/s]\n",
      "                 Class     Images  Instances      Box(P          R      mAP50  mAP50-95): 100%|██████████| 840/840 [02:21<00:00,  5.93it/s]\n"
     ]
    },
    {
     "name": "stdout",
     "output_type": "stream",
     "text": [
      "                   all      26863     142020      0.575       0.32      0.346      0.208\n",
      "\n",
      "      Epoch    GPU_mem   box_loss   cls_loss   dfl_loss  Instances       Size\n"
     ]
    },
    {
     "name": "stderr",
     "output_type": "stream",
     "text": [
      "     64/100      3.95G      1.298      1.105       1.11          8        640: 100%|██████████| 2821/2821 [06:21<00:00,  7.40it/s]\n",
      "                 Class     Images  Instances      Box(P          R      mAP50  mAP50-95): 100%|██████████| 840/840 [02:22<00:00,  5.91it/s]\n"
     ]
    },
    {
     "name": "stdout",
     "output_type": "stream",
     "text": [
      "                   all      26863     142020      0.578       0.32      0.346      0.209\n",
      "\n",
      "      Epoch    GPU_mem   box_loss   cls_loss   dfl_loss  Instances       Size\n"
     ]
    },
    {
     "name": "stderr",
     "output_type": "stream",
     "text": [
      "     65/100      3.95G      1.288      1.096      1.108         42        640: 100%|██████████| 2821/2821 [06:21<00:00,  7.40it/s]\n",
      "                 Class     Images  Instances      Box(P          R      mAP50  mAP50-95): 100%|██████████| 840/840 [02:21<00:00,  5.95it/s]\n"
     ]
    },
    {
     "name": "stdout",
     "output_type": "stream",
     "text": [
      "                   all      26863     142020      0.528      0.321      0.347      0.209\n",
      "\n",
      "      Epoch    GPU_mem   box_loss   cls_loss   dfl_loss  Instances       Size\n"
     ]
    },
    {
     "name": "stderr",
     "output_type": "stream",
     "text": [
      "     66/100      3.95G      1.291       1.09      1.105         23        640: 100%|██████████| 2821/2821 [06:22<00:00,  7.38it/s]\n",
      "                 Class     Images  Instances      Box(P          R      mAP50  mAP50-95): 100%|██████████| 840/840 [02:22<00:00,  5.91it/s]\n"
     ]
    },
    {
     "name": "stdout",
     "output_type": "stream",
     "text": [
      "                   all      26863     142020      0.526      0.322      0.347       0.21\n",
      "\n",
      "      Epoch    GPU_mem   box_loss   cls_loss   dfl_loss  Instances       Size\n"
     ]
    },
    {
     "name": "stderr",
     "output_type": "stream",
     "text": [
      "     67/100      3.95G      1.288      1.089      1.104         27        640: 100%|██████████| 2821/2821 [06:21<00:00,  7.39it/s]\n",
      "                 Class     Images  Instances      Box(P          R      mAP50  mAP50-95): 100%|██████████| 840/840 [02:20<00:00,  5.96it/s]\n"
     ]
    },
    {
     "name": "stdout",
     "output_type": "stream",
     "text": [
      "                   all      26863     142020      0.527      0.325      0.348       0.21\n",
      "\n",
      "      Epoch    GPU_mem   box_loss   cls_loss   dfl_loss  Instances       Size\n"
     ]
    },
    {
     "name": "stderr",
     "output_type": "stream",
     "text": [
      "     68/100      3.95G      1.287      1.091      1.106         20        640: 100%|██████████| 2821/2821 [06:22<00:00,  7.38it/s]\n",
      "                 Class     Images  Instances      Box(P          R      mAP50  mAP50-95): 100%|██████████| 840/840 [02:22<00:00,  5.91it/s]\n"
     ]
    },
    {
     "name": "stdout",
     "output_type": "stream",
     "text": [
      "                   all      26863     142020      0.522      0.327      0.349       0.21\n",
      "\n",
      "      Epoch    GPU_mem   box_loss   cls_loss   dfl_loss  Instances       Size\n"
     ]
    },
    {
     "name": "stderr",
     "output_type": "stream",
     "text": [
      "     69/100      3.95G      1.283      1.087      1.103         22        640: 100%|██████████| 2821/2821 [06:22<00:00,  7.37it/s]\n",
      "                 Class     Images  Instances      Box(P          R      mAP50  mAP50-95): 100%|██████████| 840/840 [02:21<00:00,  5.95it/s]\n"
     ]
    },
    {
     "name": "stdout",
     "output_type": "stream",
     "text": [
      "                   all      26863     142020      0.525      0.327      0.349      0.211\n",
      "\n",
      "      Epoch    GPU_mem   box_loss   cls_loss   dfl_loss  Instances       Size\n"
     ]
    },
    {
     "name": "stderr",
     "output_type": "stream",
     "text": [
      "     70/100      3.95G       1.28      1.081        1.1         27        640: 100%|██████████| 2821/2821 [06:20<00:00,  7.41it/s]\n",
      "                 Class     Images  Instances      Box(P          R      mAP50  mAP50-95): 100%|██████████| 840/840 [02:21<00:00,  5.93it/s]\n"
     ]
    },
    {
     "name": "stdout",
     "output_type": "stream",
     "text": [
      "                   all      26863     142020      0.523      0.328       0.35      0.211\n",
      "\n",
      "      Epoch    GPU_mem   box_loss   cls_loss   dfl_loss  Instances       Size\n"
     ]
    },
    {
     "name": "stderr",
     "output_type": "stream",
     "text": [
      "     71/100      3.95G      1.275      1.073      1.098         14        640: 100%|██████████| 2821/2821 [06:20<00:00,  7.42it/s]\n",
      "                 Class     Images  Instances      Box(P          R      mAP50  mAP50-95): 100%|██████████| 840/840 [02:22<00:00,  5.90it/s]\n"
     ]
    },
    {
     "name": "stdout",
     "output_type": "stream",
     "text": [
      "                   all      26863     142020      0.542      0.327       0.35      0.212\n",
      "\n",
      "      Epoch    GPU_mem   box_loss   cls_loss   dfl_loss  Instances       Size\n"
     ]
    },
    {
     "name": "stderr",
     "output_type": "stream",
     "text": [
      "     72/100      3.95G      1.271      1.071      1.095         18        640: 100%|██████████| 2821/2821 [06:21<00:00,  7.40it/s]\n",
      "                 Class     Images  Instances      Box(P          R      mAP50  mAP50-95): 100%|██████████| 840/840 [02:21<00:00,  5.94it/s]\n"
     ]
    },
    {
     "name": "stdout",
     "output_type": "stream",
     "text": [
      "                   all      26863     142020       0.55      0.327      0.351      0.212\n",
      "\n",
      "      Epoch    GPU_mem   box_loss   cls_loss   dfl_loss  Instances       Size\n"
     ]
    },
    {
     "name": "stderr",
     "output_type": "stream",
     "text": [
      "     73/100      3.95G      1.271      1.072      1.096         11        640: 100%|██████████| 2821/2821 [06:21<00:00,  7.40it/s]\n",
      "                 Class     Images  Instances      Box(P          R      mAP50  mAP50-95): 100%|██████████| 840/840 [02:22<00:00,  5.90it/s]\n"
     ]
    },
    {
     "name": "stdout",
     "output_type": "stream",
     "text": [
      "                   all      26863     142020      0.554      0.328      0.352      0.212\n",
      "\n",
      "      Epoch    GPU_mem   box_loss   cls_loss   dfl_loss  Instances       Size\n"
     ]
    },
    {
     "name": "stderr",
     "output_type": "stream",
     "text": [
      "     74/100      3.95G      1.268      1.064      1.094         17        640: 100%|██████████| 2821/2821 [06:22<00:00,  7.38it/s]\n",
      "                 Class     Images  Instances      Box(P          R      mAP50  mAP50-95): 100%|██████████| 840/840 [02:20<00:00,  5.96it/s]\n"
     ]
    },
    {
     "name": "stdout",
     "output_type": "stream",
     "text": [
      "                   all      26863     142020      0.556      0.328      0.352      0.213\n",
      "\n",
      "      Epoch    GPU_mem   box_loss   cls_loss   dfl_loss  Instances       Size\n"
     ]
    },
    {
     "name": "stderr",
     "output_type": "stream",
     "text": [
      "     75/100      3.95G      1.262      1.059      1.093         28        640: 100%|██████████| 2821/2821 [06:21<00:00,  7.39it/s]\n",
      "                 Class     Images  Instances      Box(P          R      mAP50  mAP50-95): 100%|██████████| 840/840 [02:21<00:00,  5.95it/s]\n"
     ]
    },
    {
     "name": "stdout",
     "output_type": "stream",
     "text": [
      "                   all      26863     142020      0.549      0.328      0.352      0.213\n",
      "\n",
      "      Epoch    GPU_mem   box_loss   cls_loss   dfl_loss  Instances       Size\n"
     ]
    },
    {
     "name": "stderr",
     "output_type": "stream",
     "text": [
      "     76/100      3.95G       1.26      1.057      1.091         16        640: 100%|██████████| 2821/2821 [06:20<00:00,  7.42it/s]\n",
      "                 Class     Images  Instances      Box(P          R      mAP50  mAP50-95): 100%|██████████| 840/840 [02:21<00:00,  5.95it/s]\n"
     ]
    },
    {
     "name": "stdout",
     "output_type": "stream",
     "text": [
      "                   all      26863     142020      0.563      0.328      0.352      0.213\n",
      "\n",
      "      Epoch    GPU_mem   box_loss   cls_loss   dfl_loss  Instances       Size\n"
     ]
    },
    {
     "name": "stderr",
     "output_type": "stream",
     "text": [
      "     77/100      3.95G      1.257      1.047      1.089         26        640: 100%|██████████| 2821/2821 [06:23<00:00,  7.36it/s]\n",
      "                 Class     Images  Instances      Box(P          R      mAP50  mAP50-95): 100%|██████████| 840/840 [02:27<00:00,  5.70it/s]\n"
     ]
    },
    {
     "name": "stdout",
     "output_type": "stream",
     "text": [
      "                   all      26863     142020      0.556      0.328      0.353      0.213\n",
      "\n",
      "      Epoch    GPU_mem   box_loss   cls_loss   dfl_loss  Instances       Size\n"
     ]
    },
    {
     "name": "stderr",
     "output_type": "stream",
     "text": [
      "     78/100      3.95G      1.256      1.046      1.088         35        640: 100%|██████████| 2821/2821 [06:23<00:00,  7.35it/s]\n",
      "                 Class     Images  Instances      Box(P          R      mAP50  mAP50-95): 100%|██████████| 840/840 [02:21<00:00,  5.93it/s]\n"
     ]
    },
    {
     "name": "stdout",
     "output_type": "stream",
     "text": [
      "                   all      26863     142020      0.549      0.329      0.353      0.214\n",
      "\n",
      "      Epoch    GPU_mem   box_loss   cls_loss   dfl_loss  Instances       Size\n"
     ]
    },
    {
     "name": "stderr",
     "output_type": "stream",
     "text": [
      "     79/100      3.95G      1.247      1.037      1.084         40        640: 100%|██████████| 2821/2821 [06:18<00:00,  7.46it/s]\n",
      "                 Class     Images  Instances      Box(P          R      mAP50  mAP50-95): 100%|██████████| 840/840 [02:21<00:00,  5.92it/s]\n"
     ]
    },
    {
     "name": "stdout",
     "output_type": "stream",
     "text": [
      "                   all      26863     142020       0.55      0.329      0.353      0.214\n",
      "\n",
      "      Epoch    GPU_mem   box_loss   cls_loss   dfl_loss  Instances       Size\n"
     ]
    },
    {
     "name": "stderr",
     "output_type": "stream",
     "text": [
      "     80/100      3.95G      1.247      1.037      1.085         24        640: 100%|██████████| 2821/2821 [06:19<00:00,  7.44it/s]\n",
      "                 Class     Images  Instances      Box(P          R      mAP50  mAP50-95): 100%|██████████| 840/840 [02:21<00:00,  5.93it/s]\n"
     ]
    },
    {
     "name": "stdout",
     "output_type": "stream",
     "text": [
      "                   all      26863     142020      0.559       0.33      0.354      0.214\n",
      "\n",
      "      Epoch    GPU_mem   box_loss   cls_loss   dfl_loss  Instances       Size\n"
     ]
    },
    {
     "name": "stderr",
     "output_type": "stream",
     "text": [
      "     81/100      3.95G       1.24      1.031      1.083         36        640: 100%|██████████| 2821/2821 [06:22<00:00,  7.38it/s]\n",
      "                 Class     Images  Instances      Box(P          R      mAP50  mAP50-95): 100%|██████████| 840/840 [02:21<00:00,  5.95it/s]\n"
     ]
    },
    {
     "name": "stdout",
     "output_type": "stream",
     "text": [
      "                   all      26863     142020      0.551      0.331      0.354      0.214\n",
      "\n",
      "      Epoch    GPU_mem   box_loss   cls_loss   dfl_loss  Instances       Size\n"
     ]
    },
    {
     "name": "stderr",
     "output_type": "stream",
     "text": [
      "     82/100      3.95G      1.241       1.03      1.082         29        640: 100%|██████████| 2821/2821 [06:20<00:00,  7.41it/s]\n",
      "                 Class     Images  Instances      Box(P          R      mAP50  mAP50-95): 100%|██████████| 840/840 [02:21<00:00,  5.93it/s]\n"
     ]
    },
    {
     "name": "stdout",
     "output_type": "stream",
     "text": [
      "                   all      26863     142020      0.567      0.331      0.354      0.214\n",
      "\n",
      "      Epoch    GPU_mem   box_loss   cls_loss   dfl_loss  Instances       Size\n"
     ]
    },
    {
     "name": "stderr",
     "output_type": "stream",
     "text": [
      "     83/100      3.95G      1.236      1.021      1.078         32        640: 100%|██████████| 2821/2821 [06:20<00:00,  7.42it/s]\n",
      "                 Class     Images  Instances      Box(P          R      mAP50  mAP50-95): 100%|██████████| 840/840 [02:21<00:00,  5.95it/s]\n"
     ]
    },
    {
     "name": "stdout",
     "output_type": "stream",
     "text": [
      "                   all      26863     142020      0.569      0.331      0.354      0.215\n",
      "\n",
      "      Epoch    GPU_mem   box_loss   cls_loss   dfl_loss  Instances       Size\n"
     ]
    },
    {
     "name": "stderr",
     "output_type": "stream",
     "text": [
      "     84/100      3.95G      1.233      1.018      1.078         15        640: 100%|██████████| 2821/2821 [06:20<00:00,  7.42it/s]\n",
      "                 Class     Images  Instances      Box(P          R      mAP50  mAP50-95): 100%|██████████| 840/840 [02:21<00:00,  5.95it/s]\n"
     ]
    },
    {
     "name": "stdout",
     "output_type": "stream",
     "text": [
      "                   all      26863     142020      0.568       0.33      0.355      0.215\n",
      "\n",
      "      Epoch    GPU_mem   box_loss   cls_loss   dfl_loss  Instances       Size\n"
     ]
    },
    {
     "name": "stderr",
     "output_type": "stream",
     "text": [
      "     85/100      3.95G      1.229      1.016      1.077         43        640: 100%|██████████| 2821/2821 [06:21<00:00,  7.39it/s]\n",
      "                 Class     Images  Instances      Box(P          R      mAP50  mAP50-95): 100%|██████████| 840/840 [02:21<00:00,  5.94it/s]\n"
     ]
    },
    {
     "name": "stdout",
     "output_type": "stream",
     "text": [
      "                   all      26863     142020      0.563      0.332      0.355      0.215\n",
      "\n",
      "      Epoch    GPU_mem   box_loss   cls_loss   dfl_loss  Instances       Size\n"
     ]
    },
    {
     "name": "stderr",
     "output_type": "stream",
     "text": [
      "     86/100      3.95G      1.226       1.01      1.074         14        640: 100%|██████████| 2821/2821 [06:19<00:00,  7.43it/s]\n",
      "                 Class     Images  Instances      Box(P          R      mAP50  mAP50-95): 100%|██████████| 840/840 [02:21<00:00,  5.94it/s]\n"
     ]
    },
    {
     "name": "stdout",
     "output_type": "stream",
     "text": [
      "                   all      26863     142020       0.57      0.331      0.355      0.215\n",
      "\n",
      "      Epoch    GPU_mem   box_loss   cls_loss   dfl_loss  Instances       Size\n"
     ]
    },
    {
     "name": "stderr",
     "output_type": "stream",
     "text": [
      "     87/100      3.95G       1.22      1.003      1.071         32        640: 100%|██████████| 2821/2821 [06:22<00:00,  7.38it/s]\n",
      "                 Class     Images  Instances      Box(P          R      mAP50  mAP50-95): 100%|██████████| 840/840 [02:21<00:00,  5.92it/s]\n"
     ]
    },
    {
     "name": "stdout",
     "output_type": "stream",
     "text": [
      "                   all      26863     142020      0.569      0.331      0.356      0.215\n",
      "\n",
      "      Epoch    GPU_mem   box_loss   cls_loss   dfl_loss  Instances       Size\n"
     ]
    },
    {
     "name": "stderr",
     "output_type": "stream",
     "text": [
      "     88/100      3.95G      1.216     0.9956       1.07          8        640: 100%|██████████| 2821/2821 [06:21<00:00,  7.39it/s]\n",
      "                 Class     Images  Instances      Box(P          R      mAP50  mAP50-95): 100%|██████████| 840/840 [02:21<00:00,  5.93it/s]\n"
     ]
    },
    {
     "name": "stdout",
     "output_type": "stream",
     "text": [
      "                   all      26863     142020      0.574       0.33      0.356      0.216\n",
      "\n",
      "      Epoch    GPU_mem   box_loss   cls_loss   dfl_loss  Instances       Size\n"
     ]
    },
    {
     "name": "stderr",
     "output_type": "stream",
     "text": [
      "     89/100      3.95G      1.212     0.9917      1.068         33        640: 100%|██████████| 2821/2821 [06:22<00:00,  7.37it/s]\n",
      "                 Class     Images  Instances      Box(P          R      mAP50  mAP50-95): 100%|██████████| 840/840 [02:21<00:00,  5.93it/s]\n"
     ]
    },
    {
     "name": "stdout",
     "output_type": "stream",
     "text": [
      "                   all      26863     142020      0.577       0.33      0.356      0.216\n",
      "\n",
      "      Epoch    GPU_mem   box_loss   cls_loss   dfl_loss  Instances       Size\n"
     ]
    },
    {
     "name": "stderr",
     "output_type": "stream",
     "text": [
      "     90/100      3.95G      1.207     0.9873      1.065          2        640: 100%|██████████| 2821/2821 [06:21<00:00,  7.39it/s]\n",
      "                 Class     Images  Instances      Box(P          R      mAP50  mAP50-95): 100%|██████████| 840/840 [02:21<00:00,  5.93it/s]\n"
     ]
    },
    {
     "name": "stdout",
     "output_type": "stream",
     "text": [
      "                   all      26863     142020      0.577       0.33      0.356      0.216\n",
      "Closing dataloader mosaic\n",
      "\n",
      "      Epoch    GPU_mem   box_loss   cls_loss   dfl_loss  Instances       Size\n"
     ]
    },
    {
     "name": "stderr",
     "output_type": "stream",
     "text": [
      "     91/100      3.95G       1.18     0.9345       1.06         10        640: 100%|██████████| 2821/2821 [06:13<00:00,  7.56it/s]\n",
      "                 Class     Images  Instances      Box(P          R      mAP50  mAP50-95): 100%|██████████| 840/840 [02:23<00:00,  5.87it/s]\n"
     ]
    },
    {
     "name": "stdout",
     "output_type": "stream",
     "text": [
      "                   all      26863     142020      0.573      0.331      0.356      0.216\n",
      "\n",
      "      Epoch    GPU_mem   box_loss   cls_loss   dfl_loss  Instances       Size\n"
     ]
    },
    {
     "name": "stderr",
     "output_type": "stream",
     "text": [
      "     92/100      3.95G      1.171     0.9181      1.056         12        640: 100%|██████████| 2821/2821 [06:12<00:00,  7.58it/s]\n",
      "                 Class     Images  Instances      Box(P          R      mAP50  mAP50-95): 100%|██████████| 840/840 [02:21<00:00,  5.93it/s]\n"
     ]
    },
    {
     "name": "stdout",
     "output_type": "stream",
     "text": [
      "                   all      26863     142020      0.573       0.33      0.356      0.216\n",
      "\n",
      "      Epoch    GPU_mem   box_loss   cls_loss   dfl_loss  Instances       Size\n"
     ]
    },
    {
     "name": "stderr",
     "output_type": "stream",
     "text": [
      "     93/100      3.95G      1.166     0.9127      1.054         26        640: 100%|██████████| 2821/2821 [06:13<00:00,  7.55it/s]\n",
      "                 Class     Images  Instances      Box(P          R      mAP50  mAP50-95): 100%|██████████| 840/840 [02:21<00:00,  5.92it/s]\n"
     ]
    },
    {
     "name": "stdout",
     "output_type": "stream",
     "text": [
      "                   all      26863     142020      0.573      0.331      0.356      0.216\n",
      "\n",
      "      Epoch    GPU_mem   box_loss   cls_loss   dfl_loss  Instances       Size\n"
     ]
    },
    {
     "name": "stderr",
     "output_type": "stream",
     "text": [
      "     94/100      3.95G      1.157     0.9033      1.049         13        640: 100%|██████████| 2821/2821 [06:11<00:00,  7.58it/s]\n",
      "                 Class     Images  Instances      Box(P          R      mAP50  mAP50-95): 100%|██████████| 840/840 [02:21<00:00,  5.95it/s]\n"
     ]
    },
    {
     "name": "stdout",
     "output_type": "stream",
     "text": [
      "                   all      26863     142020      0.571      0.331      0.356      0.216\n",
      "\n",
      "      Epoch    GPU_mem   box_loss   cls_loss   dfl_loss  Instances       Size\n"
     ]
    },
    {
     "name": "stderr",
     "output_type": "stream",
     "text": [
      "     95/100      3.95G      1.153     0.8988      1.048          7        640: 100%|██████████| 2821/2821 [06:10<00:00,  7.62it/s]\n",
      "                 Class     Images  Instances      Box(P          R      mAP50  mAP50-95): 100%|██████████| 840/840 [02:21<00:00,  5.95it/s]\n"
     ]
    },
    {
     "name": "stdout",
     "output_type": "stream",
     "text": [
      "                   all      26863     142020      0.571      0.332      0.356      0.216\n",
      "\n",
      "      Epoch    GPU_mem   box_loss   cls_loss   dfl_loss  Instances       Size\n"
     ]
    },
    {
     "name": "stderr",
     "output_type": "stream",
     "text": [
      "     96/100      3.95G      1.145     0.8869      1.045         10        640: 100%|██████████| 2821/2821 [06:14<00:00,  7.53it/s]\n",
      "                 Class     Images  Instances      Box(P          R      mAP50  mAP50-95): 100%|██████████| 840/840 [02:22<00:00,  5.89it/s]\n"
     ]
    },
    {
     "name": "stdout",
     "output_type": "stream",
     "text": [
      "                   all      26863     142020      0.572      0.332      0.356      0.216\n",
      "\n",
      "      Epoch    GPU_mem   box_loss   cls_loss   dfl_loss  Instances       Size\n"
     ]
    },
    {
     "name": "stderr",
     "output_type": "stream",
     "text": [
      "     97/100      3.95G      1.139     0.8809      1.044          1        640: 100%|██████████| 2821/2821 [06:12<00:00,  7.57it/s]\n",
      "                 Class     Images  Instances      Box(P          R      mAP50  mAP50-95): 100%|██████████| 840/840 [02:21<00:00,  5.94it/s]\n"
     ]
    },
    {
     "name": "stdout",
     "output_type": "stream",
     "text": [
      "                   all      26863     142020      0.573      0.332      0.356      0.216\n",
      "\n",
      "      Epoch    GPU_mem   box_loss   cls_loss   dfl_loss  Instances       Size\n"
     ]
    },
    {
     "name": "stderr",
     "output_type": "stream",
     "text": [
      "     98/100      3.95G      1.135     0.8754       1.04         31        640: 100%|██████████| 2821/2821 [06:13<00:00,  7.54it/s]\n",
      "                 Class     Images  Instances      Box(P          R      mAP50  mAP50-95): 100%|██████████| 840/840 [02:22<00:00,  5.90it/s]\n"
     ]
    },
    {
     "name": "stdout",
     "output_type": "stream",
     "text": [
      "                   all      26863     142020      0.575      0.332      0.356      0.216\n",
      "\n",
      "      Epoch    GPU_mem   box_loss   cls_loss   dfl_loss  Instances       Size\n"
     ]
    },
    {
     "name": "stderr",
     "output_type": "stream",
     "text": [
      "     99/100      3.95G      1.129     0.8674      1.038         13        640: 100%|██████████| 2821/2821 [06:10<00:00,  7.61it/s]\n",
      "                 Class     Images  Instances      Box(P          R      mAP50  mAP50-95): 100%|██████████| 840/840 [02:21<00:00,  5.95it/s]\n"
     ]
    },
    {
     "name": "stdout",
     "output_type": "stream",
     "text": [
      "                   all      26863     142020      0.575      0.332      0.356      0.216\n",
      "\n",
      "      Epoch    GPU_mem   box_loss   cls_loss   dfl_loss  Instances       Size\n"
     ]
    },
    {
     "name": "stderr",
     "output_type": "stream",
     "text": [
      "    100/100      3.95G      1.122     0.8582      1.035          7        640: 100%|██████████| 2821/2821 [06:13<00:00,  7.55it/s]\n",
      "                 Class     Images  Instances      Box(P          R      mAP50  mAP50-95): 100%|██████████| 840/840 [02:22<00:00,  5.91it/s]\n"
     ]
    },
    {
     "name": "stdout",
     "output_type": "stream",
     "text": [
      "                   all      26863     142020      0.576      0.332      0.356      0.216\n",
      "\n",
      "100 epochs completed in 14.831 hours.\n",
      "Optimizer stripped from runs\\detect\\train3\\weights\\last.pt, 5.5MB\n",
      "Optimizer stripped from runs\\detect\\train3\\weights\\best.pt, 5.5MB\n",
      "\n",
      "Validating runs\\detect\\train3\\weights\\best.pt...\n",
      "Ultralytics 8.3.148  Python-3.10.16 torch-2.7.1+cu126 CUDA:0 (NVIDIA GeForce RTX 4060, 8188MiB)\n",
      "YOLO11n summary (fused): 100 layers, 2,586,247 parameters, 0 gradients, 6.3 GFLOPs\n"
     ]
    },
    {
     "name": "stderr",
     "output_type": "stream",
     "text": [
      "                 Class     Images  Instances      Box(P          R      mAP50  mAP50-95): 100%|██████████| 840/840 [02:54<00:00,  4.82it/s]\n",
      "c:\\Users\\helen\\anaconda3\\envs\\yolov11\\lib\\site-packages\\ultralytics\\utils\\metrics.py:498: UserWarning: Glyph 51088 (\\N{HANGUL SYLLABLE JA}) missing from font(s) DejaVu Sans.\n",
      "  fig.savefig(plot_fname, dpi=250)\n",
      "c:\\Users\\helen\\anaconda3\\envs\\yolov11\\lib\\site-packages\\ultralytics\\utils\\metrics.py:498: UserWarning: Glyph 46041 (\\N{HANGUL SYLLABLE DONG}) missing from font(s) DejaVu Sans.\n",
      "  fig.savefig(plot_fname, dpi=250)\n",
      "c:\\Users\\helen\\anaconda3\\envs\\yolov11\\lib\\site-packages\\ultralytics\\utils\\metrics.py:498: UserWarning: Glyph 52264 (\\N{HANGUL SYLLABLE CA}) missing from font(s) DejaVu Sans.\n",
      "  fig.savefig(plot_fname, dpi=250)\n",
      "c:\\Users\\helen\\anaconda3\\envs\\yolov11\\lib\\site-packages\\ultralytics\\utils\\metrics.py:498: UserWarning: Glyph 48520 (\\N{HANGUL SYLLABLE BUL}) missing from font(s) DejaVu Sans.\n",
      "  fig.savefig(plot_fname, dpi=250)\n",
      "c:\\Users\\helen\\anaconda3\\envs\\yolov11\\lib\\site-packages\\ultralytics\\utils\\metrics.py:498: UserWarning: Glyph 48277 (\\N{HANGUL SYLLABLE BEOB}) missing from font(s) DejaVu Sans.\n",
      "  fig.savefig(plot_fname, dpi=250)\n",
      "c:\\Users\\helen\\anaconda3\\envs\\yolov11\\lib\\site-packages\\ultralytics\\utils\\metrics.py:498: UserWarning: Glyph 51452 (\\N{HANGUL SYLLABLE JU}) missing from font(s) DejaVu Sans.\n",
      "  fig.savefig(plot_fname, dpi=250)\n",
      "c:\\Users\\helen\\anaconda3\\envs\\yolov11\\lib\\site-packages\\ultralytics\\utils\\metrics.py:498: UserWarning: Glyph 51221 (\\N{HANGUL SYLLABLE JEONG}) missing from font(s) DejaVu Sans.\n",
      "  fig.savefig(plot_fname, dpi=250)\n",
      "c:\\Users\\helen\\anaconda3\\envs\\yolov11\\lib\\site-packages\\ultralytics\\utils\\metrics.py:498: UserWarning: Glyph 48372 (\\N{HANGUL SYLLABLE BO}) missing from font(s) DejaVu Sans.\n",
      "  fig.savefig(plot_fname, dpi=250)\n",
      "c:\\Users\\helen\\anaconda3\\envs\\yolov11\\lib\\site-packages\\ultralytics\\utils\\metrics.py:498: UserWarning: Glyph 54665 (\\N{HANGUL SYLLABLE HAENG}) missing from font(s) DejaVu Sans.\n",
      "  fig.savefig(plot_fname, dpi=250)\n",
      "c:\\Users\\helen\\anaconda3\\envs\\yolov11\\lib\\site-packages\\ultralytics\\utils\\metrics.py:498: UserWarning: Glyph 50976 (\\N{HANGUL SYLLABLE YU}) missing from font(s) DejaVu Sans.\n",
      "  fig.savefig(plot_fname, dpi=250)\n",
      "c:\\Users\\helen\\anaconda3\\envs\\yolov11\\lib\\site-packages\\ultralytics\\utils\\metrics.py:498: UserWarning: Glyph 47784 (\\N{HANGUL SYLLABLE MO}) missing from font(s) DejaVu Sans.\n",
      "  fig.savefig(plot_fname, dpi=250)\n",
      "c:\\Users\\helen\\anaconda3\\envs\\yolov11\\lib\\site-packages\\ultralytics\\utils\\metrics.py:498: UserWarning: Glyph 51204 (\\N{HANGUL SYLLABLE JEON}) missing from font(s) DejaVu Sans.\n",
      "  fig.savefig(plot_fname, dpi=250)\n",
      "c:\\Users\\helen\\anaconda3\\envs\\yolov11\\lib\\site-packages\\ultralytics\\utils\\metrics.py:498: UserWarning: Glyph 53413 (\\N{HANGUL SYLLABLE KIG}) missing from font(s) DejaVu Sans.\n",
      "  fig.savefig(plot_fname, dpi=250)\n",
      "c:\\Users\\helen\\anaconda3\\envs\\yolov11\\lib\\site-packages\\ultralytics\\utils\\metrics.py:498: UserWarning: Glyph 46300 (\\N{HANGUL SYLLABLE DEU}) missing from font(s) DejaVu Sans.\n",
      "  fig.savefig(plot_fname, dpi=250)\n",
      "c:\\Users\\helen\\anaconda3\\envs\\yolov11\\lib\\site-packages\\ultralytics\\utils\\metrics.py:498: UserWarning: Glyph 44144 (\\N{HANGUL SYLLABLE GEO}) missing from font(s) DejaVu Sans.\n",
      "  fig.savefig(plot_fname, dpi=250)\n",
      "c:\\Users\\helen\\anaconda3\\envs\\yolov11\\lib\\site-packages\\ultralytics\\utils\\metrics.py:498: UserWarning: Glyph 50724 (\\N{HANGUL SYLLABLE O}) missing from font(s) DejaVu Sans.\n",
      "  fig.savefig(plot_fname, dpi=250)\n",
      "c:\\Users\\helen\\anaconda3\\envs\\yolov11\\lib\\site-packages\\ultralytics\\utils\\metrics.py:498: UserWarning: Glyph 53664 (\\N{HANGUL SYLLABLE TO}) missing from font(s) DejaVu Sans.\n",
      "  fig.savefig(plot_fname, dpi=250)\n",
      "c:\\Users\\helen\\anaconda3\\envs\\yolov11\\lib\\site-packages\\ultralytics\\utils\\metrics.py:498: UserWarning: Glyph 48148 (\\N{HANGUL SYLLABLE BA}) missing from font(s) DejaVu Sans.\n",
      "  fig.savefig(plot_fname, dpi=250)\n",
      "c:\\Users\\helen\\anaconda3\\envs\\yolov11\\lib\\site-packages\\ultralytics\\utils\\metrics.py:498: UserWarning: Glyph 51060 (\\N{HANGUL SYLLABLE I}) missing from font(s) DejaVu Sans.\n",
      "  fig.savefig(plot_fname, dpi=250)\n",
      "c:\\Users\\helen\\anaconda3\\envs\\yolov11\\lib\\site-packages\\ultralytics\\utils\\metrics.py:498: UserWarning: Glyph 47932 (\\N{HANGUL SYLLABLE MUL}) missing from font(s) DejaVu Sans.\n",
      "  fig.savefig(plot_fname, dpi=250)\n",
      "c:\\Users\\helen\\anaconda3\\envs\\yolov11\\lib\\site-packages\\ultralytics\\utils\\metrics.py:498: UserWarning: Glyph 48380 (\\N{HANGUL SYLLABLE BOL}) missing from font(s) DejaVu Sans.\n",
      "  fig.savefig(plot_fname, dpi=250)\n",
      "c:\\Users\\helen\\anaconda3\\envs\\yolov11\\lib\\site-packages\\ultralytics\\utils\\metrics.py:498: UserWarning: Glyph 46972 (\\N{HANGUL SYLLABLE RA}) missing from font(s) DejaVu Sans.\n",
      "  fig.savefig(plot_fname, dpi=250)\n",
      "c:\\Users\\helen\\anaconda3\\envs\\yolov11\\lib\\site-packages\\ultralytics\\utils\\metrics.py:498: UserWarning: Glyph 48516 (\\N{HANGUL SYLLABLE BUN}) missing from font(s) DejaVu Sans.\n",
      "  fig.savefig(plot_fname, dpi=250)\n",
      "c:\\Users\\helen\\anaconda3\\envs\\yolov11\\lib\\site-packages\\ultralytics\\utils\\metrics.py:498: UserWarning: Glyph 47532 (\\N{HANGUL SYLLABLE RI}) missing from font(s) DejaVu Sans.\n",
      "  fig.savefig(plot_fname, dpi=250)\n",
      "c:\\Users\\helen\\anaconda3\\envs\\yolov11\\lib\\site-packages\\ultralytics\\utils\\metrics.py:498: UserWarning: Glyph 48393 (\\N{HANGUL SYLLABLE BONG}) missing from font(s) DejaVu Sans.\n",
      "  fig.savefig(plot_fname, dpi=250)\n",
      "c:\\Users\\helen\\anaconda3\\envs\\yolov11\\lib\\site-packages\\ultralytics\\utils\\metrics.py:498: UserWarning: Glyph 54364 (\\N{HANGUL SYLLABLE PYO}) missing from font(s) DejaVu Sans.\n",
      "  fig.savefig(plot_fname, dpi=250)\n",
      "c:\\Users\\helen\\anaconda3\\envs\\yolov11\\lib\\site-packages\\ultralytics\\utils\\metrics.py:498: UserWarning: Glyph 51648 (\\N{HANGUL SYLLABLE JI}) missing from font(s) DejaVu Sans.\n",
      "  fig.savefig(plot_fname, dpi=250)\n",
      "c:\\Users\\helen\\anaconda3\\envs\\yolov11\\lib\\site-packages\\ultralytics\\utils\\metrics.py:498: UserWarning: Glyph 54032 (\\N{HANGUL SYLLABLE PAN}) missing from font(s) DejaVu Sans.\n",
      "  fig.savefig(plot_fname, dpi=250)\n",
      "c:\\Users\\helen\\anaconda3\\envs\\yolov11\\lib\\site-packages\\ultralytics\\utils\\metrics.py:498: UserWarning: Glyph 44288 (\\N{HANGUL SYLLABLE GWAN}) missing from font(s) DejaVu Sans.\n",
      "  fig.savefig(plot_fname, dpi=250)\n",
      "c:\\Users\\helen\\anaconda3\\envs\\yolov11\\lib\\site-packages\\ultralytics\\utils\\metrics.py:498: UserWarning: Glyph 45824 (\\N{HANGUL SYLLABLE DAE}) missing from font(s) DejaVu Sans.\n",
      "  fig.savefig(plot_fname, dpi=250)\n",
      "c:\\Users\\helen\\anaconda3\\envs\\yolov11\\lib\\site-packages\\ultralytics\\utils\\metrics.py:498: UserWarning: Glyph 54945 (\\N{HANGUL SYLLABLE HOENG}) missing from font(s) DejaVu Sans.\n",
      "  fig.savefig(plot_fname, dpi=250)\n",
      "c:\\Users\\helen\\anaconda3\\envs\\yolov11\\lib\\site-packages\\ultralytics\\utils\\metrics.py:498: UserWarning: Glyph 45800 (\\N{HANGUL SYLLABLE DAN}) missing from font(s) DejaVu Sans.\n",
      "  fig.savefig(plot_fname, dpi=250)\n",
      "c:\\Users\\helen\\anaconda3\\envs\\yolov11\\lib\\site-packages\\ultralytics\\utils\\metrics.py:498: UserWarning: Glyph 46020 (\\N{HANGUL SYLLABLE DO}) missing from font(s) DejaVu Sans.\n",
      "  fig.savefig(plot_fname, dpi=250)\n",
      "c:\\Users\\helen\\anaconda3\\envs\\yolov11\\lib\\site-packages\\ultralytics\\utils\\metrics.py:498: UserWarning: Glyph 49888 (\\N{HANGUL SYLLABLE SIN}) missing from font(s) DejaVu Sans.\n",
      "  fig.savefig(plot_fname, dpi=250)\n",
      "c:\\Users\\helen\\anaconda3\\envs\\yolov11\\lib\\site-packages\\ultralytics\\utils\\metrics.py:498: UserWarning: Glyph 54840 (\\N{HANGUL SYLLABLE HO}) missing from font(s) DejaVu Sans.\n",
      "  fig.savefig(plot_fname, dpi=250)\n",
      "c:\\Users\\helen\\anaconda3\\envs\\yolov11\\lib\\site-packages\\ultralytics\\utils\\metrics.py:498: UserWarning: Glyph 46321 (\\N{HANGUL SYLLABLE DEUNG}) missing from font(s) DejaVu Sans.\n",
      "  fig.savefig(plot_fname, dpi=250)\n",
      "c:\\Users\\helen\\anaconda3\\envs\\yolov11\\lib\\site-packages\\ultralytics\\utils\\metrics.py:498: UserWarning: Glyph 51020 (\\N{HANGUL SYLLABLE EUM}) missing from font(s) DejaVu Sans.\n",
      "  fig.savefig(plot_fname, dpi=250)\n",
      "c:\\Users\\helen\\anaconda3\\envs\\yolov11\\lib\\site-packages\\ultralytics\\utils\\metrics.py:498: UserWarning: Glyph 49688 (\\N{HANGUL SYLLABLE SU}) missing from font(s) DejaVu Sans.\n",
      "  fig.savefig(plot_fname, dpi=250)\n",
      "c:\\Users\\helen\\anaconda3\\envs\\yolov11\\lib\\site-packages\\ultralytics\\utils\\metrics.py:498: UserWarning: Glyph 47588 (\\N{HANGUL SYLLABLE MAE}) missing from font(s) DejaVu Sans.\n",
      "  fig.savefig(plot_fname, dpi=250)\n",
      "c:\\Users\\helen\\anaconda3\\envs\\yolov11\\lib\\site-packages\\ultralytics\\utils\\metrics.py:498: UserWarning: Glyph 51216 (\\N{HANGUL SYLLABLE JEOM}) missing from font(s) DejaVu Sans.\n",
      "  fig.savefig(plot_fname, dpi=250)\n",
      "c:\\Users\\helen\\anaconda3\\envs\\yolov11\\lib\\site-packages\\ultralytics\\utils\\metrics.py:498: UserWarning: Glyph 54868 (\\N{HANGUL SYLLABLE HWA}) missing from font(s) DejaVu Sans.\n",
      "  fig.savefig(plot_fname, dpi=250)\n",
      "c:\\Users\\helen\\anaconda3\\envs\\yolov11\\lib\\site-packages\\ultralytics\\utils\\metrics.py:498: UserWarning: Glyph 51109 (\\N{HANGUL SYLLABLE JANG}) missing from font(s) DejaVu Sans.\n",
      "  fig.savefig(plot_fname, dpi=250)\n",
      "c:\\Users\\helen\\anaconda3\\envs\\yolov11\\lib\\site-packages\\ultralytics\\utils\\metrics.py:498: UserWarning: Glyph 49892 (\\N{HANGUL SYLLABLE SIL}) missing from font(s) DejaVu Sans.\n",
      "  fig.savefig(plot_fname, dpi=250)\n",
      "c:\\Users\\helen\\anaconda3\\envs\\yolov11\\lib\\site-packages\\ultralytics\\utils\\metrics.py:498: UserWarning: Glyph 53356 (\\N{HANGUL SYLLABLE KEU}) missing from font(s) DejaVu Sans.\n",
      "  fig.savefig(plot_fname, dpi=250)\n",
      "c:\\Users\\helen\\anaconda3\\envs\\yolov11\\lib\\site-packages\\ultralytics\\utils\\metrics.py:498: UserWarning: Glyph 47001 (\\N{HANGUL SYLLABLE RAEG}) missing from font(s) DejaVu Sans.\n",
      "  fig.savefig(plot_fname, dpi=250)\n",
      "c:\\Users\\helen\\anaconda3\\envs\\yolov11\\lib\\site-packages\\ultralytics\\utils\\metrics.py:498: UserWarning: Glyph 44208 (\\N{HANGUL SYLLABLE GYEOL}) missing from font(s) DejaVu Sans.\n",
      "  fig.savefig(plot_fname, dpi=250)\n",
      "c:\\Users\\helen\\anaconda3\\envs\\yolov11\\lib\\site-packages\\ultralytics\\utils\\metrics.py:498: UserWarning: Glyph 49552 (\\N{HANGUL SYLLABLE SON}) missing from font(s) DejaVu Sans.\n",
      "  fig.savefig(plot_fname, dpi=250)\n",
      "c:\\Users\\helen\\anaconda3\\envs\\yolov11\\lib\\site-packages\\ultralytics\\utils\\metrics.py:498: UserWarning: Glyph 46308 (\\N{HANGUL SYLLABLE DEUL}) missing from font(s) DejaVu Sans.\n",
      "  fig.savefig(plot_fname, dpi=250)\n",
      "c:\\Users\\helen\\anaconda3\\envs\\yolov11\\lib\\site-packages\\ultralytics\\utils\\metrics.py:498: UserWarning: Glyph 46904 (\\N{HANGUL SYLLABLE DDEUM}) missing from font(s) DejaVu Sans.\n",
      "  fig.savefig(plot_fname, dpi=250)\n",
      "c:\\Users\\helen\\anaconda3\\envs\\yolov11\\lib\\site-packages\\ultralytics\\utils\\metrics.py:498: UserWarning: Glyph 52840 (\\N{HANGUL SYLLABLE CIM}) missing from font(s) DejaVu Sans.\n",
      "  fig.savefig(plot_fname, dpi=250)\n",
      "c:\\Users\\helen\\anaconda3\\envs\\yolov11\\lib\\site-packages\\ultralytics\\utils\\metrics.py:498: UserWarning: Glyph 54616 (\\N{HANGUL SYLLABLE HA}) missing from font(s) DejaVu Sans.\n",
      "  fig.savefig(plot_fname, dpi=250)\n",
      "c:\\Users\\helen\\anaconda3\\envs\\yolov11\\lib\\site-packages\\ultralytics\\utils\\metrics.py:498: UserWarning: Glyph 44396 (\\N{HANGUL SYLLABLE GU}) missing from font(s) DejaVu Sans.\n",
      "  fig.savefig(plot_fname, dpi=250)\n",
      "c:\\Users\\helen\\anaconda3\\envs\\yolov11\\lib\\site-packages\\ultralytics\\utils\\metrics.py:498: UserWarning: Glyph 51088 (\\N{HANGUL SYLLABLE JA}) missing from font(s) DejaVu Sans.\n",
      "  fig.savefig(plot_fname, dpi=250)\n",
      "c:\\Users\\helen\\anaconda3\\envs\\yolov11\\lib\\site-packages\\ultralytics\\utils\\metrics.py:498: UserWarning: Glyph 46041 (\\N{HANGUL SYLLABLE DONG}) missing from font(s) DejaVu Sans.\n",
      "  fig.savefig(plot_fname, dpi=250)\n",
      "c:\\Users\\helen\\anaconda3\\envs\\yolov11\\lib\\site-packages\\ultralytics\\utils\\metrics.py:498: UserWarning: Glyph 52264 (\\N{HANGUL SYLLABLE CA}) missing from font(s) DejaVu Sans.\n",
      "  fig.savefig(plot_fname, dpi=250)\n",
      "c:\\Users\\helen\\anaconda3\\envs\\yolov11\\lib\\site-packages\\ultralytics\\utils\\metrics.py:498: UserWarning: Glyph 48520 (\\N{HANGUL SYLLABLE BUL}) missing from font(s) DejaVu Sans.\n",
      "  fig.savefig(plot_fname, dpi=250)\n",
      "c:\\Users\\helen\\anaconda3\\envs\\yolov11\\lib\\site-packages\\ultralytics\\utils\\metrics.py:498: UserWarning: Glyph 48277 (\\N{HANGUL SYLLABLE BEOB}) missing from font(s) DejaVu Sans.\n",
      "  fig.savefig(plot_fname, dpi=250)\n",
      "c:\\Users\\helen\\anaconda3\\envs\\yolov11\\lib\\site-packages\\ultralytics\\utils\\metrics.py:498: UserWarning: Glyph 51452 (\\N{HANGUL SYLLABLE JU}) missing from font(s) DejaVu Sans.\n",
      "  fig.savefig(plot_fname, dpi=250)\n",
      "c:\\Users\\helen\\anaconda3\\envs\\yolov11\\lib\\site-packages\\ultralytics\\utils\\metrics.py:498: UserWarning: Glyph 51221 (\\N{HANGUL SYLLABLE JEONG}) missing from font(s) DejaVu Sans.\n",
      "  fig.savefig(plot_fname, dpi=250)\n",
      "c:\\Users\\helen\\anaconda3\\envs\\yolov11\\lib\\site-packages\\ultralytics\\utils\\metrics.py:498: UserWarning: Glyph 48372 (\\N{HANGUL SYLLABLE BO}) missing from font(s) DejaVu Sans.\n",
      "  fig.savefig(plot_fname, dpi=250)\n",
      "c:\\Users\\helen\\anaconda3\\envs\\yolov11\\lib\\site-packages\\ultralytics\\utils\\metrics.py:498: UserWarning: Glyph 54665 (\\N{HANGUL SYLLABLE HAENG}) missing from font(s) DejaVu Sans.\n",
      "  fig.savefig(plot_fname, dpi=250)\n",
      "c:\\Users\\helen\\anaconda3\\envs\\yolov11\\lib\\site-packages\\ultralytics\\utils\\metrics.py:498: UserWarning: Glyph 50976 (\\N{HANGUL SYLLABLE YU}) missing from font(s) DejaVu Sans.\n",
      "  fig.savefig(plot_fname, dpi=250)\n",
      "c:\\Users\\helen\\anaconda3\\envs\\yolov11\\lib\\site-packages\\ultralytics\\utils\\metrics.py:498: UserWarning: Glyph 47784 (\\N{HANGUL SYLLABLE MO}) missing from font(s) DejaVu Sans.\n",
      "  fig.savefig(plot_fname, dpi=250)\n",
      "c:\\Users\\helen\\anaconda3\\envs\\yolov11\\lib\\site-packages\\ultralytics\\utils\\metrics.py:498: UserWarning: Glyph 51204 (\\N{HANGUL SYLLABLE JEON}) missing from font(s) DejaVu Sans.\n",
      "  fig.savefig(plot_fname, dpi=250)\n",
      "c:\\Users\\helen\\anaconda3\\envs\\yolov11\\lib\\site-packages\\ultralytics\\utils\\metrics.py:498: UserWarning: Glyph 53413 (\\N{HANGUL SYLLABLE KIG}) missing from font(s) DejaVu Sans.\n",
      "  fig.savefig(plot_fname, dpi=250)\n",
      "c:\\Users\\helen\\anaconda3\\envs\\yolov11\\lib\\site-packages\\ultralytics\\utils\\metrics.py:498: UserWarning: Glyph 46300 (\\N{HANGUL SYLLABLE DEU}) missing from font(s) DejaVu Sans.\n",
      "  fig.savefig(plot_fname, dpi=250)\n",
      "c:\\Users\\helen\\anaconda3\\envs\\yolov11\\lib\\site-packages\\ultralytics\\utils\\metrics.py:498: UserWarning: Glyph 44144 (\\N{HANGUL SYLLABLE GEO}) missing from font(s) DejaVu Sans.\n",
      "  fig.savefig(plot_fname, dpi=250)\n",
      "c:\\Users\\helen\\anaconda3\\envs\\yolov11\\lib\\site-packages\\ultralytics\\utils\\metrics.py:498: UserWarning: Glyph 50724 (\\N{HANGUL SYLLABLE O}) missing from font(s) DejaVu Sans.\n",
      "  fig.savefig(plot_fname, dpi=250)\n",
      "c:\\Users\\helen\\anaconda3\\envs\\yolov11\\lib\\site-packages\\ultralytics\\utils\\metrics.py:498: UserWarning: Glyph 53664 (\\N{HANGUL SYLLABLE TO}) missing from font(s) DejaVu Sans.\n",
      "  fig.savefig(plot_fname, dpi=250)\n",
      "c:\\Users\\helen\\anaconda3\\envs\\yolov11\\lib\\site-packages\\ultralytics\\utils\\metrics.py:498: UserWarning: Glyph 48148 (\\N{HANGUL SYLLABLE BA}) missing from font(s) DejaVu Sans.\n",
      "  fig.savefig(plot_fname, dpi=250)\n",
      "c:\\Users\\helen\\anaconda3\\envs\\yolov11\\lib\\site-packages\\ultralytics\\utils\\metrics.py:498: UserWarning: Glyph 51060 (\\N{HANGUL SYLLABLE I}) missing from font(s) DejaVu Sans.\n",
      "  fig.savefig(plot_fname, dpi=250)\n",
      "c:\\Users\\helen\\anaconda3\\envs\\yolov11\\lib\\site-packages\\ultralytics\\utils\\metrics.py:498: UserWarning: Glyph 47932 (\\N{HANGUL SYLLABLE MUL}) missing from font(s) DejaVu Sans.\n",
      "  fig.savefig(plot_fname, dpi=250)\n",
      "c:\\Users\\helen\\anaconda3\\envs\\yolov11\\lib\\site-packages\\ultralytics\\utils\\metrics.py:498: UserWarning: Glyph 48380 (\\N{HANGUL SYLLABLE BOL}) missing from font(s) DejaVu Sans.\n",
      "  fig.savefig(plot_fname, dpi=250)\n",
      "c:\\Users\\helen\\anaconda3\\envs\\yolov11\\lib\\site-packages\\ultralytics\\utils\\metrics.py:498: UserWarning: Glyph 46972 (\\N{HANGUL SYLLABLE RA}) missing from font(s) DejaVu Sans.\n",
      "  fig.savefig(plot_fname, dpi=250)\n",
      "c:\\Users\\helen\\anaconda3\\envs\\yolov11\\lib\\site-packages\\ultralytics\\utils\\metrics.py:498: UserWarning: Glyph 48516 (\\N{HANGUL SYLLABLE BUN}) missing from font(s) DejaVu Sans.\n",
      "  fig.savefig(plot_fname, dpi=250)\n",
      "c:\\Users\\helen\\anaconda3\\envs\\yolov11\\lib\\site-packages\\ultralytics\\utils\\metrics.py:498: UserWarning: Glyph 47532 (\\N{HANGUL SYLLABLE RI}) missing from font(s) DejaVu Sans.\n",
      "  fig.savefig(plot_fname, dpi=250)\n",
      "c:\\Users\\helen\\anaconda3\\envs\\yolov11\\lib\\site-packages\\ultralytics\\utils\\metrics.py:498: UserWarning: Glyph 48393 (\\N{HANGUL SYLLABLE BONG}) missing from font(s) DejaVu Sans.\n",
      "  fig.savefig(plot_fname, dpi=250)\n",
      "c:\\Users\\helen\\anaconda3\\envs\\yolov11\\lib\\site-packages\\ultralytics\\utils\\metrics.py:498: UserWarning: Glyph 54364 (\\N{HANGUL SYLLABLE PYO}) missing from font(s) DejaVu Sans.\n",
      "  fig.savefig(plot_fname, dpi=250)\n",
      "c:\\Users\\helen\\anaconda3\\envs\\yolov11\\lib\\site-packages\\ultralytics\\utils\\metrics.py:498: UserWarning: Glyph 51648 (\\N{HANGUL SYLLABLE JI}) missing from font(s) DejaVu Sans.\n",
      "  fig.savefig(plot_fname, dpi=250)\n",
      "c:\\Users\\helen\\anaconda3\\envs\\yolov11\\lib\\site-packages\\ultralytics\\utils\\metrics.py:498: UserWarning: Glyph 54032 (\\N{HANGUL SYLLABLE PAN}) missing from font(s) DejaVu Sans.\n",
      "  fig.savefig(plot_fname, dpi=250)\n",
      "c:\\Users\\helen\\anaconda3\\envs\\yolov11\\lib\\site-packages\\ultralytics\\utils\\metrics.py:498: UserWarning: Glyph 44288 (\\N{HANGUL SYLLABLE GWAN}) missing from font(s) DejaVu Sans.\n",
      "  fig.savefig(plot_fname, dpi=250)\n",
      "c:\\Users\\helen\\anaconda3\\envs\\yolov11\\lib\\site-packages\\ultralytics\\utils\\metrics.py:498: UserWarning: Glyph 45824 (\\N{HANGUL SYLLABLE DAE}) missing from font(s) DejaVu Sans.\n",
      "  fig.savefig(plot_fname, dpi=250)\n",
      "c:\\Users\\helen\\anaconda3\\envs\\yolov11\\lib\\site-packages\\ultralytics\\utils\\metrics.py:498: UserWarning: Glyph 54945 (\\N{HANGUL SYLLABLE HOENG}) missing from font(s) DejaVu Sans.\n",
      "  fig.savefig(plot_fname, dpi=250)\n",
      "c:\\Users\\helen\\anaconda3\\envs\\yolov11\\lib\\site-packages\\ultralytics\\utils\\metrics.py:498: UserWarning: Glyph 45800 (\\N{HANGUL SYLLABLE DAN}) missing from font(s) DejaVu Sans.\n",
      "  fig.savefig(plot_fname, dpi=250)\n",
      "c:\\Users\\helen\\anaconda3\\envs\\yolov11\\lib\\site-packages\\ultralytics\\utils\\metrics.py:498: UserWarning: Glyph 46020 (\\N{HANGUL SYLLABLE DO}) missing from font(s) DejaVu Sans.\n",
      "  fig.savefig(plot_fname, dpi=250)\n",
      "c:\\Users\\helen\\anaconda3\\envs\\yolov11\\lib\\site-packages\\ultralytics\\utils\\metrics.py:498: UserWarning: Glyph 49888 (\\N{HANGUL SYLLABLE SIN}) missing from font(s) DejaVu Sans.\n",
      "  fig.savefig(plot_fname, dpi=250)\n",
      "c:\\Users\\helen\\anaconda3\\envs\\yolov11\\lib\\site-packages\\ultralytics\\utils\\metrics.py:498: UserWarning: Glyph 54840 (\\N{HANGUL SYLLABLE HO}) missing from font(s) DejaVu Sans.\n",
      "  fig.savefig(plot_fname, dpi=250)\n",
      "c:\\Users\\helen\\anaconda3\\envs\\yolov11\\lib\\site-packages\\ultralytics\\utils\\metrics.py:498: UserWarning: Glyph 46321 (\\N{HANGUL SYLLABLE DEUNG}) missing from font(s) DejaVu Sans.\n",
      "  fig.savefig(plot_fname, dpi=250)\n",
      "c:\\Users\\helen\\anaconda3\\envs\\yolov11\\lib\\site-packages\\ultralytics\\utils\\metrics.py:498: UserWarning: Glyph 51020 (\\N{HANGUL SYLLABLE EUM}) missing from font(s) DejaVu Sans.\n",
      "  fig.savefig(plot_fname, dpi=250)\n",
      "c:\\Users\\helen\\anaconda3\\envs\\yolov11\\lib\\site-packages\\ultralytics\\utils\\metrics.py:498: UserWarning: Glyph 49688 (\\N{HANGUL SYLLABLE SU}) missing from font(s) DejaVu Sans.\n",
      "  fig.savefig(plot_fname, dpi=250)\n",
      "c:\\Users\\helen\\anaconda3\\envs\\yolov11\\lib\\site-packages\\ultralytics\\utils\\metrics.py:498: UserWarning: Glyph 47588 (\\N{HANGUL SYLLABLE MAE}) missing from font(s) DejaVu Sans.\n",
      "  fig.savefig(plot_fname, dpi=250)\n",
      "c:\\Users\\helen\\anaconda3\\envs\\yolov11\\lib\\site-packages\\ultralytics\\utils\\metrics.py:498: UserWarning: Glyph 51216 (\\N{HANGUL SYLLABLE JEOM}) missing from font(s) DejaVu Sans.\n",
      "  fig.savefig(plot_fname, dpi=250)\n",
      "c:\\Users\\helen\\anaconda3\\envs\\yolov11\\lib\\site-packages\\ultralytics\\utils\\metrics.py:498: UserWarning: Glyph 54868 (\\N{HANGUL SYLLABLE HWA}) missing from font(s) DejaVu Sans.\n",
      "  fig.savefig(plot_fname, dpi=250)\n",
      "c:\\Users\\helen\\anaconda3\\envs\\yolov11\\lib\\site-packages\\ultralytics\\utils\\metrics.py:498: UserWarning: Glyph 51109 (\\N{HANGUL SYLLABLE JANG}) missing from font(s) DejaVu Sans.\n",
      "  fig.savefig(plot_fname, dpi=250)\n",
      "c:\\Users\\helen\\anaconda3\\envs\\yolov11\\lib\\site-packages\\ultralytics\\utils\\metrics.py:498: UserWarning: Glyph 49892 (\\N{HANGUL SYLLABLE SIL}) missing from font(s) DejaVu Sans.\n",
      "  fig.savefig(plot_fname, dpi=250)\n",
      "c:\\Users\\helen\\anaconda3\\envs\\yolov11\\lib\\site-packages\\ultralytics\\utils\\metrics.py:498: UserWarning: Glyph 53356 (\\N{HANGUL SYLLABLE KEU}) missing from font(s) DejaVu Sans.\n",
      "  fig.savefig(plot_fname, dpi=250)\n",
      "c:\\Users\\helen\\anaconda3\\envs\\yolov11\\lib\\site-packages\\ultralytics\\utils\\metrics.py:498: UserWarning: Glyph 47001 (\\N{HANGUL SYLLABLE RAEG}) missing from font(s) DejaVu Sans.\n",
      "  fig.savefig(plot_fname, dpi=250)\n",
      "c:\\Users\\helen\\anaconda3\\envs\\yolov11\\lib\\site-packages\\ultralytics\\utils\\metrics.py:498: UserWarning: Glyph 44208 (\\N{HANGUL SYLLABLE GYEOL}) missing from font(s) DejaVu Sans.\n",
      "  fig.savefig(plot_fname, dpi=250)\n",
      "c:\\Users\\helen\\anaconda3\\envs\\yolov11\\lib\\site-packages\\ultralytics\\utils\\metrics.py:498: UserWarning: Glyph 49552 (\\N{HANGUL SYLLABLE SON}) missing from font(s) DejaVu Sans.\n",
      "  fig.savefig(plot_fname, dpi=250)\n",
      "c:\\Users\\helen\\anaconda3\\envs\\yolov11\\lib\\site-packages\\ultralytics\\utils\\metrics.py:498: UserWarning: Glyph 46308 (\\N{HANGUL SYLLABLE DEUL}) missing from font(s) DejaVu Sans.\n",
      "  fig.savefig(plot_fname, dpi=250)\n",
      "c:\\Users\\helen\\anaconda3\\envs\\yolov11\\lib\\site-packages\\ultralytics\\utils\\metrics.py:498: UserWarning: Glyph 46904 (\\N{HANGUL SYLLABLE DDEUM}) missing from font(s) DejaVu Sans.\n",
      "  fig.savefig(plot_fname, dpi=250)\n",
      "c:\\Users\\helen\\anaconda3\\envs\\yolov11\\lib\\site-packages\\ultralytics\\utils\\metrics.py:498: UserWarning: Glyph 52840 (\\N{HANGUL SYLLABLE CIM}) missing from font(s) DejaVu Sans.\n",
      "  fig.savefig(plot_fname, dpi=250)\n",
      "c:\\Users\\helen\\anaconda3\\envs\\yolov11\\lib\\site-packages\\ultralytics\\utils\\metrics.py:498: UserWarning: Glyph 54616 (\\N{HANGUL SYLLABLE HA}) missing from font(s) DejaVu Sans.\n",
      "  fig.savefig(plot_fname, dpi=250)\n",
      "c:\\Users\\helen\\anaconda3\\envs\\yolov11\\lib\\site-packages\\ultralytics\\utils\\metrics.py:498: UserWarning: Glyph 44396 (\\N{HANGUL SYLLABLE GU}) missing from font(s) DejaVu Sans.\n",
      "  fig.savefig(plot_fname, dpi=250)\n"
     ]
    },
    {
     "name": "stdout",
     "output_type": "stream",
     "text": [
      "                   all      26863     142020      0.571      0.331      0.356      0.216\n",
      "            ()       9457      21631      0.751      0.779      0.828      0.584\n",
      "                         12956      56148      0.816      0.577      0.702       0.43\n",
      "                           616        800      0.451       0.14      0.162      0.069\n",
      "                        1528       2138      0.657      0.286      0.364      0.188\n",
      "                          7024      21010      0.621      0.524      0.558      0.314\n",
      "                         1648       2106      0.632      0.538       0.57      0.304\n",
      "                            293        341      0.519     0.0352     0.0554     0.0254\n",
      "                          2170       4309      0.738      0.784      0.804      0.549\n",
      "                          1745       4955      0.737      0.812      0.847      0.565\n",
      "                          5840       9057      0.722      0.653       0.71      0.413\n",
      "                        613        736      0.355      0.162       0.14     0.0617\n",
      "                         5039       5524      0.689       0.65      0.678      0.438\n",
      "                           598        622      0.526      0.405      0.395      0.188\n",
      "                           148        193      0.548      0.101      0.129     0.0852\n",
      "                            738       1116      0.505    0.00269     0.0144    0.00705\n",
      "                           736        864      0.463     0.0312     0.0888     0.0442\n",
      "                           4185       8636      0.397      0.229        0.2      0.106\n",
      "                            326        601      0.101    0.00333    0.00685    0.00265\n",
      "                             24         25          1          0          0          0\n",
      "                             32         36      0.352     0.0278     0.0257      0.018\n",
      "                          978       1172      0.414      0.218      0.205      0.144\n",
      "Speed: 0.2ms preprocess, 1.2ms inference, 0.0ms loss, 1.3ms postprocess per image\n",
      "Results saved to \u001b[1mruns\\detect\\train3\u001b[0m\n",
      "Ultralytics 8.3.148  Python-3.10.16 torch-2.7.1+cu126 CUDA:0 (NVIDIA GeForce RTX 4060, 8188MiB)\n",
      "YOLO11n summary (fused): 100 layers, 2,586,247 parameters, 0 gradients, 6.3 GFLOPs\n",
      "\u001b[34m\u001b[1mval: \u001b[0mFast image access  (ping: 0.10.0 ms, read: 776.5255.5 MB/s, size: 680.3 KB)\n"
     ]
    },
    {
     "name": "stderr",
     "output_type": "stream",
     "text": [
      "\u001b[34m\u001b[1mval: \u001b[0mScanning C:\\Users\\helen\\Desktop\\deep_sys_final\\data\\labels\\val.cache... 26863 images, 4353 backgrounds, 0 corrupt: 100%|██████████| 26863/26863 [00:00<?, ?it/s]"
     ]
    },
    {
     "name": "stdout",
     "output_type": "stream",
     "text": [
      "\u001b[34m\u001b[1mval: \u001b[0mC:\\Users\\helen\\Desktop\\deep_sys_final\\data\\images\\val\\R01_U01_C04_20220714_000049.jpg: corrupt JPEG restored and saved\n",
      "\u001b[34m\u001b[1mval: \u001b[0mC:\\Users\\helen\\Desktop\\deep_sys_final\\data\\images\\val\\R01_U01_C04_20220714_000051.jpg: corrupt JPEG restored and saved\n",
      "\u001b[34m\u001b[1mval: \u001b[0mC:\\Users\\helen\\Desktop\\deep_sys_final\\data\\images\\val\\R01_U01_C04_20220714_000072.jpg: corrupt JPEG restored and saved\n",
      "\u001b[34m\u001b[1mval: \u001b[0mC:\\Users\\helen\\Desktop\\deep_sys_final\\data\\images\\val\\R01_U01_C04_20220714_000074.jpg: corrupt JPEG restored and saved\n",
      "\u001b[34m\u001b[1mval: \u001b[0mC:\\Users\\helen\\Desktop\\deep_sys_final\\data\\images\\val\\R01_U01_C04_20220714_000087.jpg: corrupt JPEG restored and saved\n",
      "\u001b[34m\u001b[1mval: \u001b[0mC:\\Users\\helen\\Desktop\\deep_sys_final\\data\\images\\val\\R01_U01_C04_20220714_000102.jpg: corrupt JPEG restored and saved\n",
      "\u001b[34m\u001b[1mval: \u001b[0mC:\\Users\\helen\\Desktop\\deep_sys_final\\data\\images\\val\\R01_U01_C04_20220714_000104.jpg: corrupt JPEG restored and saved\n",
      "\u001b[34m\u001b[1mval: \u001b[0mC:\\Users\\helen\\Desktop\\deep_sys_final\\data\\images\\val\\R01_U01_C04_20220714_000112.jpg: corrupt JPEG restored and saved\n",
      "\u001b[34m\u001b[1mval: \u001b[0mC:\\Users\\helen\\Desktop\\deep_sys_final\\data\\images\\val\\R01_U01_C04_20220714_000123.jpg: corrupt JPEG restored and saved\n",
      "\u001b[34m\u001b[1mval: \u001b[0mC:\\Users\\helen\\Desktop\\deep_sys_final\\data\\images\\val\\R01_U01_C04_20220714_000126.jpg: corrupt JPEG restored and saved\n",
      "\u001b[34m\u001b[1mval: \u001b[0mC:\\Users\\helen\\Desktop\\deep_sys_final\\data\\images\\val\\R01_U01_C04_20220714_000132.jpg: corrupt JPEG restored and saved\n",
      "\u001b[34m\u001b[1mval: \u001b[0mC:\\Users\\helen\\Desktop\\deep_sys_final\\data\\images\\val\\R01_U01_C04_20220714_000136.jpg: corrupt JPEG restored and saved\n",
      "\u001b[34m\u001b[1mval: \u001b[0mC:\\Users\\helen\\Desktop\\deep_sys_final\\data\\images\\val\\R01_U01_C04_20220714_000143.jpg: corrupt JPEG restored and saved\n",
      "\u001b[34m\u001b[1mval: \u001b[0mC:\\Users\\helen\\Desktop\\deep_sys_final\\data\\images\\val\\R01_U01_C04_20220714_000148.jpg: corrupt JPEG restored and saved\n",
      "\u001b[34m\u001b[1mval: \u001b[0mC:\\Users\\helen\\Desktop\\deep_sys_final\\data\\images\\val\\R01_U01_C04_20220714_000154.jpg: corrupt JPEG restored and saved\n",
      "\u001b[34m\u001b[1mval: \u001b[0mC:\\Users\\helen\\Desktop\\deep_sys_final\\data\\images\\val\\R01_U01_C04_20220714_000155.jpg: corrupt JPEG restored and saved\n",
      "\u001b[34m\u001b[1mval: \u001b[0mC:\\Users\\helen\\Desktop\\deep_sys_final\\data\\images\\val\\R01_U01_C04_20220714_000181.jpg: corrupt JPEG restored and saved\n",
      "\u001b[34m\u001b[1mval: \u001b[0mC:\\Users\\helen\\Desktop\\deep_sys_final\\data\\images\\val\\R01_U01_C04_20220714_000187.jpg: corrupt JPEG restored and saved\n",
      "\u001b[34m\u001b[1mval: \u001b[0mC:\\Users\\helen\\Desktop\\deep_sys_final\\data\\images\\val\\R01_U01_C04_20220714_000190.jpg: corrupt JPEG restored and saved\n",
      "\u001b[34m\u001b[1mval: \u001b[0mC:\\Users\\helen\\Desktop\\deep_sys_final\\data\\images\\val\\R01_U01_C04_20220714_000209.jpg: corrupt JPEG restored and saved\n",
      "\u001b[34m\u001b[1mval: \u001b[0mC:\\Users\\helen\\Desktop\\deep_sys_final\\data\\images\\val\\R01_U01_C04_20220714_000220.jpg: corrupt JPEG restored and saved\n",
      "\u001b[34m\u001b[1mval: \u001b[0mC:\\Users\\helen\\Desktop\\deep_sys_final\\data\\images\\val\\R01_U01_C04_20220714_000228.jpg: corrupt JPEG restored and saved\n",
      "\u001b[34m\u001b[1mval: \u001b[0mC:\\Users\\helen\\Desktop\\deep_sys_final\\data\\images\\val\\R01_U01_C04_20220714_000235.jpg: corrupt JPEG restored and saved\n",
      "\u001b[34m\u001b[1mval: \u001b[0mC:\\Users\\helen\\Desktop\\deep_sys_final\\data\\images\\val\\R01_U01_C04_20220714_000243.jpg: corrupt JPEG restored and saved\n",
      "\u001b[34m\u001b[1mval: \u001b[0mC:\\Users\\helen\\Desktop\\deep_sys_final\\data\\images\\val\\R01_U01_C04_20220714_000273.jpg: corrupt JPEG restored and saved\n",
      "\u001b[34m\u001b[1mval: \u001b[0mC:\\Users\\helen\\Desktop\\deep_sys_final\\data\\images\\val\\R01_U01_C04_20220714_000277.jpg: corrupt JPEG restored and saved\n",
      "\u001b[34m\u001b[1mval: \u001b[0mC:\\Users\\helen\\Desktop\\deep_sys_final\\data\\images\\val\\R01_U01_C04_20220714_000287.jpg: corrupt JPEG restored and saved\n",
      "\u001b[34m\u001b[1mval: \u001b[0mC:\\Users\\helen\\Desktop\\deep_sys_final\\data\\images\\val\\R01_U01_C04_20220714_000293.jpg: corrupt JPEG restored and saved\n",
      "\u001b[34m\u001b[1mval: \u001b[0mC:\\Users\\helen\\Desktop\\deep_sys_final\\data\\images\\val\\R01_U01_C04_20220714_000316.jpg: corrupt JPEG restored and saved\n",
      "\u001b[34m\u001b[1mval: \u001b[0mC:\\Users\\helen\\Desktop\\deep_sys_final\\data\\images\\val\\R01_U01_C04_20220714_000352.jpg: corrupt JPEG restored and saved\n",
      "\u001b[34m\u001b[1mval: \u001b[0mC:\\Users\\helen\\Desktop\\deep_sys_final\\data\\images\\val\\R01_U01_C04_20220714_000360.jpg: corrupt JPEG restored and saved\n",
      "\u001b[34m\u001b[1mval: \u001b[0mC:\\Users\\helen\\Desktop\\deep_sys_final\\data\\images\\val\\R01_U01_C04_20220714_000401.jpg: corrupt JPEG restored and saved\n",
      "\u001b[34m\u001b[1mval: \u001b[0mC:\\Users\\helen\\Desktop\\deep_sys_final\\data\\images\\val\\R01_U01_C04_20220714_000414.jpg: corrupt JPEG restored and saved\n",
      "\u001b[34m\u001b[1mval: \u001b[0mC:\\Users\\helen\\Desktop\\deep_sys_final\\data\\images\\val\\R01_U01_C04_20220714_000441.jpg: corrupt JPEG restored and saved\n",
      "\u001b[34m\u001b[1mval: \u001b[0mC:\\Users\\helen\\Desktop\\deep_sys_final\\data\\images\\val\\R01_U01_C04_20220714_000442.jpg: corrupt JPEG restored and saved\n",
      "\u001b[34m\u001b[1mval: \u001b[0mC:\\Users\\helen\\Desktop\\deep_sys_final\\data\\images\\val\\R01_U01_C04_20220714_000469.jpg: corrupt JPEG restored and saved\n",
      "\u001b[34m\u001b[1mval: \u001b[0mC:\\Users\\helen\\Desktop\\deep_sys_final\\data\\images\\val\\R01_U01_C04_20220714_000470.jpg: corrupt JPEG restored and saved\n",
      "\u001b[34m\u001b[1mval: \u001b[0mC:\\Users\\helen\\Desktop\\deep_sys_final\\data\\images\\val\\R01_U01_C04_20220714_000481.jpg: corrupt JPEG restored and saved\n",
      "\u001b[34m\u001b[1mval: \u001b[0mC:\\Users\\helen\\Desktop\\deep_sys_final\\data\\images\\val\\R01_U01_C04_20220714_000484.jpg: corrupt JPEG restored and saved\n",
      "\u001b[34m\u001b[1mval: \u001b[0mC:\\Users\\helen\\Desktop\\deep_sys_final\\data\\images\\val\\R01_U01_C04_20220714_000486.jpg: corrupt JPEG restored and saved\n",
      "\u001b[34m\u001b[1mval: \u001b[0mC:\\Users\\helen\\Desktop\\deep_sys_final\\data\\images\\val\\R01_U01_C04_20220714_000487.jpg: corrupt JPEG restored and saved\n",
      "\u001b[34m\u001b[1mval: \u001b[0mC:\\Users\\helen\\Desktop\\deep_sys_final\\data\\images\\val\\R01_U01_C04_20220714_000491.jpg: corrupt JPEG restored and saved\n",
      "\u001b[34m\u001b[1mval: \u001b[0mC:\\Users\\helen\\Desktop\\deep_sys_final\\data\\images\\val\\R01_U01_C04_20220714_000519.jpg: corrupt JPEG restored and saved\n",
      "\u001b[34m\u001b[1mval: \u001b[0mC:\\Users\\helen\\Desktop\\deep_sys_final\\data\\images\\val\\R01_U01_C04_20220714_000522.jpg: corrupt JPEG restored and saved\n",
      "\u001b[34m\u001b[1mval: \u001b[0mC:\\Users\\helen\\Desktop\\deep_sys_final\\data\\images\\val\\R01_U01_C04_20220714_000524.jpg: corrupt JPEG restored and saved\n",
      "\u001b[34m\u001b[1mval: \u001b[0mC:\\Users\\helen\\Desktop\\deep_sys_final\\data\\images\\val\\R01_U01_C04_20220714_000530.jpg: corrupt JPEG restored and saved\n",
      "\u001b[34m\u001b[1mval: \u001b[0mC:\\Users\\helen\\Desktop\\deep_sys_final\\data\\images\\val\\R01_U01_C04_20220714_000559.jpg: corrupt JPEG restored and saved\n",
      "\u001b[34m\u001b[1mval: \u001b[0mC:\\Users\\helen\\Desktop\\deep_sys_final\\data\\images\\val\\R01_U01_C04_20220714_000560.jpg: corrupt JPEG restored and saved\n",
      "\u001b[34m\u001b[1mval: \u001b[0mC:\\Users\\helen\\Desktop\\deep_sys_final\\data\\images\\val\\R01_U01_C04_20220714_000567.jpg: corrupt JPEG restored and saved\n",
      "\u001b[34m\u001b[1mval: \u001b[0mC:\\Users\\helen\\Desktop\\deep_sys_final\\data\\images\\val\\R01_U01_C04_20220714_000612.jpg: corrupt JPEG restored and saved\n",
      "\u001b[34m\u001b[1mval: \u001b[0mC:\\Users\\helen\\Desktop\\deep_sys_final\\data\\images\\val\\R01_U01_C04_20220714_000663.jpg: corrupt JPEG restored and saved\n",
      "\u001b[34m\u001b[1mval: \u001b[0mC:\\Users\\helen\\Desktop\\deep_sys_final\\data\\images\\val\\R01_U01_C04_20220714_000666.jpg: corrupt JPEG restored and saved\n",
      "\u001b[34m\u001b[1mval: \u001b[0mC:\\Users\\helen\\Desktop\\deep_sys_final\\data\\images\\val\\R01_U01_C04_20220714_000667.jpg: corrupt JPEG restored and saved\n",
      "\u001b[34m\u001b[1mval: \u001b[0mC:\\Users\\helen\\Desktop\\deep_sys_final\\data\\images\\val\\R01_U01_C04_20220714_000698.jpg: corrupt JPEG restored and saved\n",
      "\u001b[34m\u001b[1mval: \u001b[0mC:\\Users\\helen\\Desktop\\deep_sys_final\\data\\images\\val\\R01_U01_C04_20220714_000739.jpg: corrupt JPEG restored and saved\n",
      "\u001b[34m\u001b[1mval: \u001b[0mC:\\Users\\helen\\Desktop\\deep_sys_final\\data\\images\\val\\R01_U01_C04_20220714_000769.jpg: corrupt JPEG restored and saved\n",
      "\u001b[34m\u001b[1mval: \u001b[0mC:\\Users\\helen\\Desktop\\deep_sys_final\\data\\images\\val\\R01_U01_C04_20220714_000777.jpg: corrupt JPEG restored and saved\n",
      "\u001b[34m\u001b[1mval: \u001b[0mC:\\Users\\helen\\Desktop\\deep_sys_final\\data\\images\\val\\R01_U01_C04_20220714_000780.jpg: corrupt JPEG restored and saved\n",
      "\u001b[34m\u001b[1mval: \u001b[0mC:\\Users\\helen\\Desktop\\deep_sys_final\\data\\images\\val\\R01_U01_C04_20220714_000798.jpg: corrupt JPEG restored and saved\n",
      "\u001b[34m\u001b[1mval: \u001b[0mC:\\Users\\helen\\Desktop\\deep_sys_final\\data\\images\\val\\R01_U01_C04_20220714_000811.jpg: corrupt JPEG restored and saved\n",
      "\u001b[34m\u001b[1mval: \u001b[0mC:\\Users\\helen\\Desktop\\deep_sys_final\\data\\images\\val\\R01_U01_C04_20220714_000818.jpg: corrupt JPEG restored and saved\n",
      "\u001b[34m\u001b[1mval: \u001b[0mC:\\Users\\helen\\Desktop\\deep_sys_final\\data\\images\\val\\R01_U01_C04_20220714_000836.jpg: corrupt JPEG restored and saved\n",
      "\u001b[34m\u001b[1mval: \u001b[0mC:\\Users\\helen\\Desktop\\deep_sys_final\\data\\images\\val\\R01_U01_C04_20220714_000864.jpg: corrupt JPEG restored and saved\n",
      "\u001b[34m\u001b[1mval: \u001b[0mC:\\Users\\helen\\Desktop\\deep_sys_final\\data\\images\\val\\R01_U01_C04_20220714_000866.jpg: corrupt JPEG restored and saved\n",
      "\u001b[34m\u001b[1mval: \u001b[0mC:\\Users\\helen\\Desktop\\deep_sys_final\\data\\images\\val\\R01_U01_C04_20220714_000953.jpg: corrupt JPEG restored and saved\n",
      "\u001b[34m\u001b[1mval: \u001b[0mC:\\Users\\helen\\Desktop\\deep_sys_final\\data\\images\\val\\R01_U01_C04_20220714_000972.jpg: corrupt JPEG restored and saved\n",
      "\u001b[34m\u001b[1mval: \u001b[0mC:\\Users\\helen\\Desktop\\deep_sys_final\\data\\images\\val\\R01_U01_C04_20220714_000980.jpg: corrupt JPEG restored and saved\n",
      "\u001b[34m\u001b[1mval: \u001b[0mC:\\Users\\helen\\Desktop\\deep_sys_final\\data\\images\\val\\R01_U01_C04_20220714_000998.jpg: corrupt JPEG restored and saved\n",
      "\u001b[34m\u001b[1mval: \u001b[0mC:\\Users\\helen\\Desktop\\deep_sys_final\\data\\images\\val\\R01_U01_C04_20220714_001017.jpg: corrupt JPEG restored and saved\n",
      "\u001b[34m\u001b[1mval: \u001b[0mC:\\Users\\helen\\Desktop\\deep_sys_final\\data\\images\\val\\R01_U01_C04_20220714_001020.jpg: corrupt JPEG restored and saved\n",
      "\u001b[34m\u001b[1mval: \u001b[0mC:\\Users\\helen\\Desktop\\deep_sys_final\\data\\images\\val\\R01_U01_C04_20220714_001028.jpg: corrupt JPEG restored and saved\n",
      "\u001b[34m\u001b[1mval: \u001b[0mC:\\Users\\helen\\Desktop\\deep_sys_final\\data\\images\\val\\R01_U01_C04_20220714_001037.jpg: corrupt JPEG restored and saved\n",
      "\u001b[34m\u001b[1mval: \u001b[0mC:\\Users\\helen\\Desktop\\deep_sys_final\\data\\images\\val\\R01_U01_C04_20220714_001040.jpg: corrupt JPEG restored and saved\n",
      "\u001b[34m\u001b[1mval: \u001b[0mC:\\Users\\helen\\Desktop\\deep_sys_final\\data\\images\\val\\R01_U01_C04_20220714_001092.jpg: corrupt JPEG restored and saved\n",
      "\u001b[34m\u001b[1mval: \u001b[0mC:\\Users\\helen\\Desktop\\deep_sys_final\\data\\images\\val\\R01_U01_C04_20220714_001115.jpg: corrupt JPEG restored and saved\n",
      "\u001b[34m\u001b[1mval: \u001b[0mC:\\Users\\helen\\Desktop\\deep_sys_final\\data\\images\\val\\R01_U01_C04_20220714_001120.jpg: corrupt JPEG restored and saved\n",
      "\u001b[34m\u001b[1mval: \u001b[0mC:\\Users\\helen\\Desktop\\deep_sys_final\\data\\images\\val\\R01_U01_C04_20220714_001121.jpg: corrupt JPEG restored and saved\n",
      "\u001b[34m\u001b[1mval: \u001b[0mC:\\Users\\helen\\Desktop\\deep_sys_final\\data\\images\\val\\R01_U01_C04_20220714_001127.jpg: corrupt JPEG restored and saved\n",
      "\u001b[34m\u001b[1mval: \u001b[0mC:\\Users\\helen\\Desktop\\deep_sys_final\\data\\images\\val\\R01_U01_C04_20220714_001131.jpg: corrupt JPEG restored and saved\n",
      "\u001b[34m\u001b[1mval: \u001b[0mC:\\Users\\helen\\Desktop\\deep_sys_final\\data\\images\\val\\R01_U01_C04_20220714_001137.jpg: corrupt JPEG restored and saved\n",
      "\u001b[34m\u001b[1mval: \u001b[0mC:\\Users\\helen\\Desktop\\deep_sys_final\\data\\images\\val\\R01_U01_C04_20220714_001143.jpg: corrupt JPEG restored and saved\n",
      "\u001b[34m\u001b[1mval: \u001b[0mC:\\Users\\helen\\Desktop\\deep_sys_final\\data\\images\\val\\R01_U01_C04_20220714_001183.jpg: corrupt JPEG restored and saved\n",
      "\u001b[34m\u001b[1mval: \u001b[0mC:\\Users\\helen\\Desktop\\deep_sys_final\\data\\images\\val\\R01_U01_C04_20220714_001194.jpg: corrupt JPEG restored and saved\n",
      "\u001b[34m\u001b[1mval: \u001b[0mC:\\Users\\helen\\Desktop\\deep_sys_final\\data\\images\\val\\R01_U01_C04_20220714_001249.jpg: corrupt JPEG restored and saved\n",
      "\u001b[34m\u001b[1mval: \u001b[0mC:\\Users\\helen\\Desktop\\deep_sys_final\\data\\images\\val\\R01_U01_C04_20220714_001366.jpg: corrupt JPEG restored and saved\n",
      "\u001b[34m\u001b[1mval: \u001b[0mC:\\Users\\helen\\Desktop\\deep_sys_final\\data\\images\\val\\R01_U01_C04_20220714_001376.jpg: corrupt JPEG restored and saved\n",
      "\u001b[34m\u001b[1mval: \u001b[0mC:\\Users\\helen\\Desktop\\deep_sys_final\\data\\images\\val\\R01_U01_C04_20220714_001380.jpg: corrupt JPEG restored and saved\n",
      "\u001b[34m\u001b[1mval: \u001b[0mC:\\Users\\helen\\Desktop\\deep_sys_final\\data\\images\\val\\R01_U01_C04_20220714_001387.jpg: corrupt JPEG restored and saved\n",
      "\u001b[34m\u001b[1mval: \u001b[0mC:\\Users\\helen\\Desktop\\deep_sys_final\\data\\images\\val\\R01_U01_C04_20220714_001392.jpg: corrupt JPEG restored and saved\n",
      "\u001b[34m\u001b[1mval: \u001b[0mC:\\Users\\helen\\Desktop\\deep_sys_final\\data\\images\\val\\R01_U01_C04_20220714_001415.jpg: corrupt JPEG restored and saved\n",
      "\u001b[34m\u001b[1mval: \u001b[0mC:\\Users\\helen\\Desktop\\deep_sys_final\\data\\images\\val\\R01_U01_C04_20220714_001424.jpg: corrupt JPEG restored and saved\n",
      "\u001b[34m\u001b[1mval: \u001b[0mC:\\Users\\helen\\Desktop\\deep_sys_final\\data\\images\\val\\R01_U01_C04_20220714_001425.jpg: corrupt JPEG restored and saved\n",
      "\u001b[34m\u001b[1mval: \u001b[0mC:\\Users\\helen\\Desktop\\deep_sys_final\\data\\images\\val\\R01_U01_C04_20220714_001455.jpg: corrupt JPEG restored and saved\n",
      "\u001b[34m\u001b[1mval: \u001b[0mC:\\Users\\helen\\Desktop\\deep_sys_final\\data\\images\\val\\R01_U01_C04_20220714_001501.jpg: corrupt JPEG restored and saved\n",
      "\u001b[34m\u001b[1mval: \u001b[0mC:\\Users\\helen\\Desktop\\deep_sys_final\\data\\images\\val\\R01_U01_C04_20220714_001502.jpg: corrupt JPEG restored and saved\n",
      "\u001b[34m\u001b[1mval: \u001b[0mC:\\Users\\helen\\Desktop\\deep_sys_final\\data\\images\\val\\R01_U01_C04_20220714_001508.jpg: corrupt JPEG restored and saved\n",
      "\u001b[34m\u001b[1mval: \u001b[0mC:\\Users\\helen\\Desktop\\deep_sys_final\\data\\images\\val\\R01_U01_C04_20220714_001509.jpg: corrupt JPEG restored and saved\n",
      "\u001b[34m\u001b[1mval: \u001b[0mC:\\Users\\helen\\Desktop\\deep_sys_final\\data\\images\\val\\R01_U01_C04_20220714_001523.jpg: corrupt JPEG restored and saved\n",
      "\u001b[34m\u001b[1mval: \u001b[0mC:\\Users\\helen\\Desktop\\deep_sys_final\\data\\images\\val\\R01_U01_C04_20220714_001533.jpg: corrupt JPEG restored and saved\n",
      "\u001b[34m\u001b[1mval: \u001b[0mC:\\Users\\helen\\Desktop\\deep_sys_final\\data\\images\\val\\R01_U01_C04_20220714_001613.jpg: corrupt JPEG restored and saved\n",
      "\u001b[34m\u001b[1mval: \u001b[0mC:\\Users\\helen\\Desktop\\deep_sys_final\\data\\images\\val\\R01_U01_C04_20220714_001629.jpg: corrupt JPEG restored and saved\n",
      "\u001b[34m\u001b[1mval: \u001b[0mC:\\Users\\helen\\Desktop\\deep_sys_final\\data\\images\\val\\R01_U01_C04_20220714_001643.jpg: corrupt JPEG restored and saved\n",
      "\u001b[34m\u001b[1mval: \u001b[0mC:\\Users\\helen\\Desktop\\deep_sys_final\\data\\images\\val\\R01_U01_C04_20220714_001650.jpg: corrupt JPEG restored and saved\n",
      "\u001b[34m\u001b[1mval: \u001b[0mC:\\Users\\helen\\Desktop\\deep_sys_final\\data\\images\\val\\R01_U01_C04_20220714_001679.jpg: corrupt JPEG restored and saved\n",
      "\u001b[34m\u001b[1mval: \u001b[0mC:\\Users\\helen\\Desktop\\deep_sys_final\\data\\images\\val\\R01_U01_C04_20220714_001684.jpg: corrupt JPEG restored and saved\n",
      "\u001b[34m\u001b[1mval: \u001b[0mC:\\Users\\helen\\Desktop\\deep_sys_final\\data\\images\\val\\R01_U01_C04_20220714_001686.jpg: corrupt JPEG restored and saved\n",
      "\u001b[34m\u001b[1mval: \u001b[0mC:\\Users\\helen\\Desktop\\deep_sys_final\\data\\images\\val\\R01_U01_C04_20220714_001688.jpg: corrupt JPEG restored and saved\n",
      "\u001b[34m\u001b[1mval: \u001b[0mC:\\Users\\helen\\Desktop\\deep_sys_final\\data\\images\\val\\R01_U01_C04_20220714_001741.jpg: corrupt JPEG restored and saved\n",
      "\u001b[34m\u001b[1mval: \u001b[0mC:\\Users\\helen\\Desktop\\deep_sys_final\\data\\images\\val\\R01_U01_C04_20220714_001773.jpg: corrupt JPEG restored and saved\n",
      "\u001b[34m\u001b[1mval: \u001b[0mC:\\Users\\helen\\Desktop\\deep_sys_final\\data\\images\\val\\R01_U01_C04_20220714_001782.jpg: corrupt JPEG restored and saved\n",
      "\u001b[34m\u001b[1mval: \u001b[0mC:\\Users\\helen\\Desktop\\deep_sys_final\\data\\images\\val\\R01_U01_C04_20220714_001802.jpg: corrupt JPEG restored and saved\n",
      "\u001b[34m\u001b[1mval: \u001b[0mC:\\Users\\helen\\Desktop\\deep_sys_final\\data\\images\\val\\R01_U01_C04_20220714_001823.jpg: corrupt JPEG restored and saved\n",
      "\u001b[34m\u001b[1mval: \u001b[0mC:\\Users\\helen\\Desktop\\deep_sys_final\\data\\images\\val\\R01_U01_C04_20220714_001826.jpg: corrupt JPEG restored and saved\n",
      "\u001b[34m\u001b[1mval: \u001b[0mC:\\Users\\helen\\Desktop\\deep_sys_final\\data\\images\\val\\R01_U01_C04_20220714_001867.jpg: corrupt JPEG restored and saved\n",
      "\u001b[34m\u001b[1mval: \u001b[0mC:\\Users\\helen\\Desktop\\deep_sys_final\\data\\images\\val\\R01_U01_C04_20220714_001896.jpg: corrupt JPEG restored and saved\n",
      "\u001b[34m\u001b[1mval: \u001b[0mC:\\Users\\helen\\Desktop\\deep_sys_final\\data\\images\\val\\R01_U01_C04_20220714_001972.jpg: corrupt JPEG restored and saved\n",
      "\u001b[34m\u001b[1mval: \u001b[0mC:\\Users\\helen\\Desktop\\deep_sys_final\\data\\images\\val\\R01_U01_C04_20220714_001994.jpg: corrupt JPEG restored and saved\n",
      "\u001b[34m\u001b[1mval: \u001b[0mC:\\Users\\helen\\Desktop\\deep_sys_final\\data\\images\\val\\R01_U01_C04_20220714_002117.jpg: corrupt JPEG restored and saved\n",
      "\u001b[34m\u001b[1mval: \u001b[0mC:\\Users\\helen\\Desktop\\deep_sys_final\\data\\images\\val\\R01_U01_C04_20220714_002152.jpg: corrupt JPEG restored and saved\n",
      "\u001b[34m\u001b[1mval: \u001b[0mC:\\Users\\helen\\Desktop\\deep_sys_final\\data\\images\\val\\R01_U01_C04_20220714_002181.jpg: corrupt JPEG restored and saved\n",
      "\u001b[34m\u001b[1mval: \u001b[0mC:\\Users\\helen\\Desktop\\deep_sys_final\\data\\images\\val\\R01_U01_C04_20220714_002191.jpg: corrupt JPEG restored and saved\n",
      "\u001b[34m\u001b[1mval: \u001b[0mC:\\Users\\helen\\Desktop\\deep_sys_final\\data\\images\\val\\R01_U01_C04_20220714_002200.jpg: corrupt JPEG restored and saved\n",
      "\u001b[34m\u001b[1mval: \u001b[0mC:\\Users\\helen\\Desktop\\deep_sys_final\\data\\images\\val\\R01_U01_C04_20220714_002208.jpg: corrupt JPEG restored and saved\n",
      "\u001b[34m\u001b[1mval: \u001b[0mC:\\Users\\helen\\Desktop\\deep_sys_final\\data\\images\\val\\R01_U01_C04_20220714_002212.jpg: corrupt JPEG restored and saved\n",
      "\u001b[34m\u001b[1mval: \u001b[0mC:\\Users\\helen\\Desktop\\deep_sys_final\\data\\images\\val\\R01_U01_C04_20220714_002236.jpg: corrupt JPEG restored and saved\n",
      "\u001b[34m\u001b[1mval: \u001b[0mC:\\Users\\helen\\Desktop\\deep_sys_final\\data\\images\\val\\R01_U01_C04_20220714_002240.jpg: corrupt JPEG restored and saved\n",
      "\u001b[34m\u001b[1mval: \u001b[0mC:\\Users\\helen\\Desktop\\deep_sys_final\\data\\images\\val\\R01_U01_C04_20220714_002244.jpg: corrupt JPEG restored and saved\n",
      "\u001b[34m\u001b[1mval: \u001b[0mC:\\Users\\helen\\Desktop\\deep_sys_final\\data\\images\\val\\R01_U01_C04_20220714_002256.jpg: corrupt JPEG restored and saved\n",
      "\u001b[34m\u001b[1mval: \u001b[0mC:\\Users\\helen\\Desktop\\deep_sys_final\\data\\images\\val\\R01_U01_C04_20220714_002275.jpg: corrupt JPEG restored and saved\n",
      "\u001b[34m\u001b[1mval: \u001b[0mC:\\Users\\helen\\Desktop\\deep_sys_final\\data\\images\\val\\R01_U01_C04_20220714_002296.jpg: corrupt JPEG restored and saved\n",
      "\u001b[34m\u001b[1mval: \u001b[0mC:\\Users\\helen\\Desktop\\deep_sys_final\\data\\images\\val\\R01_U01_C04_20220714_002315.jpg: corrupt JPEG restored and saved\n",
      "\u001b[34m\u001b[1mval: \u001b[0mC:\\Users\\helen\\Desktop\\deep_sys_final\\data\\images\\val\\R01_U01_C04_20220714_002335.jpg: corrupt JPEG restored and saved\n",
      "\u001b[34m\u001b[1mval: \u001b[0mC:\\Users\\helen\\Desktop\\deep_sys_final\\data\\images\\val\\R01_U01_C04_20220714_002336.jpg: corrupt JPEG restored and saved\n",
      "\u001b[34m\u001b[1mval: \u001b[0mC:\\Users\\helen\\Desktop\\deep_sys_final\\data\\images\\val\\R01_U01_C04_20220714_002363.jpg: corrupt JPEG restored and saved\n",
      "\u001b[34m\u001b[1mval: \u001b[0mC:\\Users\\helen\\Desktop\\deep_sys_final\\data\\images\\val\\R01_U01_C04_20220714_002370.jpg: corrupt JPEG restored and saved\n",
      "\u001b[34m\u001b[1mval: \u001b[0mC:\\Users\\helen\\Desktop\\deep_sys_final\\data\\images\\val\\R01_U01_C04_20220714_002374.jpg: corrupt JPEG restored and saved\n",
      "\u001b[34m\u001b[1mval: \u001b[0mC:\\Users\\helen\\Desktop\\deep_sys_final\\data\\images\\val\\R01_U01_C04_20220714_002382.jpg: corrupt JPEG restored and saved\n",
      "\u001b[34m\u001b[1mval: \u001b[0mC:\\Users\\helen\\Desktop\\deep_sys_final\\data\\images\\val\\R01_U01_C04_20220714_002394.jpg: corrupt JPEG restored and saved\n",
      "\u001b[34m\u001b[1mval: \u001b[0mC:\\Users\\helen\\Desktop\\deep_sys_final\\data\\images\\val\\R01_U01_C04_20220714_002413.jpg: corrupt JPEG restored and saved\n",
      "\u001b[34m\u001b[1mval: \u001b[0mC:\\Users\\helen\\Desktop\\deep_sys_final\\data\\images\\val\\R01_U01_C04_20220714_002437.jpg: corrupt JPEG restored and saved\n",
      "\u001b[34m\u001b[1mval: \u001b[0mC:\\Users\\helen\\Desktop\\deep_sys_final\\data\\images\\val\\R01_U01_C04_20220714_002444.jpg: corrupt JPEG restored and saved\n",
      "\u001b[34m\u001b[1mval: \u001b[0mC:\\Users\\helen\\Desktop\\deep_sys_final\\data\\images\\val\\R01_U01_C04_20220714_002461.jpg: corrupt JPEG restored and saved\n",
      "\u001b[34m\u001b[1mval: \u001b[0mC:\\Users\\helen\\Desktop\\deep_sys_final\\data\\images\\val\\R01_U01_C04_20220714_002465.jpg: corrupt JPEG restored and saved\n",
      "\u001b[34m\u001b[1mval: \u001b[0mC:\\Users\\helen\\Desktop\\deep_sys_final\\data\\images\\val\\R01_U01_C04_20220714_002468.jpg: corrupt JPEG restored and saved\n",
      "\u001b[34m\u001b[1mval: \u001b[0mC:\\Users\\helen\\Desktop\\deep_sys_final\\data\\images\\val\\R01_U01_C04_20220714_002487.jpg: corrupt JPEG restored and saved\n",
      "\u001b[34m\u001b[1mval: \u001b[0mC:\\Users\\helen\\Desktop\\deep_sys_final\\data\\images\\val\\R01_U01_C04_20220714_002547.jpg: corrupt JPEG restored and saved\n",
      "\u001b[34m\u001b[1mval: \u001b[0mC:\\Users\\helen\\Desktop\\deep_sys_final\\data\\images\\val\\R01_U01_C04_20220714_002551.jpg: corrupt JPEG restored and saved\n",
      "\u001b[34m\u001b[1mval: \u001b[0mC:\\Users\\helen\\Desktop\\deep_sys_final\\data\\images\\val\\R01_U01_C04_20220714_002553.jpg: corrupt JPEG restored and saved\n",
      "\u001b[34m\u001b[1mval: \u001b[0mC:\\Users\\helen\\Desktop\\deep_sys_final\\data\\images\\val\\R01_U01_C04_20220714_002554.jpg: corrupt JPEG restored and saved\n",
      "\u001b[34m\u001b[1mval: \u001b[0mC:\\Users\\helen\\Desktop\\deep_sys_final\\data\\images\\val\\R01_U01_C04_20220714_002556.jpg: corrupt JPEG restored and saved\n",
      "\u001b[34m\u001b[1mval: \u001b[0mC:\\Users\\helen\\Desktop\\deep_sys_final\\data\\images\\val\\R01_U01_C04_20220714_002567.jpg: corrupt JPEG restored and saved\n",
      "\u001b[34m\u001b[1mval: \u001b[0mC:\\Users\\helen\\Desktop\\deep_sys_final\\data\\images\\val\\R01_U01_C04_20220714_002583.jpg: corrupt JPEG restored and saved\n",
      "\u001b[34m\u001b[1mval: \u001b[0mC:\\Users\\helen\\Desktop\\deep_sys_final\\data\\images\\val\\R01_U01_C04_20220714_002590.jpg: corrupt JPEG restored and saved\n",
      "\u001b[34m\u001b[1mval: \u001b[0mC:\\Users\\helen\\Desktop\\deep_sys_final\\data\\images\\val\\R01_U01_C04_20220714_002640.jpg: corrupt JPEG restored and saved\n",
      "\u001b[34m\u001b[1mval: \u001b[0mC:\\Users\\helen\\Desktop\\deep_sys_final\\data\\images\\val\\R01_U01_C04_20220714_002647.jpg: corrupt JPEG restored and saved\n",
      "\u001b[34m\u001b[1mval: \u001b[0mC:\\Users\\helen\\Desktop\\deep_sys_final\\data\\images\\val\\R01_U01_C04_20220714_002658.jpg: corrupt JPEG restored and saved\n",
      "\u001b[34m\u001b[1mval: \u001b[0mC:\\Users\\helen\\Desktop\\deep_sys_final\\data\\images\\val\\R01_U01_C04_20220714_002659.jpg: corrupt JPEG restored and saved\n",
      "\u001b[34m\u001b[1mval: \u001b[0mC:\\Users\\helen\\Desktop\\deep_sys_final\\data\\images\\val\\R01_U01_C04_20220714_002668.jpg: corrupt JPEG restored and saved\n",
      "\u001b[34m\u001b[1mval: \u001b[0mC:\\Users\\helen\\Desktop\\deep_sys_final\\data\\images\\val\\R01_U01_C04_20220714_002669.jpg: corrupt JPEG restored and saved\n",
      "\u001b[34m\u001b[1mval: \u001b[0mC:\\Users\\helen\\Desktop\\deep_sys_final\\data\\images\\val\\R01_U01_C04_20220714_002675.jpg: corrupt JPEG restored and saved\n",
      "\u001b[34m\u001b[1mval: \u001b[0mC:\\Users\\helen\\Desktop\\deep_sys_final\\data\\images\\val\\R01_U01_C04_20220714_002683.jpg: corrupt JPEG restored and saved\n",
      "\u001b[34m\u001b[1mval: \u001b[0mC:\\Users\\helen\\Desktop\\deep_sys_final\\data\\images\\val\\R01_U01_C04_20220714_002702.jpg: corrupt JPEG restored and saved\n",
      "\u001b[34m\u001b[1mval: \u001b[0mC:\\Users\\helen\\Desktop\\deep_sys_final\\data\\images\\val\\R01_U01_C04_20220714_002710.jpg: corrupt JPEG restored and saved\n",
      "\u001b[34m\u001b[1mval: \u001b[0mC:\\Users\\helen\\Desktop\\deep_sys_final\\data\\images\\val\\R01_U01_C04_20220714_002727.jpg: corrupt JPEG restored and saved\n",
      "\u001b[34m\u001b[1mval: \u001b[0mC:\\Users\\helen\\Desktop\\deep_sys_final\\data\\images\\val\\R01_U01_C04_20220714_002748.jpg: corrupt JPEG restored and saved\n",
      "\u001b[34m\u001b[1mval: \u001b[0mC:\\Users\\helen\\Desktop\\deep_sys_final\\data\\images\\val\\R01_U01_C04_20220714_002754.jpg: corrupt JPEG restored and saved\n",
      "\u001b[34m\u001b[1mval: \u001b[0mC:\\Users\\helen\\Desktop\\deep_sys_final\\data\\images\\val\\R01_U01_C04_20220714_002761.jpg: corrupt JPEG restored and saved\n",
      "\u001b[34m\u001b[1mval: \u001b[0mC:\\Users\\helen\\Desktop\\deep_sys_final\\data\\images\\val\\R01_U01_C04_20220714_002802.jpg: corrupt JPEG restored and saved\n",
      "\u001b[34m\u001b[1mval: \u001b[0mC:\\Users\\helen\\Desktop\\deep_sys_final\\data\\images\\val\\R01_U01_C04_20220714_002836.jpg: corrupt JPEG restored and saved\n",
      "\u001b[34m\u001b[1mval: \u001b[0mC:\\Users\\helen\\Desktop\\deep_sys_final\\data\\images\\val\\R01_U01_C04_20220714_002907.jpg: corrupt JPEG restored and saved\n",
      "\u001b[34m\u001b[1mval: \u001b[0mC:\\Users\\helen\\Desktop\\deep_sys_final\\data\\images\\val\\R01_U01_C04_20220714_002925.jpg: corrupt JPEG restored and saved\n",
      "\u001b[34m\u001b[1mval: \u001b[0mC:\\Users\\helen\\Desktop\\deep_sys_final\\data\\images\\val\\R01_U01_C04_20220714_002988.jpg: corrupt JPEG restored and saved\n",
      "\u001b[34m\u001b[1mval: \u001b[0mC:\\Users\\helen\\Desktop\\deep_sys_final\\data\\images\\val\\R01_U01_C04_20220714_003003.jpg: corrupt JPEG restored and saved\n",
      "\u001b[34m\u001b[1mval: \u001b[0mC:\\Users\\helen\\Desktop\\deep_sys_final\\data\\images\\val\\R01_U01_C04_20220714_003012.jpg: corrupt JPEG restored and saved\n",
      "\u001b[34m\u001b[1mval: \u001b[0mC:\\Users\\helen\\Desktop\\deep_sys_final\\data\\images\\val\\R01_U01_C04_20220714_003016.jpg: corrupt JPEG restored and saved\n",
      "\u001b[34m\u001b[1mval: \u001b[0mC:\\Users\\helen\\Desktop\\deep_sys_final\\data\\images\\val\\R01_U01_C04_20220714_003044.jpg: corrupt JPEG restored and saved\n",
      "\u001b[34m\u001b[1mval: \u001b[0mC:\\Users\\helen\\Desktop\\deep_sys_final\\data\\images\\val\\R01_U01_C04_20220714_003108.jpg: corrupt JPEG restored and saved\n",
      "\u001b[34m\u001b[1mval: \u001b[0mC:\\Users\\helen\\Desktop\\deep_sys_final\\data\\images\\val\\R01_U01_C04_20220714_003114.jpg: corrupt JPEG restored and saved\n",
      "\u001b[34m\u001b[1mval: \u001b[0mC:\\Users\\helen\\Desktop\\deep_sys_final\\data\\images\\val\\R01_U01_C04_20220714_003117.jpg: corrupt JPEG restored and saved\n",
      "\u001b[34m\u001b[1mval: \u001b[0mC:\\Users\\helen\\Desktop\\deep_sys_final\\data\\images\\val\\R01_U01_C04_20220714_003150.jpg: corrupt JPEG restored and saved\n",
      "\u001b[34m\u001b[1mval: \u001b[0mC:\\Users\\helen\\Desktop\\deep_sys_final\\data\\images\\val\\R01_U01_C04_20220714_003286.jpg: corrupt JPEG restored and saved\n",
      "\u001b[34m\u001b[1mval: \u001b[0mC:\\Users\\helen\\Desktop\\deep_sys_final\\data\\images\\val\\R01_U01_C04_20220714_003312.jpg: corrupt JPEG restored and saved\n",
      "\u001b[34m\u001b[1mval: \u001b[0mC:\\Users\\helen\\Desktop\\deep_sys_final\\data\\images\\val\\R01_U01_C04_20220714_003338.jpg: corrupt JPEG restored and saved\n",
      "\u001b[34m\u001b[1mval: \u001b[0mC:\\Users\\helen\\Desktop\\deep_sys_final\\data\\images\\val\\R01_U01_C04_20220714_003344.jpg: corrupt JPEG restored and saved\n",
      "\u001b[34m\u001b[1mval: \u001b[0mC:\\Users\\helen\\Desktop\\deep_sys_final\\data\\images\\val\\R01_U01_C04_20220714_003374.jpg: corrupt JPEG restored and saved\n",
      "\u001b[34m\u001b[1mval: \u001b[0mC:\\Users\\helen\\Desktop\\deep_sys_final\\data\\images\\val\\R01_U01_C04_20220714_003377.jpg: corrupt JPEG restored and saved\n",
      "\u001b[34m\u001b[1mval: \u001b[0mC:\\Users\\helen\\Desktop\\deep_sys_final\\data\\images\\val\\R01_U01_C04_20220714_003406.jpg: corrupt JPEG restored and saved\n",
      "\u001b[34m\u001b[1mval: \u001b[0mC:\\Users\\helen\\Desktop\\deep_sys_final\\data\\images\\val\\R01_U01_C04_20220714_003408.jpg: corrupt JPEG restored and saved\n",
      "\u001b[34m\u001b[1mval: \u001b[0mC:\\Users\\helen\\Desktop\\deep_sys_final\\data\\images\\val\\R01_U01_C04_20220714_003410.jpg: corrupt JPEG restored and saved\n",
      "\u001b[34m\u001b[1mval: \u001b[0mC:\\Users\\helen\\Desktop\\deep_sys_final\\data\\images\\val\\R01_U01_C04_20220714_003432.jpg: corrupt JPEG restored and saved\n",
      "\u001b[34m\u001b[1mval: \u001b[0mC:\\Users\\helen\\Desktop\\deep_sys_final\\data\\images\\val\\R01_U01_C04_20220714_003465.jpg: corrupt JPEG restored and saved\n",
      "\u001b[34m\u001b[1mval: \u001b[0mC:\\Users\\helen\\Desktop\\deep_sys_final\\data\\images\\val\\R01_U01_C04_20220714_003476.jpg: corrupt JPEG restored and saved\n",
      "\u001b[34m\u001b[1mval: \u001b[0mC:\\Users\\helen\\Desktop\\deep_sys_final\\data\\images\\val\\R01_U01_C04_20220714_003480.jpg: corrupt JPEG restored and saved\n",
      "\u001b[34m\u001b[1mval: \u001b[0mC:\\Users\\helen\\Desktop\\deep_sys_final\\data\\images\\val\\R01_U01_C04_20220714_003481.jpg: corrupt JPEG restored and saved\n",
      "\u001b[34m\u001b[1mval: \u001b[0mC:\\Users\\helen\\Desktop\\deep_sys_final\\data\\images\\val\\R01_U01_C04_20220714_003488.jpg: corrupt JPEG restored and saved\n",
      "\u001b[34m\u001b[1mval: \u001b[0mC:\\Users\\helen\\Desktop\\deep_sys_final\\data\\images\\val\\R01_U02_C05_20220714_006563.jpg: corrupt JPEG restored and saved\n",
      "\u001b[34m\u001b[1mval: \u001b[0mC:\\Users\\helen\\Desktop\\deep_sys_final\\data\\images\\val\\R01_U02_C05_20220714_006588.jpg: corrupt JPEG restored and saved\n",
      "\u001b[34m\u001b[1mval: \u001b[0mC:\\Users\\helen\\Desktop\\deep_sys_final\\data\\images\\val\\R01_U02_C05_20220714_006627.jpg: corrupt JPEG restored and saved\n",
      "\u001b[34m\u001b[1mval: \u001b[0mC:\\Users\\helen\\Desktop\\deep_sys_final\\data\\images\\val\\R01_U02_C05_20220714_006644.jpg: corrupt JPEG restored and saved\n",
      "\u001b[34m\u001b[1mval: \u001b[0mC:\\Users\\helen\\Desktop\\deep_sys_final\\data\\images\\val\\R01_U02_C05_20220714_006648.jpg: corrupt JPEG restored and saved\n",
      "\u001b[34m\u001b[1mval: \u001b[0mC:\\Users\\helen\\Desktop\\deep_sys_final\\data\\images\\val\\R01_U02_C05_20220714_006657.jpg: corrupt JPEG restored and saved\n",
      "\u001b[34m\u001b[1mval: \u001b[0mC:\\Users\\helen\\Desktop\\deep_sys_final\\data\\images\\val\\R01_U02_C05_20220714_006658.jpg: corrupt JPEG restored and saved\n",
      "\u001b[34m\u001b[1mval: \u001b[0mC:\\Users\\helen\\Desktop\\deep_sys_final\\data\\images\\val\\R01_U02_C05_20220714_006660.jpg: corrupt JPEG restored and saved\n",
      "\u001b[34m\u001b[1mval: \u001b[0mC:\\Users\\helen\\Desktop\\deep_sys_final\\data\\images\\val\\R01_U02_C05_20220714_006662.jpg: corrupt JPEG restored and saved\n",
      "\u001b[34m\u001b[1mval: \u001b[0mC:\\Users\\helen\\Desktop\\deep_sys_final\\data\\images\\val\\R01_U02_C05_20220714_006663.jpg: corrupt JPEG restored and saved\n",
      "\u001b[34m\u001b[1mval: \u001b[0mC:\\Users\\helen\\Desktop\\deep_sys_final\\data\\images\\val\\R01_U02_C05_20220714_006673.jpg: corrupt JPEG restored and saved\n",
      "\u001b[34m\u001b[1mval: \u001b[0mC:\\Users\\helen\\Desktop\\deep_sys_final\\data\\images\\val\\R01_U02_C05_20220714_006727.jpg: corrupt JPEG restored and saved\n",
      "\u001b[34m\u001b[1mval: \u001b[0mC:\\Users\\helen\\Desktop\\deep_sys_final\\data\\images\\val\\R01_U02_C05_20220714_006747.jpg: corrupt JPEG restored and saved\n",
      "\u001b[34m\u001b[1mval: \u001b[0mC:\\Users\\helen\\Desktop\\deep_sys_final\\data\\images\\val\\R01_U02_C05_20220714_006762.jpg: corrupt JPEG restored and saved\n",
      "\u001b[34m\u001b[1mval: \u001b[0mC:\\Users\\helen\\Desktop\\deep_sys_final\\data\\images\\val\\R01_U02_C05_20220714_006763.jpg: corrupt JPEG restored and saved\n",
      "\u001b[34m\u001b[1mval: \u001b[0mC:\\Users\\helen\\Desktop\\deep_sys_final\\data\\images\\val\\R01_U02_C05_20220714_006769.jpg: corrupt JPEG restored and saved\n",
      "\u001b[34m\u001b[1mval: \u001b[0mC:\\Users\\helen\\Desktop\\deep_sys_final\\data\\images\\val\\R01_U02_C05_20220714_006788.jpg: corrupt JPEG restored and saved\n",
      "\u001b[34m\u001b[1mval: \u001b[0mC:\\Users\\helen\\Desktop\\deep_sys_final\\data\\images\\val\\R01_U02_C05_20220714_006789.jpg: corrupt JPEG restored and saved\n",
      "\u001b[34m\u001b[1mval: \u001b[0mC:\\Users\\helen\\Desktop\\deep_sys_final\\data\\images\\val\\R01_U02_C05_20220714_006800.jpg: corrupt JPEG restored and saved\n",
      "\u001b[34m\u001b[1mval: \u001b[0mC:\\Users\\helen\\Desktop\\deep_sys_final\\data\\images\\val\\R01_U02_C05_20220714_006803.jpg: corrupt JPEG restored and saved\n",
      "\u001b[34m\u001b[1mval: \u001b[0mC:\\Users\\helen\\Desktop\\deep_sys_final\\data\\images\\val\\R01_U02_C05_20220714_006815.jpg: corrupt JPEG restored and saved\n",
      "\u001b[34m\u001b[1mval: \u001b[0mC:\\Users\\helen\\Desktop\\deep_sys_final\\data\\images\\val\\R01_U02_C05_20220714_006887.jpg: corrupt JPEG restored and saved\n",
      "\u001b[34m\u001b[1mval: \u001b[0mC:\\Users\\helen\\Desktop\\deep_sys_final\\data\\images\\val\\R01_U02_C05_20220714_006890.jpg: corrupt JPEG restored and saved\n",
      "\u001b[34m\u001b[1mval: \u001b[0mC:\\Users\\helen\\Desktop\\deep_sys_final\\data\\images\\val\\R01_U02_C05_20220714_006899.jpg: corrupt JPEG restored and saved\n",
      "\u001b[34m\u001b[1mval: \u001b[0mC:\\Users\\helen\\Desktop\\deep_sys_final\\data\\images\\val\\R01_U02_C05_20220714_006904.jpg: corrupt JPEG restored and saved\n",
      "\u001b[34m\u001b[1mval: \u001b[0mC:\\Users\\helen\\Desktop\\deep_sys_final\\data\\images\\val\\R01_U02_C05_20220714_006951.jpg: corrupt JPEG restored and saved\n",
      "\u001b[34m\u001b[1mval: \u001b[0mC:\\Users\\helen\\Desktop\\deep_sys_final\\data\\images\\val\\R01_U02_C05_20220714_006964.jpg: corrupt JPEG restored and saved\n",
      "\u001b[34m\u001b[1mval: \u001b[0mC:\\Users\\helen\\Desktop\\deep_sys_final\\data\\images\\val\\R01_U02_C05_20220714_006988.jpg: corrupt JPEG restored and saved\n",
      "\u001b[34m\u001b[1mval: \u001b[0mC:\\Users\\helen\\Desktop\\deep_sys_final\\data\\images\\val\\R01_U02_C05_20220714_007009.jpg: corrupt JPEG restored and saved\n",
      "\u001b[34m\u001b[1mval: \u001b[0mC:\\Users\\helen\\Desktop\\deep_sys_final\\data\\images\\val\\R01_U02_C05_20220714_007013.jpg: corrupt JPEG restored and saved\n",
      "\u001b[34m\u001b[1mval: \u001b[0mC:\\Users\\helen\\Desktop\\deep_sys_final\\data\\images\\val\\R01_U02_C05_20220714_007014.jpg: corrupt JPEG restored and saved\n",
      "\u001b[34m\u001b[1mval: \u001b[0mC:\\Users\\helen\\Desktop\\deep_sys_final\\data\\images\\val\\R01_U02_C05_20220714_007019.jpg: corrupt JPEG restored and saved\n",
      "\u001b[34m\u001b[1mval: \u001b[0mC:\\Users\\helen\\Desktop\\deep_sys_final\\data\\images\\val\\R01_U02_C05_20220714_007021.jpg: corrupt JPEG restored and saved\n",
      "\u001b[34m\u001b[1mval: \u001b[0mC:\\Users\\helen\\Desktop\\deep_sys_final\\data\\images\\val\\R01_U02_C05_20220714_007026.jpg: corrupt JPEG restored and saved\n",
      "\u001b[34m\u001b[1mval: \u001b[0mC:\\Users\\helen\\Desktop\\deep_sys_final\\data\\images\\val\\R01_U02_C05_20220714_007035.jpg: corrupt JPEG restored and saved\n",
      "\u001b[34m\u001b[1mval: \u001b[0mC:\\Users\\helen\\Desktop\\deep_sys_final\\data\\images\\val\\R01_U02_C05_20220714_007037.jpg: corrupt JPEG restored and saved\n",
      "\u001b[34m\u001b[1mval: \u001b[0mC:\\Users\\helen\\Desktop\\deep_sys_final\\data\\images\\val\\R01_U02_C05_20220714_007049.jpg: corrupt JPEG restored and saved\n",
      "\u001b[34m\u001b[1mval: \u001b[0mC:\\Users\\helen\\Desktop\\deep_sys_final\\data\\images\\val\\R01_U02_C05_20220714_007061.jpg: corrupt JPEG restored and saved\n",
      "\u001b[34m\u001b[1mval: \u001b[0mC:\\Users\\helen\\Desktop\\deep_sys_final\\data\\images\\val\\R01_U02_C05_20220714_011274.jpg: corrupt JPEG restored and saved\n",
      "\u001b[34m\u001b[1mval: \u001b[0mC:\\Users\\helen\\Desktop\\deep_sys_final\\data\\images\\val\\R01_U02_C05_20220714_011298.jpg: corrupt JPEG restored and saved\n",
      "\u001b[34m\u001b[1mval: \u001b[0mC:\\Users\\helen\\Desktop\\deep_sys_final\\data\\images\\val\\R01_U02_C05_20220714_011305.jpg: corrupt JPEG restored and saved\n",
      "\u001b[34m\u001b[1mval: \u001b[0mC:\\Users\\helen\\Desktop\\deep_sys_final\\data\\images\\val\\R01_U02_C05_20220714_011306.jpg: corrupt JPEG restored and saved\n",
      "\u001b[34m\u001b[1mval: \u001b[0mC:\\Users\\helen\\Desktop\\deep_sys_final\\data\\images\\val\\R01_U02_C05_20220714_011307.jpg: corrupt JPEG restored and saved\n",
      "\u001b[34m\u001b[1mval: \u001b[0mC:\\Users\\helen\\Desktop\\deep_sys_final\\data\\images\\val\\R01_U02_C05_20220714_011308.jpg: corrupt JPEG restored and saved\n",
      "\u001b[34m\u001b[1mval: \u001b[0mC:\\Users\\helen\\Desktop\\deep_sys_final\\data\\images\\val\\R01_U02_C05_20220714_011310.jpg: corrupt JPEG restored and saved\n",
      "\u001b[34m\u001b[1mval: \u001b[0mC:\\Users\\helen\\Desktop\\deep_sys_final\\data\\images\\val\\R01_U02_C05_20220714_011328.jpg: corrupt JPEG restored and saved\n",
      "\u001b[34m\u001b[1mval: \u001b[0mC:\\Users\\helen\\Desktop\\deep_sys_final\\data\\images\\val\\R01_U02_C05_20220714_011332.jpg: corrupt JPEG restored and saved\n",
      "\u001b[34m\u001b[1mval: \u001b[0mC:\\Users\\helen\\Desktop\\deep_sys_final\\data\\images\\val\\R01_U02_C05_20220714_011346.jpg: corrupt JPEG restored and saved\n",
      "\u001b[34m\u001b[1mval: \u001b[0mC:\\Users\\helen\\Desktop\\deep_sys_final\\data\\images\\val\\R01_U02_C05_20220714_011352.jpg: corrupt JPEG restored and saved\n",
      "\u001b[34m\u001b[1mval: \u001b[0mC:\\Users\\helen\\Desktop\\deep_sys_final\\data\\images\\val\\R01_U02_C05_20220714_011372.jpg: corrupt JPEG restored and saved\n",
      "\u001b[34m\u001b[1mval: \u001b[0mC:\\Users\\helen\\Desktop\\deep_sys_final\\data\\images\\val\\R01_U02_C05_20220714_011420.jpg: corrupt JPEG restored and saved\n",
      "\u001b[34m\u001b[1mval: \u001b[0mC:\\Users\\helen\\Desktop\\deep_sys_final\\data\\images\\val\\R01_U02_C05_20220714_011435.jpg: corrupt JPEG restored and saved\n",
      "\u001b[34m\u001b[1mval: \u001b[0mC:\\Users\\helen\\Desktop\\deep_sys_final\\data\\images\\val\\R01_U02_C05_20220714_011443.jpg: corrupt JPEG restored and saved\n",
      "\u001b[34m\u001b[1mval: \u001b[0mC:\\Users\\helen\\Desktop\\deep_sys_final\\data\\images\\val\\R01_U02_C05_20220714_011448.jpg: corrupt JPEG restored and saved\n",
      "\u001b[34m\u001b[1mval: \u001b[0mC:\\Users\\helen\\Desktop\\deep_sys_final\\data\\images\\val\\R01_U02_C05_20220714_011454.jpg: corrupt JPEG restored and saved\n",
      "\u001b[34m\u001b[1mval: \u001b[0mC:\\Users\\helen\\Desktop\\deep_sys_final\\data\\images\\val\\R01_U02_C05_20220714_011459.jpg: corrupt JPEG restored and saved\n",
      "\u001b[34m\u001b[1mval: \u001b[0mC:\\Users\\helen\\Desktop\\deep_sys_final\\data\\images\\val\\R01_U02_C05_20220714_011460.jpg: corrupt JPEG restored and saved\n",
      "\u001b[34m\u001b[1mval: \u001b[0mC:\\Users\\helen\\Desktop\\deep_sys_final\\data\\images\\val\\R01_U02_C05_20220714_011464.jpg: corrupt JPEG restored and saved\n",
      "\u001b[34m\u001b[1mval: \u001b[0mC:\\Users\\helen\\Desktop\\deep_sys_final\\data\\images\\val\\R01_U02_C05_20220714_011475.jpg: corrupt JPEG restored and saved\n",
      "\u001b[34m\u001b[1mval: \u001b[0mC:\\Users\\helen\\Desktop\\deep_sys_final\\data\\images\\val\\R01_U02_C05_20220714_011479.jpg: corrupt JPEG restored and saved\n",
      "\u001b[34m\u001b[1mval: \u001b[0mC:\\Users\\helen\\Desktop\\deep_sys_final\\data\\images\\val\\R01_U02_C05_20220714_011487.jpg: corrupt JPEG restored and saved\n",
      "\u001b[34m\u001b[1mval: \u001b[0mC:\\Users\\helen\\Desktop\\deep_sys_final\\data\\images\\val\\R01_U02_C05_20220714_011504.jpg: corrupt JPEG restored and saved\n",
      "\u001b[34m\u001b[1mval: \u001b[0mC:\\Users\\helen\\Desktop\\deep_sys_final\\data\\images\\val\\R01_U02_C05_20220714_011505.jpg: corrupt JPEG restored and saved\n",
      "\u001b[34m\u001b[1mval: \u001b[0mC:\\Users\\helen\\Desktop\\deep_sys_final\\data\\images\\val\\R01_U02_C05_20220714_011538.jpg: corrupt JPEG restored and saved\n",
      "\u001b[34m\u001b[1mval: \u001b[0mC:\\Users\\helen\\Desktop\\deep_sys_final\\data\\images\\val\\R01_U02_C05_20220714_011540.jpg: corrupt JPEG restored and saved\n",
      "\u001b[34m\u001b[1mval: \u001b[0mC:\\Users\\helen\\Desktop\\deep_sys_final\\data\\images\\val\\R01_U02_C05_20220714_011579.jpg: corrupt JPEG restored and saved\n",
      "\u001b[34m\u001b[1mval: \u001b[0mC:\\Users\\helen\\Desktop\\deep_sys_final\\data\\images\\val\\R01_U02_C05_20220714_011602.jpg: corrupt JPEG restored and saved\n",
      "\u001b[34m\u001b[1mval: \u001b[0mC:\\Users\\helen\\Desktop\\deep_sys_final\\data\\images\\val\\R01_U02_C05_20220714_011619.jpg: corrupt JPEG restored and saved\n",
      "\u001b[34m\u001b[1mval: \u001b[0mC:\\Users\\helen\\Desktop\\deep_sys_final\\data\\images\\val\\R01_U02_C05_20220714_011687.jpg: corrupt JPEG restored and saved\n",
      "\u001b[34m\u001b[1mval: \u001b[0mC:\\Users\\helen\\Desktop\\deep_sys_final\\data\\images\\val\\R01_U02_C05_20220714_011698.jpg: corrupt JPEG restored and saved\n",
      "\u001b[34m\u001b[1mval: \u001b[0mC:\\Users\\helen\\Desktop\\deep_sys_final\\data\\images\\val\\R01_U02_C05_20220714_011739.jpg: corrupt JPEG restored and saved\n",
      "\u001b[34m\u001b[1mval: \u001b[0mC:\\Users\\helen\\Desktop\\deep_sys_final\\data\\images\\val\\R01_U02_C05_20220714_011740.jpg: corrupt JPEG restored and saved\n",
      "\u001b[34m\u001b[1mval: \u001b[0mC:\\Users\\helen\\Desktop\\deep_sys_final\\data\\images\\val\\R01_U02_C05_20220714_011766.jpg: corrupt JPEG restored and saved\n",
      "\u001b[34m\u001b[1mval: \u001b[0mC:\\Users\\helen\\Desktop\\deep_sys_final\\data\\images\\val\\R01_U02_C05_20220714_011775.jpg: corrupt JPEG restored and saved\n",
      "\u001b[34m\u001b[1mval: \u001b[0mC:\\Users\\helen\\Desktop\\deep_sys_final\\data\\images\\val\\R01_U02_C05_20220714_011796.jpg: corrupt JPEG restored and saved\n",
      "\u001b[34m\u001b[1mval: \u001b[0mC:\\Users\\helen\\Desktop\\deep_sys_final\\data\\images\\val\\R01_U02_C05_20220714_011799.jpg: corrupt JPEG restored and saved\n",
      "\u001b[34m\u001b[1mval: \u001b[0mC:\\Users\\helen\\Desktop\\deep_sys_final\\data\\images\\val\\R01_U02_C05_20220714_011800.jpg: corrupt JPEG restored and saved\n",
      "\u001b[34m\u001b[1mval: \u001b[0mC:\\Users\\helen\\Desktop\\deep_sys_final\\data\\images\\val\\R01_U02_C05_20220714_011802.jpg: corrupt JPEG restored and saved\n",
      "\u001b[34m\u001b[1mval: \u001b[0mC:\\Users\\helen\\Desktop\\deep_sys_final\\data\\images\\val\\R01_U02_C05_20220714_011815.jpg: corrupt JPEG restored and saved\n",
      "\u001b[34m\u001b[1mval: \u001b[0mC:\\Users\\helen\\Desktop\\deep_sys_final\\data\\images\\val\\R01_U02_C05_20220714_011841.jpg: corrupt JPEG restored and saved\n",
      "\u001b[34m\u001b[1mval: \u001b[0mC:\\Users\\helen\\Desktop\\deep_sys_final\\data\\images\\val\\R01_U02_C05_20220714_011842.jpg: corrupt JPEG restored and saved\n",
      "\u001b[34m\u001b[1mval: \u001b[0mC:\\Users\\helen\\Desktop\\deep_sys_final\\data\\images\\val\\R01_U02_C05_20220714_011861.jpg: corrupt JPEG restored and saved\n",
      "\u001b[34m\u001b[1mval: \u001b[0mC:\\Users\\helen\\Desktop\\deep_sys_final\\data\\images\\val\\R01_U02_C05_20220714_011878.jpg: corrupt JPEG restored and saved\n",
      "\u001b[34m\u001b[1mval: \u001b[0mC:\\Users\\helen\\Desktop\\deep_sys_final\\data\\images\\val\\R01_U02_C05_20220714_011886.jpg: corrupt JPEG restored and saved\n",
      "\u001b[34m\u001b[1mval: \u001b[0mC:\\Users\\helen\\Desktop\\deep_sys_final\\data\\images\\val\\R01_U02_C05_20220714_011890.jpg: corrupt JPEG restored and saved\n",
      "\u001b[34m\u001b[1mval: \u001b[0mC:\\Users\\helen\\Desktop\\deep_sys_final\\data\\images\\val\\R01_U02_C05_20220714_011915.jpg: corrupt JPEG restored and saved\n",
      "\u001b[34m\u001b[1mval: \u001b[0mC:\\Users\\helen\\Desktop\\deep_sys_final\\data\\images\\val\\R01_U02_C05_20220714_011918.jpg: corrupt JPEG restored and saved\n",
      "\u001b[34m\u001b[1mval: \u001b[0mC:\\Users\\helen\\Desktop\\deep_sys_final\\data\\images\\val\\R01_U02_C05_20220714_011920.jpg: corrupt JPEG restored and saved\n",
      "\u001b[34m\u001b[1mval: \u001b[0mC:\\Users\\helen\\Desktop\\deep_sys_final\\data\\images\\val\\R01_U02_C05_20220714_011931.jpg: corrupt JPEG restored and saved\n",
      "\u001b[34m\u001b[1mval: \u001b[0mC:\\Users\\helen\\Desktop\\deep_sys_final\\data\\images\\val\\R01_U02_C05_20220714_011992.jpg: corrupt JPEG restored and saved\n",
      "\u001b[34m\u001b[1mval: \u001b[0mC:\\Users\\helen\\Desktop\\deep_sys_final\\data\\images\\val\\R01_U02_C05_20220714_011993.jpg: corrupt JPEG restored and saved\n",
      "\u001b[34m\u001b[1mval: \u001b[0mC:\\Users\\helen\\Desktop\\deep_sys_final\\data\\images\\val\\R01_U02_C05_20220714_011994.jpg: corrupt JPEG restored and saved\n",
      "\u001b[34m\u001b[1mval: \u001b[0mC:\\Users\\helen\\Desktop\\deep_sys_final\\data\\images\\val\\R01_U02_C05_20220714_011997.jpg: corrupt JPEG restored and saved\n",
      "\u001b[34m\u001b[1mval: \u001b[0mC:\\Users\\helen\\Desktop\\deep_sys_final\\data\\images\\val\\R01_U02_C05_20220714_012017.jpg: corrupt JPEG restored and saved\n",
      "\u001b[34m\u001b[1mval: \u001b[0mC:\\Users\\helen\\Desktop\\deep_sys_final\\data\\images\\val\\R01_U02_C05_20220714_012041.jpg: corrupt JPEG restored and saved\n",
      "\u001b[34m\u001b[1mval: \u001b[0mC:\\Users\\helen\\Desktop\\deep_sys_final\\data\\images\\val\\R01_U02_C05_20220714_012046.jpg: corrupt JPEG restored and saved\n",
      "\u001b[34m\u001b[1mval: \u001b[0mC:\\Users\\helen\\Desktop\\deep_sys_final\\data\\images\\val\\R01_U02_C05_20220714_012056.jpg: corrupt JPEG restored and saved\n",
      "\u001b[34m\u001b[1mval: \u001b[0mC:\\Users\\helen\\Desktop\\deep_sys_final\\data\\images\\val\\R01_U02_C05_20220714_012060.jpg: corrupt JPEG restored and saved\n",
      "\u001b[34m\u001b[1mval: \u001b[0mC:\\Users\\helen\\Desktop\\deep_sys_final\\data\\images\\val\\R01_U02_C05_20220714_012061.jpg: corrupt JPEG restored and saved\n",
      "\u001b[34m\u001b[1mval: \u001b[0mC:\\Users\\helen\\Desktop\\deep_sys_final\\data\\images\\val\\R01_U02_C05_20220714_012074.jpg: corrupt JPEG restored and saved\n",
      "\u001b[34m\u001b[1mval: \u001b[0mC:\\Users\\helen\\Desktop\\deep_sys_final\\data\\images\\val\\R01_U02_C05_20220714_012075.jpg: corrupt JPEG restored and saved\n",
      "\u001b[34m\u001b[1mval: \u001b[0mC:\\Users\\helen\\Desktop\\deep_sys_final\\data\\images\\val\\R01_U02_C05_20220714_012078.jpg: corrupt JPEG restored and saved\n",
      "\u001b[34m\u001b[1mval: \u001b[0mC:\\Users\\helen\\Desktop\\deep_sys_final\\data\\images\\val\\R01_U02_C05_20220714_012086.jpg: corrupt JPEG restored and saved\n",
      "\u001b[34m\u001b[1mval: \u001b[0mC:\\Users\\helen\\Desktop\\deep_sys_final\\data\\images\\val\\R01_U02_C05_20220714_012087.jpg: corrupt JPEG restored and saved\n",
      "\u001b[34m\u001b[1mval: \u001b[0mC:\\Users\\helen\\Desktop\\deep_sys_final\\data\\images\\val\\R01_U02_C05_20220714_012101.jpg: corrupt JPEG restored and saved\n",
      "\u001b[34m\u001b[1mval: \u001b[0mC:\\Users\\helen\\Desktop\\deep_sys_final\\data\\images\\val\\R01_U02_C05_20220714_012103.jpg: corrupt JPEG restored and saved\n",
      "\u001b[34m\u001b[1mval: \u001b[0mC:\\Users\\helen\\Desktop\\deep_sys_final\\data\\images\\val\\R01_U02_C05_20220714_012108.jpg: corrupt JPEG restored and saved\n",
      "\u001b[34m\u001b[1mval: \u001b[0mC:\\Users\\helen\\Desktop\\deep_sys_final\\data\\images\\val\\R01_U02_C05_20220714_012126.jpg: corrupt JPEG restored and saved\n",
      "\u001b[34m\u001b[1mval: \u001b[0mC:\\Users\\helen\\Desktop\\deep_sys_final\\data\\images\\val\\R01_U02_C05_20220714_012129.jpg: corrupt JPEG restored and saved\n",
      "\u001b[34m\u001b[1mval: \u001b[0mC:\\Users\\helen\\Desktop\\deep_sys_final\\data\\images\\val\\R01_U02_C05_20220714_012148.jpg: corrupt JPEG restored and saved\n",
      "\u001b[34m\u001b[1mval: \u001b[0mC:\\Users\\helen\\Desktop\\deep_sys_final\\data\\images\\val\\R01_U02_C05_20220714_012156.jpg: corrupt JPEG restored and saved\n",
      "\u001b[34m\u001b[1mval: \u001b[0mC:\\Users\\helen\\Desktop\\deep_sys_final\\data\\images\\val\\R01_U02_C05_20220714_012158.jpg: corrupt JPEG restored and saved\n",
      "\u001b[34m\u001b[1mval: \u001b[0mC:\\Users\\helen\\Desktop\\deep_sys_final\\data\\images\\val\\R01_U02_C05_20220714_012166.jpg: corrupt JPEG restored and saved\n",
      "\u001b[34m\u001b[1mval: \u001b[0mC:\\Users\\helen\\Desktop\\deep_sys_final\\data\\images\\val\\R01_U02_C05_20220714_012184.jpg: corrupt JPEG restored and saved\n",
      "\u001b[34m\u001b[1mval: \u001b[0mC:\\Users\\helen\\Desktop\\deep_sys_final\\data\\images\\val\\R01_U02_C05_20220714_012213.jpg: corrupt JPEG restored and saved\n",
      "\u001b[34m\u001b[1mval: \u001b[0mC:\\Users\\helen\\Desktop\\deep_sys_final\\data\\images\\val\\R01_U02_C05_20220714_012216.jpg: corrupt JPEG restored and saved\n",
      "\u001b[34m\u001b[1mval: \u001b[0mC:\\Users\\helen\\Desktop\\deep_sys_final\\data\\images\\val\\R01_U02_C05_20220714_012218.jpg: corrupt JPEG restored and saved\n",
      "\u001b[34m\u001b[1mval: \u001b[0mC:\\Users\\helen\\Desktop\\deep_sys_final\\data\\images\\val\\R01_U02_C05_20220714_012232.jpg: corrupt JPEG restored and saved\n",
      "\u001b[34m\u001b[1mval: \u001b[0mC:\\Users\\helen\\Desktop\\deep_sys_final\\data\\images\\val\\R01_U04_C10_20220727_000005.jpg: corrupt JPEG restored and saved\n",
      "\u001b[34m\u001b[1mval: \u001b[0mC:\\Users\\helen\\Desktop\\deep_sys_final\\data\\images\\val\\R01_U04_C10_20220727_000006.jpg: corrupt JPEG restored and saved\n",
      "\u001b[34m\u001b[1mval: \u001b[0mC:\\Users\\helen\\Desktop\\deep_sys_final\\data\\images\\val\\R01_U04_C10_20220727_000011.jpg: corrupt JPEG restored and saved\n",
      "\u001b[34m\u001b[1mval: \u001b[0mC:\\Users\\helen\\Desktop\\deep_sys_final\\data\\images\\val\\R01_U04_C10_20220727_000012.jpg: corrupt JPEG restored and saved\n",
      "\u001b[34m\u001b[1mval: \u001b[0mC:\\Users\\helen\\Desktop\\deep_sys_final\\data\\images\\val\\R01_U04_C10_20220727_000016.jpg: corrupt JPEG restored and saved\n",
      "\u001b[34m\u001b[1mval: \u001b[0mC:\\Users\\helen\\Desktop\\deep_sys_final\\data\\images\\val\\R01_U04_C10_20220727_000057.jpg: corrupt JPEG restored and saved\n",
      "\u001b[34m\u001b[1mval: \u001b[0mC:\\Users\\helen\\Desktop\\deep_sys_final\\data\\images\\val\\R01_U04_C10_20220727_000066.jpg: corrupt JPEG restored and saved\n",
      "\u001b[34m\u001b[1mval: \u001b[0mC:\\Users\\helen\\Desktop\\deep_sys_final\\data\\images\\val\\R01_U04_C10_20220727_000098.jpg: corrupt JPEG restored and saved\n",
      "\u001b[34m\u001b[1mval: \u001b[0mC:\\Users\\helen\\Desktop\\deep_sys_final\\data\\images\\val\\R01_U04_C10_20220727_000102.jpg: corrupt JPEG restored and saved\n",
      "\u001b[34m\u001b[1mval: \u001b[0mC:\\Users\\helen\\Desktop\\deep_sys_final\\data\\images\\val\\R01_U04_C10_20220727_000117.jpg: corrupt JPEG restored and saved\n",
      "\u001b[34m\u001b[1mval: \u001b[0mC:\\Users\\helen\\Desktop\\deep_sys_final\\data\\images\\val\\R01_U04_C10_20220727_000189.jpg: corrupt JPEG restored and saved\n",
      "\u001b[34m\u001b[1mval: \u001b[0mC:\\Users\\helen\\Desktop\\deep_sys_final\\data\\images\\val\\R01_U04_C10_20220727_000191.jpg: corrupt JPEG restored and saved\n",
      "\u001b[34m\u001b[1mval: \u001b[0mC:\\Users\\helen\\Desktop\\deep_sys_final\\data\\images\\val\\R01_U04_C10_20220727_000252.jpg: corrupt JPEG restored and saved\n",
      "\u001b[34m\u001b[1mval: \u001b[0mC:\\Users\\helen\\Desktop\\deep_sys_final\\data\\images\\val\\R01_U04_C10_20220727_000262.jpg: corrupt JPEG restored and saved\n",
      "\u001b[34m\u001b[1mval: \u001b[0mC:\\Users\\helen\\Desktop\\deep_sys_final\\data\\images\\val\\R01_U04_C10_20220727_000292.jpg: corrupt JPEG restored and saved\n",
      "\u001b[34m\u001b[1mval: \u001b[0mC:\\Users\\helen\\Desktop\\deep_sys_final\\data\\images\\val\\R01_U04_C10_20220727_000331.jpg: corrupt JPEG restored and saved\n",
      "\u001b[34m\u001b[1mval: \u001b[0mC:\\Users\\helen\\Desktop\\deep_sys_final\\data\\images\\val\\R01_U04_C10_20220727_000334.jpg: corrupt JPEG restored and saved\n",
      "\u001b[34m\u001b[1mval: \u001b[0mC:\\Users\\helen\\Desktop\\deep_sys_final\\data\\images\\val\\R01_U04_C10_20220727_000351.jpg: corrupt JPEG restored and saved\n",
      "\u001b[34m\u001b[1mval: \u001b[0mC:\\Users\\helen\\Desktop\\deep_sys_final\\data\\images\\val\\R01_U04_C10_20220727_000412.jpg: corrupt JPEG restored and saved\n",
      "\u001b[34m\u001b[1mval: \u001b[0mC:\\Users\\helen\\Desktop\\deep_sys_final\\data\\images\\val\\R01_U04_C10_20220727_000502.jpg: corrupt JPEG restored and saved\n",
      "\u001b[34m\u001b[1mval: \u001b[0mC:\\Users\\helen\\Desktop\\deep_sys_final\\data\\images\\val\\R01_U04_C10_20220727_000507.jpg: corrupt JPEG restored and saved\n",
      "\u001b[34m\u001b[1mval: \u001b[0mC:\\Users\\helen\\Desktop\\deep_sys_final\\data\\images\\val\\R01_U04_C10_20220727_000508.jpg: corrupt JPEG restored and saved\n",
      "\u001b[34m\u001b[1mval: \u001b[0mC:\\Users\\helen\\Desktop\\deep_sys_final\\data\\images\\val\\R01_U04_C10_20220727_000510.jpg: corrupt JPEG restored and saved\n",
      "\u001b[34m\u001b[1mval: \u001b[0mC:\\Users\\helen\\Desktop\\deep_sys_final\\data\\images\\val\\R01_U04_C10_20220727_000544.jpg: corrupt JPEG restored and saved\n",
      "\u001b[34m\u001b[1mval: \u001b[0mC:\\Users\\helen\\Desktop\\deep_sys_final\\data\\images\\val\\R01_U04_C10_20220727_000558.jpg: corrupt JPEG restored and saved\n",
      "\u001b[34m\u001b[1mval: \u001b[0mC:\\Users\\helen\\Desktop\\deep_sys_final\\data\\images\\val\\R01_U04_C10_20220727_000611.jpg: corrupt JPEG restored and saved\n",
      "\u001b[34m\u001b[1mval: \u001b[0mC:\\Users\\helen\\Desktop\\deep_sys_final\\data\\images\\val\\R01_U04_C10_20220727_000616.jpg: corrupt JPEG restored and saved\n",
      "\u001b[34m\u001b[1mval: \u001b[0mC:\\Users\\helen\\Desktop\\deep_sys_final\\data\\images\\val\\R01_U04_C10_20220727_000640.jpg: corrupt JPEG restored and saved\n",
      "\u001b[34m\u001b[1mval: \u001b[0mC:\\Users\\helen\\Desktop\\deep_sys_final\\data\\images\\val\\R01_U04_C10_20220727_000643.jpg: corrupt JPEG restored and saved\n",
      "\u001b[34m\u001b[1mval: \u001b[0mC:\\Users\\helen\\Desktop\\deep_sys_final\\data\\images\\val\\R01_U04_C10_20220727_000695.jpg: corrupt JPEG restored and saved\n",
      "\u001b[34m\u001b[1mval: \u001b[0mC:\\Users\\helen\\Desktop\\deep_sys_final\\data\\images\\val\\R01_U04_C10_20220727_000729.jpg: corrupt JPEG restored and saved\n",
      "\u001b[34m\u001b[1mval: \u001b[0mC:\\Users\\helen\\Desktop\\deep_sys_final\\data\\images\\val\\R01_U04_C10_20220727_000747.jpg: corrupt JPEG restored and saved\n",
      "\u001b[34m\u001b[1mval: \u001b[0mC:\\Users\\helen\\Desktop\\deep_sys_final\\data\\images\\val\\R01_U04_C10_20220727_000778.jpg: corrupt JPEG restored and saved\n",
      "\u001b[34m\u001b[1mval: \u001b[0mC:\\Users\\helen\\Desktop\\deep_sys_final\\data\\images\\val\\R01_U04_C10_20220727_000803.jpg: corrupt JPEG restored and saved\n",
      "\u001b[34m\u001b[1mval: \u001b[0mC:\\Users\\helen\\Desktop\\deep_sys_final\\data\\images\\val\\R01_U04_C10_20220727_000814.jpg: corrupt JPEG restored and saved\n",
      "\u001b[34m\u001b[1mval: \u001b[0mC:\\Users\\helen\\Desktop\\deep_sys_final\\data\\images\\val\\R01_U04_C10_20220727_000822.jpg: corrupt JPEG restored and saved\n",
      "\u001b[34m\u001b[1mval: \u001b[0mC:\\Users\\helen\\Desktop\\deep_sys_final\\data\\images\\val\\R01_U04_C10_20220727_000864.jpg: corrupt JPEG restored and saved\n",
      "\u001b[34m\u001b[1mval: \u001b[0mC:\\Users\\helen\\Desktop\\deep_sys_final\\data\\images\\val\\R01_U04_C10_20220727_000879.jpg: corrupt JPEG restored and saved\n",
      "\u001b[34m\u001b[1mval: \u001b[0mC:\\Users\\helen\\Desktop\\deep_sys_final\\data\\images\\val\\R01_U04_C10_20220727_000892.jpg: corrupt JPEG restored and saved\n",
      "\u001b[34m\u001b[1mval: \u001b[0mC:\\Users\\helen\\Desktop\\deep_sys_final\\data\\images\\val\\R01_U04_C10_20220727_000942.jpg: corrupt JPEG restored and saved\n",
      "\u001b[34m\u001b[1mval: \u001b[0mC:\\Users\\helen\\Desktop\\deep_sys_final\\data\\images\\val\\R01_U04_C10_20220727_000947.jpg: corrupt JPEG restored and saved\n",
      "\u001b[34m\u001b[1mval: \u001b[0mC:\\Users\\helen\\Desktop\\deep_sys_final\\data\\images\\val\\R01_U04_C10_20220727_000975.jpg: corrupt JPEG restored and saved\n",
      "\u001b[34m\u001b[1mval: \u001b[0mC:\\Users\\helen\\Desktop\\deep_sys_final\\data\\images\\val\\R01_U04_C10_20220727_001024.jpg: corrupt JPEG restored and saved\n",
      "\u001b[34m\u001b[1mval: \u001b[0mC:\\Users\\helen\\Desktop\\deep_sys_final\\data\\images\\val\\R01_U04_C10_20220727_001037.jpg: corrupt JPEG restored and saved\n",
      "\u001b[34m\u001b[1mval: \u001b[0mC:\\Users\\helen\\Desktop\\deep_sys_final\\data\\images\\val\\R01_U04_C10_20220727_001041.jpg: corrupt JPEG restored and saved\n",
      "\u001b[34m\u001b[1mval: \u001b[0mC:\\Users\\helen\\Desktop\\deep_sys_final\\data\\images\\val\\R01_U04_C10_20220727_001065.jpg: corrupt JPEG restored and saved\n",
      "\u001b[34m\u001b[1mval: \u001b[0mC:\\Users\\helen\\Desktop\\deep_sys_final\\data\\images\\val\\R01_U04_C10_20220727_001066.jpg: corrupt JPEG restored and saved\n",
      "\u001b[34m\u001b[1mval: \u001b[0mC:\\Users\\helen\\Desktop\\deep_sys_final\\data\\images\\val\\R01_U04_C10_20220727_001068.jpg: corrupt JPEG restored and saved\n",
      "\u001b[34m\u001b[1mval: \u001b[0mC:\\Users\\helen\\Desktop\\deep_sys_final\\data\\images\\val\\R01_U04_C10_20220727_001153.jpg: corrupt JPEG restored and saved\n",
      "\u001b[34m\u001b[1mval: \u001b[0mC:\\Users\\helen\\Desktop\\deep_sys_final\\data\\images\\val\\R01_U04_C10_20220727_001157.jpg: corrupt JPEG restored and saved\n",
      "\u001b[34m\u001b[1mval: \u001b[0mC:\\Users\\helen\\Desktop\\deep_sys_final\\data\\images\\val\\R01_U04_C10_20220727_001176.jpg: corrupt JPEG restored and saved\n",
      "\u001b[34m\u001b[1mval: \u001b[0mC:\\Users\\helen\\Desktop\\deep_sys_final\\data\\images\\val\\R01_U04_C10_20220727_001274.jpg: corrupt JPEG restored and saved\n",
      "\u001b[34m\u001b[1mval: \u001b[0mC:\\Users\\helen\\Desktop\\deep_sys_final\\data\\images\\val\\R01_U04_C10_20220727_001278.jpg: corrupt JPEG restored and saved\n",
      "\u001b[34m\u001b[1mval: \u001b[0mC:\\Users\\helen\\Desktop\\deep_sys_final\\data\\images\\val\\R01_U04_C10_20220727_001291.jpg: corrupt JPEG restored and saved\n",
      "\u001b[34m\u001b[1mval: \u001b[0mC:\\Users\\helen\\Desktop\\deep_sys_final\\data\\images\\val\\R01_U04_C10_20220727_001372.jpg: corrupt JPEG restored and saved\n",
      "\u001b[34m\u001b[1mval: \u001b[0mC:\\Users\\helen\\Desktop\\deep_sys_final\\data\\images\\val\\R01_U04_C10_20220727_001392.jpg: corrupt JPEG restored and saved\n",
      "\u001b[34m\u001b[1mval: \u001b[0mC:\\Users\\helen\\Desktop\\deep_sys_final\\data\\images\\val\\R01_U04_C10_20220727_001395.jpg: corrupt JPEG restored and saved\n",
      "\u001b[34m\u001b[1mval: \u001b[0mC:\\Users\\helen\\Desktop\\deep_sys_final\\data\\images\\val\\R01_U04_C10_20220727_001408.jpg: corrupt JPEG restored and saved\n",
      "\u001b[34m\u001b[1mval: \u001b[0mC:\\Users\\helen\\Desktop\\deep_sys_final\\data\\images\\val\\R01_U04_C10_20220727_001410.jpg: corrupt JPEG restored and saved\n",
      "\u001b[34m\u001b[1mval: \u001b[0mC:\\Users\\helen\\Desktop\\deep_sys_final\\data\\images\\val\\R01_U04_C10_20220727_001413.jpg: corrupt JPEG restored and saved\n",
      "\u001b[34m\u001b[1mval: \u001b[0mC:\\Users\\helen\\Desktop\\deep_sys_final\\data\\images\\val\\R01_U04_C10_20220727_001416.jpg: corrupt JPEG restored and saved\n",
      "\u001b[34m\u001b[1mval: \u001b[0mC:\\Users\\helen\\Desktop\\deep_sys_final\\data\\images\\val\\R01_U04_C10_20220727_001449.jpg: corrupt JPEG restored and saved\n",
      "\u001b[34m\u001b[1mval: \u001b[0mC:\\Users\\helen\\Desktop\\deep_sys_final\\data\\images\\val\\R01_U04_C10_20220727_001458.jpg: corrupt JPEG restored and saved\n",
      "\u001b[34m\u001b[1mval: \u001b[0mC:\\Users\\helen\\Desktop\\deep_sys_final\\data\\images\\val\\R01_U04_C10_20220727_001477.jpg: corrupt JPEG restored and saved\n",
      "\u001b[34m\u001b[1mval: \u001b[0mC:\\Users\\helen\\Desktop\\deep_sys_final\\data\\images\\val\\R01_U04_C10_20220727_001480.jpg: corrupt JPEG restored and saved\n",
      "\u001b[34m\u001b[1mval: \u001b[0mC:\\Users\\helen\\Desktop\\deep_sys_final\\data\\images\\val\\R01_U04_C10_20220727_001484.jpg: corrupt JPEG restored and saved\n",
      "\u001b[34m\u001b[1mval: \u001b[0mC:\\Users\\helen\\Desktop\\deep_sys_final\\data\\images\\val\\R01_U04_C10_20220727_001485.jpg: corrupt JPEG restored and saved\n",
      "\u001b[34m\u001b[1mval: \u001b[0mC:\\Users\\helen\\Desktop\\deep_sys_final\\data\\images\\val\\R01_U04_C10_20220727_001486.jpg: corrupt JPEG restored and saved\n",
      "\u001b[34m\u001b[1mval: \u001b[0mC:\\Users\\helen\\Desktop\\deep_sys_final\\data\\images\\val\\R01_U04_C10_20220727_001514.jpg: corrupt JPEG restored and saved\n",
      "\u001b[34m\u001b[1mval: \u001b[0mC:\\Users\\helen\\Desktop\\deep_sys_final\\data\\images\\val\\R01_U04_C10_20220727_001527.jpg: corrupt JPEG restored and saved\n",
      "\u001b[34m\u001b[1mval: \u001b[0mC:\\Users\\helen\\Desktop\\deep_sys_final\\data\\images\\val\\R01_U04_C10_20220727_001535.jpg: corrupt JPEG restored and saved\n",
      "\u001b[34m\u001b[1mval: \u001b[0mC:\\Users\\helen\\Desktop\\deep_sys_final\\data\\images\\val\\R01_U04_C10_20220727_001538.jpg: corrupt JPEG restored and saved\n",
      "\u001b[34m\u001b[1mval: \u001b[0mC:\\Users\\helen\\Desktop\\deep_sys_final\\data\\images\\val\\R01_U04_C10_20220727_001556.jpg: corrupt JPEG restored and saved\n",
      "\u001b[34m\u001b[1mval: \u001b[0mC:\\Users\\helen\\Desktop\\deep_sys_final\\data\\images\\val\\R01_U04_C11_20220727_001613.jpg: corrupt JPEG restored and saved\n",
      "\u001b[34m\u001b[1mval: \u001b[0mC:\\Users\\helen\\Desktop\\deep_sys_final\\data\\images\\val\\R01_U04_C11_20220727_001693.jpg: corrupt JPEG restored and saved\n",
      "\u001b[34m\u001b[1mval: \u001b[0mC:\\Users\\helen\\Desktop\\deep_sys_final\\data\\images\\val\\R01_U04_C11_20220727_001713.jpg: corrupt JPEG restored and saved\n",
      "\u001b[34m\u001b[1mval: \u001b[0mC:\\Users\\helen\\Desktop\\deep_sys_final\\data\\images\\val\\R01_U04_C11_20220727_001742.jpg: corrupt JPEG restored and saved\n",
      "\u001b[34m\u001b[1mval: \u001b[0mC:\\Users\\helen\\Desktop\\deep_sys_final\\data\\images\\val\\R01_U04_C11_20220727_001760.jpg: corrupt JPEG restored and saved\n",
      "\u001b[34m\u001b[1mval: \u001b[0mC:\\Users\\helen\\Desktop\\deep_sys_final\\data\\images\\val\\R01_U04_C11_20220727_001788.jpg: corrupt JPEG restored and saved\n",
      "\u001b[34m\u001b[1mval: \u001b[0mC:\\Users\\helen\\Desktop\\deep_sys_final\\data\\images\\val\\R01_U04_C11_20220727_001793.jpg: corrupt JPEG restored and saved\n",
      "\u001b[34m\u001b[1mval: \u001b[0mC:\\Users\\helen\\Desktop\\deep_sys_final\\data\\images\\val\\R01_U04_C11_20220727_001803.jpg: corrupt JPEG restored and saved\n",
      "\u001b[34m\u001b[1mval: \u001b[0mC:\\Users\\helen\\Desktop\\deep_sys_final\\data\\images\\val\\R01_U04_C11_20220727_001807.jpg: corrupt JPEG restored and saved\n",
      "\u001b[34m\u001b[1mval: \u001b[0mC:\\Users\\helen\\Desktop\\deep_sys_final\\data\\images\\val\\R01_U04_C11_20220727_001809.jpg: corrupt JPEG restored and saved\n",
      "\u001b[34m\u001b[1mval: \u001b[0mC:\\Users\\helen\\Desktop\\deep_sys_final\\data\\images\\val\\R01_U04_C11_20220727_001854.jpg: corrupt JPEG restored and saved\n",
      "\u001b[34m\u001b[1mval: \u001b[0mC:\\Users\\helen\\Desktop\\deep_sys_final\\data\\images\\val\\R01_U04_C11_20220727_002006.jpg: corrupt JPEG restored and saved\n",
      "\u001b[34m\u001b[1mval: \u001b[0mC:\\Users\\helen\\Desktop\\deep_sys_final\\data\\images\\val\\R01_U04_C11_20220727_002026.jpg: corrupt JPEG restored and saved\n",
      "\u001b[34m\u001b[1mval: \u001b[0mC:\\Users\\helen\\Desktop\\deep_sys_final\\data\\images\\val\\R01_U04_C11_20220727_002035.jpg: corrupt JPEG restored and saved\n",
      "\u001b[34m\u001b[1mval: \u001b[0mC:\\Users\\helen\\Desktop\\deep_sys_final\\data\\images\\val\\R01_U04_C11_20220727_002046.jpg: corrupt JPEG restored and saved\n",
      "\u001b[34m\u001b[1mval: \u001b[0mC:\\Users\\helen\\Desktop\\deep_sys_final\\data\\images\\val\\R01_U04_C11_20220727_002054.jpg: corrupt JPEG restored and saved\n",
      "\u001b[34m\u001b[1mval: \u001b[0mC:\\Users\\helen\\Desktop\\deep_sys_final\\data\\images\\val\\R01_U04_C11_20220727_002063.jpg: corrupt JPEG restored and saved\n",
      "\u001b[34m\u001b[1mval: \u001b[0mC:\\Users\\helen\\Desktop\\deep_sys_final\\data\\images\\val\\R01_U05_C09_20220728_003813.jpg: corrupt JPEG restored and saved\n",
      "\u001b[34m\u001b[1mval: \u001b[0mC:\\Users\\helen\\Desktop\\deep_sys_final\\data\\images\\val\\R01_U05_C09_20220728_003841.jpg: corrupt JPEG restored and saved\n",
      "\u001b[34m\u001b[1mval: \u001b[0mC:\\Users\\helen\\Desktop\\deep_sys_final\\data\\images\\val\\R01_U05_C09_20220728_003843.jpg: corrupt JPEG restored and saved\n",
      "\u001b[34m\u001b[1mval: \u001b[0mC:\\Users\\helen\\Desktop\\deep_sys_final\\data\\images\\val\\R01_U05_C09_20220728_003848.jpg: corrupt JPEG restored and saved\n",
      "\u001b[34m\u001b[1mval: \u001b[0mC:\\Users\\helen\\Desktop\\deep_sys_final\\data\\images\\val\\R01_U05_C09_20220728_003863.jpg: corrupt JPEG restored and saved\n",
      "\u001b[34m\u001b[1mval: \u001b[0mC:\\Users\\helen\\Desktop\\deep_sys_final\\data\\images\\val\\R01_U05_C09_20220728_003864.jpg: corrupt JPEG restored and saved\n",
      "\u001b[34m\u001b[1mval: \u001b[0mC:\\Users\\helen\\Desktop\\deep_sys_final\\data\\images\\val\\R01_U05_C09_20220728_003867.jpg: corrupt JPEG restored and saved\n",
      "\u001b[34m\u001b[1mval: \u001b[0mC:\\Users\\helen\\Desktop\\deep_sys_final\\data\\images\\val\\R01_U05_C09_20220728_003872.jpg: corrupt JPEG restored and saved\n",
      "\u001b[34m\u001b[1mval: \u001b[0mC:\\Users\\helen\\Desktop\\deep_sys_final\\data\\images\\val\\R01_U05_C09_20220728_003874.jpg: corrupt JPEG restored and saved\n",
      "\u001b[34m\u001b[1mval: \u001b[0mC:\\Users\\helen\\Desktop\\deep_sys_final\\data\\images\\val\\R01_U05_C09_20220728_003892.jpg: corrupt JPEG restored and saved\n",
      "\u001b[34m\u001b[1mval: \u001b[0mC:\\Users\\helen\\Desktop\\deep_sys_final\\data\\images\\val\\R01_U05_C09_20220728_003904.jpg: corrupt JPEG restored and saved\n",
      "\u001b[34m\u001b[1mval: \u001b[0mC:\\Users\\helen\\Desktop\\deep_sys_final\\data\\images\\val\\R01_U05_C09_20220728_003910.jpg: corrupt JPEG restored and saved\n",
      "\u001b[34m\u001b[1mval: \u001b[0mC:\\Users\\helen\\Desktop\\deep_sys_final\\data\\images\\val\\R01_U05_C09_20220728_003915.jpg: corrupt JPEG restored and saved\n",
      "\u001b[34m\u001b[1mval: \u001b[0mC:\\Users\\helen\\Desktop\\deep_sys_final\\data\\images\\val\\R01_U05_C09_20220728_003952.jpg: corrupt JPEG restored and saved\n",
      "\u001b[34m\u001b[1mval: \u001b[0mC:\\Users\\helen\\Desktop\\deep_sys_final\\data\\images\\val\\R01_U05_C09_20220728_003959.jpg: corrupt JPEG restored and saved\n",
      "\u001b[34m\u001b[1mval: \u001b[0mC:\\Users\\helen\\Desktop\\deep_sys_final\\data\\images\\val\\R01_U05_C09_20220728_003962.jpg: corrupt JPEG restored and saved\n",
      "\u001b[34m\u001b[1mval: \u001b[0mC:\\Users\\helen\\Desktop\\deep_sys_final\\data\\images\\val\\R01_U05_C09_20220728_003979.jpg: corrupt JPEG restored and saved\n",
      "\u001b[34m\u001b[1mval: \u001b[0mC:\\Users\\helen\\Desktop\\deep_sys_final\\data\\images\\val\\R01_U05_C09_20220728_003988.jpg: corrupt JPEG restored and saved\n",
      "\u001b[34m\u001b[1mval: \u001b[0mC:\\Users\\helen\\Desktop\\deep_sys_final\\data\\images\\val\\R01_U05_C09_20220728_003996.jpg: corrupt JPEG restored and saved\n",
      "\u001b[34m\u001b[1mval: \u001b[0mC:\\Users\\helen\\Desktop\\deep_sys_final\\data\\images\\val\\R01_U05_C09_20220728_004000.jpg: corrupt JPEG restored and saved\n",
      "\u001b[34m\u001b[1mval: \u001b[0mC:\\Users\\helen\\Desktop\\deep_sys_final\\data\\images\\val\\R01_U05_C09_20220728_004005.jpg: corrupt JPEG restored and saved\n",
      "\u001b[34m\u001b[1mval: \u001b[0mC:\\Users\\helen\\Desktop\\deep_sys_final\\data\\images\\val\\R01_U05_C09_20220728_004027.jpg: corrupt JPEG restored and saved\n",
      "\u001b[34m\u001b[1mval: \u001b[0mC:\\Users\\helen\\Desktop\\deep_sys_final\\data\\images\\val\\R01_U05_C09_20220728_004030.jpg: corrupt JPEG restored and saved\n",
      "\u001b[34m\u001b[1mval: \u001b[0mC:\\Users\\helen\\Desktop\\deep_sys_final\\data\\images\\val\\R01_U05_C09_20220728_004037.jpg: corrupt JPEG restored and saved\n",
      "\u001b[34m\u001b[1mval: \u001b[0mC:\\Users\\helen\\Desktop\\deep_sys_final\\data\\images\\val\\R01_U05_C09_20220728_004042.jpg: corrupt JPEG restored and saved\n",
      "\u001b[34m\u001b[1mval: \u001b[0mC:\\Users\\helen\\Desktop\\deep_sys_final\\data\\images\\val\\R01_U05_C09_20220728_004048.jpg: corrupt JPEG restored and saved\n",
      "\u001b[34m\u001b[1mval: \u001b[0mC:\\Users\\helen\\Desktop\\deep_sys_final\\data\\images\\val\\R01_U05_C09_20220728_004050.jpg: corrupt JPEG restored and saved\n",
      "\u001b[34m\u001b[1mval: \u001b[0mC:\\Users\\helen\\Desktop\\deep_sys_final\\data\\images\\val\\R01_U05_C09_20220728_004079.jpg: corrupt JPEG restored and saved\n",
      "\u001b[34m\u001b[1mval: \u001b[0mC:\\Users\\helen\\Desktop\\deep_sys_final\\data\\images\\val\\R01_U05_C09_20220728_004083.jpg: corrupt JPEG restored and saved\n",
      "\u001b[34m\u001b[1mval: \u001b[0mC:\\Users\\helen\\Desktop\\deep_sys_final\\data\\images\\val\\R01_U05_C09_20220728_004084.jpg: corrupt JPEG restored and saved\n",
      "\u001b[34m\u001b[1mval: \u001b[0mC:\\Users\\helen\\Desktop\\deep_sys_final\\data\\images\\val\\R01_U05_C09_20220728_004086.jpg: corrupt JPEG restored and saved\n",
      "\u001b[34m\u001b[1mval: \u001b[0mC:\\Users\\helen\\Desktop\\deep_sys_final\\data\\images\\val\\R01_U05_C09_20220728_004124.jpg: corrupt JPEG restored and saved\n",
      "\u001b[34m\u001b[1mval: \u001b[0mC:\\Users\\helen\\Desktop\\deep_sys_final\\data\\images\\val\\R01_U05_C09_20220728_004140.jpg: corrupt JPEG restored and saved\n",
      "\u001b[34m\u001b[1mval: \u001b[0mC:\\Users\\helen\\Desktop\\deep_sys_final\\data\\images\\val\\R01_U05_C09_20220728_004159.jpg: corrupt JPEG restored and saved\n",
      "\u001b[34m\u001b[1mval: \u001b[0mC:\\Users\\helen\\Desktop\\deep_sys_final\\data\\images\\val\\R01_U05_C09_20220728_004180.jpg: corrupt JPEG restored and saved\n",
      "\u001b[34m\u001b[1mval: \u001b[0mC:\\Users\\helen\\Desktop\\deep_sys_final\\data\\images\\val\\R01_U05_C09_20220728_004189.jpg: corrupt JPEG restored and saved\n",
      "\u001b[34m\u001b[1mval: \u001b[0mC:\\Users\\helen\\Desktop\\deep_sys_final\\data\\images\\val\\R01_U05_C09_20220728_004201.jpg: corrupt JPEG restored and saved\n",
      "\u001b[34m\u001b[1mval: \u001b[0mC:\\Users\\helen\\Desktop\\deep_sys_final\\data\\images\\val\\R01_U05_C09_20220728_004218.jpg: corrupt JPEG restored and saved\n",
      "\u001b[34m\u001b[1mval: \u001b[0mC:\\Users\\helen\\Desktop\\deep_sys_final\\data\\images\\val\\R01_U05_C09_20220728_004487.jpg: corrupt JPEG restored and saved\n",
      "\u001b[34m\u001b[1mval: \u001b[0mC:\\Users\\helen\\Desktop\\deep_sys_final\\data\\images\\val\\R01_U05_C09_20220728_004495.jpg: corrupt JPEG restored and saved\n",
      "\u001b[34m\u001b[1mval: \u001b[0mC:\\Users\\helen\\Desktop\\deep_sys_final\\data\\images\\val\\R01_U05_C09_20220728_004499.jpg: corrupt JPEG restored and saved\n",
      "\u001b[34m\u001b[1mval: \u001b[0mC:\\Users\\helen\\Desktop\\deep_sys_final\\data\\images\\val\\R01_U05_C09_20220728_004506.jpg: corrupt JPEG restored and saved\n",
      "\u001b[34m\u001b[1mval: \u001b[0mC:\\Users\\helen\\Desktop\\deep_sys_final\\data\\images\\val\\R01_U05_C09_20220728_004519.jpg: corrupt JPEG restored and saved\n",
      "\u001b[34m\u001b[1mval: \u001b[0mC:\\Users\\helen\\Desktop\\deep_sys_final\\data\\images\\val\\R01_U05_C09_20220728_004528.jpg: corrupt JPEG restored and saved\n",
      "\u001b[34m\u001b[1mval: \u001b[0mC:\\Users\\helen\\Desktop\\deep_sys_final\\data\\images\\val\\R01_U05_C09_20220728_004537.jpg: corrupt JPEG restored and saved\n",
      "\u001b[34m\u001b[1mval: \u001b[0mC:\\Users\\helen\\Desktop\\deep_sys_final\\data\\images\\val\\R01_U05_C09_20220728_004593.jpg: corrupt JPEG restored and saved\n",
      "\u001b[34m\u001b[1mval: \u001b[0mC:\\Users\\helen\\Desktop\\deep_sys_final\\data\\images\\val\\R01_U05_C09_20220728_004599.jpg: corrupt JPEG restored and saved\n",
      "\u001b[34m\u001b[1mval: \u001b[0mC:\\Users\\helen\\Desktop\\deep_sys_final\\data\\images\\val\\R01_U05_C09_20220728_004610.jpg: corrupt JPEG restored and saved\n",
      "\u001b[34m\u001b[1mval: \u001b[0mC:\\Users\\helen\\Desktop\\deep_sys_final\\data\\images\\val\\R01_U05_C09_20220728_004621.jpg: corrupt JPEG restored and saved\n",
      "\u001b[34m\u001b[1mval: \u001b[0mC:\\Users\\helen\\Desktop\\deep_sys_final\\data\\images\\val\\R01_U05_C09_20220728_004634.jpg: corrupt JPEG restored and saved\n",
      "\u001b[34m\u001b[1mval: \u001b[0mC:\\Users\\helen\\Desktop\\deep_sys_final\\data\\images\\val\\R01_U05_C09_20220728_004659.jpg: corrupt JPEG restored and saved\n",
      "\u001b[34m\u001b[1mval: \u001b[0mC:\\Users\\helen\\Desktop\\deep_sys_final\\data\\images\\val\\R01_U05_C09_20220728_004661.jpg: corrupt JPEG restored and saved\n",
      "\u001b[34m\u001b[1mval: \u001b[0mC:\\Users\\helen\\Desktop\\deep_sys_final\\data\\images\\val\\R01_U05_C09_20220728_004679.jpg: corrupt JPEG restored and saved\n",
      "\u001b[34m\u001b[1mval: \u001b[0mC:\\Users\\helen\\Desktop\\deep_sys_final\\data\\images\\val\\R01_U05_C09_20220728_004684.jpg: corrupt JPEG restored and saved\n",
      "\u001b[34m\u001b[1mval: \u001b[0mC:\\Users\\helen\\Desktop\\deep_sys_final\\data\\images\\val\\R01_U05_C09_20220728_004686.jpg: corrupt JPEG restored and saved\n",
      "\u001b[34m\u001b[1mval: \u001b[0mC:\\Users\\helen\\Desktop\\deep_sys_final\\data\\images\\val\\R01_U05_C09_20220728_004688.jpg: corrupt JPEG restored and saved\n",
      "\u001b[34m\u001b[1mval: \u001b[0mC:\\Users\\helen\\Desktop\\deep_sys_final\\data\\images\\val\\R01_U05_C09_20220728_004689.jpg: corrupt JPEG restored and saved\n",
      "\u001b[34m\u001b[1mval: \u001b[0mC:\\Users\\helen\\Desktop\\deep_sys_final\\data\\images\\val\\R01_U05_C09_20220728_004690.jpg: corrupt JPEG restored and saved\n",
      "\u001b[34m\u001b[1mval: \u001b[0mC:\\Users\\helen\\Desktop\\deep_sys_final\\data\\images\\val\\R01_U05_C09_20220728_004693.jpg: corrupt JPEG restored and saved\n",
      "\u001b[34m\u001b[1mval: \u001b[0mC:\\Users\\helen\\Desktop\\deep_sys_final\\data\\images\\val\\R01_U05_C09_20220728_004700.jpg: corrupt JPEG restored and saved\n",
      "\u001b[34m\u001b[1mval: \u001b[0mC:\\Users\\helen\\Desktop\\deep_sys_final\\data\\images\\val\\R01_U05_C09_20220728_004720.jpg: corrupt JPEG restored and saved\n",
      "\u001b[34m\u001b[1mval: \u001b[0mC:\\Users\\helen\\Desktop\\deep_sys_final\\data\\images\\val\\R01_U05_C09_20220728_004722.jpg: corrupt JPEG restored and saved\n",
      "\u001b[34m\u001b[1mval: \u001b[0mC:\\Users\\helen\\Desktop\\deep_sys_final\\data\\images\\val\\R01_U05_C09_20220728_004731.jpg: corrupt JPEG restored and saved\n",
      "\u001b[34m\u001b[1mval: \u001b[0mC:\\Users\\helen\\Desktop\\deep_sys_final\\data\\images\\val\\R01_U05_C09_20220728_004779.jpg: corrupt JPEG restored and saved\n",
      "\u001b[34m\u001b[1mval: \u001b[0mC:\\Users\\helen\\Desktop\\deep_sys_final\\data\\images\\val\\R01_U05_C09_20220728_004804.jpg: corrupt JPEG restored and saved\n",
      "\u001b[34m\u001b[1mval: \u001b[0mC:\\Users\\helen\\Desktop\\deep_sys_final\\data\\images\\val\\R01_U05_C09_20220728_004813.jpg: corrupt JPEG restored and saved\n",
      "\u001b[34m\u001b[1mval: \u001b[0mC:\\Users\\helen\\Desktop\\deep_sys_final\\data\\images\\val\\R01_U05_C09_20220728_004824.jpg: corrupt JPEG restored and saved\n",
      "\u001b[34m\u001b[1mval: \u001b[0mC:\\Users\\helen\\Desktop\\deep_sys_final\\data\\images\\val\\R01_U05_C09_20220728_004854.jpg: corrupt JPEG restored and saved\n",
      "\u001b[34m\u001b[1mval: \u001b[0mC:\\Users\\helen\\Desktop\\deep_sys_final\\data\\images\\val\\R01_U05_C09_20220728_004859.jpg: corrupt JPEG restored and saved\n",
      "\u001b[34m\u001b[1mval: \u001b[0mC:\\Users\\helen\\Desktop\\deep_sys_final\\data\\images\\val\\R01_U05_C09_20220728_004866.jpg: corrupt JPEG restored and saved\n",
      "\u001b[34m\u001b[1mval: \u001b[0mC:\\Users\\helen\\Desktop\\deep_sys_final\\data\\images\\val\\R01_U05_C09_20220728_004875.jpg: corrupt JPEG restored and saved\n",
      "\u001b[34m\u001b[1mval: \u001b[0mC:\\Users\\helen\\Desktop\\deep_sys_final\\data\\images\\val\\R01_U05_C09_20220728_004880.jpg: corrupt JPEG restored and saved\n",
      "\u001b[34m\u001b[1mval: \u001b[0mC:\\Users\\helen\\Desktop\\deep_sys_final\\data\\images\\val\\R01_U05_C09_20220728_004902.jpg: corrupt JPEG restored and saved\n",
      "\u001b[34m\u001b[1mval: \u001b[0mC:\\Users\\helen\\Desktop\\deep_sys_final\\data\\images\\val\\R01_U05_C09_20220728_004914.jpg: corrupt JPEG restored and saved\n",
      "\u001b[34m\u001b[1mval: \u001b[0mC:\\Users\\helen\\Desktop\\deep_sys_final\\data\\images\\val\\R01_U05_C09_20220728_004950.jpg: corrupt JPEG restored and saved\n",
      "\u001b[34m\u001b[1mval: \u001b[0mC:\\Users\\helen\\Desktop\\deep_sys_final\\data\\images\\val\\R01_U05_C09_20220728_004965.jpg: corrupt JPEG restored and saved\n",
      "\u001b[34m\u001b[1mval: \u001b[0mC:\\Users\\helen\\Desktop\\deep_sys_final\\data\\images\\val\\R01_U05_C09_20220728_004972.jpg: corrupt JPEG restored and saved\n",
      "\u001b[34m\u001b[1mval: \u001b[0mC:\\Users\\helen\\Desktop\\deep_sys_final\\data\\images\\val\\R01_U05_C09_20220728_004984.jpg: corrupt JPEG restored and saved\n",
      "\u001b[34m\u001b[1mval: \u001b[0mC:\\Users\\helen\\Desktop\\deep_sys_final\\data\\images\\val\\R01_U05_C09_20220728_005045.jpg: corrupt JPEG restored and saved\n",
      "\u001b[34m\u001b[1mval: \u001b[0mC:\\Users\\helen\\Desktop\\deep_sys_final\\data\\images\\val\\R01_U05_C09_20220728_005046.jpg: corrupt JPEG restored and saved\n",
      "\u001b[34m\u001b[1mval: \u001b[0mC:\\Users\\helen\\Desktop\\deep_sys_final\\data\\images\\val\\R01_U05_C09_20220728_005064.jpg: corrupt JPEG restored and saved\n",
      "\u001b[34m\u001b[1mval: \u001b[0mC:\\Users\\helen\\Desktop\\deep_sys_final\\data\\images\\val\\R01_U05_C09_20220728_005066.jpg: corrupt JPEG restored and saved\n",
      "\u001b[34m\u001b[1mval: \u001b[0mC:\\Users\\helen\\Desktop\\deep_sys_final\\data\\images\\val\\R01_U05_C09_20220728_005067.jpg: corrupt JPEG restored and saved\n",
      "\u001b[34m\u001b[1mval: \u001b[0mC:\\Users\\helen\\Desktop\\deep_sys_final\\data\\images\\val\\R01_U05_C09_20220728_005069.jpg: corrupt JPEG restored and saved\n",
      "\u001b[34m\u001b[1mval: \u001b[0mC:\\Users\\helen\\Desktop\\deep_sys_final\\data\\images\\val\\R01_U05_C09_20220728_005078.jpg: corrupt JPEG restored and saved\n",
      "\u001b[34m\u001b[1mval: \u001b[0mC:\\Users\\helen\\Desktop\\deep_sys_final\\data\\images\\val\\R01_U05_C09_20220728_005079.jpg: corrupt JPEG restored and saved\n",
      "\u001b[34m\u001b[1mval: \u001b[0mC:\\Users\\helen\\Desktop\\deep_sys_final\\data\\images\\val\\R01_U05_C09_20220728_005094.jpg: corrupt JPEG restored and saved\n",
      "\u001b[34m\u001b[1mval: \u001b[0mC:\\Users\\helen\\Desktop\\deep_sys_final\\data\\images\\val\\R01_U05_C09_20220728_005101.jpg: corrupt JPEG restored and saved\n",
      "\u001b[34m\u001b[1mval: \u001b[0mC:\\Users\\helen\\Desktop\\deep_sys_final\\data\\images\\val\\R01_U05_C09_20220728_005103.jpg: corrupt JPEG restored and saved\n",
      "\u001b[34m\u001b[1mval: \u001b[0mC:\\Users\\helen\\Desktop\\deep_sys_final\\data\\images\\val\\R01_U05_C09_20220728_005107.jpg: corrupt JPEG restored and saved\n",
      "\u001b[34m\u001b[1mval: \u001b[0mC:\\Users\\helen\\Desktop\\deep_sys_final\\data\\images\\val\\R01_U05_C09_20220728_005110.jpg: corrupt JPEG restored and saved\n",
      "\u001b[34m\u001b[1mval: \u001b[0mC:\\Users\\helen\\Desktop\\deep_sys_final\\data\\images\\val\\R01_U05_C09_20220728_005117.jpg: corrupt JPEG restored and saved\n",
      "\u001b[34m\u001b[1mval: \u001b[0mC:\\Users\\helen\\Desktop\\deep_sys_final\\data\\images\\val\\R01_U05_C09_20220728_005122.jpg: corrupt JPEG restored and saved\n",
      "\u001b[34m\u001b[1mval: \u001b[0mC:\\Users\\helen\\Desktop\\deep_sys_final\\data\\images\\val\\R01_U05_C09_20220728_005123.jpg: corrupt JPEG restored and saved\n",
      "\u001b[34m\u001b[1mval: \u001b[0mC:\\Users\\helen\\Desktop\\deep_sys_final\\data\\images\\val\\R01_U05_C09_20220728_005176.jpg: corrupt JPEG restored and saved\n",
      "\u001b[34m\u001b[1mval: \u001b[0mC:\\Users\\helen\\Desktop\\deep_sys_final\\data\\images\\val\\R01_U05_C09_20220728_005177.jpg: corrupt JPEG restored and saved\n",
      "\u001b[34m\u001b[1mval: \u001b[0mC:\\Users\\helen\\Desktop\\deep_sys_final\\data\\images\\val\\R01_U05_C09_20220728_005181.jpg: corrupt JPEG restored and saved\n",
      "\u001b[34m\u001b[1mval: \u001b[0mC:\\Users\\helen\\Desktop\\deep_sys_final\\data\\images\\val\\R01_U05_C09_20220728_005195.jpg: corrupt JPEG restored and saved\n",
      "\u001b[34m\u001b[1mval: \u001b[0mC:\\Users\\helen\\Desktop\\deep_sys_final\\data\\images\\val\\R01_U05_C09_20220728_005197.jpg: corrupt JPEG restored and saved\n",
      "\u001b[34m\u001b[1mval: \u001b[0mC:\\Users\\helen\\Desktop\\deep_sys_final\\data\\images\\val\\R01_U05_C09_20220728_005219.jpg: corrupt JPEG restored and saved\n",
      "\u001b[34m\u001b[1mval: \u001b[0mC:\\Users\\helen\\Desktop\\deep_sys_final\\data\\images\\val\\R01_U05_C09_20220728_005225.jpg: corrupt JPEG restored and saved\n",
      "\u001b[34m\u001b[1mval: \u001b[0mC:\\Users\\helen\\Desktop\\deep_sys_final\\data\\images\\val\\R01_U05_C09_20220728_005251.jpg: corrupt JPEG restored and saved\n",
      "\u001b[34m\u001b[1mval: \u001b[0mC:\\Users\\helen\\Desktop\\deep_sys_final\\data\\images\\val\\R01_U05_C09_20220728_005254.jpg: corrupt JPEG restored and saved\n",
      "\u001b[34m\u001b[1mval: \u001b[0mC:\\Users\\helen\\Desktop\\deep_sys_final\\data\\images\\val\\R01_U05_C09_20220728_005259.jpg: corrupt JPEG restored and saved\n",
      "\u001b[34m\u001b[1mval: \u001b[0mC:\\Users\\helen\\Desktop\\deep_sys_final\\data\\images\\val\\R01_U05_C09_20220728_005283.jpg: corrupt JPEG restored and saved\n",
      "\u001b[34m\u001b[1mval: \u001b[0mC:\\Users\\helen\\Desktop\\deep_sys_final\\data\\images\\val\\R01_U05_C09_20220728_005291.jpg: corrupt JPEG restored and saved\n",
      "\u001b[34m\u001b[1mval: \u001b[0mC:\\Users\\helen\\Desktop\\deep_sys_final\\data\\images\\val\\R01_U05_C09_20220728_005295.jpg: corrupt JPEG restored and saved\n",
      "\u001b[34m\u001b[1mval: \u001b[0mC:\\Users\\helen\\Desktop\\deep_sys_final\\data\\images\\val\\R01_U05_C09_20220728_005311.jpg: corrupt JPEG restored and saved\n",
      "\u001b[34m\u001b[1mval: \u001b[0mC:\\Users\\helen\\Desktop\\deep_sys_final\\data\\images\\val\\R01_U05_C09_20220728_005321.jpg: corrupt JPEG restored and saved\n",
      "\u001b[34m\u001b[1mval: \u001b[0mC:\\Users\\helen\\Desktop\\deep_sys_final\\data\\images\\val\\R01_U05_C09_20220728_005336.jpg: corrupt JPEG restored and saved\n",
      "\u001b[34m\u001b[1mval: \u001b[0mC:\\Users\\helen\\Desktop\\deep_sys_final\\data\\images\\val\\R01_U05_C09_20220728_005352.jpg: corrupt JPEG restored and saved\n",
      "\u001b[34m\u001b[1mval: \u001b[0mC:\\Users\\helen\\Desktop\\deep_sys_final\\data\\images\\val\\R01_U05_C09_20220728_005376.jpg: corrupt JPEG restored and saved\n",
      "\u001b[34m\u001b[1mval: \u001b[0mC:\\Users\\helen\\Desktop\\deep_sys_final\\data\\images\\val\\R01_U05_C09_20220728_005381.jpg: corrupt JPEG restored and saved\n",
      "\u001b[34m\u001b[1mval: \u001b[0mC:\\Users\\helen\\Desktop\\deep_sys_final\\data\\images\\val\\R01_U05_C09_20220728_005392.jpg: corrupt JPEG restored and saved\n",
      "\u001b[34m\u001b[1mval: \u001b[0mC:\\Users\\helen\\Desktop\\deep_sys_final\\data\\images\\val\\R01_U05_C09_20220728_005396.jpg: corrupt JPEG restored and saved\n",
      "\u001b[34m\u001b[1mval: \u001b[0mC:\\Users\\helen\\Desktop\\deep_sys_final\\data\\images\\val\\R01_U05_C09_20220728_005400.jpg: corrupt JPEG restored and saved\n",
      "\u001b[34m\u001b[1mval: \u001b[0mC:\\Users\\helen\\Desktop\\deep_sys_final\\data\\images\\val\\R01_U05_C09_20220728_005404.jpg: corrupt JPEG restored and saved\n",
      "\u001b[34m\u001b[1mval: \u001b[0mC:\\Users\\helen\\Desktop\\deep_sys_final\\data\\images\\val\\R01_U05_C09_20220728_005406.jpg: corrupt JPEG restored and saved\n",
      "\u001b[34m\u001b[1mval: \u001b[0mC:\\Users\\helen\\Desktop\\deep_sys_final\\data\\images\\val\\R01_U05_C09_20220728_005411.jpg: corrupt JPEG restored and saved\n",
      "\u001b[34m\u001b[1mval: \u001b[0mC:\\Users\\helen\\Desktop\\deep_sys_final\\data\\images\\val\\R01_U05_C09_20220728_005446.jpg: corrupt JPEG restored and saved\n",
      "\u001b[34m\u001b[1mval: \u001b[0mC:\\Users\\helen\\Desktop\\deep_sys_final\\data\\images\\val\\R01_U05_C09_20220728_005452.jpg: corrupt JPEG restored and saved\n",
      "\u001b[34m\u001b[1mval: \u001b[0mC:\\Users\\helen\\Desktop\\deep_sys_final\\data\\images\\val\\R01_U06_C13_20220727_006360.jpg: corrupt JPEG restored and saved\n",
      "\u001b[34m\u001b[1mval: \u001b[0mC:\\Users\\helen\\Desktop\\deep_sys_final\\data\\images\\val\\R01_U06_C13_20220727_006361.jpg: corrupt JPEG restored and saved\n",
      "\u001b[34m\u001b[1mval: \u001b[0mC:\\Users\\helen\\Desktop\\deep_sys_final\\data\\images\\val\\R01_U06_C13_20220727_006364.jpg: corrupt JPEG restored and saved\n",
      "\u001b[34m\u001b[1mval: \u001b[0mC:\\Users\\helen\\Desktop\\deep_sys_final\\data\\images\\val\\R01_U06_C13_20220727_006366.jpg: corrupt JPEG restored and saved\n",
      "\u001b[34m\u001b[1mval: \u001b[0mC:\\Users\\helen\\Desktop\\deep_sys_final\\data\\images\\val\\R01_U06_C13_20220727_006375.jpg: corrupt JPEG restored and saved\n",
      "\u001b[34m\u001b[1mval: \u001b[0mC:\\Users\\helen\\Desktop\\deep_sys_final\\data\\images\\val\\R01_U06_C13_20220727_006437.jpg: corrupt JPEG restored and saved\n",
      "\u001b[34m\u001b[1mval: \u001b[0mC:\\Users\\helen\\Desktop\\deep_sys_final\\data\\images\\val\\R01_U06_C13_20220727_006443.jpg: corrupt JPEG restored and saved\n",
      "\u001b[34m\u001b[1mval: \u001b[0mC:\\Users\\helen\\Desktop\\deep_sys_final\\data\\images\\val\\R01_U06_C13_20220727_006461.jpg: corrupt JPEG restored and saved\n",
      "\u001b[34m\u001b[1mval: \u001b[0mC:\\Users\\helen\\Desktop\\deep_sys_final\\data\\images\\val\\R01_U06_C13_20220727_006475.jpg: corrupt JPEG restored and saved\n",
      "\u001b[34m\u001b[1mval: \u001b[0mC:\\Users\\helen\\Desktop\\deep_sys_final\\data\\images\\val\\R01_U06_C13_20220727_006496.jpg: corrupt JPEG restored and saved\n",
      "\u001b[34m\u001b[1mval: \u001b[0mC:\\Users\\helen\\Desktop\\deep_sys_final\\data\\images\\val\\R01_U06_C13_20220727_006503.jpg: corrupt JPEG restored and saved\n",
      "\u001b[34m\u001b[1mval: \u001b[0mC:\\Users\\helen\\Desktop\\deep_sys_final\\data\\images\\val\\R01_U06_C13_20220727_006505.jpg: corrupt JPEG restored and saved\n",
      "\u001b[34m\u001b[1mval: \u001b[0mC:\\Users\\helen\\Desktop\\deep_sys_final\\data\\images\\val\\R01_U06_C13_20220727_006536.jpg: corrupt JPEG restored and saved\n",
      "\u001b[34m\u001b[1mval: \u001b[0mC:\\Users\\helen\\Desktop\\deep_sys_final\\data\\images\\val\\R01_U06_C13_20220727_006537.jpg: corrupt JPEG restored and saved\n",
      "\u001b[34m\u001b[1mval: \u001b[0mC:\\Users\\helen\\Desktop\\deep_sys_final\\data\\images\\val\\R01_U06_C13_20220727_006539.jpg: corrupt JPEG restored and saved\n",
      "\u001b[34m\u001b[1mval: \u001b[0mC:\\Users\\helen\\Desktop\\deep_sys_final\\data\\images\\val\\R01_U06_C13_20220727_006558.jpg: corrupt JPEG restored and saved\n",
      "\u001b[34m\u001b[1mval: \u001b[0mC:\\Users\\helen\\Desktop\\deep_sys_final\\data\\images\\val\\R01_U06_C13_20220727_006597.jpg: corrupt JPEG restored and saved\n",
      "\u001b[34m\u001b[1mval: \u001b[0mC:\\Users\\helen\\Desktop\\deep_sys_final\\data\\images\\val\\R01_U06_C13_20220727_006602.jpg: corrupt JPEG restored and saved\n",
      "\u001b[34m\u001b[1mval: \u001b[0mC:\\Users\\helen\\Desktop\\deep_sys_final\\data\\images\\val\\R01_U06_C13_20220727_006669.jpg: corrupt JPEG restored and saved\n",
      "\u001b[34m\u001b[1mval: \u001b[0mC:\\Users\\helen\\Desktop\\deep_sys_final\\data\\images\\val\\R01_U06_C13_20220727_006677.jpg: corrupt JPEG restored and saved\n",
      "\u001b[34m\u001b[1mval: \u001b[0mC:\\Users\\helen\\Desktop\\deep_sys_final\\data\\images\\val\\R01_U06_C13_20220727_006775.jpg: corrupt JPEG restored and saved\n",
      "\u001b[34m\u001b[1mval: \u001b[0mC:\\Users\\helen\\Desktop\\deep_sys_final\\data\\images\\val\\R01_U06_C13_20220727_006806.jpg: corrupt JPEG restored and saved\n",
      "\u001b[34m\u001b[1mval: \u001b[0mC:\\Users\\helen\\Desktop\\deep_sys_final\\data\\images\\val\\R01_U06_C13_20220727_006817.jpg: corrupt JPEG restored and saved\n",
      "\u001b[34m\u001b[1mval: \u001b[0mC:\\Users\\helen\\Desktop\\deep_sys_final\\data\\images\\val\\R01_U06_C13_20220727_006832.jpg: corrupt JPEG restored and saved\n",
      "\u001b[34m\u001b[1mval: \u001b[0mC:\\Users\\helen\\Desktop\\deep_sys_final\\data\\images\\val\\R01_U06_C13_20220727_006834.jpg: corrupt JPEG restored and saved\n",
      "\u001b[34m\u001b[1mval: \u001b[0mC:\\Users\\helen\\Desktop\\deep_sys_final\\data\\images\\val\\R01_U06_C13_20220727_007218.jpg: corrupt JPEG restored and saved\n",
      "\u001b[34m\u001b[1mval: \u001b[0mC:\\Users\\helen\\Desktop\\deep_sys_final\\data\\images\\val\\R01_U06_C13_20220727_007570.jpg: corrupt JPEG restored and saved\n",
      "\u001b[34m\u001b[1mval: \u001b[0mC:\\Users\\helen\\Desktop\\deep_sys_final\\data\\images\\val\\R01_U06_C13_20220727_007599.jpg: corrupt JPEG restored and saved\n",
      "\u001b[34m\u001b[1mval: \u001b[0mC:\\Users\\helen\\Desktop\\deep_sys_final\\data\\images\\val\\R01_U06_C13_20220727_007680.jpg: corrupt JPEG restored and saved\n",
      "\u001b[34m\u001b[1mval: \u001b[0mC:\\Users\\helen\\Desktop\\deep_sys_final\\data\\images\\val\\R01_U06_C13_20220727_007782.jpg: corrupt JPEG restored and saved\n",
      "\u001b[34m\u001b[1mval: \u001b[0mC:\\Users\\helen\\Desktop\\deep_sys_final\\data\\images\\val\\R01_U06_C13_20220727_007793.jpg: corrupt JPEG restored and saved\n",
      "\u001b[34m\u001b[1mval: \u001b[0mC:\\Users\\helen\\Desktop\\deep_sys_final\\data\\images\\val\\R01_U06_C13_20220727_007846.jpg: corrupt JPEG restored and saved\n",
      "\u001b[34m\u001b[1mval: \u001b[0mC:\\Users\\helen\\Desktop\\deep_sys_final\\data\\images\\val\\R02_U04_C32_20220806_023388.jpg: 1 duplicate labels removed\n"
     ]
    },
    {
     "name": "stderr",
     "output_type": "stream",
     "text": [
      "\n",
      "                 Class     Images  Instances      Box(P          R      mAP50  mAP50-95): 100%|██████████| 1679/1679 [02:53<00:00,  9.70it/s]\n",
      "c:\\Users\\helen\\anaconda3\\envs\\yolov11\\lib\\site-packages\\ultralytics\\utils\\metrics.py:498: UserWarning: Glyph 51088 (\\N{HANGUL SYLLABLE JA}) missing from font(s) DejaVu Sans.\n",
      "  fig.savefig(plot_fname, dpi=250)\n",
      "c:\\Users\\helen\\anaconda3\\envs\\yolov11\\lib\\site-packages\\ultralytics\\utils\\metrics.py:498: UserWarning: Glyph 46041 (\\N{HANGUL SYLLABLE DONG}) missing from font(s) DejaVu Sans.\n",
      "  fig.savefig(plot_fname, dpi=250)\n",
      "c:\\Users\\helen\\anaconda3\\envs\\yolov11\\lib\\site-packages\\ultralytics\\utils\\metrics.py:498: UserWarning: Glyph 52264 (\\N{HANGUL SYLLABLE CA}) missing from font(s) DejaVu Sans.\n",
      "  fig.savefig(plot_fname, dpi=250)\n",
      "c:\\Users\\helen\\anaconda3\\envs\\yolov11\\lib\\site-packages\\ultralytics\\utils\\metrics.py:498: UserWarning: Glyph 48520 (\\N{HANGUL SYLLABLE BUL}) missing from font(s) DejaVu Sans.\n",
      "  fig.savefig(plot_fname, dpi=250)\n",
      "c:\\Users\\helen\\anaconda3\\envs\\yolov11\\lib\\site-packages\\ultralytics\\utils\\metrics.py:498: UserWarning: Glyph 48277 (\\N{HANGUL SYLLABLE BEOB}) missing from font(s) DejaVu Sans.\n",
      "  fig.savefig(plot_fname, dpi=250)\n",
      "c:\\Users\\helen\\anaconda3\\envs\\yolov11\\lib\\site-packages\\ultralytics\\utils\\metrics.py:498: UserWarning: Glyph 51452 (\\N{HANGUL SYLLABLE JU}) missing from font(s) DejaVu Sans.\n",
      "  fig.savefig(plot_fname, dpi=250)\n",
      "c:\\Users\\helen\\anaconda3\\envs\\yolov11\\lib\\site-packages\\ultralytics\\utils\\metrics.py:498: UserWarning: Glyph 51221 (\\N{HANGUL SYLLABLE JEONG}) missing from font(s) DejaVu Sans.\n",
      "  fig.savefig(plot_fname, dpi=250)\n",
      "c:\\Users\\helen\\anaconda3\\envs\\yolov11\\lib\\site-packages\\ultralytics\\utils\\metrics.py:498: UserWarning: Glyph 48372 (\\N{HANGUL SYLLABLE BO}) missing from font(s) DejaVu Sans.\n",
      "  fig.savefig(plot_fname, dpi=250)\n",
      "c:\\Users\\helen\\anaconda3\\envs\\yolov11\\lib\\site-packages\\ultralytics\\utils\\metrics.py:498: UserWarning: Glyph 54665 (\\N{HANGUL SYLLABLE HAENG}) missing from font(s) DejaVu Sans.\n",
      "  fig.savefig(plot_fname, dpi=250)\n",
      "c:\\Users\\helen\\anaconda3\\envs\\yolov11\\lib\\site-packages\\ultralytics\\utils\\metrics.py:498: UserWarning: Glyph 50976 (\\N{HANGUL SYLLABLE YU}) missing from font(s) DejaVu Sans.\n",
      "  fig.savefig(plot_fname, dpi=250)\n",
      "c:\\Users\\helen\\anaconda3\\envs\\yolov11\\lib\\site-packages\\ultralytics\\utils\\metrics.py:498: UserWarning: Glyph 47784 (\\N{HANGUL SYLLABLE MO}) missing from font(s) DejaVu Sans.\n",
      "  fig.savefig(plot_fname, dpi=250)\n",
      "c:\\Users\\helen\\anaconda3\\envs\\yolov11\\lib\\site-packages\\ultralytics\\utils\\metrics.py:498: UserWarning: Glyph 51204 (\\N{HANGUL SYLLABLE JEON}) missing from font(s) DejaVu Sans.\n",
      "  fig.savefig(plot_fname, dpi=250)\n",
      "c:\\Users\\helen\\anaconda3\\envs\\yolov11\\lib\\site-packages\\ultralytics\\utils\\metrics.py:498: UserWarning: Glyph 53413 (\\N{HANGUL SYLLABLE KIG}) missing from font(s) DejaVu Sans.\n",
      "  fig.savefig(plot_fname, dpi=250)\n",
      "c:\\Users\\helen\\anaconda3\\envs\\yolov11\\lib\\site-packages\\ultralytics\\utils\\metrics.py:498: UserWarning: Glyph 46300 (\\N{HANGUL SYLLABLE DEU}) missing from font(s) DejaVu Sans.\n",
      "  fig.savefig(plot_fname, dpi=250)\n",
      "c:\\Users\\helen\\anaconda3\\envs\\yolov11\\lib\\site-packages\\ultralytics\\utils\\metrics.py:498: UserWarning: Glyph 44144 (\\N{HANGUL SYLLABLE GEO}) missing from font(s) DejaVu Sans.\n",
      "  fig.savefig(plot_fname, dpi=250)\n",
      "c:\\Users\\helen\\anaconda3\\envs\\yolov11\\lib\\site-packages\\ultralytics\\utils\\metrics.py:498: UserWarning: Glyph 50724 (\\N{HANGUL SYLLABLE O}) missing from font(s) DejaVu Sans.\n",
      "  fig.savefig(plot_fname, dpi=250)\n",
      "c:\\Users\\helen\\anaconda3\\envs\\yolov11\\lib\\site-packages\\ultralytics\\utils\\metrics.py:498: UserWarning: Glyph 53664 (\\N{HANGUL SYLLABLE TO}) missing from font(s) DejaVu Sans.\n",
      "  fig.savefig(plot_fname, dpi=250)\n",
      "c:\\Users\\helen\\anaconda3\\envs\\yolov11\\lib\\site-packages\\ultralytics\\utils\\metrics.py:498: UserWarning: Glyph 48148 (\\N{HANGUL SYLLABLE BA}) missing from font(s) DejaVu Sans.\n",
      "  fig.savefig(plot_fname, dpi=250)\n",
      "c:\\Users\\helen\\anaconda3\\envs\\yolov11\\lib\\site-packages\\ultralytics\\utils\\metrics.py:498: UserWarning: Glyph 51060 (\\N{HANGUL SYLLABLE I}) missing from font(s) DejaVu Sans.\n",
      "  fig.savefig(plot_fname, dpi=250)\n",
      "c:\\Users\\helen\\anaconda3\\envs\\yolov11\\lib\\site-packages\\ultralytics\\utils\\metrics.py:498: UserWarning: Glyph 47932 (\\N{HANGUL SYLLABLE MUL}) missing from font(s) DejaVu Sans.\n",
      "  fig.savefig(plot_fname, dpi=250)\n",
      "c:\\Users\\helen\\anaconda3\\envs\\yolov11\\lib\\site-packages\\ultralytics\\utils\\metrics.py:498: UserWarning: Glyph 48380 (\\N{HANGUL SYLLABLE BOL}) missing from font(s) DejaVu Sans.\n",
      "  fig.savefig(plot_fname, dpi=250)\n",
      "c:\\Users\\helen\\anaconda3\\envs\\yolov11\\lib\\site-packages\\ultralytics\\utils\\metrics.py:498: UserWarning: Glyph 46972 (\\N{HANGUL SYLLABLE RA}) missing from font(s) DejaVu Sans.\n",
      "  fig.savefig(plot_fname, dpi=250)\n",
      "c:\\Users\\helen\\anaconda3\\envs\\yolov11\\lib\\site-packages\\ultralytics\\utils\\metrics.py:498: UserWarning: Glyph 48516 (\\N{HANGUL SYLLABLE BUN}) missing from font(s) DejaVu Sans.\n",
      "  fig.savefig(plot_fname, dpi=250)\n",
      "c:\\Users\\helen\\anaconda3\\envs\\yolov11\\lib\\site-packages\\ultralytics\\utils\\metrics.py:498: UserWarning: Glyph 47532 (\\N{HANGUL SYLLABLE RI}) missing from font(s) DejaVu Sans.\n",
      "  fig.savefig(plot_fname, dpi=250)\n",
      "c:\\Users\\helen\\anaconda3\\envs\\yolov11\\lib\\site-packages\\ultralytics\\utils\\metrics.py:498: UserWarning: Glyph 48393 (\\N{HANGUL SYLLABLE BONG}) missing from font(s) DejaVu Sans.\n",
      "  fig.savefig(plot_fname, dpi=250)\n",
      "c:\\Users\\helen\\anaconda3\\envs\\yolov11\\lib\\site-packages\\ultralytics\\utils\\metrics.py:498: UserWarning: Glyph 54364 (\\N{HANGUL SYLLABLE PYO}) missing from font(s) DejaVu Sans.\n",
      "  fig.savefig(plot_fname, dpi=250)\n",
      "c:\\Users\\helen\\anaconda3\\envs\\yolov11\\lib\\site-packages\\ultralytics\\utils\\metrics.py:498: UserWarning: Glyph 51648 (\\N{HANGUL SYLLABLE JI}) missing from font(s) DejaVu Sans.\n",
      "  fig.savefig(plot_fname, dpi=250)\n",
      "c:\\Users\\helen\\anaconda3\\envs\\yolov11\\lib\\site-packages\\ultralytics\\utils\\metrics.py:498: UserWarning: Glyph 54032 (\\N{HANGUL SYLLABLE PAN}) missing from font(s) DejaVu Sans.\n",
      "  fig.savefig(plot_fname, dpi=250)\n",
      "c:\\Users\\helen\\anaconda3\\envs\\yolov11\\lib\\site-packages\\ultralytics\\utils\\metrics.py:498: UserWarning: Glyph 44288 (\\N{HANGUL SYLLABLE GWAN}) missing from font(s) DejaVu Sans.\n",
      "  fig.savefig(plot_fname, dpi=250)\n",
      "c:\\Users\\helen\\anaconda3\\envs\\yolov11\\lib\\site-packages\\ultralytics\\utils\\metrics.py:498: UserWarning: Glyph 45824 (\\N{HANGUL SYLLABLE DAE}) missing from font(s) DejaVu Sans.\n",
      "  fig.savefig(plot_fname, dpi=250)\n",
      "c:\\Users\\helen\\anaconda3\\envs\\yolov11\\lib\\site-packages\\ultralytics\\utils\\metrics.py:498: UserWarning: Glyph 54945 (\\N{HANGUL SYLLABLE HOENG}) missing from font(s) DejaVu Sans.\n",
      "  fig.savefig(plot_fname, dpi=250)\n",
      "c:\\Users\\helen\\anaconda3\\envs\\yolov11\\lib\\site-packages\\ultralytics\\utils\\metrics.py:498: UserWarning: Glyph 45800 (\\N{HANGUL SYLLABLE DAN}) missing from font(s) DejaVu Sans.\n",
      "  fig.savefig(plot_fname, dpi=250)\n",
      "c:\\Users\\helen\\anaconda3\\envs\\yolov11\\lib\\site-packages\\ultralytics\\utils\\metrics.py:498: UserWarning: Glyph 46020 (\\N{HANGUL SYLLABLE DO}) missing from font(s) DejaVu Sans.\n",
      "  fig.savefig(plot_fname, dpi=250)\n",
      "c:\\Users\\helen\\anaconda3\\envs\\yolov11\\lib\\site-packages\\ultralytics\\utils\\metrics.py:498: UserWarning: Glyph 49888 (\\N{HANGUL SYLLABLE SIN}) missing from font(s) DejaVu Sans.\n",
      "  fig.savefig(plot_fname, dpi=250)\n",
      "c:\\Users\\helen\\anaconda3\\envs\\yolov11\\lib\\site-packages\\ultralytics\\utils\\metrics.py:498: UserWarning: Glyph 54840 (\\N{HANGUL SYLLABLE HO}) missing from font(s) DejaVu Sans.\n",
      "  fig.savefig(plot_fname, dpi=250)\n",
      "c:\\Users\\helen\\anaconda3\\envs\\yolov11\\lib\\site-packages\\ultralytics\\utils\\metrics.py:498: UserWarning: Glyph 46321 (\\N{HANGUL SYLLABLE DEUNG}) missing from font(s) DejaVu Sans.\n",
      "  fig.savefig(plot_fname, dpi=250)\n",
      "c:\\Users\\helen\\anaconda3\\envs\\yolov11\\lib\\site-packages\\ultralytics\\utils\\metrics.py:498: UserWarning: Glyph 51020 (\\N{HANGUL SYLLABLE EUM}) missing from font(s) DejaVu Sans.\n",
      "  fig.savefig(plot_fname, dpi=250)\n",
      "c:\\Users\\helen\\anaconda3\\envs\\yolov11\\lib\\site-packages\\ultralytics\\utils\\metrics.py:498: UserWarning: Glyph 49688 (\\N{HANGUL SYLLABLE SU}) missing from font(s) DejaVu Sans.\n",
      "  fig.savefig(plot_fname, dpi=250)\n",
      "c:\\Users\\helen\\anaconda3\\envs\\yolov11\\lib\\site-packages\\ultralytics\\utils\\metrics.py:498: UserWarning: Glyph 47588 (\\N{HANGUL SYLLABLE MAE}) missing from font(s) DejaVu Sans.\n",
      "  fig.savefig(plot_fname, dpi=250)\n",
      "c:\\Users\\helen\\anaconda3\\envs\\yolov11\\lib\\site-packages\\ultralytics\\utils\\metrics.py:498: UserWarning: Glyph 51216 (\\N{HANGUL SYLLABLE JEOM}) missing from font(s) DejaVu Sans.\n",
      "  fig.savefig(plot_fname, dpi=250)\n",
      "c:\\Users\\helen\\anaconda3\\envs\\yolov11\\lib\\site-packages\\ultralytics\\utils\\metrics.py:498: UserWarning: Glyph 54868 (\\N{HANGUL SYLLABLE HWA}) missing from font(s) DejaVu Sans.\n",
      "  fig.savefig(plot_fname, dpi=250)\n",
      "c:\\Users\\helen\\anaconda3\\envs\\yolov11\\lib\\site-packages\\ultralytics\\utils\\metrics.py:498: UserWarning: Glyph 51109 (\\N{HANGUL SYLLABLE JANG}) missing from font(s) DejaVu Sans.\n",
      "  fig.savefig(plot_fname, dpi=250)\n",
      "c:\\Users\\helen\\anaconda3\\envs\\yolov11\\lib\\site-packages\\ultralytics\\utils\\metrics.py:498: UserWarning: Glyph 49892 (\\N{HANGUL SYLLABLE SIL}) missing from font(s) DejaVu Sans.\n",
      "  fig.savefig(plot_fname, dpi=250)\n",
      "c:\\Users\\helen\\anaconda3\\envs\\yolov11\\lib\\site-packages\\ultralytics\\utils\\metrics.py:498: UserWarning: Glyph 53356 (\\N{HANGUL SYLLABLE KEU}) missing from font(s) DejaVu Sans.\n",
      "  fig.savefig(plot_fname, dpi=250)\n",
      "c:\\Users\\helen\\anaconda3\\envs\\yolov11\\lib\\site-packages\\ultralytics\\utils\\metrics.py:498: UserWarning: Glyph 47001 (\\N{HANGUL SYLLABLE RAEG}) missing from font(s) DejaVu Sans.\n",
      "  fig.savefig(plot_fname, dpi=250)\n",
      "c:\\Users\\helen\\anaconda3\\envs\\yolov11\\lib\\site-packages\\ultralytics\\utils\\metrics.py:498: UserWarning: Glyph 44208 (\\N{HANGUL SYLLABLE GYEOL}) missing from font(s) DejaVu Sans.\n",
      "  fig.savefig(plot_fname, dpi=250)\n",
      "c:\\Users\\helen\\anaconda3\\envs\\yolov11\\lib\\site-packages\\ultralytics\\utils\\metrics.py:498: UserWarning: Glyph 49552 (\\N{HANGUL SYLLABLE SON}) missing from font(s) DejaVu Sans.\n",
      "  fig.savefig(plot_fname, dpi=250)\n",
      "c:\\Users\\helen\\anaconda3\\envs\\yolov11\\lib\\site-packages\\ultralytics\\utils\\metrics.py:498: UserWarning: Glyph 46308 (\\N{HANGUL SYLLABLE DEUL}) missing from font(s) DejaVu Sans.\n",
      "  fig.savefig(plot_fname, dpi=250)\n",
      "c:\\Users\\helen\\anaconda3\\envs\\yolov11\\lib\\site-packages\\ultralytics\\utils\\metrics.py:498: UserWarning: Glyph 46904 (\\N{HANGUL SYLLABLE DDEUM}) missing from font(s) DejaVu Sans.\n",
      "  fig.savefig(plot_fname, dpi=250)\n",
      "c:\\Users\\helen\\anaconda3\\envs\\yolov11\\lib\\site-packages\\ultralytics\\utils\\metrics.py:498: UserWarning: Glyph 52840 (\\N{HANGUL SYLLABLE CIM}) missing from font(s) DejaVu Sans.\n",
      "  fig.savefig(plot_fname, dpi=250)\n",
      "c:\\Users\\helen\\anaconda3\\envs\\yolov11\\lib\\site-packages\\ultralytics\\utils\\metrics.py:498: UserWarning: Glyph 54616 (\\N{HANGUL SYLLABLE HA}) missing from font(s) DejaVu Sans.\n",
      "  fig.savefig(plot_fname, dpi=250)\n",
      "c:\\Users\\helen\\anaconda3\\envs\\yolov11\\lib\\site-packages\\ultralytics\\utils\\metrics.py:498: UserWarning: Glyph 44396 (\\N{HANGUL SYLLABLE GU}) missing from font(s) DejaVu Sans.\n",
      "  fig.savefig(plot_fname, dpi=250)\n",
      "c:\\Users\\helen\\anaconda3\\envs\\yolov11\\lib\\site-packages\\ultralytics\\utils\\metrics.py:498: UserWarning: Glyph 51088 (\\N{HANGUL SYLLABLE JA}) missing from font(s) DejaVu Sans.\n",
      "  fig.savefig(plot_fname, dpi=250)\n",
      "c:\\Users\\helen\\anaconda3\\envs\\yolov11\\lib\\site-packages\\ultralytics\\utils\\metrics.py:498: UserWarning: Glyph 46041 (\\N{HANGUL SYLLABLE DONG}) missing from font(s) DejaVu Sans.\n",
      "  fig.savefig(plot_fname, dpi=250)\n",
      "c:\\Users\\helen\\anaconda3\\envs\\yolov11\\lib\\site-packages\\ultralytics\\utils\\metrics.py:498: UserWarning: Glyph 52264 (\\N{HANGUL SYLLABLE CA}) missing from font(s) DejaVu Sans.\n",
      "  fig.savefig(plot_fname, dpi=250)\n",
      "c:\\Users\\helen\\anaconda3\\envs\\yolov11\\lib\\site-packages\\ultralytics\\utils\\metrics.py:498: UserWarning: Glyph 48520 (\\N{HANGUL SYLLABLE BUL}) missing from font(s) DejaVu Sans.\n",
      "  fig.savefig(plot_fname, dpi=250)\n",
      "c:\\Users\\helen\\anaconda3\\envs\\yolov11\\lib\\site-packages\\ultralytics\\utils\\metrics.py:498: UserWarning: Glyph 48277 (\\N{HANGUL SYLLABLE BEOB}) missing from font(s) DejaVu Sans.\n",
      "  fig.savefig(plot_fname, dpi=250)\n",
      "c:\\Users\\helen\\anaconda3\\envs\\yolov11\\lib\\site-packages\\ultralytics\\utils\\metrics.py:498: UserWarning: Glyph 51452 (\\N{HANGUL SYLLABLE JU}) missing from font(s) DejaVu Sans.\n",
      "  fig.savefig(plot_fname, dpi=250)\n",
      "c:\\Users\\helen\\anaconda3\\envs\\yolov11\\lib\\site-packages\\ultralytics\\utils\\metrics.py:498: UserWarning: Glyph 51221 (\\N{HANGUL SYLLABLE JEONG}) missing from font(s) DejaVu Sans.\n",
      "  fig.savefig(plot_fname, dpi=250)\n",
      "c:\\Users\\helen\\anaconda3\\envs\\yolov11\\lib\\site-packages\\ultralytics\\utils\\metrics.py:498: UserWarning: Glyph 48372 (\\N{HANGUL SYLLABLE BO}) missing from font(s) DejaVu Sans.\n",
      "  fig.savefig(plot_fname, dpi=250)\n",
      "c:\\Users\\helen\\anaconda3\\envs\\yolov11\\lib\\site-packages\\ultralytics\\utils\\metrics.py:498: UserWarning: Glyph 54665 (\\N{HANGUL SYLLABLE HAENG}) missing from font(s) DejaVu Sans.\n",
      "  fig.savefig(plot_fname, dpi=250)\n",
      "c:\\Users\\helen\\anaconda3\\envs\\yolov11\\lib\\site-packages\\ultralytics\\utils\\metrics.py:498: UserWarning: Glyph 50976 (\\N{HANGUL SYLLABLE YU}) missing from font(s) DejaVu Sans.\n",
      "  fig.savefig(plot_fname, dpi=250)\n",
      "c:\\Users\\helen\\anaconda3\\envs\\yolov11\\lib\\site-packages\\ultralytics\\utils\\metrics.py:498: UserWarning: Glyph 47784 (\\N{HANGUL SYLLABLE MO}) missing from font(s) DejaVu Sans.\n",
      "  fig.savefig(plot_fname, dpi=250)\n",
      "c:\\Users\\helen\\anaconda3\\envs\\yolov11\\lib\\site-packages\\ultralytics\\utils\\metrics.py:498: UserWarning: Glyph 51204 (\\N{HANGUL SYLLABLE JEON}) missing from font(s) DejaVu Sans.\n",
      "  fig.savefig(plot_fname, dpi=250)\n",
      "c:\\Users\\helen\\anaconda3\\envs\\yolov11\\lib\\site-packages\\ultralytics\\utils\\metrics.py:498: UserWarning: Glyph 53413 (\\N{HANGUL SYLLABLE KIG}) missing from font(s) DejaVu Sans.\n",
      "  fig.savefig(plot_fname, dpi=250)\n",
      "c:\\Users\\helen\\anaconda3\\envs\\yolov11\\lib\\site-packages\\ultralytics\\utils\\metrics.py:498: UserWarning: Glyph 46300 (\\N{HANGUL SYLLABLE DEU}) missing from font(s) DejaVu Sans.\n",
      "  fig.savefig(plot_fname, dpi=250)\n",
      "c:\\Users\\helen\\anaconda3\\envs\\yolov11\\lib\\site-packages\\ultralytics\\utils\\metrics.py:498: UserWarning: Glyph 44144 (\\N{HANGUL SYLLABLE GEO}) missing from font(s) DejaVu Sans.\n",
      "  fig.savefig(plot_fname, dpi=250)\n",
      "c:\\Users\\helen\\anaconda3\\envs\\yolov11\\lib\\site-packages\\ultralytics\\utils\\metrics.py:498: UserWarning: Glyph 50724 (\\N{HANGUL SYLLABLE O}) missing from font(s) DejaVu Sans.\n",
      "  fig.savefig(plot_fname, dpi=250)\n",
      "c:\\Users\\helen\\anaconda3\\envs\\yolov11\\lib\\site-packages\\ultralytics\\utils\\metrics.py:498: UserWarning: Glyph 53664 (\\N{HANGUL SYLLABLE TO}) missing from font(s) DejaVu Sans.\n",
      "  fig.savefig(plot_fname, dpi=250)\n",
      "c:\\Users\\helen\\anaconda3\\envs\\yolov11\\lib\\site-packages\\ultralytics\\utils\\metrics.py:498: UserWarning: Glyph 48148 (\\N{HANGUL SYLLABLE BA}) missing from font(s) DejaVu Sans.\n",
      "  fig.savefig(plot_fname, dpi=250)\n",
      "c:\\Users\\helen\\anaconda3\\envs\\yolov11\\lib\\site-packages\\ultralytics\\utils\\metrics.py:498: UserWarning: Glyph 51060 (\\N{HANGUL SYLLABLE I}) missing from font(s) DejaVu Sans.\n",
      "  fig.savefig(plot_fname, dpi=250)\n",
      "c:\\Users\\helen\\anaconda3\\envs\\yolov11\\lib\\site-packages\\ultralytics\\utils\\metrics.py:498: UserWarning: Glyph 47932 (\\N{HANGUL SYLLABLE MUL}) missing from font(s) DejaVu Sans.\n",
      "  fig.savefig(plot_fname, dpi=250)\n",
      "c:\\Users\\helen\\anaconda3\\envs\\yolov11\\lib\\site-packages\\ultralytics\\utils\\metrics.py:498: UserWarning: Glyph 48380 (\\N{HANGUL SYLLABLE BOL}) missing from font(s) DejaVu Sans.\n",
      "  fig.savefig(plot_fname, dpi=250)\n",
      "c:\\Users\\helen\\anaconda3\\envs\\yolov11\\lib\\site-packages\\ultralytics\\utils\\metrics.py:498: UserWarning: Glyph 46972 (\\N{HANGUL SYLLABLE RA}) missing from font(s) DejaVu Sans.\n",
      "  fig.savefig(plot_fname, dpi=250)\n",
      "c:\\Users\\helen\\anaconda3\\envs\\yolov11\\lib\\site-packages\\ultralytics\\utils\\metrics.py:498: UserWarning: Glyph 48516 (\\N{HANGUL SYLLABLE BUN}) missing from font(s) DejaVu Sans.\n",
      "  fig.savefig(plot_fname, dpi=250)\n",
      "c:\\Users\\helen\\anaconda3\\envs\\yolov11\\lib\\site-packages\\ultralytics\\utils\\metrics.py:498: UserWarning: Glyph 47532 (\\N{HANGUL SYLLABLE RI}) missing from font(s) DejaVu Sans.\n",
      "  fig.savefig(plot_fname, dpi=250)\n",
      "c:\\Users\\helen\\anaconda3\\envs\\yolov11\\lib\\site-packages\\ultralytics\\utils\\metrics.py:498: UserWarning: Glyph 48393 (\\N{HANGUL SYLLABLE BONG}) missing from font(s) DejaVu Sans.\n",
      "  fig.savefig(plot_fname, dpi=250)\n",
      "c:\\Users\\helen\\anaconda3\\envs\\yolov11\\lib\\site-packages\\ultralytics\\utils\\metrics.py:498: UserWarning: Glyph 54364 (\\N{HANGUL SYLLABLE PYO}) missing from font(s) DejaVu Sans.\n",
      "  fig.savefig(plot_fname, dpi=250)\n",
      "c:\\Users\\helen\\anaconda3\\envs\\yolov11\\lib\\site-packages\\ultralytics\\utils\\metrics.py:498: UserWarning: Glyph 51648 (\\N{HANGUL SYLLABLE JI}) missing from font(s) DejaVu Sans.\n",
      "  fig.savefig(plot_fname, dpi=250)\n",
      "c:\\Users\\helen\\anaconda3\\envs\\yolov11\\lib\\site-packages\\ultralytics\\utils\\metrics.py:498: UserWarning: Glyph 54032 (\\N{HANGUL SYLLABLE PAN}) missing from font(s) DejaVu Sans.\n",
      "  fig.savefig(plot_fname, dpi=250)\n",
      "c:\\Users\\helen\\anaconda3\\envs\\yolov11\\lib\\site-packages\\ultralytics\\utils\\metrics.py:498: UserWarning: Glyph 44288 (\\N{HANGUL SYLLABLE GWAN}) missing from font(s) DejaVu Sans.\n",
      "  fig.savefig(plot_fname, dpi=250)\n",
      "c:\\Users\\helen\\anaconda3\\envs\\yolov11\\lib\\site-packages\\ultralytics\\utils\\metrics.py:498: UserWarning: Glyph 45824 (\\N{HANGUL SYLLABLE DAE}) missing from font(s) DejaVu Sans.\n",
      "  fig.savefig(plot_fname, dpi=250)\n",
      "c:\\Users\\helen\\anaconda3\\envs\\yolov11\\lib\\site-packages\\ultralytics\\utils\\metrics.py:498: UserWarning: Glyph 54945 (\\N{HANGUL SYLLABLE HOENG}) missing from font(s) DejaVu Sans.\n",
      "  fig.savefig(plot_fname, dpi=250)\n",
      "c:\\Users\\helen\\anaconda3\\envs\\yolov11\\lib\\site-packages\\ultralytics\\utils\\metrics.py:498: UserWarning: Glyph 45800 (\\N{HANGUL SYLLABLE DAN}) missing from font(s) DejaVu Sans.\n",
      "  fig.savefig(plot_fname, dpi=250)\n",
      "c:\\Users\\helen\\anaconda3\\envs\\yolov11\\lib\\site-packages\\ultralytics\\utils\\metrics.py:498: UserWarning: Glyph 46020 (\\N{HANGUL SYLLABLE DO}) missing from font(s) DejaVu Sans.\n",
      "  fig.savefig(plot_fname, dpi=250)\n",
      "c:\\Users\\helen\\anaconda3\\envs\\yolov11\\lib\\site-packages\\ultralytics\\utils\\metrics.py:498: UserWarning: Glyph 49888 (\\N{HANGUL SYLLABLE SIN}) missing from font(s) DejaVu Sans.\n",
      "  fig.savefig(plot_fname, dpi=250)\n",
      "c:\\Users\\helen\\anaconda3\\envs\\yolov11\\lib\\site-packages\\ultralytics\\utils\\metrics.py:498: UserWarning: Glyph 54840 (\\N{HANGUL SYLLABLE HO}) missing from font(s) DejaVu Sans.\n",
      "  fig.savefig(plot_fname, dpi=250)\n",
      "c:\\Users\\helen\\anaconda3\\envs\\yolov11\\lib\\site-packages\\ultralytics\\utils\\metrics.py:498: UserWarning: Glyph 46321 (\\N{HANGUL SYLLABLE DEUNG}) missing from font(s) DejaVu Sans.\n",
      "  fig.savefig(plot_fname, dpi=250)\n",
      "c:\\Users\\helen\\anaconda3\\envs\\yolov11\\lib\\site-packages\\ultralytics\\utils\\metrics.py:498: UserWarning: Glyph 51020 (\\N{HANGUL SYLLABLE EUM}) missing from font(s) DejaVu Sans.\n",
      "  fig.savefig(plot_fname, dpi=250)\n",
      "c:\\Users\\helen\\anaconda3\\envs\\yolov11\\lib\\site-packages\\ultralytics\\utils\\metrics.py:498: UserWarning: Glyph 49688 (\\N{HANGUL SYLLABLE SU}) missing from font(s) DejaVu Sans.\n",
      "  fig.savefig(plot_fname, dpi=250)\n",
      "c:\\Users\\helen\\anaconda3\\envs\\yolov11\\lib\\site-packages\\ultralytics\\utils\\metrics.py:498: UserWarning: Glyph 47588 (\\N{HANGUL SYLLABLE MAE}) missing from font(s) DejaVu Sans.\n",
      "  fig.savefig(plot_fname, dpi=250)\n",
      "c:\\Users\\helen\\anaconda3\\envs\\yolov11\\lib\\site-packages\\ultralytics\\utils\\metrics.py:498: UserWarning: Glyph 51216 (\\N{HANGUL SYLLABLE JEOM}) missing from font(s) DejaVu Sans.\n",
      "  fig.savefig(plot_fname, dpi=250)\n",
      "c:\\Users\\helen\\anaconda3\\envs\\yolov11\\lib\\site-packages\\ultralytics\\utils\\metrics.py:498: UserWarning: Glyph 54868 (\\N{HANGUL SYLLABLE HWA}) missing from font(s) DejaVu Sans.\n",
      "  fig.savefig(plot_fname, dpi=250)\n",
      "c:\\Users\\helen\\anaconda3\\envs\\yolov11\\lib\\site-packages\\ultralytics\\utils\\metrics.py:498: UserWarning: Glyph 51109 (\\N{HANGUL SYLLABLE JANG}) missing from font(s) DejaVu Sans.\n",
      "  fig.savefig(plot_fname, dpi=250)\n",
      "c:\\Users\\helen\\anaconda3\\envs\\yolov11\\lib\\site-packages\\ultralytics\\utils\\metrics.py:498: UserWarning: Glyph 49892 (\\N{HANGUL SYLLABLE SIL}) missing from font(s) DejaVu Sans.\n",
      "  fig.savefig(plot_fname, dpi=250)\n",
      "c:\\Users\\helen\\anaconda3\\envs\\yolov11\\lib\\site-packages\\ultralytics\\utils\\metrics.py:498: UserWarning: Glyph 53356 (\\N{HANGUL SYLLABLE KEU}) missing from font(s) DejaVu Sans.\n",
      "  fig.savefig(plot_fname, dpi=250)\n",
      "c:\\Users\\helen\\anaconda3\\envs\\yolov11\\lib\\site-packages\\ultralytics\\utils\\metrics.py:498: UserWarning: Glyph 47001 (\\N{HANGUL SYLLABLE RAEG}) missing from font(s) DejaVu Sans.\n",
      "  fig.savefig(plot_fname, dpi=250)\n",
      "c:\\Users\\helen\\anaconda3\\envs\\yolov11\\lib\\site-packages\\ultralytics\\utils\\metrics.py:498: UserWarning: Glyph 44208 (\\N{HANGUL SYLLABLE GYEOL}) missing from font(s) DejaVu Sans.\n",
      "  fig.savefig(plot_fname, dpi=250)\n",
      "c:\\Users\\helen\\anaconda3\\envs\\yolov11\\lib\\site-packages\\ultralytics\\utils\\metrics.py:498: UserWarning: Glyph 49552 (\\N{HANGUL SYLLABLE SON}) missing from font(s) DejaVu Sans.\n",
      "  fig.savefig(plot_fname, dpi=250)\n",
      "c:\\Users\\helen\\anaconda3\\envs\\yolov11\\lib\\site-packages\\ultralytics\\utils\\metrics.py:498: UserWarning: Glyph 46308 (\\N{HANGUL SYLLABLE DEUL}) missing from font(s) DejaVu Sans.\n",
      "  fig.savefig(plot_fname, dpi=250)\n",
      "c:\\Users\\helen\\anaconda3\\envs\\yolov11\\lib\\site-packages\\ultralytics\\utils\\metrics.py:498: UserWarning: Glyph 46904 (\\N{HANGUL SYLLABLE DDEUM}) missing from font(s) DejaVu Sans.\n",
      "  fig.savefig(plot_fname, dpi=250)\n",
      "c:\\Users\\helen\\anaconda3\\envs\\yolov11\\lib\\site-packages\\ultralytics\\utils\\metrics.py:498: UserWarning: Glyph 52840 (\\N{HANGUL SYLLABLE CIM}) missing from font(s) DejaVu Sans.\n",
      "  fig.savefig(plot_fname, dpi=250)\n",
      "c:\\Users\\helen\\anaconda3\\envs\\yolov11\\lib\\site-packages\\ultralytics\\utils\\metrics.py:498: UserWarning: Glyph 54616 (\\N{HANGUL SYLLABLE HA}) missing from font(s) DejaVu Sans.\n",
      "  fig.savefig(plot_fname, dpi=250)\n",
      "c:\\Users\\helen\\anaconda3\\envs\\yolov11\\lib\\site-packages\\ultralytics\\utils\\metrics.py:498: UserWarning: Glyph 44396 (\\N{HANGUL SYLLABLE GU}) missing from font(s) DejaVu Sans.\n",
      "  fig.savefig(plot_fname, dpi=250)\n"
     ]
    },
    {
     "name": "stdout",
     "output_type": "stream",
     "text": [
      "                   all      26863     142020      0.571      0.331      0.356      0.216\n",
      "            ()       9457      21631      0.752      0.779      0.828      0.584\n",
      "                         12956      56148      0.816      0.577      0.702      0.431\n",
      "                           616        800      0.452       0.14      0.163      0.069\n",
      "                        1528       2138      0.653      0.286      0.363      0.188\n",
      "                          7024      21010      0.621      0.524      0.558      0.314\n",
      "                         1648       2106      0.634      0.536      0.571      0.305\n",
      "                            293        341      0.516     0.0352     0.0558     0.0254\n",
      "                          2170       4309      0.738      0.783      0.804      0.549\n",
      "                          1745       4955      0.739      0.812      0.847      0.565\n",
      "                          5840       9057      0.723      0.653       0.71      0.414\n",
      "                        613        736      0.354       0.16      0.139     0.0621\n",
      "                         5039       5524       0.69       0.65      0.678      0.438\n",
      "                           598        622      0.524      0.405      0.395      0.188\n",
      "                           148        193      0.537     0.0984      0.129     0.0836\n",
      "                            738       1116      0.506    0.00269     0.0144    0.00706\n",
      "                           736        864      0.462     0.0309     0.0888     0.0443\n",
      "                           4185       8636      0.398      0.229        0.2      0.106\n",
      "                            326        601      0.106    0.00333    0.00677    0.00278\n",
      "                             24         25          1          0          0          0\n",
      "                             32         36      0.352     0.0278     0.0257      0.018\n",
      "                          978       1172      0.417      0.218      0.204      0.144\n",
      "Speed: 0.2ms preprocess, 1.5ms inference, 0.0ms loss, 1.1ms postprocess per image\n",
      "Results saved to \u001b[1mruns\\detect\\train32\u001b[0m\n",
      "\n",
      "image 1/1 C:\\Users\\helen\\Desktop\\deep_sys_final\\data\\images\\val\\R01_U01_C04_20220714_000019.jpg: 640x384 (no detections), 47.4ms\n",
      "Speed: 2.4ms preprocess, 47.4ms inference, 1.3ms postprocess per image at shape (1, 3, 640, 384)\n"
     ]
    }
   ],
   "source": [
    "from ultralytics import YOLO\n",
    "\n",
    "# Load a pretrained YOLO11n model\n",
    "model = YOLO(\"yolo11n.pt\")\n",
    "\n",
    "# Train the model on the COCO8 dataset for 100 epochs\n",
    "train_results = model.train(\n",
    "    data=\"data\\detect.yaml\",  # Path to dataset configuration file\n",
    "    epochs=100,  # Number of training epochs\n",
    "    imgsz=640,  # Image size for training\n",
    "    device=\"0\",  # Device to run on (e.g., 'cpu', 0, [0,1,2,3])\n",
    "    fraction=0.30,  # Fraction of the dataset to use for trainin\n",
    ")\n",
    "\n",
    "# Evaluate the model's performance on the validation set\n",
    "metrics = model.val()\n",
    "\n",
    "# Perform object detection on an image\n",
    "results = model(r\"C:\\Users\\helen\\Desktop\\deep_sys_final\\data\\images\\val\\R01_U01_C04_20220714_000019.jpg\")  # Predict on an image\n",
    "results[0].show()  # Display results\n",
    "\n",
    "# Export the model to ONNX format for deployment\n",
    "#path = model.export(format=\"onnx\")  # Returns the path to the exported model"
   ]
  },
  {
   "cell_type": "code",
   "execution_count": 9,
   "id": "c0e9c16d",
   "metadata": {},
   "outputs": [
    {
     "name": "stdout",
     "output_type": "stream",
     "text": [
      "\n",
      "image 1/1 C:\\Users\\helen\\Desktop\\deep_sys_final\\data\\images\\val\\R01_U04_C10_20220731_000158.jpg: 640x384 1 , 1 , 1 , 63.1ms\n",
      "Speed: 3.5ms preprocess, 63.1ms inference, 1.9ms postprocess per image at shape (1, 3, 640, 384)\n"
     ]
    }
   ],
   "source": [
    "results = model(r\"C:\\Users\\helen\\Desktop\\deep_sys_final\\data\\images\\val\\R01_U04_C10_20220731_000158.jpg\")  # Predict on an image\n",
    "results[0].show()  # Display results"
   ]
  },
  {
   "cell_type": "code",
   "execution_count": 8,
   "id": "1ae6c76a",
   "metadata": {},
   "outputs": [
    {
     "name": "stdout",
     "output_type": "stream",
     "text": [
      "\n",
      "image 1/1 C:\\Users\\helen\\Desktop\\deep_sys_final\\data\\images\\val\\R01_U01_C04_20220714_000777.jpg: 640x384 2 s, 2 s, 76.7ms\n",
      "Speed: 2.6ms preprocess, 76.7ms inference, 3.5ms postprocess per image at shape (1, 3, 640, 384)\n"
     ]
    }
   ],
   "source": [
    "results = model(r\"C:\\Users\\helen\\Desktop\\deep_sys_final\\data\\images\\val\\R01_U01_C04_20220714_000777.jpg\")  # Predict on an image\n",
    "results[0].show()  # Display results"
   ]
  },
  {
   "cell_type": "code",
   "execution_count": null,
   "id": "90bf74dc",
   "metadata": {},
   "outputs": [],
   "source": []
  }
 ],
 "metadata": {
  "kernelspec": {
   "display_name": "yolov11",
   "language": "python",
   "name": "python3"
  },
  "language_info": {
   "codemirror_mode": {
    "name": "ipython",
    "version": 3
   },
   "file_extension": ".py",
   "mimetype": "text/x-python",
   "name": "python",
   "nbconvert_exporter": "python",
   "pygments_lexer": "ipython3",
   "version": "3.10.16"
  }
 },
 "nbformat": 4,
 "nbformat_minor": 5
}
