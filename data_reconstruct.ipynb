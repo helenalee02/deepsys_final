{
 "cells": [
  {
   "cell_type": "code",
   "execution_count": 1,
   "id": "e348a62f",
   "metadata": {},
   "outputs": [],
   "source": [
    "import os\n",
    "import json\n",
    "import shutil\n",
    "import random \n",
    "from tqdm import tqdm\n",
    "\n",
    "def bbox_to_yolo(bbox, img_w, img_h):\n",
    "    x, y, w, h = bbox\n",
    "    x_center = x + w / 2\n",
    "    y_center = y + h / 2\n",
    "    return [\n",
    "        x_center / img_w,\n",
    "        y_center / img_h,\n",
    "        w/img_w,\n",
    "        h/img_h\n",
    "    ]\n",
    "sub_category_name_to_index = {\n",
    "    \"자동차(불법주정차)\": 0,\n",
    "    \"보행자\": 1,\n",
    "    \"유모차\": 2,\n",
    "    \"전동킥보드\": 3,\n",
    "    \"자전거\": 4,\n",
    "    \"오토바이\": 5,\n",
    "    \"동물\": 6,\n",
    "    \"볼라드\": 7,\n",
    "    \"분리봉\": 8,\n",
    "    \"표지판\": 9,\n",
    "    \"자전거보관대\": 10,\n",
    "    \"횡단보도\": 11,\n",
    "    \"신호등\": 12,\n",
    "    \"음수대\": 13,\n",
    "    \"매점\": 14,\n",
    "    \"화장실\": 15\n",
    "\n",
    "}"
   ]
  },
  {
   "cell_type": "code",
   "execution_count": 2,
   "id": "c92e68db",
   "metadata": {},
   "outputs": [],
   "source": [
    "# 경로 설정\n",
    "train_img_root = r\"D:/187.자전거도로 주행 데이터/01-1.정식개방데이터/Train/01.원천데이터\"\n",
    "train_label_root = r\"D:/187.자전거도로 주행 데이터/01-1.정식개방데이터/Train/02.라벨링데이터\"\n",
    "val_img_root = r\"D:/187.자전거도로 주행 데이터/01-1.정식개방데이터/val/01.원천데이터\"\n",
    "val_label_root = r\"D:/187.자전거도로 주행 데이터/01-1.정식개방데이터/val/02.라벨링데이터\"\n",
    "\n",
    "# 저장 경로\n",
    "save_img = \"data/images\"\n",
    "save_label = \"data/labels\"\n",
    "for split in [\"train\", \"test\", \"val\"]:\n",
    "    os.makedirs(os.path.join(save_img, split), exist_ok=True)\n",
    "    os.makedirs(os.path.join(save_label, split), exist_ok=True)\n",
    "\n",
    "# 모든 train 이미지/라벨 경로 수집\n",
    "train_img_files = []\n",
    "for root, _, files in os.walk(train_img_root):\n",
    "    for f in files:\n",
    "        if f.lower().endswith(('.jpg', '.png', '.jpeg')):\n",
    "            train_img_files.append(os.path.join(root, f))\n",
    "random.shuffle(train_img_files)\n",
    "n_train = int(len(train_img_files) * 0.7)\n",
    "train_split = train_img_files[:n_train]\n",
    "test_split = train_img_files[n_train:]\n",
    "\n",
    "# val 이미지 경로 수집\n",
    "val_img_files = []\n",
    "for root, _, files in os.walk(val_img_root):\n",
    "    for f in files:\n",
    "        if f.lower().endswith(('.jpg', '.png', '.jpeg')):\n",
    "            val_img_files.append(os.path.join(root, f))"
   ]
  },
  {
   "cell_type": "code",
   "execution_count": 6,
   "id": "57416df4",
   "metadata": {},
   "outputs": [],
   "source": [
    "def convert_and_save(json_path, save_txt_path, img_w, img_h):\n",
    "    with open(json_path, encoding=\"utf-8\") as f:\n",
    "        data = json.load(f)\n",
    "    lines = []\n",
    "    for ann in data[\"annotations\"]:\n",
    "        if ann[\"drawing\"] == \"bbox\":\n",
    "            class_name = ann[\"sub_category_name\"]\n",
    "            class_idx = sub_category_name_to_index.get(class_name, -1)\n",
    "            if class_idx == -1:\n",
    "                continue\n",
    "            x, y, w, h = ann[\"bbox\"]\n",
    "            yolo_box = bbox_to_yolo([x, y, w, h], img_w, img_h)\n",
    "            lines.append(f\"{class_idx} {' '.join(f'{v:.6f}' for v in yolo_box)}\")\n",
    "    # bbox가 없어도 빈 파일 생성\n",
    "    with open(save_txt_path, \"w\") as f:\n",
    "        f.write(\"\\n\".join(lines))\n",
    "\n",
    "def find_json(label_root, img_filename):\n",
    "    # img_filename: \"xxx.jpg\" → \"xxx.json\" 찾기\n",
    "    for root, _, files in os.walk(label_root):\n",
    "        for f in files:\n",
    "            if f.endswith(\".json\") and f.replace(\".json\", \"\") == img_filename.replace(\".jpg\", \"\"):\n",
    "                return os.path.join(root, f)\n",
    "    return None"
   ]
  },
  {
   "cell_type": "code",
   "execution_count": 7,
   "id": "df485701",
   "metadata": {},
   "outputs": [
    {
     "name": "stderr",
     "output_type": "stream",
     "text": [
      "train split: 100%|██████████| 150417/150417 [5:32:47<00:00,  7.53it/s]  \n",
      "\n"
     ]
    }
   ],
   "source": [
    "# train\n",
    "for img_path in tqdm(train_split, desc=\"train split\"):\n",
    "    fname = os.path.basename(img_path)\n",
    "    dst_img_path = os.path.join(save_img, \"train\", fname)\n",
    "    dst_label_path = os.path.join(save_label, \"train\", fname.replace(\".jpg\", \".txt\"))\n",
    "    # 이미지가 이미 있으면 건너뜀\n",
    "    if os.path.exists(dst_img_path) and os.path.exists(dst_label_path):\n",
    "        continue\n",
    "    json_path = find_json(train_label_root, fname)\n",
    "    if json_path:\n",
    "        with open(json_path, encoding=\"utf-8\") as f:\n",
    "            data = json.load(f)\n",
    "        img_w, img_h = int(data[\"images\"][\"width\"]), int(data[\"images\"][\"height\"])\n",
    "        convert_and_save(json_path, dst_label_path, img_w, img_h)\n",
    "        shutil.copy(img_path, dst_img_path)\n",
    "\n"
   ]
  },
  {
   "cell_type": "code",
   "execution_count": 8,
   "id": "3a896e41",
   "metadata": {},
   "outputs": [
    {
     "name": "stderr",
     "output_type": "stream",
     "text": [
      "test_split: 100%|██████████| 64465/64465 [2:18:21<00:00,  7.77it/s]  \n",
      "test_split: 100%|██████████| 64465/64465 [2:18:21<00:00,  7.77it/s]\n",
      "val_split: 100%|██████████| 26863/26863 [07:28<00:00, 59.86it/s]\n",
      "val_split: 100%|██████████| 26863/26863 [07:28<00:00, 59.86it/s]\n"
     ]
    }
   ],
   "source": [
    "# test\n",
    "for img_path in tqdm(test_split, desc='test_split'):\n",
    "    fname = os.path.basename(img_path)\n",
    "    json_path = find_json(train_label_root, fname)\n",
    "    if json_path:\n",
    "        with open(json_path, encoding=\"utf-8\") as f:\n",
    "            data = json.load(f)\n",
    "        img_w, img_h = int(data[\"images\"][\"width\"]), int(data[\"images\"][\"height\"])\n",
    "        convert_and_save(json_path, os.path.join(save_label, \"test\", fname.replace(\".jpg\", \".txt\")), img_w, img_h)\n",
    "        shutil.copy(img_path, os.path.join(save_img, \"test\", fname))\n",
    "\n",
    "# val\n",
    "for img_path in tqdm(val_img_files,desc='val_split'):\n",
    "    fname = os.path.basename(img_path)\n",
    "    json_path = find_json(val_label_root, fname)\n",
    "    if json_path:\n",
    "        with open(json_path, encoding=\"utf-8\") as f:\n",
    "            data = json.load(f)\n",
    "        img_w, img_h = int(data[\"images\"][\"width\"]), int(data[\"images\"][\"height\"])\n",
    "        convert_and_save(json_path, os.path.join(save_label, \"val\", fname.replace(\".jpg\", \".txt\")), img_w, img_h)\n"
   ]
  },
  {
   "cell_type": "code",
   "execution_count": null,
   "id": "414b99b0",
   "metadata": {},
   "outputs": [],
   "source": []
  }
 ],
 "metadata": {
  "kernelspec": {
   "display_name": "yolov11",
   "language": "python",
   "name": "python3"
  },
  "language_info": {
   "codemirror_mode": {
    "name": "ipython",
    "version": 3
   },
   "file_extension": ".py",
   "mimetype": "text/x-python",
   "name": "python",
   "nbconvert_exporter": "python",
   "pygments_lexer": "ipython3",
   "version": "3.10.16"
  }
 },
 "nbformat": 4,
 "nbformat_minor": 5
}
